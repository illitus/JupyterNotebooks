{
 "cells": [
  {
   "cell_type": "markdown",
   "metadata": {},
   "source": [
    "___\n",
    "\n",
    "<a href='http://www.pieriandata.com'> <img src='../Pierian_Data_Logo.png' /></a>\n",
    "___\n",
    "# Plotly and Cufflinks"
   ]
  },
  {
   "cell_type": "markdown",
   "metadata": {},
   "source": [
    "Plotly is a library that allows you to create interactive plots that you can use in dashboards or websites (you can save them as html files or static images).\n",
    "\n",
    "## Installation\n",
    "\n",
    "In order for this all to work, you'll need to install plotly and cufflinks to call plots directly off of a pandas dataframe. These libraries are not currently available through **conda** but are available through **pip**. Install the libraries at your command line/terminal using:\n",
    "\n",
    "    pip install plotly\n",
    "    pip install cufflinks\n",
    "\n",
    "** NOTE: Make sure you only have one installation of Python on your computer when you do this, otherwise the installation may not work. **\n",
    "\n",
    "## Imports and Set-up"
   ]
  },
  {
   "cell_type": "code",
   "execution_count": 1,
   "metadata": {},
   "outputs": [],
   "source": [
    "import pandas as pd\n",
    "import numpy as np\n",
    "%matplotlib inline"
   ]
  },
  {
   "cell_type": "code",
   "execution_count": 3,
   "metadata": {},
   "outputs": [
    {
     "name": "stdout",
     "output_type": "stream",
     "text": [
      "4.9.0\n"
     ]
    }
   ],
   "source": [
    "from plotly import __version__\n",
    "from plotly.offline import download_plotlyjs, init_notebook_mode, plot, iplot\n",
    "\n",
    "print(__version__) # requires version >= 1.9.0"
   ]
  },
  {
   "cell_type": "code",
   "execution_count": 5,
   "metadata": {},
   "outputs": [],
   "source": [
    "import cufflinks as cf"
   ]
  },
  {
   "cell_type": "code",
   "execution_count": 6,
   "metadata": {},
   "outputs": [
    {
     "data": {
      "text/html": [
       "        <script type=\"text/javascript\">\n",
       "        window.PlotlyConfig = {MathJaxConfig: 'local'};\n",
       "        if (window.MathJax) {MathJax.Hub.Config({SVG: {font: \"STIX-Web\"}});}\n",
       "        if (typeof require !== 'undefined') {\n",
       "        require.undef(\"plotly\");\n",
       "        requirejs.config({\n",
       "            paths: {\n",
       "                'plotly': ['https://cdn.plot.ly/plotly-latest.min']\n",
       "            }\n",
       "        });\n",
       "        require(['plotly'], function(Plotly) {\n",
       "            window._Plotly = Plotly;\n",
       "        });\n",
       "        }\n",
       "        </script>\n",
       "        "
      ]
     },
     "metadata": {},
     "output_type": "display_data"
    }
   ],
   "source": [
    "# For Notebooks\n",
    "init_notebook_mode(connected=True)"
   ]
  },
  {
   "cell_type": "code",
   "execution_count": 7,
   "metadata": {},
   "outputs": [
    {
     "data": {
      "text/html": [
       "        <script type=\"text/javascript\">\n",
       "        window.PlotlyConfig = {MathJaxConfig: 'local'};\n",
       "        if (window.MathJax) {MathJax.Hub.Config({SVG: {font: \"STIX-Web\"}});}\n",
       "        if (typeof require !== 'undefined') {\n",
       "        require.undef(\"plotly\");\n",
       "        requirejs.config({\n",
       "            paths: {\n",
       "                'plotly': ['https://cdn.plot.ly/plotly-latest.min']\n",
       "            }\n",
       "        });\n",
       "        require(['plotly'], function(Plotly) {\n",
       "            window._Plotly = Plotly;\n",
       "        });\n",
       "        }\n",
       "        </script>\n",
       "        "
      ]
     },
     "metadata": {},
     "output_type": "display_data"
    }
   ],
   "source": [
    "# For offline use\n",
    "cf.go_offline()"
   ]
  },
  {
   "cell_type": "markdown",
   "metadata": {},
   "source": [
    "### Fake Data"
   ]
  },
  {
   "cell_type": "code",
   "execution_count": 8,
   "metadata": {},
   "outputs": [],
   "source": [
    "df = pd.DataFrame(np.random.randn(100,4),columns='A B C D'.split())"
   ]
  },
  {
   "cell_type": "code",
   "execution_count": 9,
   "metadata": {},
   "outputs": [
    {
     "data": {
      "text/html": [
       "<div>\n",
       "<style scoped>\n",
       "    .dataframe tbody tr th:only-of-type {\n",
       "        vertical-align: middle;\n",
       "    }\n",
       "\n",
       "    .dataframe tbody tr th {\n",
       "        vertical-align: top;\n",
       "    }\n",
       "\n",
       "    .dataframe thead th {\n",
       "        text-align: right;\n",
       "    }\n",
       "</style>\n",
       "<table border=\"1\" class=\"dataframe\">\n",
       "  <thead>\n",
       "    <tr style=\"text-align: right;\">\n",
       "      <th></th>\n",
       "      <th>A</th>\n",
       "      <th>B</th>\n",
       "      <th>C</th>\n",
       "      <th>D</th>\n",
       "    </tr>\n",
       "  </thead>\n",
       "  <tbody>\n",
       "    <tr>\n",
       "      <th>0</th>\n",
       "      <td>0.369642</td>\n",
       "      <td>1.854485</td>\n",
       "      <td>0.225278</td>\n",
       "      <td>-1.503496</td>\n",
       "    </tr>\n",
       "    <tr>\n",
       "      <th>1</th>\n",
       "      <td>0.525399</td>\n",
       "      <td>0.783618</td>\n",
       "      <td>0.862302</td>\n",
       "      <td>-0.500255</td>\n",
       "    </tr>\n",
       "    <tr>\n",
       "      <th>2</th>\n",
       "      <td>-1.037047</td>\n",
       "      <td>-0.702395</td>\n",
       "      <td>-1.416244</td>\n",
       "      <td>0.280390</td>\n",
       "    </tr>\n",
       "    <tr>\n",
       "      <th>3</th>\n",
       "      <td>0.247585</td>\n",
       "      <td>-1.659001</td>\n",
       "      <td>0.329349</td>\n",
       "      <td>0.643616</td>\n",
       "    </tr>\n",
       "    <tr>\n",
       "      <th>4</th>\n",
       "      <td>-1.847471</td>\n",
       "      <td>0.536802</td>\n",
       "      <td>0.126746</td>\n",
       "      <td>-0.326785</td>\n",
       "    </tr>\n",
       "  </tbody>\n",
       "</table>\n",
       "</div>"
      ],
      "text/plain": [
       "          A         B         C         D\n",
       "0  0.369642  1.854485  0.225278 -1.503496\n",
       "1  0.525399  0.783618  0.862302 -0.500255\n",
       "2 -1.037047 -0.702395 -1.416244  0.280390\n",
       "3  0.247585 -1.659001  0.329349  0.643616\n",
       "4 -1.847471  0.536802  0.126746 -0.326785"
      ]
     },
     "execution_count": 9,
     "metadata": {},
     "output_type": "execute_result"
    }
   ],
   "source": [
    "df.head()"
   ]
  },
  {
   "cell_type": "code",
   "execution_count": 10,
   "metadata": {},
   "outputs": [],
   "source": [
    "df2 = pd.DataFrame({'Category':['A','B','C'],'Values':[32,43,50]})"
   ]
  },
  {
   "cell_type": "code",
   "execution_count": 40,
   "metadata": {},
   "outputs": [
    {
     "data": {
      "text/html": [
       "<div>\n",
       "<table border=\"1\" class=\"dataframe\">\n",
       "  <thead>\n",
       "    <tr style=\"text-align: right;\">\n",
       "      <th></th>\n",
       "      <th>Category</th>\n",
       "      <th>Values</th>\n",
       "    </tr>\n",
       "  </thead>\n",
       "  <tbody>\n",
       "    <tr>\n",
       "      <th>0</th>\n",
       "      <td>A</td>\n",
       "      <td>32</td>\n",
       "    </tr>\n",
       "    <tr>\n",
       "      <th>1</th>\n",
       "      <td>B</td>\n",
       "      <td>43</td>\n",
       "    </tr>\n",
       "    <tr>\n",
       "      <th>2</th>\n",
       "      <td>C</td>\n",
       "      <td>50</td>\n",
       "    </tr>\n",
       "  </tbody>\n",
       "</table>\n",
       "</div>"
      ],
      "text/plain": [
       "  Category  Values\n",
       "0        A      32\n",
       "1        B      43\n",
       "2        C      50"
      ]
     },
     "execution_count": 40,
     "metadata": {},
     "output_type": "execute_result"
    }
   ],
   "source": [
    "df2.head()"
   ]
  },
  {
   "cell_type": "markdown",
   "metadata": {},
   "source": [
    "## Using Cufflinks and iplot()\n",
    "\n",
    "* scatter\n",
    "* bar\n",
    "* box\n",
    "* spread\n",
    "* ratio\n",
    "* heatmap\n",
    "* surface\n",
    "* histogram\n",
    "* bubble"
   ]
  },
  {
   "cell_type": "markdown",
   "metadata": {},
   "source": [
    "## Scatter"
   ]
  },
  {
   "cell_type": "code",
   "execution_count": 12,
   "metadata": {},
   "outputs": [
    {
     "data": {
      "application/vnd.plotly.v1+json": {
       "config": {
        "linkText": "Export to plot.ly",
        "plotlyServerURL": "https://plot.ly",
        "showLink": true
       },
       "data": [
        {
         "line": {
          "color": "rgba(255, 153, 51, 1.0)",
          "dash": "solid",
          "shape": "linear",
          "width": 1.3
         },
         "marker": {
          "size": 10,
          "symbol": "circle"
         },
         "mode": "markers",
         "name": "B",
         "text": "",
         "type": "scatter",
         "x": [
          0.3696420558197603,
          0.5253992122905893,
          -1.037046991780036,
          0.24758500485110949,
          -1.8474714207170502,
          1.3011206429284472,
          -0.9335639569440436,
          0.7693596664680276,
          -0.7354420564182146,
          -0.3897801777723191,
          -0.5361110290279926,
          -0.11335978345336128,
          0.5034703014821329,
          0.6862383833141485,
          -0.998068344328191,
          -1.0158631125325421,
          0.004348380037364213,
          0.41957675079592427,
          2.301491454423374,
          1.4561157709628787,
          -0.39543442769501835,
          -2.9977343866583146,
          0.4606828596039337,
          0.4125115418393969,
          -1.6772472028110024,
          0.4847284875647718,
          0.13514321173399585,
          -0.8501933743837765,
          0.7661903176591959,
          0.2556084067919436,
          1.2092208938314986,
          -0.9641519723820355,
          -0.4929362943760437,
          0.28872133688964635,
          -0.9942239232924204,
          -0.17732241365179743,
          -1.167011992737201,
          -0.02479701877713464,
          -1.3437385112074935,
          -0.13425512337211468,
          -1.1387426056206769,
          -0.152654355616287,
          -0.20396279915057616,
          -1.09589281461307,
          -1.8186866319970554,
          -1.419713115103019,
          1.1238921197556309,
          -0.25238924820713565,
          0.8003631231624078,
          1.510325015083661,
          0.15693663155427395,
          -1.7131257418818993,
          -0.73964880933293,
          -0.9491578573939075,
          -0.030022804907188512,
          1.1710417549444856,
          0.12729687189798403,
          -0.005807129205971171,
          -0.028565868349607577,
          -0.4819911680944219,
          -1.518892135299185,
          -0.576390236024212,
          0.36059632276433357,
          -0.12057217071166919,
          0.15762625193431426,
          0.06810068428376627,
          0.6367262505638114,
          -2.1102698964980773,
          -0.7082699504905734,
          -0.2941154121319468,
          0.126635294372914,
          -0.40570278219914246,
          0.35808490553594086,
          -1.0342876768719167,
          -1.1947571676836943,
          0.5541810575018407,
          1.5133993382594308,
          -0.9003410000358811,
          -0.8560779010303979,
          2.030211579966576,
          0.582959641868816,
          0.8494972234950936,
          1.1581283542388061,
          0.6879489752136857,
          -0.8493140319400361,
          -0.6133085997176515,
          -0.2850937172340025,
          -0.9857890053489234,
          -0.09162341605494383,
          -1.0244112466360455,
          1.393245285512462,
          0.03430148884087417,
          0.37283225888140187,
          0.1487104846347837,
          -1.256860203558932,
          0.3464741711743709,
          -0.31822087540002797,
          1.384161939100568,
          0.060376550504078835,
          -1.5736730924838451
         ],
         "y": [
          1.8544854469766379,
          0.7836177074308012,
          -0.7023952067731887,
          -1.6590009035343811,
          0.5368017098635539,
          -0.3523782119696855,
          0.16226175563893364,
          0.7264061191098,
          -1.2499210848417084,
          0.1929954220383031,
          -0.21386919859532105,
          -0.29271630353287986,
          -0.6611903651266722,
          0.744638175086269,
          0.2040438468422435,
          0.8584320617049238,
          0.850452155003359,
          -1.3659953542696026,
          -0.05578684509734393,
          0.6323620787780885,
          0.2837188925661103,
          -0.30468203874642236,
          -2.8251949591332033,
          0.34430547180085386,
          -0.9974663044329387,
          1.0962755508149857,
          -1.7792529363166523,
          1.1933040966037836,
          0.07152250341734986,
          -0.36871156263976,
          0.4574508446904451,
          -1.75587070274968,
          -1.59898164109928,
          -1.6860266836224718,
          -0.3277867055238577,
          -1.3629489107165276,
          1.0412266116381714,
          0.7179155165752484,
          1.6930515185472383,
          1.289448459481413,
          0.30362087590713316,
          -2.1528501300606946,
          -1.0134696144934496,
          -0.15636623271294586,
          0.8380139710009594,
          0.5579228915062908,
          0.5368016312120132,
          -0.5078470766397161,
          -0.845020274882293,
          -0.5032619357012125,
          0.09063142724378265,
          1.3230502586330954,
          0.605470890269384,
          -1.4491029065733194,
          1.5350799697628166,
          -0.4887321951171857,
          -1.9780210133324072,
          -0.09137475763597733,
          -0.7403203584012117,
          0.7224915860473682,
          0.7062391710651873,
          0.2012465686323864,
          -1.418854798097011,
          -1.8166350247694463,
          -1.1893933087052846,
          1.6008006185133081,
          -1.3828919131099306,
          -0.3939760308123558,
          -0.8518355622060666,
          -0.792128482209907,
          1.3826855098314517,
          0.19896340055223444,
          -0.23145050018903338,
          -0.47964419762986166,
          -0.44283720384580877,
          0.2975083383573253,
          -1.0702080056630172,
          0.3714803864386964,
          -1.7713799252108353,
          -0.05361606457323116,
          1.2773542153545079,
          1.130147907205399,
          0.672508729528042,
          -0.04422356786938887,
          0.06591820760695383,
          0.8657351394759569,
          -1.149166652831269,
          1.2801278124161366,
          0.7053245114339901,
          -0.6450090266750952,
          0.22479835435854695,
          -1.5687383321523662,
          -1.6711767415185925,
          0.18688677530668604,
          0.4801646737727269,
          1.27730447068291,
          1.5312853572122618,
          -0.003243945845103304,
          0.31545108378705483,
          0.8001980688130594
         ]
        }
       ],
       "layout": {
        "legend": {
         "bgcolor": "#F5F6F9",
         "font": {
          "color": "#4D5663"
         }
        },
        "paper_bgcolor": "#F5F6F9",
        "plot_bgcolor": "#F5F6F9",
        "template": {
         "data": {
          "bar": [
           {
            "error_x": {
             "color": "#2a3f5f"
            },
            "error_y": {
             "color": "#2a3f5f"
            },
            "marker": {
             "line": {
              "color": "#E5ECF6",
              "width": 0.5
             }
            },
            "type": "bar"
           }
          ],
          "barpolar": [
           {
            "marker": {
             "line": {
              "color": "#E5ECF6",
              "width": 0.5
             }
            },
            "type": "barpolar"
           }
          ],
          "carpet": [
           {
            "aaxis": {
             "endlinecolor": "#2a3f5f",
             "gridcolor": "white",
             "linecolor": "white",
             "minorgridcolor": "white",
             "startlinecolor": "#2a3f5f"
            },
            "baxis": {
             "endlinecolor": "#2a3f5f",
             "gridcolor": "white",
             "linecolor": "white",
             "minorgridcolor": "white",
             "startlinecolor": "#2a3f5f"
            },
            "type": "carpet"
           }
          ],
          "choropleth": [
           {
            "colorbar": {
             "outlinewidth": 0,
             "ticks": ""
            },
            "type": "choropleth"
           }
          ],
          "contour": [
           {
            "colorbar": {
             "outlinewidth": 0,
             "ticks": ""
            },
            "colorscale": [
             [
              0,
              "#0d0887"
             ],
             [
              0.1111111111111111,
              "#46039f"
             ],
             [
              0.2222222222222222,
              "#7201a8"
             ],
             [
              0.3333333333333333,
              "#9c179e"
             ],
             [
              0.4444444444444444,
              "#bd3786"
             ],
             [
              0.5555555555555556,
              "#d8576b"
             ],
             [
              0.6666666666666666,
              "#ed7953"
             ],
             [
              0.7777777777777778,
              "#fb9f3a"
             ],
             [
              0.8888888888888888,
              "#fdca26"
             ],
             [
              1,
              "#f0f921"
             ]
            ],
            "type": "contour"
           }
          ],
          "contourcarpet": [
           {
            "colorbar": {
             "outlinewidth": 0,
             "ticks": ""
            },
            "type": "contourcarpet"
           }
          ],
          "heatmap": [
           {
            "colorbar": {
             "outlinewidth": 0,
             "ticks": ""
            },
            "colorscale": [
             [
              0,
              "#0d0887"
             ],
             [
              0.1111111111111111,
              "#46039f"
             ],
             [
              0.2222222222222222,
              "#7201a8"
             ],
             [
              0.3333333333333333,
              "#9c179e"
             ],
             [
              0.4444444444444444,
              "#bd3786"
             ],
             [
              0.5555555555555556,
              "#d8576b"
             ],
             [
              0.6666666666666666,
              "#ed7953"
             ],
             [
              0.7777777777777778,
              "#fb9f3a"
             ],
             [
              0.8888888888888888,
              "#fdca26"
             ],
             [
              1,
              "#f0f921"
             ]
            ],
            "type": "heatmap"
           }
          ],
          "heatmapgl": [
           {
            "colorbar": {
             "outlinewidth": 0,
             "ticks": ""
            },
            "colorscale": [
             [
              0,
              "#0d0887"
             ],
             [
              0.1111111111111111,
              "#46039f"
             ],
             [
              0.2222222222222222,
              "#7201a8"
             ],
             [
              0.3333333333333333,
              "#9c179e"
             ],
             [
              0.4444444444444444,
              "#bd3786"
             ],
             [
              0.5555555555555556,
              "#d8576b"
             ],
             [
              0.6666666666666666,
              "#ed7953"
             ],
             [
              0.7777777777777778,
              "#fb9f3a"
             ],
             [
              0.8888888888888888,
              "#fdca26"
             ],
             [
              1,
              "#f0f921"
             ]
            ],
            "type": "heatmapgl"
           }
          ],
          "histogram": [
           {
            "marker": {
             "colorbar": {
              "outlinewidth": 0,
              "ticks": ""
             }
            },
            "type": "histogram"
           }
          ],
          "histogram2d": [
           {
            "colorbar": {
             "outlinewidth": 0,
             "ticks": ""
            },
            "colorscale": [
             [
              0,
              "#0d0887"
             ],
             [
              0.1111111111111111,
              "#46039f"
             ],
             [
              0.2222222222222222,
              "#7201a8"
             ],
             [
              0.3333333333333333,
              "#9c179e"
             ],
             [
              0.4444444444444444,
              "#bd3786"
             ],
             [
              0.5555555555555556,
              "#d8576b"
             ],
             [
              0.6666666666666666,
              "#ed7953"
             ],
             [
              0.7777777777777778,
              "#fb9f3a"
             ],
             [
              0.8888888888888888,
              "#fdca26"
             ],
             [
              1,
              "#f0f921"
             ]
            ],
            "type": "histogram2d"
           }
          ],
          "histogram2dcontour": [
           {
            "colorbar": {
             "outlinewidth": 0,
             "ticks": ""
            },
            "colorscale": [
             [
              0,
              "#0d0887"
             ],
             [
              0.1111111111111111,
              "#46039f"
             ],
             [
              0.2222222222222222,
              "#7201a8"
             ],
             [
              0.3333333333333333,
              "#9c179e"
             ],
             [
              0.4444444444444444,
              "#bd3786"
             ],
             [
              0.5555555555555556,
              "#d8576b"
             ],
             [
              0.6666666666666666,
              "#ed7953"
             ],
             [
              0.7777777777777778,
              "#fb9f3a"
             ],
             [
              0.8888888888888888,
              "#fdca26"
             ],
             [
              1,
              "#f0f921"
             ]
            ],
            "type": "histogram2dcontour"
           }
          ],
          "mesh3d": [
           {
            "colorbar": {
             "outlinewidth": 0,
             "ticks": ""
            },
            "type": "mesh3d"
           }
          ],
          "parcoords": [
           {
            "line": {
             "colorbar": {
              "outlinewidth": 0,
              "ticks": ""
             }
            },
            "type": "parcoords"
           }
          ],
          "pie": [
           {
            "automargin": true,
            "type": "pie"
           }
          ],
          "scatter": [
           {
            "marker": {
             "colorbar": {
              "outlinewidth": 0,
              "ticks": ""
             }
            },
            "type": "scatter"
           }
          ],
          "scatter3d": [
           {
            "line": {
             "colorbar": {
              "outlinewidth": 0,
              "ticks": ""
             }
            },
            "marker": {
             "colorbar": {
              "outlinewidth": 0,
              "ticks": ""
             }
            },
            "type": "scatter3d"
           }
          ],
          "scattercarpet": [
           {
            "marker": {
             "colorbar": {
              "outlinewidth": 0,
              "ticks": ""
             }
            },
            "type": "scattercarpet"
           }
          ],
          "scattergeo": [
           {
            "marker": {
             "colorbar": {
              "outlinewidth": 0,
              "ticks": ""
             }
            },
            "type": "scattergeo"
           }
          ],
          "scattergl": [
           {
            "marker": {
             "colorbar": {
              "outlinewidth": 0,
              "ticks": ""
             }
            },
            "type": "scattergl"
           }
          ],
          "scattermapbox": [
           {
            "marker": {
             "colorbar": {
              "outlinewidth": 0,
              "ticks": ""
             }
            },
            "type": "scattermapbox"
           }
          ],
          "scatterpolar": [
           {
            "marker": {
             "colorbar": {
              "outlinewidth": 0,
              "ticks": ""
             }
            },
            "type": "scatterpolar"
           }
          ],
          "scatterpolargl": [
           {
            "marker": {
             "colorbar": {
              "outlinewidth": 0,
              "ticks": ""
             }
            },
            "type": "scatterpolargl"
           }
          ],
          "scatterternary": [
           {
            "marker": {
             "colorbar": {
              "outlinewidth": 0,
              "ticks": ""
             }
            },
            "type": "scatterternary"
           }
          ],
          "surface": [
           {
            "colorbar": {
             "outlinewidth": 0,
             "ticks": ""
            },
            "colorscale": [
             [
              0,
              "#0d0887"
             ],
             [
              0.1111111111111111,
              "#46039f"
             ],
             [
              0.2222222222222222,
              "#7201a8"
             ],
             [
              0.3333333333333333,
              "#9c179e"
             ],
             [
              0.4444444444444444,
              "#bd3786"
             ],
             [
              0.5555555555555556,
              "#d8576b"
             ],
             [
              0.6666666666666666,
              "#ed7953"
             ],
             [
              0.7777777777777778,
              "#fb9f3a"
             ],
             [
              0.8888888888888888,
              "#fdca26"
             ],
             [
              1,
              "#f0f921"
             ]
            ],
            "type": "surface"
           }
          ],
          "table": [
           {
            "cells": {
             "fill": {
              "color": "#EBF0F8"
             },
             "line": {
              "color": "white"
             }
            },
            "header": {
             "fill": {
              "color": "#C8D4E3"
             },
             "line": {
              "color": "white"
             }
            },
            "type": "table"
           }
          ]
         },
         "layout": {
          "annotationdefaults": {
           "arrowcolor": "#2a3f5f",
           "arrowhead": 0,
           "arrowwidth": 1
          },
          "coloraxis": {
           "colorbar": {
            "outlinewidth": 0,
            "ticks": ""
           }
          },
          "colorscale": {
           "diverging": [
            [
             0,
             "#8e0152"
            ],
            [
             0.1,
             "#c51b7d"
            ],
            [
             0.2,
             "#de77ae"
            ],
            [
             0.3,
             "#f1b6da"
            ],
            [
             0.4,
             "#fde0ef"
            ],
            [
             0.5,
             "#f7f7f7"
            ],
            [
             0.6,
             "#e6f5d0"
            ],
            [
             0.7,
             "#b8e186"
            ],
            [
             0.8,
             "#7fbc41"
            ],
            [
             0.9,
             "#4d9221"
            ],
            [
             1,
             "#276419"
            ]
           ],
           "sequential": [
            [
             0,
             "#0d0887"
            ],
            [
             0.1111111111111111,
             "#46039f"
            ],
            [
             0.2222222222222222,
             "#7201a8"
            ],
            [
             0.3333333333333333,
             "#9c179e"
            ],
            [
             0.4444444444444444,
             "#bd3786"
            ],
            [
             0.5555555555555556,
             "#d8576b"
            ],
            [
             0.6666666666666666,
             "#ed7953"
            ],
            [
             0.7777777777777778,
             "#fb9f3a"
            ],
            [
             0.8888888888888888,
             "#fdca26"
            ],
            [
             1,
             "#f0f921"
            ]
           ],
           "sequentialminus": [
            [
             0,
             "#0d0887"
            ],
            [
             0.1111111111111111,
             "#46039f"
            ],
            [
             0.2222222222222222,
             "#7201a8"
            ],
            [
             0.3333333333333333,
             "#9c179e"
            ],
            [
             0.4444444444444444,
             "#bd3786"
            ],
            [
             0.5555555555555556,
             "#d8576b"
            ],
            [
             0.6666666666666666,
             "#ed7953"
            ],
            [
             0.7777777777777778,
             "#fb9f3a"
            ],
            [
             0.8888888888888888,
             "#fdca26"
            ],
            [
             1,
             "#f0f921"
            ]
           ]
          },
          "colorway": [
           "#636efa",
           "#EF553B",
           "#00cc96",
           "#ab63fa",
           "#FFA15A",
           "#19d3f3",
           "#FF6692",
           "#B6E880",
           "#FF97FF",
           "#FECB52"
          ],
          "font": {
           "color": "#2a3f5f"
          },
          "geo": {
           "bgcolor": "white",
           "lakecolor": "white",
           "landcolor": "#E5ECF6",
           "showlakes": true,
           "showland": true,
           "subunitcolor": "white"
          },
          "hoverlabel": {
           "align": "left"
          },
          "hovermode": "closest",
          "mapbox": {
           "style": "light"
          },
          "paper_bgcolor": "white",
          "plot_bgcolor": "#E5ECF6",
          "polar": {
           "angularaxis": {
            "gridcolor": "white",
            "linecolor": "white",
            "ticks": ""
           },
           "bgcolor": "#E5ECF6",
           "radialaxis": {
            "gridcolor": "white",
            "linecolor": "white",
            "ticks": ""
           }
          },
          "scene": {
           "xaxis": {
            "backgroundcolor": "#E5ECF6",
            "gridcolor": "white",
            "gridwidth": 2,
            "linecolor": "white",
            "showbackground": true,
            "ticks": "",
            "zerolinecolor": "white"
           },
           "yaxis": {
            "backgroundcolor": "#E5ECF6",
            "gridcolor": "white",
            "gridwidth": 2,
            "linecolor": "white",
            "showbackground": true,
            "ticks": "",
            "zerolinecolor": "white"
           },
           "zaxis": {
            "backgroundcolor": "#E5ECF6",
            "gridcolor": "white",
            "gridwidth": 2,
            "linecolor": "white",
            "showbackground": true,
            "ticks": "",
            "zerolinecolor": "white"
           }
          },
          "shapedefaults": {
           "line": {
            "color": "#2a3f5f"
           }
          },
          "ternary": {
           "aaxis": {
            "gridcolor": "white",
            "linecolor": "white",
            "ticks": ""
           },
           "baxis": {
            "gridcolor": "white",
            "linecolor": "white",
            "ticks": ""
           },
           "bgcolor": "#E5ECF6",
           "caxis": {
            "gridcolor": "white",
            "linecolor": "white",
            "ticks": ""
           }
          },
          "title": {
           "x": 0.05
          },
          "xaxis": {
           "automargin": true,
           "gridcolor": "white",
           "linecolor": "white",
           "ticks": "",
           "title": {
            "standoff": 15
           },
           "zerolinecolor": "white",
           "zerolinewidth": 2
          },
          "yaxis": {
           "automargin": true,
           "gridcolor": "white",
           "linecolor": "white",
           "ticks": "",
           "title": {
            "standoff": 15
           },
           "zerolinecolor": "white",
           "zerolinewidth": 2
          }
         }
        },
        "title": {
         "font": {
          "color": "#4D5663"
         }
        },
        "xaxis": {
         "gridcolor": "#E1E5ED",
         "showgrid": true,
         "tickfont": {
          "color": "#4D5663"
         },
         "title": {
          "font": {
           "color": "#4D5663"
          },
          "text": ""
         },
         "zerolinecolor": "#E1E5ED"
        },
        "yaxis": {
         "gridcolor": "#E1E5ED",
         "showgrid": true,
         "tickfont": {
          "color": "#4D5663"
         },
         "title": {
          "font": {
           "color": "#4D5663"
          },
          "text": ""
         },
         "zerolinecolor": "#E1E5ED"
        }
       }
      },
      "text/html": [
       "<div>\n",
       "        \n",
       "        \n",
       "            <div id=\"ace6d94f-c35a-419b-a859-9bf615160cb7\" class=\"plotly-graph-div\" style=\"height:525px; width:100%;\"></div>\n",
       "            <script type=\"text/javascript\">\n",
       "                require([\"plotly\"], function(Plotly) {\n",
       "                    window.PLOTLYENV=window.PLOTLYENV || {};\n",
       "                    window.PLOTLYENV.BASE_URL='https://plot.ly';\n",
       "                    \n",
       "                if (document.getElementById(\"ace6d94f-c35a-419b-a859-9bf615160cb7\")) {\n",
       "                    Plotly.newPlot(\n",
       "                        'ace6d94f-c35a-419b-a859-9bf615160cb7',\n",
       "                        [{\"line\": {\"color\": \"rgba(255, 153, 51, 1.0)\", \"dash\": \"solid\", \"shape\": \"linear\", \"width\": 1.3}, \"marker\": {\"size\": 10, \"symbol\": \"circle\"}, \"mode\": \"markers\", \"name\": \"B\", \"text\": \"\", \"type\": \"scatter\", \"x\": [0.3696420558197603, 0.5253992122905893, -1.037046991780036, 0.24758500485110949, -1.8474714207170502, 1.3011206429284472, -0.9335639569440436, 0.7693596664680276, -0.7354420564182146, -0.3897801777723191, -0.5361110290279926, -0.11335978345336128, 0.5034703014821329, 0.6862383833141485, -0.998068344328191, -1.0158631125325421, 0.004348380037364213, 0.41957675079592427, 2.301491454423374, 1.4561157709628787, -0.39543442769501835, -2.9977343866583146, 0.4606828596039337, 0.4125115418393969, -1.6772472028110024, 0.4847284875647718, 0.13514321173399585, -0.8501933743837765, 0.7661903176591959, 0.2556084067919436, 1.2092208938314986, -0.9641519723820355, -0.4929362943760437, 0.28872133688964635, -0.9942239232924204, -0.17732241365179743, -1.167011992737201, -0.02479701877713464, -1.3437385112074935, -0.13425512337211468, -1.1387426056206769, -0.152654355616287, -0.20396279915057616, -1.09589281461307, -1.8186866319970554, -1.419713115103019, 1.1238921197556309, -0.25238924820713565, 0.8003631231624078, 1.510325015083661, 0.15693663155427395, -1.7131257418818993, -0.73964880933293, -0.9491578573939075, -0.030022804907188512, 1.1710417549444856, 0.12729687189798403, -0.005807129205971171, -0.028565868349607577, -0.4819911680944219, -1.518892135299185, -0.576390236024212, 0.36059632276433357, -0.12057217071166919, 0.15762625193431426, 0.06810068428376627, 0.6367262505638114, -2.1102698964980773, -0.7082699504905734, -0.2941154121319468, 0.126635294372914, -0.40570278219914246, 0.35808490553594086, -1.0342876768719167, -1.1947571676836943, 0.5541810575018407, 1.5133993382594308, -0.9003410000358811, -0.8560779010303979, 2.030211579966576, 0.582959641868816, 0.8494972234950936, 1.1581283542388061, 0.6879489752136857, -0.8493140319400361, -0.6133085997176515, -0.2850937172340025, -0.9857890053489234, -0.09162341605494383, -1.0244112466360455, 1.393245285512462, 0.03430148884087417, 0.37283225888140187, 0.1487104846347837, -1.256860203558932, 0.3464741711743709, -0.31822087540002797, 1.384161939100568, 0.060376550504078835, -1.5736730924838451], \"y\": [1.8544854469766379, 0.7836177074308012, -0.7023952067731887, -1.6590009035343811, 0.5368017098635539, -0.3523782119696855, 0.16226175563893364, 0.7264061191098, -1.2499210848417084, 0.1929954220383031, -0.21386919859532105, -0.29271630353287986, -0.6611903651266722, 0.744638175086269, 0.2040438468422435, 0.8584320617049238, 0.850452155003359, -1.3659953542696026, -0.05578684509734393, 0.6323620787780885, 0.2837188925661103, -0.30468203874642236, -2.8251949591332033, 0.34430547180085386, -0.9974663044329387, 1.0962755508149857, -1.7792529363166523, 1.1933040966037836, 0.07152250341734986, -0.36871156263976, 0.4574508446904451, -1.75587070274968, -1.59898164109928, -1.6860266836224718, -0.3277867055238577, -1.3629489107165276, 1.0412266116381714, 0.7179155165752484, 1.6930515185472383, 1.289448459481413, 0.30362087590713316, -2.1528501300606946, -1.0134696144934496, -0.15636623271294586, 0.8380139710009594, 0.5579228915062908, 0.5368016312120132, -0.5078470766397161, -0.845020274882293, -0.5032619357012125, 0.09063142724378265, 1.3230502586330954, 0.605470890269384, -1.4491029065733194, 1.5350799697628166, -0.4887321951171857, -1.9780210133324072, -0.09137475763597733, -0.7403203584012117, 0.7224915860473682, 0.7062391710651873, 0.2012465686323864, -1.418854798097011, -1.8166350247694463, -1.1893933087052846, 1.6008006185133081, -1.3828919131099306, -0.3939760308123558, -0.8518355622060666, -0.792128482209907, 1.3826855098314517, 0.19896340055223444, -0.23145050018903338, -0.47964419762986166, -0.44283720384580877, 0.2975083383573253, -1.0702080056630172, 0.3714803864386964, -1.7713799252108353, -0.05361606457323116, 1.2773542153545079, 1.130147907205399, 0.672508729528042, -0.04422356786938887, 0.06591820760695383, 0.8657351394759569, -1.149166652831269, 1.2801278124161366, 0.7053245114339901, -0.6450090266750952, 0.22479835435854695, -1.5687383321523662, -1.6711767415185925, 0.18688677530668604, 0.4801646737727269, 1.27730447068291, 1.5312853572122618, -0.003243945845103304, 0.31545108378705483, 0.8001980688130594]}],\n",
       "                        {\"legend\": {\"bgcolor\": \"#F5F6F9\", \"font\": {\"color\": \"#4D5663\"}}, \"paper_bgcolor\": \"#F5F6F9\", \"plot_bgcolor\": \"#F5F6F9\", \"template\": {\"data\": {\"bar\": [{\"error_x\": {\"color\": \"#2a3f5f\"}, \"error_y\": {\"color\": \"#2a3f5f\"}, \"marker\": {\"line\": {\"color\": \"#E5ECF6\", \"width\": 0.5}}, \"type\": \"bar\"}], \"barpolar\": [{\"marker\": {\"line\": {\"color\": \"#E5ECF6\", \"width\": 0.5}}, \"type\": \"barpolar\"}], \"carpet\": [{\"aaxis\": {\"endlinecolor\": \"#2a3f5f\", \"gridcolor\": \"white\", \"linecolor\": \"white\", \"minorgridcolor\": \"white\", \"startlinecolor\": \"#2a3f5f\"}, \"baxis\": {\"endlinecolor\": \"#2a3f5f\", \"gridcolor\": \"white\", \"linecolor\": \"white\", \"minorgridcolor\": \"white\", \"startlinecolor\": \"#2a3f5f\"}, \"type\": \"carpet\"}], \"choropleth\": [{\"colorbar\": {\"outlinewidth\": 0, \"ticks\": \"\"}, \"type\": \"choropleth\"}], \"contour\": [{\"colorbar\": {\"outlinewidth\": 0, \"ticks\": \"\"}, \"colorscale\": [[0.0, \"#0d0887\"], [0.1111111111111111, \"#46039f\"], [0.2222222222222222, \"#7201a8\"], [0.3333333333333333, \"#9c179e\"], [0.4444444444444444, \"#bd3786\"], [0.5555555555555556, \"#d8576b\"], [0.6666666666666666, \"#ed7953\"], [0.7777777777777778, \"#fb9f3a\"], [0.8888888888888888, \"#fdca26\"], [1.0, \"#f0f921\"]], \"type\": \"contour\"}], \"contourcarpet\": [{\"colorbar\": {\"outlinewidth\": 0, \"ticks\": \"\"}, \"type\": \"contourcarpet\"}], \"heatmap\": [{\"colorbar\": {\"outlinewidth\": 0, \"ticks\": \"\"}, \"colorscale\": [[0.0, \"#0d0887\"], [0.1111111111111111, \"#46039f\"], [0.2222222222222222, \"#7201a8\"], [0.3333333333333333, \"#9c179e\"], [0.4444444444444444, \"#bd3786\"], [0.5555555555555556, \"#d8576b\"], [0.6666666666666666, \"#ed7953\"], [0.7777777777777778, \"#fb9f3a\"], [0.8888888888888888, \"#fdca26\"], [1.0, \"#f0f921\"]], \"type\": \"heatmap\"}], \"heatmapgl\": [{\"colorbar\": {\"outlinewidth\": 0, \"ticks\": \"\"}, \"colorscale\": [[0.0, \"#0d0887\"], [0.1111111111111111, \"#46039f\"], [0.2222222222222222, \"#7201a8\"], [0.3333333333333333, \"#9c179e\"], [0.4444444444444444, \"#bd3786\"], [0.5555555555555556, \"#d8576b\"], [0.6666666666666666, \"#ed7953\"], [0.7777777777777778, \"#fb9f3a\"], [0.8888888888888888, \"#fdca26\"], [1.0, \"#f0f921\"]], \"type\": \"heatmapgl\"}], \"histogram\": [{\"marker\": {\"colorbar\": {\"outlinewidth\": 0, \"ticks\": \"\"}}, \"type\": \"histogram\"}], \"histogram2d\": [{\"colorbar\": {\"outlinewidth\": 0, \"ticks\": \"\"}, \"colorscale\": [[0.0, \"#0d0887\"], [0.1111111111111111, \"#46039f\"], [0.2222222222222222, \"#7201a8\"], [0.3333333333333333, \"#9c179e\"], [0.4444444444444444, \"#bd3786\"], [0.5555555555555556, \"#d8576b\"], [0.6666666666666666, \"#ed7953\"], [0.7777777777777778, \"#fb9f3a\"], [0.8888888888888888, \"#fdca26\"], [1.0, \"#f0f921\"]], \"type\": \"histogram2d\"}], \"histogram2dcontour\": [{\"colorbar\": {\"outlinewidth\": 0, \"ticks\": \"\"}, \"colorscale\": [[0.0, \"#0d0887\"], [0.1111111111111111, \"#46039f\"], [0.2222222222222222, \"#7201a8\"], [0.3333333333333333, \"#9c179e\"], [0.4444444444444444, \"#bd3786\"], [0.5555555555555556, \"#d8576b\"], [0.6666666666666666, \"#ed7953\"], [0.7777777777777778, \"#fb9f3a\"], [0.8888888888888888, \"#fdca26\"], [1.0, \"#f0f921\"]], \"type\": \"histogram2dcontour\"}], \"mesh3d\": [{\"colorbar\": {\"outlinewidth\": 0, \"ticks\": \"\"}, \"type\": \"mesh3d\"}], \"parcoords\": [{\"line\": {\"colorbar\": {\"outlinewidth\": 0, \"ticks\": \"\"}}, \"type\": \"parcoords\"}], \"pie\": [{\"automargin\": true, \"type\": \"pie\"}], \"scatter\": [{\"marker\": {\"colorbar\": {\"outlinewidth\": 0, \"ticks\": \"\"}}, \"type\": \"scatter\"}], \"scatter3d\": [{\"line\": {\"colorbar\": {\"outlinewidth\": 0, \"ticks\": \"\"}}, \"marker\": {\"colorbar\": {\"outlinewidth\": 0, \"ticks\": \"\"}}, \"type\": \"scatter3d\"}], \"scattercarpet\": [{\"marker\": {\"colorbar\": {\"outlinewidth\": 0, \"ticks\": \"\"}}, \"type\": \"scattercarpet\"}], \"scattergeo\": [{\"marker\": {\"colorbar\": {\"outlinewidth\": 0, \"ticks\": \"\"}}, \"type\": \"scattergeo\"}], \"scattergl\": [{\"marker\": {\"colorbar\": {\"outlinewidth\": 0, \"ticks\": \"\"}}, \"type\": \"scattergl\"}], \"scattermapbox\": [{\"marker\": {\"colorbar\": {\"outlinewidth\": 0, \"ticks\": \"\"}}, \"type\": \"scattermapbox\"}], \"scatterpolar\": [{\"marker\": {\"colorbar\": {\"outlinewidth\": 0, \"ticks\": \"\"}}, \"type\": \"scatterpolar\"}], \"scatterpolargl\": [{\"marker\": {\"colorbar\": {\"outlinewidth\": 0, \"ticks\": \"\"}}, \"type\": \"scatterpolargl\"}], \"scatterternary\": [{\"marker\": {\"colorbar\": {\"outlinewidth\": 0, \"ticks\": \"\"}}, \"type\": \"scatterternary\"}], \"surface\": [{\"colorbar\": {\"outlinewidth\": 0, \"ticks\": \"\"}, \"colorscale\": [[0.0, \"#0d0887\"], [0.1111111111111111, \"#46039f\"], [0.2222222222222222, \"#7201a8\"], [0.3333333333333333, \"#9c179e\"], [0.4444444444444444, \"#bd3786\"], [0.5555555555555556, \"#d8576b\"], [0.6666666666666666, \"#ed7953\"], [0.7777777777777778, \"#fb9f3a\"], [0.8888888888888888, \"#fdca26\"], [1.0, \"#f0f921\"]], \"type\": \"surface\"}], \"table\": [{\"cells\": {\"fill\": {\"color\": \"#EBF0F8\"}, \"line\": {\"color\": \"white\"}}, \"header\": {\"fill\": {\"color\": \"#C8D4E3\"}, \"line\": {\"color\": \"white\"}}, \"type\": \"table\"}]}, \"layout\": {\"annotationdefaults\": {\"arrowcolor\": \"#2a3f5f\", \"arrowhead\": 0, \"arrowwidth\": 1}, \"coloraxis\": {\"colorbar\": {\"outlinewidth\": 0, \"ticks\": \"\"}}, \"colorscale\": {\"diverging\": [[0, \"#8e0152\"], [0.1, \"#c51b7d\"], [0.2, \"#de77ae\"], [0.3, \"#f1b6da\"], [0.4, \"#fde0ef\"], [0.5, \"#f7f7f7\"], [0.6, \"#e6f5d0\"], [0.7, \"#b8e186\"], [0.8, \"#7fbc41\"], [0.9, \"#4d9221\"], [1, \"#276419\"]], \"sequential\": [[0.0, \"#0d0887\"], [0.1111111111111111, \"#46039f\"], [0.2222222222222222, \"#7201a8\"], [0.3333333333333333, \"#9c179e\"], [0.4444444444444444, \"#bd3786\"], [0.5555555555555556, \"#d8576b\"], [0.6666666666666666, \"#ed7953\"], [0.7777777777777778, \"#fb9f3a\"], [0.8888888888888888, \"#fdca26\"], [1.0, \"#f0f921\"]], \"sequentialminus\": [[0.0, \"#0d0887\"], [0.1111111111111111, \"#46039f\"], [0.2222222222222222, \"#7201a8\"], [0.3333333333333333, \"#9c179e\"], [0.4444444444444444, \"#bd3786\"], [0.5555555555555556, \"#d8576b\"], [0.6666666666666666, \"#ed7953\"], [0.7777777777777778, \"#fb9f3a\"], [0.8888888888888888, \"#fdca26\"], [1.0, \"#f0f921\"]]}, \"colorway\": [\"#636efa\", \"#EF553B\", \"#00cc96\", \"#ab63fa\", \"#FFA15A\", \"#19d3f3\", \"#FF6692\", \"#B6E880\", \"#FF97FF\", \"#FECB52\"], \"font\": {\"color\": \"#2a3f5f\"}, \"geo\": {\"bgcolor\": \"white\", \"lakecolor\": \"white\", \"landcolor\": \"#E5ECF6\", \"showlakes\": true, \"showland\": true, \"subunitcolor\": \"white\"}, \"hoverlabel\": {\"align\": \"left\"}, \"hovermode\": \"closest\", \"mapbox\": {\"style\": \"light\"}, \"paper_bgcolor\": \"white\", \"plot_bgcolor\": \"#E5ECF6\", \"polar\": {\"angularaxis\": {\"gridcolor\": \"white\", \"linecolor\": \"white\", \"ticks\": \"\"}, \"bgcolor\": \"#E5ECF6\", \"radialaxis\": {\"gridcolor\": \"white\", \"linecolor\": \"white\", \"ticks\": \"\"}}, \"scene\": {\"xaxis\": {\"backgroundcolor\": \"#E5ECF6\", \"gridcolor\": \"white\", \"gridwidth\": 2, \"linecolor\": \"white\", \"showbackground\": true, \"ticks\": \"\", \"zerolinecolor\": \"white\"}, \"yaxis\": {\"backgroundcolor\": \"#E5ECF6\", \"gridcolor\": \"white\", \"gridwidth\": 2, \"linecolor\": \"white\", \"showbackground\": true, \"ticks\": \"\", \"zerolinecolor\": \"white\"}, \"zaxis\": {\"backgroundcolor\": \"#E5ECF6\", \"gridcolor\": \"white\", \"gridwidth\": 2, \"linecolor\": \"white\", \"showbackground\": true, \"ticks\": \"\", \"zerolinecolor\": \"white\"}}, \"shapedefaults\": {\"line\": {\"color\": \"#2a3f5f\"}}, \"ternary\": {\"aaxis\": {\"gridcolor\": \"white\", \"linecolor\": \"white\", \"ticks\": \"\"}, \"baxis\": {\"gridcolor\": \"white\", \"linecolor\": \"white\", \"ticks\": \"\"}, \"bgcolor\": \"#E5ECF6\", \"caxis\": {\"gridcolor\": \"white\", \"linecolor\": \"white\", \"ticks\": \"\"}}, \"title\": {\"x\": 0.05}, \"xaxis\": {\"automargin\": true, \"gridcolor\": \"white\", \"linecolor\": \"white\", \"ticks\": \"\", \"title\": {\"standoff\": 15}, \"zerolinecolor\": \"white\", \"zerolinewidth\": 2}, \"yaxis\": {\"automargin\": true, \"gridcolor\": \"white\", \"linecolor\": \"white\", \"ticks\": \"\", \"title\": {\"standoff\": 15}, \"zerolinecolor\": \"white\", \"zerolinewidth\": 2}}}, \"title\": {\"font\": {\"color\": \"#4D5663\"}}, \"xaxis\": {\"gridcolor\": \"#E1E5ED\", \"showgrid\": true, \"tickfont\": {\"color\": \"#4D5663\"}, \"title\": {\"font\": {\"color\": \"#4D5663\"}, \"text\": \"\"}, \"zerolinecolor\": \"#E1E5ED\"}, \"yaxis\": {\"gridcolor\": \"#E1E5ED\", \"showgrid\": true, \"tickfont\": {\"color\": \"#4D5663\"}, \"title\": {\"font\": {\"color\": \"#4D5663\"}, \"text\": \"\"}, \"zerolinecolor\": \"#E1E5ED\"}},\n",
       "                        {\"showLink\": true, \"linkText\": \"Export to plot.ly\", \"plotlyServerURL\": \"https://plot.ly\", \"responsive\": true}\n",
       "                    ).then(function(){\n",
       "                            \n",
       "var gd = document.getElementById('ace6d94f-c35a-419b-a859-9bf615160cb7');\n",
       "var x = new MutationObserver(function (mutations, observer) {{\n",
       "        var display = window.getComputedStyle(gd).display;\n",
       "        if (!display || display === 'none') {{\n",
       "            console.log([gd, 'removed!']);\n",
       "            Plotly.purge(gd);\n",
       "            observer.disconnect();\n",
       "        }}\n",
       "}});\n",
       "\n",
       "// Listen for the removal of the full notebook cells\n",
       "var notebookContainer = gd.closest('#notebook-container');\n",
       "if (notebookContainer) {{\n",
       "    x.observe(notebookContainer, {childList: true});\n",
       "}}\n",
       "\n",
       "// Listen for the clearing of the current output cell\n",
       "var outputEl = gd.closest('.output');\n",
       "if (outputEl) {{\n",
       "    x.observe(outputEl, {childList: true});\n",
       "}}\n",
       "\n",
       "                        })\n",
       "                };\n",
       "                });\n",
       "            </script>\n",
       "        </div>"
      ]
     },
     "metadata": {},
     "output_type": "display_data"
    }
   ],
   "source": [
    "df.iplot(kind='scatter',x='A',y='B',mode='markers',size=10)"
   ]
  },
  {
   "cell_type": "markdown",
   "metadata": {},
   "source": [
    "## Bar Plots"
   ]
  },
  {
   "cell_type": "code",
   "execution_count": 13,
   "metadata": {},
   "outputs": [
    {
     "data": {
      "application/vnd.plotly.v1+json": {
       "config": {
        "linkText": "Export to plot.ly",
        "plotlyServerURL": "https://plot.ly",
        "showLink": true
       },
       "data": [
        {
         "marker": {
          "color": "rgba(255, 153, 51, 0.6)",
          "line": {
           "color": "rgba(255, 153, 51, 1.0)",
           "width": 1
          }
         },
         "name": "Values",
         "orientation": "v",
         "text": "",
         "type": "bar",
         "x": [
          "A",
          "B",
          "C"
         ],
         "y": [
          32,
          43,
          50
         ]
        }
       ],
       "layout": {
        "legend": {
         "bgcolor": "#F5F6F9",
         "font": {
          "color": "#4D5663"
         }
        },
        "paper_bgcolor": "#F5F6F9",
        "plot_bgcolor": "#F5F6F9",
        "template": {
         "data": {
          "bar": [
           {
            "error_x": {
             "color": "#2a3f5f"
            },
            "error_y": {
             "color": "#2a3f5f"
            },
            "marker": {
             "line": {
              "color": "#E5ECF6",
              "width": 0.5
             }
            },
            "type": "bar"
           }
          ],
          "barpolar": [
           {
            "marker": {
             "line": {
              "color": "#E5ECF6",
              "width": 0.5
             }
            },
            "type": "barpolar"
           }
          ],
          "carpet": [
           {
            "aaxis": {
             "endlinecolor": "#2a3f5f",
             "gridcolor": "white",
             "linecolor": "white",
             "minorgridcolor": "white",
             "startlinecolor": "#2a3f5f"
            },
            "baxis": {
             "endlinecolor": "#2a3f5f",
             "gridcolor": "white",
             "linecolor": "white",
             "minorgridcolor": "white",
             "startlinecolor": "#2a3f5f"
            },
            "type": "carpet"
           }
          ],
          "choropleth": [
           {
            "colorbar": {
             "outlinewidth": 0,
             "ticks": ""
            },
            "type": "choropleth"
           }
          ],
          "contour": [
           {
            "colorbar": {
             "outlinewidth": 0,
             "ticks": ""
            },
            "colorscale": [
             [
              0,
              "#0d0887"
             ],
             [
              0.1111111111111111,
              "#46039f"
             ],
             [
              0.2222222222222222,
              "#7201a8"
             ],
             [
              0.3333333333333333,
              "#9c179e"
             ],
             [
              0.4444444444444444,
              "#bd3786"
             ],
             [
              0.5555555555555556,
              "#d8576b"
             ],
             [
              0.6666666666666666,
              "#ed7953"
             ],
             [
              0.7777777777777778,
              "#fb9f3a"
             ],
             [
              0.8888888888888888,
              "#fdca26"
             ],
             [
              1,
              "#f0f921"
             ]
            ],
            "type": "contour"
           }
          ],
          "contourcarpet": [
           {
            "colorbar": {
             "outlinewidth": 0,
             "ticks": ""
            },
            "type": "contourcarpet"
           }
          ],
          "heatmap": [
           {
            "colorbar": {
             "outlinewidth": 0,
             "ticks": ""
            },
            "colorscale": [
             [
              0,
              "#0d0887"
             ],
             [
              0.1111111111111111,
              "#46039f"
             ],
             [
              0.2222222222222222,
              "#7201a8"
             ],
             [
              0.3333333333333333,
              "#9c179e"
             ],
             [
              0.4444444444444444,
              "#bd3786"
             ],
             [
              0.5555555555555556,
              "#d8576b"
             ],
             [
              0.6666666666666666,
              "#ed7953"
             ],
             [
              0.7777777777777778,
              "#fb9f3a"
             ],
             [
              0.8888888888888888,
              "#fdca26"
             ],
             [
              1,
              "#f0f921"
             ]
            ],
            "type": "heatmap"
           }
          ],
          "heatmapgl": [
           {
            "colorbar": {
             "outlinewidth": 0,
             "ticks": ""
            },
            "colorscale": [
             [
              0,
              "#0d0887"
             ],
             [
              0.1111111111111111,
              "#46039f"
             ],
             [
              0.2222222222222222,
              "#7201a8"
             ],
             [
              0.3333333333333333,
              "#9c179e"
             ],
             [
              0.4444444444444444,
              "#bd3786"
             ],
             [
              0.5555555555555556,
              "#d8576b"
             ],
             [
              0.6666666666666666,
              "#ed7953"
             ],
             [
              0.7777777777777778,
              "#fb9f3a"
             ],
             [
              0.8888888888888888,
              "#fdca26"
             ],
             [
              1,
              "#f0f921"
             ]
            ],
            "type": "heatmapgl"
           }
          ],
          "histogram": [
           {
            "marker": {
             "colorbar": {
              "outlinewidth": 0,
              "ticks": ""
             }
            },
            "type": "histogram"
           }
          ],
          "histogram2d": [
           {
            "colorbar": {
             "outlinewidth": 0,
             "ticks": ""
            },
            "colorscale": [
             [
              0,
              "#0d0887"
             ],
             [
              0.1111111111111111,
              "#46039f"
             ],
             [
              0.2222222222222222,
              "#7201a8"
             ],
             [
              0.3333333333333333,
              "#9c179e"
             ],
             [
              0.4444444444444444,
              "#bd3786"
             ],
             [
              0.5555555555555556,
              "#d8576b"
             ],
             [
              0.6666666666666666,
              "#ed7953"
             ],
             [
              0.7777777777777778,
              "#fb9f3a"
             ],
             [
              0.8888888888888888,
              "#fdca26"
             ],
             [
              1,
              "#f0f921"
             ]
            ],
            "type": "histogram2d"
           }
          ],
          "histogram2dcontour": [
           {
            "colorbar": {
             "outlinewidth": 0,
             "ticks": ""
            },
            "colorscale": [
             [
              0,
              "#0d0887"
             ],
             [
              0.1111111111111111,
              "#46039f"
             ],
             [
              0.2222222222222222,
              "#7201a8"
             ],
             [
              0.3333333333333333,
              "#9c179e"
             ],
             [
              0.4444444444444444,
              "#bd3786"
             ],
             [
              0.5555555555555556,
              "#d8576b"
             ],
             [
              0.6666666666666666,
              "#ed7953"
             ],
             [
              0.7777777777777778,
              "#fb9f3a"
             ],
             [
              0.8888888888888888,
              "#fdca26"
             ],
             [
              1,
              "#f0f921"
             ]
            ],
            "type": "histogram2dcontour"
           }
          ],
          "mesh3d": [
           {
            "colorbar": {
             "outlinewidth": 0,
             "ticks": ""
            },
            "type": "mesh3d"
           }
          ],
          "parcoords": [
           {
            "line": {
             "colorbar": {
              "outlinewidth": 0,
              "ticks": ""
             }
            },
            "type": "parcoords"
           }
          ],
          "pie": [
           {
            "automargin": true,
            "type": "pie"
           }
          ],
          "scatter": [
           {
            "marker": {
             "colorbar": {
              "outlinewidth": 0,
              "ticks": ""
             }
            },
            "type": "scatter"
           }
          ],
          "scatter3d": [
           {
            "line": {
             "colorbar": {
              "outlinewidth": 0,
              "ticks": ""
             }
            },
            "marker": {
             "colorbar": {
              "outlinewidth": 0,
              "ticks": ""
             }
            },
            "type": "scatter3d"
           }
          ],
          "scattercarpet": [
           {
            "marker": {
             "colorbar": {
              "outlinewidth": 0,
              "ticks": ""
             }
            },
            "type": "scattercarpet"
           }
          ],
          "scattergeo": [
           {
            "marker": {
             "colorbar": {
              "outlinewidth": 0,
              "ticks": ""
             }
            },
            "type": "scattergeo"
           }
          ],
          "scattergl": [
           {
            "marker": {
             "colorbar": {
              "outlinewidth": 0,
              "ticks": ""
             }
            },
            "type": "scattergl"
           }
          ],
          "scattermapbox": [
           {
            "marker": {
             "colorbar": {
              "outlinewidth": 0,
              "ticks": ""
             }
            },
            "type": "scattermapbox"
           }
          ],
          "scatterpolar": [
           {
            "marker": {
             "colorbar": {
              "outlinewidth": 0,
              "ticks": ""
             }
            },
            "type": "scatterpolar"
           }
          ],
          "scatterpolargl": [
           {
            "marker": {
             "colorbar": {
              "outlinewidth": 0,
              "ticks": ""
             }
            },
            "type": "scatterpolargl"
           }
          ],
          "scatterternary": [
           {
            "marker": {
             "colorbar": {
              "outlinewidth": 0,
              "ticks": ""
             }
            },
            "type": "scatterternary"
           }
          ],
          "surface": [
           {
            "colorbar": {
             "outlinewidth": 0,
             "ticks": ""
            },
            "colorscale": [
             [
              0,
              "#0d0887"
             ],
             [
              0.1111111111111111,
              "#46039f"
             ],
             [
              0.2222222222222222,
              "#7201a8"
             ],
             [
              0.3333333333333333,
              "#9c179e"
             ],
             [
              0.4444444444444444,
              "#bd3786"
             ],
             [
              0.5555555555555556,
              "#d8576b"
             ],
             [
              0.6666666666666666,
              "#ed7953"
             ],
             [
              0.7777777777777778,
              "#fb9f3a"
             ],
             [
              0.8888888888888888,
              "#fdca26"
             ],
             [
              1,
              "#f0f921"
             ]
            ],
            "type": "surface"
           }
          ],
          "table": [
           {
            "cells": {
             "fill": {
              "color": "#EBF0F8"
             },
             "line": {
              "color": "white"
             }
            },
            "header": {
             "fill": {
              "color": "#C8D4E3"
             },
             "line": {
              "color": "white"
             }
            },
            "type": "table"
           }
          ]
         },
         "layout": {
          "annotationdefaults": {
           "arrowcolor": "#2a3f5f",
           "arrowhead": 0,
           "arrowwidth": 1
          },
          "coloraxis": {
           "colorbar": {
            "outlinewidth": 0,
            "ticks": ""
           }
          },
          "colorscale": {
           "diverging": [
            [
             0,
             "#8e0152"
            ],
            [
             0.1,
             "#c51b7d"
            ],
            [
             0.2,
             "#de77ae"
            ],
            [
             0.3,
             "#f1b6da"
            ],
            [
             0.4,
             "#fde0ef"
            ],
            [
             0.5,
             "#f7f7f7"
            ],
            [
             0.6,
             "#e6f5d0"
            ],
            [
             0.7,
             "#b8e186"
            ],
            [
             0.8,
             "#7fbc41"
            ],
            [
             0.9,
             "#4d9221"
            ],
            [
             1,
             "#276419"
            ]
           ],
           "sequential": [
            [
             0,
             "#0d0887"
            ],
            [
             0.1111111111111111,
             "#46039f"
            ],
            [
             0.2222222222222222,
             "#7201a8"
            ],
            [
             0.3333333333333333,
             "#9c179e"
            ],
            [
             0.4444444444444444,
             "#bd3786"
            ],
            [
             0.5555555555555556,
             "#d8576b"
            ],
            [
             0.6666666666666666,
             "#ed7953"
            ],
            [
             0.7777777777777778,
             "#fb9f3a"
            ],
            [
             0.8888888888888888,
             "#fdca26"
            ],
            [
             1,
             "#f0f921"
            ]
           ],
           "sequentialminus": [
            [
             0,
             "#0d0887"
            ],
            [
             0.1111111111111111,
             "#46039f"
            ],
            [
             0.2222222222222222,
             "#7201a8"
            ],
            [
             0.3333333333333333,
             "#9c179e"
            ],
            [
             0.4444444444444444,
             "#bd3786"
            ],
            [
             0.5555555555555556,
             "#d8576b"
            ],
            [
             0.6666666666666666,
             "#ed7953"
            ],
            [
             0.7777777777777778,
             "#fb9f3a"
            ],
            [
             0.8888888888888888,
             "#fdca26"
            ],
            [
             1,
             "#f0f921"
            ]
           ]
          },
          "colorway": [
           "#636efa",
           "#EF553B",
           "#00cc96",
           "#ab63fa",
           "#FFA15A",
           "#19d3f3",
           "#FF6692",
           "#B6E880",
           "#FF97FF",
           "#FECB52"
          ],
          "font": {
           "color": "#2a3f5f"
          },
          "geo": {
           "bgcolor": "white",
           "lakecolor": "white",
           "landcolor": "#E5ECF6",
           "showlakes": true,
           "showland": true,
           "subunitcolor": "white"
          },
          "hoverlabel": {
           "align": "left"
          },
          "hovermode": "closest",
          "mapbox": {
           "style": "light"
          },
          "paper_bgcolor": "white",
          "plot_bgcolor": "#E5ECF6",
          "polar": {
           "angularaxis": {
            "gridcolor": "white",
            "linecolor": "white",
            "ticks": ""
           },
           "bgcolor": "#E5ECF6",
           "radialaxis": {
            "gridcolor": "white",
            "linecolor": "white",
            "ticks": ""
           }
          },
          "scene": {
           "xaxis": {
            "backgroundcolor": "#E5ECF6",
            "gridcolor": "white",
            "gridwidth": 2,
            "linecolor": "white",
            "showbackground": true,
            "ticks": "",
            "zerolinecolor": "white"
           },
           "yaxis": {
            "backgroundcolor": "#E5ECF6",
            "gridcolor": "white",
            "gridwidth": 2,
            "linecolor": "white",
            "showbackground": true,
            "ticks": "",
            "zerolinecolor": "white"
           },
           "zaxis": {
            "backgroundcolor": "#E5ECF6",
            "gridcolor": "white",
            "gridwidth": 2,
            "linecolor": "white",
            "showbackground": true,
            "ticks": "",
            "zerolinecolor": "white"
           }
          },
          "shapedefaults": {
           "line": {
            "color": "#2a3f5f"
           }
          },
          "ternary": {
           "aaxis": {
            "gridcolor": "white",
            "linecolor": "white",
            "ticks": ""
           },
           "baxis": {
            "gridcolor": "white",
            "linecolor": "white",
            "ticks": ""
           },
           "bgcolor": "#E5ECF6",
           "caxis": {
            "gridcolor": "white",
            "linecolor": "white",
            "ticks": ""
           }
          },
          "title": {
           "x": 0.05
          },
          "xaxis": {
           "automargin": true,
           "gridcolor": "white",
           "linecolor": "white",
           "ticks": "",
           "title": {
            "standoff": 15
           },
           "zerolinecolor": "white",
           "zerolinewidth": 2
          },
          "yaxis": {
           "automargin": true,
           "gridcolor": "white",
           "linecolor": "white",
           "ticks": "",
           "title": {
            "standoff": 15
           },
           "zerolinecolor": "white",
           "zerolinewidth": 2
          }
         }
        },
        "title": {
         "font": {
          "color": "#4D5663"
         }
        },
        "xaxis": {
         "gridcolor": "#E1E5ED",
         "showgrid": true,
         "tickfont": {
          "color": "#4D5663"
         },
         "title": {
          "font": {
           "color": "#4D5663"
          },
          "text": ""
         },
         "zerolinecolor": "#E1E5ED"
        },
        "yaxis": {
         "gridcolor": "#E1E5ED",
         "showgrid": true,
         "tickfont": {
          "color": "#4D5663"
         },
         "title": {
          "font": {
           "color": "#4D5663"
          },
          "text": ""
         },
         "zerolinecolor": "#E1E5ED"
        }
       }
      },
      "text/html": [
       "<div>\n",
       "        \n",
       "        \n",
       "            <div id=\"15b941a2-1bd7-4cb0-a2c2-861887359dfb\" class=\"plotly-graph-div\" style=\"height:525px; width:100%;\"></div>\n",
       "            <script type=\"text/javascript\">\n",
       "                require([\"plotly\"], function(Plotly) {\n",
       "                    window.PLOTLYENV=window.PLOTLYENV || {};\n",
       "                    window.PLOTLYENV.BASE_URL='https://plot.ly';\n",
       "                    \n",
       "                if (document.getElementById(\"15b941a2-1bd7-4cb0-a2c2-861887359dfb\")) {\n",
       "                    Plotly.newPlot(\n",
       "                        '15b941a2-1bd7-4cb0-a2c2-861887359dfb',\n",
       "                        [{\"marker\": {\"color\": \"rgba(255, 153, 51, 0.6)\", \"line\": {\"color\": \"rgba(255, 153, 51, 1.0)\", \"width\": 1}}, \"name\": \"Values\", \"orientation\": \"v\", \"text\": \"\", \"type\": \"bar\", \"x\": [\"A\", \"B\", \"C\"], \"y\": [32, 43, 50]}],\n",
       "                        {\"legend\": {\"bgcolor\": \"#F5F6F9\", \"font\": {\"color\": \"#4D5663\"}}, \"paper_bgcolor\": \"#F5F6F9\", \"plot_bgcolor\": \"#F5F6F9\", \"template\": {\"data\": {\"bar\": [{\"error_x\": {\"color\": \"#2a3f5f\"}, \"error_y\": {\"color\": \"#2a3f5f\"}, \"marker\": {\"line\": {\"color\": \"#E5ECF6\", \"width\": 0.5}}, \"type\": \"bar\"}], \"barpolar\": [{\"marker\": {\"line\": {\"color\": \"#E5ECF6\", \"width\": 0.5}}, \"type\": \"barpolar\"}], \"carpet\": [{\"aaxis\": {\"endlinecolor\": \"#2a3f5f\", \"gridcolor\": \"white\", \"linecolor\": \"white\", \"minorgridcolor\": \"white\", \"startlinecolor\": \"#2a3f5f\"}, \"baxis\": {\"endlinecolor\": \"#2a3f5f\", \"gridcolor\": \"white\", \"linecolor\": \"white\", \"minorgridcolor\": \"white\", \"startlinecolor\": \"#2a3f5f\"}, \"type\": \"carpet\"}], \"choropleth\": [{\"colorbar\": {\"outlinewidth\": 0, \"ticks\": \"\"}, \"type\": \"choropleth\"}], \"contour\": [{\"colorbar\": {\"outlinewidth\": 0, \"ticks\": \"\"}, \"colorscale\": [[0.0, \"#0d0887\"], [0.1111111111111111, \"#46039f\"], [0.2222222222222222, \"#7201a8\"], [0.3333333333333333, \"#9c179e\"], [0.4444444444444444, \"#bd3786\"], [0.5555555555555556, \"#d8576b\"], [0.6666666666666666, \"#ed7953\"], [0.7777777777777778, \"#fb9f3a\"], [0.8888888888888888, \"#fdca26\"], [1.0, \"#f0f921\"]], \"type\": \"contour\"}], \"contourcarpet\": [{\"colorbar\": {\"outlinewidth\": 0, \"ticks\": \"\"}, \"type\": \"contourcarpet\"}], \"heatmap\": [{\"colorbar\": {\"outlinewidth\": 0, \"ticks\": \"\"}, \"colorscale\": [[0.0, \"#0d0887\"], [0.1111111111111111, \"#46039f\"], [0.2222222222222222, \"#7201a8\"], [0.3333333333333333, \"#9c179e\"], [0.4444444444444444, \"#bd3786\"], [0.5555555555555556, \"#d8576b\"], [0.6666666666666666, \"#ed7953\"], [0.7777777777777778, \"#fb9f3a\"], [0.8888888888888888, \"#fdca26\"], [1.0, \"#f0f921\"]], \"type\": \"heatmap\"}], \"heatmapgl\": [{\"colorbar\": {\"outlinewidth\": 0, \"ticks\": \"\"}, \"colorscale\": [[0.0, \"#0d0887\"], [0.1111111111111111, \"#46039f\"], [0.2222222222222222, \"#7201a8\"], [0.3333333333333333, \"#9c179e\"], [0.4444444444444444, \"#bd3786\"], [0.5555555555555556, \"#d8576b\"], [0.6666666666666666, \"#ed7953\"], [0.7777777777777778, \"#fb9f3a\"], [0.8888888888888888, \"#fdca26\"], [1.0, \"#f0f921\"]], \"type\": \"heatmapgl\"}], \"histogram\": [{\"marker\": {\"colorbar\": {\"outlinewidth\": 0, \"ticks\": \"\"}}, \"type\": \"histogram\"}], \"histogram2d\": [{\"colorbar\": {\"outlinewidth\": 0, \"ticks\": \"\"}, \"colorscale\": [[0.0, \"#0d0887\"], [0.1111111111111111, \"#46039f\"], [0.2222222222222222, \"#7201a8\"], [0.3333333333333333, \"#9c179e\"], [0.4444444444444444, \"#bd3786\"], [0.5555555555555556, \"#d8576b\"], [0.6666666666666666, \"#ed7953\"], [0.7777777777777778, \"#fb9f3a\"], [0.8888888888888888, \"#fdca26\"], [1.0, \"#f0f921\"]], \"type\": \"histogram2d\"}], \"histogram2dcontour\": [{\"colorbar\": {\"outlinewidth\": 0, \"ticks\": \"\"}, \"colorscale\": [[0.0, \"#0d0887\"], [0.1111111111111111, \"#46039f\"], [0.2222222222222222, \"#7201a8\"], [0.3333333333333333, \"#9c179e\"], [0.4444444444444444, \"#bd3786\"], [0.5555555555555556, \"#d8576b\"], [0.6666666666666666, \"#ed7953\"], [0.7777777777777778, \"#fb9f3a\"], [0.8888888888888888, \"#fdca26\"], [1.0, \"#f0f921\"]], \"type\": \"histogram2dcontour\"}], \"mesh3d\": [{\"colorbar\": {\"outlinewidth\": 0, \"ticks\": \"\"}, \"type\": \"mesh3d\"}], \"parcoords\": [{\"line\": {\"colorbar\": {\"outlinewidth\": 0, \"ticks\": \"\"}}, \"type\": \"parcoords\"}], \"pie\": [{\"automargin\": true, \"type\": \"pie\"}], \"scatter\": [{\"marker\": {\"colorbar\": {\"outlinewidth\": 0, \"ticks\": \"\"}}, \"type\": \"scatter\"}], \"scatter3d\": [{\"line\": {\"colorbar\": {\"outlinewidth\": 0, \"ticks\": \"\"}}, \"marker\": {\"colorbar\": {\"outlinewidth\": 0, \"ticks\": \"\"}}, \"type\": \"scatter3d\"}], \"scattercarpet\": [{\"marker\": {\"colorbar\": {\"outlinewidth\": 0, \"ticks\": \"\"}}, \"type\": \"scattercarpet\"}], \"scattergeo\": [{\"marker\": {\"colorbar\": {\"outlinewidth\": 0, \"ticks\": \"\"}}, \"type\": \"scattergeo\"}], \"scattergl\": [{\"marker\": {\"colorbar\": {\"outlinewidth\": 0, \"ticks\": \"\"}}, \"type\": \"scattergl\"}], \"scattermapbox\": [{\"marker\": {\"colorbar\": {\"outlinewidth\": 0, \"ticks\": \"\"}}, \"type\": \"scattermapbox\"}], \"scatterpolar\": [{\"marker\": {\"colorbar\": {\"outlinewidth\": 0, \"ticks\": \"\"}}, \"type\": \"scatterpolar\"}], \"scatterpolargl\": [{\"marker\": {\"colorbar\": {\"outlinewidth\": 0, \"ticks\": \"\"}}, \"type\": \"scatterpolargl\"}], \"scatterternary\": [{\"marker\": {\"colorbar\": {\"outlinewidth\": 0, \"ticks\": \"\"}}, \"type\": \"scatterternary\"}], \"surface\": [{\"colorbar\": {\"outlinewidth\": 0, \"ticks\": \"\"}, \"colorscale\": [[0.0, \"#0d0887\"], [0.1111111111111111, \"#46039f\"], [0.2222222222222222, \"#7201a8\"], [0.3333333333333333, \"#9c179e\"], [0.4444444444444444, \"#bd3786\"], [0.5555555555555556, \"#d8576b\"], [0.6666666666666666, \"#ed7953\"], [0.7777777777777778, \"#fb9f3a\"], [0.8888888888888888, \"#fdca26\"], [1.0, \"#f0f921\"]], \"type\": \"surface\"}], \"table\": [{\"cells\": {\"fill\": {\"color\": \"#EBF0F8\"}, \"line\": {\"color\": \"white\"}}, \"header\": {\"fill\": {\"color\": \"#C8D4E3\"}, \"line\": {\"color\": \"white\"}}, \"type\": \"table\"}]}, \"layout\": {\"annotationdefaults\": {\"arrowcolor\": \"#2a3f5f\", \"arrowhead\": 0, \"arrowwidth\": 1}, \"coloraxis\": {\"colorbar\": {\"outlinewidth\": 0, \"ticks\": \"\"}}, \"colorscale\": {\"diverging\": [[0, \"#8e0152\"], [0.1, \"#c51b7d\"], [0.2, \"#de77ae\"], [0.3, \"#f1b6da\"], [0.4, \"#fde0ef\"], [0.5, \"#f7f7f7\"], [0.6, \"#e6f5d0\"], [0.7, \"#b8e186\"], [0.8, \"#7fbc41\"], [0.9, \"#4d9221\"], [1, \"#276419\"]], \"sequential\": [[0.0, \"#0d0887\"], [0.1111111111111111, \"#46039f\"], [0.2222222222222222, \"#7201a8\"], [0.3333333333333333, \"#9c179e\"], [0.4444444444444444, \"#bd3786\"], [0.5555555555555556, \"#d8576b\"], [0.6666666666666666, \"#ed7953\"], [0.7777777777777778, \"#fb9f3a\"], [0.8888888888888888, \"#fdca26\"], [1.0, \"#f0f921\"]], \"sequentialminus\": [[0.0, \"#0d0887\"], [0.1111111111111111, \"#46039f\"], [0.2222222222222222, \"#7201a8\"], [0.3333333333333333, \"#9c179e\"], [0.4444444444444444, \"#bd3786\"], [0.5555555555555556, \"#d8576b\"], [0.6666666666666666, \"#ed7953\"], [0.7777777777777778, \"#fb9f3a\"], [0.8888888888888888, \"#fdca26\"], [1.0, \"#f0f921\"]]}, \"colorway\": [\"#636efa\", \"#EF553B\", \"#00cc96\", \"#ab63fa\", \"#FFA15A\", \"#19d3f3\", \"#FF6692\", \"#B6E880\", \"#FF97FF\", \"#FECB52\"], \"font\": {\"color\": \"#2a3f5f\"}, \"geo\": {\"bgcolor\": \"white\", \"lakecolor\": \"white\", \"landcolor\": \"#E5ECF6\", \"showlakes\": true, \"showland\": true, \"subunitcolor\": \"white\"}, \"hoverlabel\": {\"align\": \"left\"}, \"hovermode\": \"closest\", \"mapbox\": {\"style\": \"light\"}, \"paper_bgcolor\": \"white\", \"plot_bgcolor\": \"#E5ECF6\", \"polar\": {\"angularaxis\": {\"gridcolor\": \"white\", \"linecolor\": \"white\", \"ticks\": \"\"}, \"bgcolor\": \"#E5ECF6\", \"radialaxis\": {\"gridcolor\": \"white\", \"linecolor\": \"white\", \"ticks\": \"\"}}, \"scene\": {\"xaxis\": {\"backgroundcolor\": \"#E5ECF6\", \"gridcolor\": \"white\", \"gridwidth\": 2, \"linecolor\": \"white\", \"showbackground\": true, \"ticks\": \"\", \"zerolinecolor\": \"white\"}, \"yaxis\": {\"backgroundcolor\": \"#E5ECF6\", \"gridcolor\": \"white\", \"gridwidth\": 2, \"linecolor\": \"white\", \"showbackground\": true, \"ticks\": \"\", \"zerolinecolor\": \"white\"}, \"zaxis\": {\"backgroundcolor\": \"#E5ECF6\", \"gridcolor\": \"white\", \"gridwidth\": 2, \"linecolor\": \"white\", \"showbackground\": true, \"ticks\": \"\", \"zerolinecolor\": \"white\"}}, \"shapedefaults\": {\"line\": {\"color\": \"#2a3f5f\"}}, \"ternary\": {\"aaxis\": {\"gridcolor\": \"white\", \"linecolor\": \"white\", \"ticks\": \"\"}, \"baxis\": {\"gridcolor\": \"white\", \"linecolor\": \"white\", \"ticks\": \"\"}, \"bgcolor\": \"#E5ECF6\", \"caxis\": {\"gridcolor\": \"white\", \"linecolor\": \"white\", \"ticks\": \"\"}}, \"title\": {\"x\": 0.05}, \"xaxis\": {\"automargin\": true, \"gridcolor\": \"white\", \"linecolor\": \"white\", \"ticks\": \"\", \"title\": {\"standoff\": 15}, \"zerolinecolor\": \"white\", \"zerolinewidth\": 2}, \"yaxis\": {\"automargin\": true, \"gridcolor\": \"white\", \"linecolor\": \"white\", \"ticks\": \"\", \"title\": {\"standoff\": 15}, \"zerolinecolor\": \"white\", \"zerolinewidth\": 2}}}, \"title\": {\"font\": {\"color\": \"#4D5663\"}}, \"xaxis\": {\"gridcolor\": \"#E1E5ED\", \"showgrid\": true, \"tickfont\": {\"color\": \"#4D5663\"}, \"title\": {\"font\": {\"color\": \"#4D5663\"}, \"text\": \"\"}, \"zerolinecolor\": \"#E1E5ED\"}, \"yaxis\": {\"gridcolor\": \"#E1E5ED\", \"showgrid\": true, \"tickfont\": {\"color\": \"#4D5663\"}, \"title\": {\"font\": {\"color\": \"#4D5663\"}, \"text\": \"\"}, \"zerolinecolor\": \"#E1E5ED\"}},\n",
       "                        {\"showLink\": true, \"linkText\": \"Export to plot.ly\", \"plotlyServerURL\": \"https://plot.ly\", \"responsive\": true}\n",
       "                    ).then(function(){\n",
       "                            \n",
       "var gd = document.getElementById('15b941a2-1bd7-4cb0-a2c2-861887359dfb');\n",
       "var x = new MutationObserver(function (mutations, observer) {{\n",
       "        var display = window.getComputedStyle(gd).display;\n",
       "        if (!display || display === 'none') {{\n",
       "            console.log([gd, 'removed!']);\n",
       "            Plotly.purge(gd);\n",
       "            observer.disconnect();\n",
       "        }}\n",
       "}});\n",
       "\n",
       "// Listen for the removal of the full notebook cells\n",
       "var notebookContainer = gd.closest('#notebook-container');\n",
       "if (notebookContainer) {{\n",
       "    x.observe(notebookContainer, {childList: true});\n",
       "}}\n",
       "\n",
       "// Listen for the clearing of the current output cell\n",
       "var outputEl = gd.closest('.output');\n",
       "if (outputEl) {{\n",
       "    x.observe(outputEl, {childList: true});\n",
       "}}\n",
       "\n",
       "                        })\n",
       "                };\n",
       "                });\n",
       "            </script>\n",
       "        </div>"
      ]
     },
     "metadata": {},
     "output_type": "display_data"
    }
   ],
   "source": [
    "df2.iplot(kind='bar',x='Category',y='Values')"
   ]
  },
  {
   "cell_type": "code",
   "execution_count": 14,
   "metadata": {},
   "outputs": [
    {
     "data": {
      "application/vnd.plotly.v1+json": {
       "config": {
        "linkText": "Export to plot.ly",
        "plotlyServerURL": "https://plot.ly",
        "showLink": true
       },
       "data": [
        {
         "marker": {
          "color": "rgba(255, 153, 51, 0.6)",
          "line": {
           "color": "rgba(255, 153, 51, 1.0)",
           "width": 1
          }
         },
         "name": "None",
         "orientation": "v",
         "text": "",
         "type": "bar",
         "x": [
          "A",
          "B",
          "C",
          "D"
         ],
         "y": [
          100,
          100,
          100,
          100
         ]
        }
       ],
       "layout": {
        "legend": {
         "bgcolor": "#F5F6F9",
         "font": {
          "color": "#4D5663"
         }
        },
        "paper_bgcolor": "#F5F6F9",
        "plot_bgcolor": "#F5F6F9",
        "template": {
         "data": {
          "bar": [
           {
            "error_x": {
             "color": "#2a3f5f"
            },
            "error_y": {
             "color": "#2a3f5f"
            },
            "marker": {
             "line": {
              "color": "#E5ECF6",
              "width": 0.5
             }
            },
            "type": "bar"
           }
          ],
          "barpolar": [
           {
            "marker": {
             "line": {
              "color": "#E5ECF6",
              "width": 0.5
             }
            },
            "type": "barpolar"
           }
          ],
          "carpet": [
           {
            "aaxis": {
             "endlinecolor": "#2a3f5f",
             "gridcolor": "white",
             "linecolor": "white",
             "minorgridcolor": "white",
             "startlinecolor": "#2a3f5f"
            },
            "baxis": {
             "endlinecolor": "#2a3f5f",
             "gridcolor": "white",
             "linecolor": "white",
             "minorgridcolor": "white",
             "startlinecolor": "#2a3f5f"
            },
            "type": "carpet"
           }
          ],
          "choropleth": [
           {
            "colorbar": {
             "outlinewidth": 0,
             "ticks": ""
            },
            "type": "choropleth"
           }
          ],
          "contour": [
           {
            "colorbar": {
             "outlinewidth": 0,
             "ticks": ""
            },
            "colorscale": [
             [
              0,
              "#0d0887"
             ],
             [
              0.1111111111111111,
              "#46039f"
             ],
             [
              0.2222222222222222,
              "#7201a8"
             ],
             [
              0.3333333333333333,
              "#9c179e"
             ],
             [
              0.4444444444444444,
              "#bd3786"
             ],
             [
              0.5555555555555556,
              "#d8576b"
             ],
             [
              0.6666666666666666,
              "#ed7953"
             ],
             [
              0.7777777777777778,
              "#fb9f3a"
             ],
             [
              0.8888888888888888,
              "#fdca26"
             ],
             [
              1,
              "#f0f921"
             ]
            ],
            "type": "contour"
           }
          ],
          "contourcarpet": [
           {
            "colorbar": {
             "outlinewidth": 0,
             "ticks": ""
            },
            "type": "contourcarpet"
           }
          ],
          "heatmap": [
           {
            "colorbar": {
             "outlinewidth": 0,
             "ticks": ""
            },
            "colorscale": [
             [
              0,
              "#0d0887"
             ],
             [
              0.1111111111111111,
              "#46039f"
             ],
             [
              0.2222222222222222,
              "#7201a8"
             ],
             [
              0.3333333333333333,
              "#9c179e"
             ],
             [
              0.4444444444444444,
              "#bd3786"
             ],
             [
              0.5555555555555556,
              "#d8576b"
             ],
             [
              0.6666666666666666,
              "#ed7953"
             ],
             [
              0.7777777777777778,
              "#fb9f3a"
             ],
             [
              0.8888888888888888,
              "#fdca26"
             ],
             [
              1,
              "#f0f921"
             ]
            ],
            "type": "heatmap"
           }
          ],
          "heatmapgl": [
           {
            "colorbar": {
             "outlinewidth": 0,
             "ticks": ""
            },
            "colorscale": [
             [
              0,
              "#0d0887"
             ],
             [
              0.1111111111111111,
              "#46039f"
             ],
             [
              0.2222222222222222,
              "#7201a8"
             ],
             [
              0.3333333333333333,
              "#9c179e"
             ],
             [
              0.4444444444444444,
              "#bd3786"
             ],
             [
              0.5555555555555556,
              "#d8576b"
             ],
             [
              0.6666666666666666,
              "#ed7953"
             ],
             [
              0.7777777777777778,
              "#fb9f3a"
             ],
             [
              0.8888888888888888,
              "#fdca26"
             ],
             [
              1,
              "#f0f921"
             ]
            ],
            "type": "heatmapgl"
           }
          ],
          "histogram": [
           {
            "marker": {
             "colorbar": {
              "outlinewidth": 0,
              "ticks": ""
             }
            },
            "type": "histogram"
           }
          ],
          "histogram2d": [
           {
            "colorbar": {
             "outlinewidth": 0,
             "ticks": ""
            },
            "colorscale": [
             [
              0,
              "#0d0887"
             ],
             [
              0.1111111111111111,
              "#46039f"
             ],
             [
              0.2222222222222222,
              "#7201a8"
             ],
             [
              0.3333333333333333,
              "#9c179e"
             ],
             [
              0.4444444444444444,
              "#bd3786"
             ],
             [
              0.5555555555555556,
              "#d8576b"
             ],
             [
              0.6666666666666666,
              "#ed7953"
             ],
             [
              0.7777777777777778,
              "#fb9f3a"
             ],
             [
              0.8888888888888888,
              "#fdca26"
             ],
             [
              1,
              "#f0f921"
             ]
            ],
            "type": "histogram2d"
           }
          ],
          "histogram2dcontour": [
           {
            "colorbar": {
             "outlinewidth": 0,
             "ticks": ""
            },
            "colorscale": [
             [
              0,
              "#0d0887"
             ],
             [
              0.1111111111111111,
              "#46039f"
             ],
             [
              0.2222222222222222,
              "#7201a8"
             ],
             [
              0.3333333333333333,
              "#9c179e"
             ],
             [
              0.4444444444444444,
              "#bd3786"
             ],
             [
              0.5555555555555556,
              "#d8576b"
             ],
             [
              0.6666666666666666,
              "#ed7953"
             ],
             [
              0.7777777777777778,
              "#fb9f3a"
             ],
             [
              0.8888888888888888,
              "#fdca26"
             ],
             [
              1,
              "#f0f921"
             ]
            ],
            "type": "histogram2dcontour"
           }
          ],
          "mesh3d": [
           {
            "colorbar": {
             "outlinewidth": 0,
             "ticks": ""
            },
            "type": "mesh3d"
           }
          ],
          "parcoords": [
           {
            "line": {
             "colorbar": {
              "outlinewidth": 0,
              "ticks": ""
             }
            },
            "type": "parcoords"
           }
          ],
          "pie": [
           {
            "automargin": true,
            "type": "pie"
           }
          ],
          "scatter": [
           {
            "marker": {
             "colorbar": {
              "outlinewidth": 0,
              "ticks": ""
             }
            },
            "type": "scatter"
           }
          ],
          "scatter3d": [
           {
            "line": {
             "colorbar": {
              "outlinewidth": 0,
              "ticks": ""
             }
            },
            "marker": {
             "colorbar": {
              "outlinewidth": 0,
              "ticks": ""
             }
            },
            "type": "scatter3d"
           }
          ],
          "scattercarpet": [
           {
            "marker": {
             "colorbar": {
              "outlinewidth": 0,
              "ticks": ""
             }
            },
            "type": "scattercarpet"
           }
          ],
          "scattergeo": [
           {
            "marker": {
             "colorbar": {
              "outlinewidth": 0,
              "ticks": ""
             }
            },
            "type": "scattergeo"
           }
          ],
          "scattergl": [
           {
            "marker": {
             "colorbar": {
              "outlinewidth": 0,
              "ticks": ""
             }
            },
            "type": "scattergl"
           }
          ],
          "scattermapbox": [
           {
            "marker": {
             "colorbar": {
              "outlinewidth": 0,
              "ticks": ""
             }
            },
            "type": "scattermapbox"
           }
          ],
          "scatterpolar": [
           {
            "marker": {
             "colorbar": {
              "outlinewidth": 0,
              "ticks": ""
             }
            },
            "type": "scatterpolar"
           }
          ],
          "scatterpolargl": [
           {
            "marker": {
             "colorbar": {
              "outlinewidth": 0,
              "ticks": ""
             }
            },
            "type": "scatterpolargl"
           }
          ],
          "scatterternary": [
           {
            "marker": {
             "colorbar": {
              "outlinewidth": 0,
              "ticks": ""
             }
            },
            "type": "scatterternary"
           }
          ],
          "surface": [
           {
            "colorbar": {
             "outlinewidth": 0,
             "ticks": ""
            },
            "colorscale": [
             [
              0,
              "#0d0887"
             ],
             [
              0.1111111111111111,
              "#46039f"
             ],
             [
              0.2222222222222222,
              "#7201a8"
             ],
             [
              0.3333333333333333,
              "#9c179e"
             ],
             [
              0.4444444444444444,
              "#bd3786"
             ],
             [
              0.5555555555555556,
              "#d8576b"
             ],
             [
              0.6666666666666666,
              "#ed7953"
             ],
             [
              0.7777777777777778,
              "#fb9f3a"
             ],
             [
              0.8888888888888888,
              "#fdca26"
             ],
             [
              1,
              "#f0f921"
             ]
            ],
            "type": "surface"
           }
          ],
          "table": [
           {
            "cells": {
             "fill": {
              "color": "#EBF0F8"
             },
             "line": {
              "color": "white"
             }
            },
            "header": {
             "fill": {
              "color": "#C8D4E3"
             },
             "line": {
              "color": "white"
             }
            },
            "type": "table"
           }
          ]
         },
         "layout": {
          "annotationdefaults": {
           "arrowcolor": "#2a3f5f",
           "arrowhead": 0,
           "arrowwidth": 1
          },
          "coloraxis": {
           "colorbar": {
            "outlinewidth": 0,
            "ticks": ""
           }
          },
          "colorscale": {
           "diverging": [
            [
             0,
             "#8e0152"
            ],
            [
             0.1,
             "#c51b7d"
            ],
            [
             0.2,
             "#de77ae"
            ],
            [
             0.3,
             "#f1b6da"
            ],
            [
             0.4,
             "#fde0ef"
            ],
            [
             0.5,
             "#f7f7f7"
            ],
            [
             0.6,
             "#e6f5d0"
            ],
            [
             0.7,
             "#b8e186"
            ],
            [
             0.8,
             "#7fbc41"
            ],
            [
             0.9,
             "#4d9221"
            ],
            [
             1,
             "#276419"
            ]
           ],
           "sequential": [
            [
             0,
             "#0d0887"
            ],
            [
             0.1111111111111111,
             "#46039f"
            ],
            [
             0.2222222222222222,
             "#7201a8"
            ],
            [
             0.3333333333333333,
             "#9c179e"
            ],
            [
             0.4444444444444444,
             "#bd3786"
            ],
            [
             0.5555555555555556,
             "#d8576b"
            ],
            [
             0.6666666666666666,
             "#ed7953"
            ],
            [
             0.7777777777777778,
             "#fb9f3a"
            ],
            [
             0.8888888888888888,
             "#fdca26"
            ],
            [
             1,
             "#f0f921"
            ]
           ],
           "sequentialminus": [
            [
             0,
             "#0d0887"
            ],
            [
             0.1111111111111111,
             "#46039f"
            ],
            [
             0.2222222222222222,
             "#7201a8"
            ],
            [
             0.3333333333333333,
             "#9c179e"
            ],
            [
             0.4444444444444444,
             "#bd3786"
            ],
            [
             0.5555555555555556,
             "#d8576b"
            ],
            [
             0.6666666666666666,
             "#ed7953"
            ],
            [
             0.7777777777777778,
             "#fb9f3a"
            ],
            [
             0.8888888888888888,
             "#fdca26"
            ],
            [
             1,
             "#f0f921"
            ]
           ]
          },
          "colorway": [
           "#636efa",
           "#EF553B",
           "#00cc96",
           "#ab63fa",
           "#FFA15A",
           "#19d3f3",
           "#FF6692",
           "#B6E880",
           "#FF97FF",
           "#FECB52"
          ],
          "font": {
           "color": "#2a3f5f"
          },
          "geo": {
           "bgcolor": "white",
           "lakecolor": "white",
           "landcolor": "#E5ECF6",
           "showlakes": true,
           "showland": true,
           "subunitcolor": "white"
          },
          "hoverlabel": {
           "align": "left"
          },
          "hovermode": "closest",
          "mapbox": {
           "style": "light"
          },
          "paper_bgcolor": "white",
          "plot_bgcolor": "#E5ECF6",
          "polar": {
           "angularaxis": {
            "gridcolor": "white",
            "linecolor": "white",
            "ticks": ""
           },
           "bgcolor": "#E5ECF6",
           "radialaxis": {
            "gridcolor": "white",
            "linecolor": "white",
            "ticks": ""
           }
          },
          "scene": {
           "xaxis": {
            "backgroundcolor": "#E5ECF6",
            "gridcolor": "white",
            "gridwidth": 2,
            "linecolor": "white",
            "showbackground": true,
            "ticks": "",
            "zerolinecolor": "white"
           },
           "yaxis": {
            "backgroundcolor": "#E5ECF6",
            "gridcolor": "white",
            "gridwidth": 2,
            "linecolor": "white",
            "showbackground": true,
            "ticks": "",
            "zerolinecolor": "white"
           },
           "zaxis": {
            "backgroundcolor": "#E5ECF6",
            "gridcolor": "white",
            "gridwidth": 2,
            "linecolor": "white",
            "showbackground": true,
            "ticks": "",
            "zerolinecolor": "white"
           }
          },
          "shapedefaults": {
           "line": {
            "color": "#2a3f5f"
           }
          },
          "ternary": {
           "aaxis": {
            "gridcolor": "white",
            "linecolor": "white",
            "ticks": ""
           },
           "baxis": {
            "gridcolor": "white",
            "linecolor": "white",
            "ticks": ""
           },
           "bgcolor": "#E5ECF6",
           "caxis": {
            "gridcolor": "white",
            "linecolor": "white",
            "ticks": ""
           }
          },
          "title": {
           "x": 0.05
          },
          "xaxis": {
           "automargin": true,
           "gridcolor": "white",
           "linecolor": "white",
           "ticks": "",
           "title": {
            "standoff": 15
           },
           "zerolinecolor": "white",
           "zerolinewidth": 2
          },
          "yaxis": {
           "automargin": true,
           "gridcolor": "white",
           "linecolor": "white",
           "ticks": "",
           "title": {
            "standoff": 15
           },
           "zerolinecolor": "white",
           "zerolinewidth": 2
          }
         }
        },
        "title": {
         "font": {
          "color": "#4D5663"
         }
        },
        "xaxis": {
         "gridcolor": "#E1E5ED",
         "showgrid": true,
         "tickfont": {
          "color": "#4D5663"
         },
         "title": {
          "font": {
           "color": "#4D5663"
          },
          "text": ""
         },
         "zerolinecolor": "#E1E5ED"
        },
        "yaxis": {
         "gridcolor": "#E1E5ED",
         "showgrid": true,
         "tickfont": {
          "color": "#4D5663"
         },
         "title": {
          "font": {
           "color": "#4D5663"
          },
          "text": ""
         },
         "zerolinecolor": "#E1E5ED"
        }
       }
      },
      "text/html": [
       "<div>\n",
       "        \n",
       "        \n",
       "            <div id=\"5190bbce-bc03-4c45-ac64-eadc4aa8d81c\" class=\"plotly-graph-div\" style=\"height:525px; width:100%;\"></div>\n",
       "            <script type=\"text/javascript\">\n",
       "                require([\"plotly\"], function(Plotly) {\n",
       "                    window.PLOTLYENV=window.PLOTLYENV || {};\n",
       "                    window.PLOTLYENV.BASE_URL='https://plot.ly';\n",
       "                    \n",
       "                if (document.getElementById(\"5190bbce-bc03-4c45-ac64-eadc4aa8d81c\")) {\n",
       "                    Plotly.newPlot(\n",
       "                        '5190bbce-bc03-4c45-ac64-eadc4aa8d81c',\n",
       "                        [{\"marker\": {\"color\": \"rgba(255, 153, 51, 0.6)\", \"line\": {\"color\": \"rgba(255, 153, 51, 1.0)\", \"width\": 1}}, \"name\": \"None\", \"orientation\": \"v\", \"text\": \"\", \"type\": \"bar\", \"x\": [\"A\", \"B\", \"C\", \"D\"], \"y\": [100, 100, 100, 100]}],\n",
       "                        {\"legend\": {\"bgcolor\": \"#F5F6F9\", \"font\": {\"color\": \"#4D5663\"}}, \"paper_bgcolor\": \"#F5F6F9\", \"plot_bgcolor\": \"#F5F6F9\", \"template\": {\"data\": {\"bar\": [{\"error_x\": {\"color\": \"#2a3f5f\"}, \"error_y\": {\"color\": \"#2a3f5f\"}, \"marker\": {\"line\": {\"color\": \"#E5ECF6\", \"width\": 0.5}}, \"type\": \"bar\"}], \"barpolar\": [{\"marker\": {\"line\": {\"color\": \"#E5ECF6\", \"width\": 0.5}}, \"type\": \"barpolar\"}], \"carpet\": [{\"aaxis\": {\"endlinecolor\": \"#2a3f5f\", \"gridcolor\": \"white\", \"linecolor\": \"white\", \"minorgridcolor\": \"white\", \"startlinecolor\": \"#2a3f5f\"}, \"baxis\": {\"endlinecolor\": \"#2a3f5f\", \"gridcolor\": \"white\", \"linecolor\": \"white\", \"minorgridcolor\": \"white\", \"startlinecolor\": \"#2a3f5f\"}, \"type\": \"carpet\"}], \"choropleth\": [{\"colorbar\": {\"outlinewidth\": 0, \"ticks\": \"\"}, \"type\": \"choropleth\"}], \"contour\": [{\"colorbar\": {\"outlinewidth\": 0, \"ticks\": \"\"}, \"colorscale\": [[0.0, \"#0d0887\"], [0.1111111111111111, \"#46039f\"], [0.2222222222222222, \"#7201a8\"], [0.3333333333333333, \"#9c179e\"], [0.4444444444444444, \"#bd3786\"], [0.5555555555555556, \"#d8576b\"], [0.6666666666666666, \"#ed7953\"], [0.7777777777777778, \"#fb9f3a\"], [0.8888888888888888, \"#fdca26\"], [1.0, \"#f0f921\"]], \"type\": \"contour\"}], \"contourcarpet\": [{\"colorbar\": {\"outlinewidth\": 0, \"ticks\": \"\"}, \"type\": \"contourcarpet\"}], \"heatmap\": [{\"colorbar\": {\"outlinewidth\": 0, \"ticks\": \"\"}, \"colorscale\": [[0.0, \"#0d0887\"], [0.1111111111111111, \"#46039f\"], [0.2222222222222222, \"#7201a8\"], [0.3333333333333333, \"#9c179e\"], [0.4444444444444444, \"#bd3786\"], [0.5555555555555556, \"#d8576b\"], [0.6666666666666666, \"#ed7953\"], [0.7777777777777778, \"#fb9f3a\"], [0.8888888888888888, \"#fdca26\"], [1.0, \"#f0f921\"]], \"type\": \"heatmap\"}], \"heatmapgl\": [{\"colorbar\": {\"outlinewidth\": 0, \"ticks\": \"\"}, \"colorscale\": [[0.0, \"#0d0887\"], [0.1111111111111111, \"#46039f\"], [0.2222222222222222, \"#7201a8\"], [0.3333333333333333, \"#9c179e\"], [0.4444444444444444, \"#bd3786\"], [0.5555555555555556, \"#d8576b\"], [0.6666666666666666, \"#ed7953\"], [0.7777777777777778, \"#fb9f3a\"], [0.8888888888888888, \"#fdca26\"], [1.0, \"#f0f921\"]], \"type\": \"heatmapgl\"}], \"histogram\": [{\"marker\": {\"colorbar\": {\"outlinewidth\": 0, \"ticks\": \"\"}}, \"type\": \"histogram\"}], \"histogram2d\": [{\"colorbar\": {\"outlinewidth\": 0, \"ticks\": \"\"}, \"colorscale\": [[0.0, \"#0d0887\"], [0.1111111111111111, \"#46039f\"], [0.2222222222222222, \"#7201a8\"], [0.3333333333333333, \"#9c179e\"], [0.4444444444444444, \"#bd3786\"], [0.5555555555555556, \"#d8576b\"], [0.6666666666666666, \"#ed7953\"], [0.7777777777777778, \"#fb9f3a\"], [0.8888888888888888, \"#fdca26\"], [1.0, \"#f0f921\"]], \"type\": \"histogram2d\"}], \"histogram2dcontour\": [{\"colorbar\": {\"outlinewidth\": 0, \"ticks\": \"\"}, \"colorscale\": [[0.0, \"#0d0887\"], [0.1111111111111111, \"#46039f\"], [0.2222222222222222, \"#7201a8\"], [0.3333333333333333, \"#9c179e\"], [0.4444444444444444, \"#bd3786\"], [0.5555555555555556, \"#d8576b\"], [0.6666666666666666, \"#ed7953\"], [0.7777777777777778, \"#fb9f3a\"], [0.8888888888888888, \"#fdca26\"], [1.0, \"#f0f921\"]], \"type\": \"histogram2dcontour\"}], \"mesh3d\": [{\"colorbar\": {\"outlinewidth\": 0, \"ticks\": \"\"}, \"type\": \"mesh3d\"}], \"parcoords\": [{\"line\": {\"colorbar\": {\"outlinewidth\": 0, \"ticks\": \"\"}}, \"type\": \"parcoords\"}], \"pie\": [{\"automargin\": true, \"type\": \"pie\"}], \"scatter\": [{\"marker\": {\"colorbar\": {\"outlinewidth\": 0, \"ticks\": \"\"}}, \"type\": \"scatter\"}], \"scatter3d\": [{\"line\": {\"colorbar\": {\"outlinewidth\": 0, \"ticks\": \"\"}}, \"marker\": {\"colorbar\": {\"outlinewidth\": 0, \"ticks\": \"\"}}, \"type\": \"scatter3d\"}], \"scattercarpet\": [{\"marker\": {\"colorbar\": {\"outlinewidth\": 0, \"ticks\": \"\"}}, \"type\": \"scattercarpet\"}], \"scattergeo\": [{\"marker\": {\"colorbar\": {\"outlinewidth\": 0, \"ticks\": \"\"}}, \"type\": \"scattergeo\"}], \"scattergl\": [{\"marker\": {\"colorbar\": {\"outlinewidth\": 0, \"ticks\": \"\"}}, \"type\": \"scattergl\"}], \"scattermapbox\": [{\"marker\": {\"colorbar\": {\"outlinewidth\": 0, \"ticks\": \"\"}}, \"type\": \"scattermapbox\"}], \"scatterpolar\": [{\"marker\": {\"colorbar\": {\"outlinewidth\": 0, \"ticks\": \"\"}}, \"type\": \"scatterpolar\"}], \"scatterpolargl\": [{\"marker\": {\"colorbar\": {\"outlinewidth\": 0, \"ticks\": \"\"}}, \"type\": \"scatterpolargl\"}], \"scatterternary\": [{\"marker\": {\"colorbar\": {\"outlinewidth\": 0, \"ticks\": \"\"}}, \"type\": \"scatterternary\"}], \"surface\": [{\"colorbar\": {\"outlinewidth\": 0, \"ticks\": \"\"}, \"colorscale\": [[0.0, \"#0d0887\"], [0.1111111111111111, \"#46039f\"], [0.2222222222222222, \"#7201a8\"], [0.3333333333333333, \"#9c179e\"], [0.4444444444444444, \"#bd3786\"], [0.5555555555555556, \"#d8576b\"], [0.6666666666666666, \"#ed7953\"], [0.7777777777777778, \"#fb9f3a\"], [0.8888888888888888, \"#fdca26\"], [1.0, \"#f0f921\"]], \"type\": \"surface\"}], \"table\": [{\"cells\": {\"fill\": {\"color\": \"#EBF0F8\"}, \"line\": {\"color\": \"white\"}}, \"header\": {\"fill\": {\"color\": \"#C8D4E3\"}, \"line\": {\"color\": \"white\"}}, \"type\": \"table\"}]}, \"layout\": {\"annotationdefaults\": {\"arrowcolor\": \"#2a3f5f\", \"arrowhead\": 0, \"arrowwidth\": 1}, \"coloraxis\": {\"colorbar\": {\"outlinewidth\": 0, \"ticks\": \"\"}}, \"colorscale\": {\"diverging\": [[0, \"#8e0152\"], [0.1, \"#c51b7d\"], [0.2, \"#de77ae\"], [0.3, \"#f1b6da\"], [0.4, \"#fde0ef\"], [0.5, \"#f7f7f7\"], [0.6, \"#e6f5d0\"], [0.7, \"#b8e186\"], [0.8, \"#7fbc41\"], [0.9, \"#4d9221\"], [1, \"#276419\"]], \"sequential\": [[0.0, \"#0d0887\"], [0.1111111111111111, \"#46039f\"], [0.2222222222222222, \"#7201a8\"], [0.3333333333333333, \"#9c179e\"], [0.4444444444444444, \"#bd3786\"], [0.5555555555555556, \"#d8576b\"], [0.6666666666666666, \"#ed7953\"], [0.7777777777777778, \"#fb9f3a\"], [0.8888888888888888, \"#fdca26\"], [1.0, \"#f0f921\"]], \"sequentialminus\": [[0.0, \"#0d0887\"], [0.1111111111111111, \"#46039f\"], [0.2222222222222222, \"#7201a8\"], [0.3333333333333333, \"#9c179e\"], [0.4444444444444444, \"#bd3786\"], [0.5555555555555556, \"#d8576b\"], [0.6666666666666666, \"#ed7953\"], [0.7777777777777778, \"#fb9f3a\"], [0.8888888888888888, \"#fdca26\"], [1.0, \"#f0f921\"]]}, \"colorway\": [\"#636efa\", \"#EF553B\", \"#00cc96\", \"#ab63fa\", \"#FFA15A\", \"#19d3f3\", \"#FF6692\", \"#B6E880\", \"#FF97FF\", \"#FECB52\"], \"font\": {\"color\": \"#2a3f5f\"}, \"geo\": {\"bgcolor\": \"white\", \"lakecolor\": \"white\", \"landcolor\": \"#E5ECF6\", \"showlakes\": true, \"showland\": true, \"subunitcolor\": \"white\"}, \"hoverlabel\": {\"align\": \"left\"}, \"hovermode\": \"closest\", \"mapbox\": {\"style\": \"light\"}, \"paper_bgcolor\": \"white\", \"plot_bgcolor\": \"#E5ECF6\", \"polar\": {\"angularaxis\": {\"gridcolor\": \"white\", \"linecolor\": \"white\", \"ticks\": \"\"}, \"bgcolor\": \"#E5ECF6\", \"radialaxis\": {\"gridcolor\": \"white\", \"linecolor\": \"white\", \"ticks\": \"\"}}, \"scene\": {\"xaxis\": {\"backgroundcolor\": \"#E5ECF6\", \"gridcolor\": \"white\", \"gridwidth\": 2, \"linecolor\": \"white\", \"showbackground\": true, \"ticks\": \"\", \"zerolinecolor\": \"white\"}, \"yaxis\": {\"backgroundcolor\": \"#E5ECF6\", \"gridcolor\": \"white\", \"gridwidth\": 2, \"linecolor\": \"white\", \"showbackground\": true, \"ticks\": \"\", \"zerolinecolor\": \"white\"}, \"zaxis\": {\"backgroundcolor\": \"#E5ECF6\", \"gridcolor\": \"white\", \"gridwidth\": 2, \"linecolor\": \"white\", \"showbackground\": true, \"ticks\": \"\", \"zerolinecolor\": \"white\"}}, \"shapedefaults\": {\"line\": {\"color\": \"#2a3f5f\"}}, \"ternary\": {\"aaxis\": {\"gridcolor\": \"white\", \"linecolor\": \"white\", \"ticks\": \"\"}, \"baxis\": {\"gridcolor\": \"white\", \"linecolor\": \"white\", \"ticks\": \"\"}, \"bgcolor\": \"#E5ECF6\", \"caxis\": {\"gridcolor\": \"white\", \"linecolor\": \"white\", \"ticks\": \"\"}}, \"title\": {\"x\": 0.05}, \"xaxis\": {\"automargin\": true, \"gridcolor\": \"white\", \"linecolor\": \"white\", \"ticks\": \"\", \"title\": {\"standoff\": 15}, \"zerolinecolor\": \"white\", \"zerolinewidth\": 2}, \"yaxis\": {\"automargin\": true, \"gridcolor\": \"white\", \"linecolor\": \"white\", \"ticks\": \"\", \"title\": {\"standoff\": 15}, \"zerolinecolor\": \"white\", \"zerolinewidth\": 2}}}, \"title\": {\"font\": {\"color\": \"#4D5663\"}}, \"xaxis\": {\"gridcolor\": \"#E1E5ED\", \"showgrid\": true, \"tickfont\": {\"color\": \"#4D5663\"}, \"title\": {\"font\": {\"color\": \"#4D5663\"}, \"text\": \"\"}, \"zerolinecolor\": \"#E1E5ED\"}, \"yaxis\": {\"gridcolor\": \"#E1E5ED\", \"showgrid\": true, \"tickfont\": {\"color\": \"#4D5663\"}, \"title\": {\"font\": {\"color\": \"#4D5663\"}, \"text\": \"\"}, \"zerolinecolor\": \"#E1E5ED\"}},\n",
       "                        {\"showLink\": true, \"linkText\": \"Export to plot.ly\", \"plotlyServerURL\": \"https://plot.ly\", \"responsive\": true}\n",
       "                    ).then(function(){\n",
       "                            \n",
       "var gd = document.getElementById('5190bbce-bc03-4c45-ac64-eadc4aa8d81c');\n",
       "var x = new MutationObserver(function (mutations, observer) {{\n",
       "        var display = window.getComputedStyle(gd).display;\n",
       "        if (!display || display === 'none') {{\n",
       "            console.log([gd, 'removed!']);\n",
       "            Plotly.purge(gd);\n",
       "            observer.disconnect();\n",
       "        }}\n",
       "}});\n",
       "\n",
       "// Listen for the removal of the full notebook cells\n",
       "var notebookContainer = gd.closest('#notebook-container');\n",
       "if (notebookContainer) {{\n",
       "    x.observe(notebookContainer, {childList: true});\n",
       "}}\n",
       "\n",
       "// Listen for the clearing of the current output cell\n",
       "var outputEl = gd.closest('.output');\n",
       "if (outputEl) {{\n",
       "    x.observe(outputEl, {childList: true});\n",
       "}}\n",
       "\n",
       "                        })\n",
       "                };\n",
       "                });\n",
       "            </script>\n",
       "        </div>"
      ]
     },
     "metadata": {},
     "output_type": "display_data"
    }
   ],
   "source": [
    "df.count().iplot(kind='bar')"
   ]
  },
  {
   "cell_type": "markdown",
   "metadata": {},
   "source": [
    "## Boxplots"
   ]
  },
  {
   "cell_type": "code",
   "execution_count": 15,
   "metadata": {},
   "outputs": [
    {
     "data": {
      "application/vnd.plotly.v1+json": {
       "config": {
        "linkText": "Export to plot.ly",
        "plotlyServerURL": "https://plot.ly",
        "showLink": true
       },
       "data": [
        {
         "boxpoints": false,
         "line": {
          "width": 1.3
         },
         "marker": {
          "color": "rgba(255, 153, 51, 1.0)"
         },
         "name": "A",
         "orientation": "v",
         "type": "box",
         "y": [
          0.3696420558197603,
          0.5253992122905893,
          -1.037046991780036,
          0.24758500485110949,
          -1.8474714207170502,
          1.3011206429284472,
          -0.9335639569440436,
          0.7693596664680276,
          -0.7354420564182146,
          -0.3897801777723191,
          -0.5361110290279926,
          -0.11335978345336128,
          0.5034703014821329,
          0.6862383833141485,
          -0.998068344328191,
          -1.0158631125325421,
          0.004348380037364213,
          0.41957675079592427,
          2.301491454423374,
          1.4561157709628787,
          -0.39543442769501835,
          -2.9977343866583146,
          0.4606828596039337,
          0.4125115418393969,
          -1.6772472028110024,
          0.4847284875647718,
          0.13514321173399585,
          -0.8501933743837765,
          0.7661903176591959,
          0.2556084067919436,
          1.2092208938314986,
          -0.9641519723820355,
          -0.4929362943760437,
          0.28872133688964635,
          -0.9942239232924204,
          -0.17732241365179743,
          -1.167011992737201,
          -0.02479701877713464,
          -1.3437385112074935,
          -0.13425512337211468,
          -1.1387426056206769,
          -0.152654355616287,
          -0.20396279915057616,
          -1.09589281461307,
          -1.8186866319970554,
          -1.419713115103019,
          1.1238921197556309,
          -0.25238924820713565,
          0.8003631231624078,
          1.510325015083661,
          0.15693663155427395,
          -1.7131257418818993,
          -0.73964880933293,
          -0.9491578573939075,
          -0.030022804907188512,
          1.1710417549444856,
          0.12729687189798403,
          -0.005807129205971171,
          -0.028565868349607577,
          -0.4819911680944219,
          -1.518892135299185,
          -0.576390236024212,
          0.36059632276433357,
          -0.12057217071166919,
          0.15762625193431426,
          0.06810068428376627,
          0.6367262505638114,
          -2.1102698964980773,
          -0.7082699504905734,
          -0.2941154121319468,
          0.126635294372914,
          -0.40570278219914246,
          0.35808490553594086,
          -1.0342876768719167,
          -1.1947571676836943,
          0.5541810575018407,
          1.5133993382594308,
          -0.9003410000358811,
          -0.8560779010303979,
          2.030211579966576,
          0.582959641868816,
          0.8494972234950936,
          1.1581283542388061,
          0.6879489752136857,
          -0.8493140319400361,
          -0.6133085997176515,
          -0.2850937172340025,
          -0.9857890053489234,
          -0.09162341605494383,
          -1.0244112466360455,
          1.393245285512462,
          0.03430148884087417,
          0.37283225888140187,
          0.1487104846347837,
          -1.256860203558932,
          0.3464741711743709,
          -0.31822087540002797,
          1.384161939100568,
          0.060376550504078835,
          -1.5736730924838451
         ]
        },
        {
         "boxpoints": false,
         "line": {
          "width": 1.3
         },
         "marker": {
          "color": "rgba(55, 128, 191, 1.0)"
         },
         "name": "B",
         "orientation": "v",
         "type": "box",
         "y": [
          1.8544854469766379,
          0.7836177074308012,
          -0.7023952067731887,
          -1.6590009035343811,
          0.5368017098635539,
          -0.3523782119696855,
          0.16226175563893364,
          0.7264061191098,
          -1.2499210848417084,
          0.1929954220383031,
          -0.21386919859532105,
          -0.29271630353287986,
          -0.6611903651266722,
          0.744638175086269,
          0.2040438468422435,
          0.8584320617049238,
          0.850452155003359,
          -1.3659953542696026,
          -0.05578684509734393,
          0.6323620787780885,
          0.2837188925661103,
          -0.30468203874642236,
          -2.8251949591332033,
          0.34430547180085386,
          -0.9974663044329387,
          1.0962755508149857,
          -1.7792529363166523,
          1.1933040966037836,
          0.07152250341734986,
          -0.36871156263976,
          0.4574508446904451,
          -1.75587070274968,
          -1.59898164109928,
          -1.6860266836224718,
          -0.3277867055238577,
          -1.3629489107165276,
          1.0412266116381714,
          0.7179155165752484,
          1.6930515185472383,
          1.289448459481413,
          0.30362087590713316,
          -2.1528501300606946,
          -1.0134696144934496,
          -0.15636623271294586,
          0.8380139710009594,
          0.5579228915062908,
          0.5368016312120132,
          -0.5078470766397161,
          -0.845020274882293,
          -0.5032619357012125,
          0.09063142724378265,
          1.3230502586330954,
          0.605470890269384,
          -1.4491029065733194,
          1.5350799697628166,
          -0.4887321951171857,
          -1.9780210133324072,
          -0.09137475763597733,
          -0.7403203584012117,
          0.7224915860473682,
          0.7062391710651873,
          0.2012465686323864,
          -1.418854798097011,
          -1.8166350247694463,
          -1.1893933087052846,
          1.6008006185133081,
          -1.3828919131099306,
          -0.3939760308123558,
          -0.8518355622060666,
          -0.792128482209907,
          1.3826855098314517,
          0.19896340055223444,
          -0.23145050018903338,
          -0.47964419762986166,
          -0.44283720384580877,
          0.2975083383573253,
          -1.0702080056630172,
          0.3714803864386964,
          -1.7713799252108353,
          -0.05361606457323116,
          1.2773542153545079,
          1.130147907205399,
          0.672508729528042,
          -0.04422356786938887,
          0.06591820760695383,
          0.8657351394759569,
          -1.149166652831269,
          1.2801278124161366,
          0.7053245114339901,
          -0.6450090266750952,
          0.22479835435854695,
          -1.5687383321523662,
          -1.6711767415185925,
          0.18688677530668604,
          0.4801646737727269,
          1.27730447068291,
          1.5312853572122618,
          -0.003243945845103304,
          0.31545108378705483,
          0.8001980688130594
         ]
        },
        {
         "boxpoints": false,
         "line": {
          "width": 1.3
         },
         "marker": {
          "color": "rgba(50, 171, 96, 1.0)"
         },
         "name": "C",
         "orientation": "v",
         "type": "box",
         "y": [
          0.2252777989016697,
          0.8623018188802899,
          -1.416244250131065,
          0.32934869741646344,
          0.1267464715656397,
          0.06936779668551181,
          -0.8963800303599142,
          0.15802245926053307,
          1.134220418943405,
          1.4859243642201287,
          0.31410460046414307,
          -1.6317416932347404,
          -1.3468425919919842,
          -1.5377259965021013,
          0.44803968693652124,
          -0.6087749895529724,
          -0.08444755271745026,
          -0.41543239452665953,
          -0.31077567466336165,
          1.04630994845296,
          -1.3069377157747348,
          0.766032531840848,
          0.5780460097088275,
          -0.21423604833369836,
          0.0036132856858055065,
          -0.8155164372988873,
          0.05986444467837653,
          -1.9721889963414336,
          -2.078555799505978,
          1.264205459685189,
          -0.09286916292385433,
          0.37241483042135864,
          -0.4520027989707978,
          -0.06359946668577694,
          0.40414748288786745,
          -1.42310455279087,
          0.3761060108893962,
          0.6216497343796945,
          0.18867118091163326,
          0.23902421149124484,
          -1.0410009754896765,
          0.9718313088708687,
          0.034362973196359586,
          1.9488270240884749,
          -0.13331917111915575,
          1.4608434457954884,
          -0.08665151619432472,
          0.02926781149662285,
          -1.8004195748741825,
          1.6289742337704256,
          1.3582535172023908,
          -0.8454881168555592,
          0.6093724484063817,
          1.9344597807372632,
          0.35797359496683784,
          -0.41599786611177764,
          -0.9050470296676526,
          1.4043251327454243,
          0.20857840336780592,
          2.0939476995372703,
          1.0497898426386931,
          1.4265064707668738,
          -1.143234964880385,
          2.309302086953698,
          2.0259289469994974,
          1.3659821749542929,
          -0.9407940552553328,
          -2.6219766910310476,
          -1.1426882136155434,
          -3.094999628250353,
          1.0056417745869357,
          0.39868504276673516,
          -0.046072701239227326,
          0.7586484947069092,
          0.5899860404075996,
          -0.3124991992480441,
          -0.5316162521241473,
          -0.31137328734129294,
          0.9020306003109113,
          0.8632424005893286,
          1.0047379483834622,
          0.8134640423609348,
          -0.4708781972522541,
          -1.6428143904942887,
          0.30678393518761216,
          0.2219842518238527,
          -0.012729532903647525,
          -2.6622374787543466,
          0.7426211522876416,
          -1.3176793616791336,
          0.03755321857630146,
          -0.10962231677693532,
          1.5790362314396678,
          1.4562306481619405,
          -1.0726071087385978,
          -2.4404905382187,
          0.4434881014433977,
          -1.8094225526189711,
          -1.391051306056638,
          1.2849228240434347
         ]
        },
        {
         "boxpoints": false,
         "line": {
          "width": 1.3
         },
         "marker": {
          "color": "rgba(128, 0, 128, 1.0)"
         },
         "name": "D",
         "orientation": "v",
         "type": "box",
         "y": [
          -1.5034959600232376,
          -0.5002545536406926,
          0.28038963892268925,
          0.6436157976651309,
          -0.32678525058336144,
          2.2480455302993954,
          -0.10212614541672001,
          -0.3753141106509515,
          -0.09137779587221577,
          2.806316180226526,
          -1.0696001667407682,
          -0.8198791828551726,
          -0.48954253559546135,
          -0.4855260402785763,
          0.41740420839716347,
          0.04750503769818647,
          -0.7647964360611823,
          -1.411902116190576,
          1.76243350565496,
          -1.5380351291216554,
          0.4753809754519136,
          -0.8594523204412604,
          -1.8534272922723198,
          -0.02493962626163329,
          0.9286975747515848,
          -1.7976611239698812,
          1.5949445899324757,
          0.24349753016633013,
          0.4076981943292706,
          0.16867933305942437,
          -0.09072844291781407,
          0.9478168842520501,
          0.17999577841047074,
          -0.7508565155229779,
          -1.481340630988663,
          -2.464520025940437,
          0.6434431949145675,
          -1.3761376024818746,
          0.3468809070623607,
          -1.5764148071761146,
          -0.8436372667516829,
          -1.0300202683908892,
          0.626443122495951,
          1.3228318464001843,
          2.8332868930935673,
          0.05274994978958885,
          0.18967361347084327,
          0.9578411548794024,
          -0.7079610590083915,
          -0.9682769868480765,
          1.0864687928058199,
          -0.23982121319770938,
          0.43604123853449805,
          -2.076366837148839,
          0.001923451586291724,
          1.754416018047518,
          0.16836066340273206,
          2.158078850342077,
          -0.05922530625313715,
          0.39488763101367946,
          -0.9021924044536117,
          0.22894884857403328,
          -0.40663035035742795,
          -1.3770822654520178,
          -0.12048346955566772,
          1.0761634563359206,
          -1.0707400073825306,
          0.7429681963356116,
          -0.24613470003158003,
          1.1582696382477444,
          -0.5012082480432763,
          1.8268859083182867,
          0.9603431670287832,
          -0.8197939109913333,
          0.12123473658574371,
          1.4465456172542097,
          0.9657067653768596,
          1.0466074677604935,
          -0.10324403695845281,
          -1.2168298340103647,
          1.185780411258566,
          -0.27251029278709726,
          -0.40756724742538614,
          0.005248339557275319,
          0.5578637899562472,
          0.6038168533560826,
          0.7002552066325827,
          -1.3098700315350242,
          1.3267048265141386,
          -0.5927916193949495,
          0.05118912541609895,
          -1.2211986610627326,
          0.23207065415443653,
          0.7511052993502152,
          1.003248932950057,
          0.24431493409781493,
          -0.1342578021851783,
          0.09554071996329187,
          -0.7154397211038919,
          -0.7617484585937415
         ]
        }
       ],
       "layout": {
        "legend": {
         "bgcolor": "#F5F6F9",
         "font": {
          "color": "#4D5663"
         }
        },
        "paper_bgcolor": "#F5F6F9",
        "plot_bgcolor": "#F5F6F9",
        "template": {
         "data": {
          "bar": [
           {
            "error_x": {
             "color": "#2a3f5f"
            },
            "error_y": {
             "color": "#2a3f5f"
            },
            "marker": {
             "line": {
              "color": "#E5ECF6",
              "width": 0.5
             }
            },
            "type": "bar"
           }
          ],
          "barpolar": [
           {
            "marker": {
             "line": {
              "color": "#E5ECF6",
              "width": 0.5
             }
            },
            "type": "barpolar"
           }
          ],
          "carpet": [
           {
            "aaxis": {
             "endlinecolor": "#2a3f5f",
             "gridcolor": "white",
             "linecolor": "white",
             "minorgridcolor": "white",
             "startlinecolor": "#2a3f5f"
            },
            "baxis": {
             "endlinecolor": "#2a3f5f",
             "gridcolor": "white",
             "linecolor": "white",
             "minorgridcolor": "white",
             "startlinecolor": "#2a3f5f"
            },
            "type": "carpet"
           }
          ],
          "choropleth": [
           {
            "colorbar": {
             "outlinewidth": 0,
             "ticks": ""
            },
            "type": "choropleth"
           }
          ],
          "contour": [
           {
            "colorbar": {
             "outlinewidth": 0,
             "ticks": ""
            },
            "colorscale": [
             [
              0,
              "#0d0887"
             ],
             [
              0.1111111111111111,
              "#46039f"
             ],
             [
              0.2222222222222222,
              "#7201a8"
             ],
             [
              0.3333333333333333,
              "#9c179e"
             ],
             [
              0.4444444444444444,
              "#bd3786"
             ],
             [
              0.5555555555555556,
              "#d8576b"
             ],
             [
              0.6666666666666666,
              "#ed7953"
             ],
             [
              0.7777777777777778,
              "#fb9f3a"
             ],
             [
              0.8888888888888888,
              "#fdca26"
             ],
             [
              1,
              "#f0f921"
             ]
            ],
            "type": "contour"
           }
          ],
          "contourcarpet": [
           {
            "colorbar": {
             "outlinewidth": 0,
             "ticks": ""
            },
            "type": "contourcarpet"
           }
          ],
          "heatmap": [
           {
            "colorbar": {
             "outlinewidth": 0,
             "ticks": ""
            },
            "colorscale": [
             [
              0,
              "#0d0887"
             ],
             [
              0.1111111111111111,
              "#46039f"
             ],
             [
              0.2222222222222222,
              "#7201a8"
             ],
             [
              0.3333333333333333,
              "#9c179e"
             ],
             [
              0.4444444444444444,
              "#bd3786"
             ],
             [
              0.5555555555555556,
              "#d8576b"
             ],
             [
              0.6666666666666666,
              "#ed7953"
             ],
             [
              0.7777777777777778,
              "#fb9f3a"
             ],
             [
              0.8888888888888888,
              "#fdca26"
             ],
             [
              1,
              "#f0f921"
             ]
            ],
            "type": "heatmap"
           }
          ],
          "heatmapgl": [
           {
            "colorbar": {
             "outlinewidth": 0,
             "ticks": ""
            },
            "colorscale": [
             [
              0,
              "#0d0887"
             ],
             [
              0.1111111111111111,
              "#46039f"
             ],
             [
              0.2222222222222222,
              "#7201a8"
             ],
             [
              0.3333333333333333,
              "#9c179e"
             ],
             [
              0.4444444444444444,
              "#bd3786"
             ],
             [
              0.5555555555555556,
              "#d8576b"
             ],
             [
              0.6666666666666666,
              "#ed7953"
             ],
             [
              0.7777777777777778,
              "#fb9f3a"
             ],
             [
              0.8888888888888888,
              "#fdca26"
             ],
             [
              1,
              "#f0f921"
             ]
            ],
            "type": "heatmapgl"
           }
          ],
          "histogram": [
           {
            "marker": {
             "colorbar": {
              "outlinewidth": 0,
              "ticks": ""
             }
            },
            "type": "histogram"
           }
          ],
          "histogram2d": [
           {
            "colorbar": {
             "outlinewidth": 0,
             "ticks": ""
            },
            "colorscale": [
             [
              0,
              "#0d0887"
             ],
             [
              0.1111111111111111,
              "#46039f"
             ],
             [
              0.2222222222222222,
              "#7201a8"
             ],
             [
              0.3333333333333333,
              "#9c179e"
             ],
             [
              0.4444444444444444,
              "#bd3786"
             ],
             [
              0.5555555555555556,
              "#d8576b"
             ],
             [
              0.6666666666666666,
              "#ed7953"
             ],
             [
              0.7777777777777778,
              "#fb9f3a"
             ],
             [
              0.8888888888888888,
              "#fdca26"
             ],
             [
              1,
              "#f0f921"
             ]
            ],
            "type": "histogram2d"
           }
          ],
          "histogram2dcontour": [
           {
            "colorbar": {
             "outlinewidth": 0,
             "ticks": ""
            },
            "colorscale": [
             [
              0,
              "#0d0887"
             ],
             [
              0.1111111111111111,
              "#46039f"
             ],
             [
              0.2222222222222222,
              "#7201a8"
             ],
             [
              0.3333333333333333,
              "#9c179e"
             ],
             [
              0.4444444444444444,
              "#bd3786"
             ],
             [
              0.5555555555555556,
              "#d8576b"
             ],
             [
              0.6666666666666666,
              "#ed7953"
             ],
             [
              0.7777777777777778,
              "#fb9f3a"
             ],
             [
              0.8888888888888888,
              "#fdca26"
             ],
             [
              1,
              "#f0f921"
             ]
            ],
            "type": "histogram2dcontour"
           }
          ],
          "mesh3d": [
           {
            "colorbar": {
             "outlinewidth": 0,
             "ticks": ""
            },
            "type": "mesh3d"
           }
          ],
          "parcoords": [
           {
            "line": {
             "colorbar": {
              "outlinewidth": 0,
              "ticks": ""
             }
            },
            "type": "parcoords"
           }
          ],
          "pie": [
           {
            "automargin": true,
            "type": "pie"
           }
          ],
          "scatter": [
           {
            "marker": {
             "colorbar": {
              "outlinewidth": 0,
              "ticks": ""
             }
            },
            "type": "scatter"
           }
          ],
          "scatter3d": [
           {
            "line": {
             "colorbar": {
              "outlinewidth": 0,
              "ticks": ""
             }
            },
            "marker": {
             "colorbar": {
              "outlinewidth": 0,
              "ticks": ""
             }
            },
            "type": "scatter3d"
           }
          ],
          "scattercarpet": [
           {
            "marker": {
             "colorbar": {
              "outlinewidth": 0,
              "ticks": ""
             }
            },
            "type": "scattercarpet"
           }
          ],
          "scattergeo": [
           {
            "marker": {
             "colorbar": {
              "outlinewidth": 0,
              "ticks": ""
             }
            },
            "type": "scattergeo"
           }
          ],
          "scattergl": [
           {
            "marker": {
             "colorbar": {
              "outlinewidth": 0,
              "ticks": ""
             }
            },
            "type": "scattergl"
           }
          ],
          "scattermapbox": [
           {
            "marker": {
             "colorbar": {
              "outlinewidth": 0,
              "ticks": ""
             }
            },
            "type": "scattermapbox"
           }
          ],
          "scatterpolar": [
           {
            "marker": {
             "colorbar": {
              "outlinewidth": 0,
              "ticks": ""
             }
            },
            "type": "scatterpolar"
           }
          ],
          "scatterpolargl": [
           {
            "marker": {
             "colorbar": {
              "outlinewidth": 0,
              "ticks": ""
             }
            },
            "type": "scatterpolargl"
           }
          ],
          "scatterternary": [
           {
            "marker": {
             "colorbar": {
              "outlinewidth": 0,
              "ticks": ""
             }
            },
            "type": "scatterternary"
           }
          ],
          "surface": [
           {
            "colorbar": {
             "outlinewidth": 0,
             "ticks": ""
            },
            "colorscale": [
             [
              0,
              "#0d0887"
             ],
             [
              0.1111111111111111,
              "#46039f"
             ],
             [
              0.2222222222222222,
              "#7201a8"
             ],
             [
              0.3333333333333333,
              "#9c179e"
             ],
             [
              0.4444444444444444,
              "#bd3786"
             ],
             [
              0.5555555555555556,
              "#d8576b"
             ],
             [
              0.6666666666666666,
              "#ed7953"
             ],
             [
              0.7777777777777778,
              "#fb9f3a"
             ],
             [
              0.8888888888888888,
              "#fdca26"
             ],
             [
              1,
              "#f0f921"
             ]
            ],
            "type": "surface"
           }
          ],
          "table": [
           {
            "cells": {
             "fill": {
              "color": "#EBF0F8"
             },
             "line": {
              "color": "white"
             }
            },
            "header": {
             "fill": {
              "color": "#C8D4E3"
             },
             "line": {
              "color": "white"
             }
            },
            "type": "table"
           }
          ]
         },
         "layout": {
          "annotationdefaults": {
           "arrowcolor": "#2a3f5f",
           "arrowhead": 0,
           "arrowwidth": 1
          },
          "coloraxis": {
           "colorbar": {
            "outlinewidth": 0,
            "ticks": ""
           }
          },
          "colorscale": {
           "diverging": [
            [
             0,
             "#8e0152"
            ],
            [
             0.1,
             "#c51b7d"
            ],
            [
             0.2,
             "#de77ae"
            ],
            [
             0.3,
             "#f1b6da"
            ],
            [
             0.4,
             "#fde0ef"
            ],
            [
             0.5,
             "#f7f7f7"
            ],
            [
             0.6,
             "#e6f5d0"
            ],
            [
             0.7,
             "#b8e186"
            ],
            [
             0.8,
             "#7fbc41"
            ],
            [
             0.9,
             "#4d9221"
            ],
            [
             1,
             "#276419"
            ]
           ],
           "sequential": [
            [
             0,
             "#0d0887"
            ],
            [
             0.1111111111111111,
             "#46039f"
            ],
            [
             0.2222222222222222,
             "#7201a8"
            ],
            [
             0.3333333333333333,
             "#9c179e"
            ],
            [
             0.4444444444444444,
             "#bd3786"
            ],
            [
             0.5555555555555556,
             "#d8576b"
            ],
            [
             0.6666666666666666,
             "#ed7953"
            ],
            [
             0.7777777777777778,
             "#fb9f3a"
            ],
            [
             0.8888888888888888,
             "#fdca26"
            ],
            [
             1,
             "#f0f921"
            ]
           ],
           "sequentialminus": [
            [
             0,
             "#0d0887"
            ],
            [
             0.1111111111111111,
             "#46039f"
            ],
            [
             0.2222222222222222,
             "#7201a8"
            ],
            [
             0.3333333333333333,
             "#9c179e"
            ],
            [
             0.4444444444444444,
             "#bd3786"
            ],
            [
             0.5555555555555556,
             "#d8576b"
            ],
            [
             0.6666666666666666,
             "#ed7953"
            ],
            [
             0.7777777777777778,
             "#fb9f3a"
            ],
            [
             0.8888888888888888,
             "#fdca26"
            ],
            [
             1,
             "#f0f921"
            ]
           ]
          },
          "colorway": [
           "#636efa",
           "#EF553B",
           "#00cc96",
           "#ab63fa",
           "#FFA15A",
           "#19d3f3",
           "#FF6692",
           "#B6E880",
           "#FF97FF",
           "#FECB52"
          ],
          "font": {
           "color": "#2a3f5f"
          },
          "geo": {
           "bgcolor": "white",
           "lakecolor": "white",
           "landcolor": "#E5ECF6",
           "showlakes": true,
           "showland": true,
           "subunitcolor": "white"
          },
          "hoverlabel": {
           "align": "left"
          },
          "hovermode": "closest",
          "mapbox": {
           "style": "light"
          },
          "paper_bgcolor": "white",
          "plot_bgcolor": "#E5ECF6",
          "polar": {
           "angularaxis": {
            "gridcolor": "white",
            "linecolor": "white",
            "ticks": ""
           },
           "bgcolor": "#E5ECF6",
           "radialaxis": {
            "gridcolor": "white",
            "linecolor": "white",
            "ticks": ""
           }
          },
          "scene": {
           "xaxis": {
            "backgroundcolor": "#E5ECF6",
            "gridcolor": "white",
            "gridwidth": 2,
            "linecolor": "white",
            "showbackground": true,
            "ticks": "",
            "zerolinecolor": "white"
           },
           "yaxis": {
            "backgroundcolor": "#E5ECF6",
            "gridcolor": "white",
            "gridwidth": 2,
            "linecolor": "white",
            "showbackground": true,
            "ticks": "",
            "zerolinecolor": "white"
           },
           "zaxis": {
            "backgroundcolor": "#E5ECF6",
            "gridcolor": "white",
            "gridwidth": 2,
            "linecolor": "white",
            "showbackground": true,
            "ticks": "",
            "zerolinecolor": "white"
           }
          },
          "shapedefaults": {
           "line": {
            "color": "#2a3f5f"
           }
          },
          "ternary": {
           "aaxis": {
            "gridcolor": "white",
            "linecolor": "white",
            "ticks": ""
           },
           "baxis": {
            "gridcolor": "white",
            "linecolor": "white",
            "ticks": ""
           },
           "bgcolor": "#E5ECF6",
           "caxis": {
            "gridcolor": "white",
            "linecolor": "white",
            "ticks": ""
           }
          },
          "title": {
           "x": 0.05
          },
          "xaxis": {
           "automargin": true,
           "gridcolor": "white",
           "linecolor": "white",
           "ticks": "",
           "title": {
            "standoff": 15
           },
           "zerolinecolor": "white",
           "zerolinewidth": 2
          },
          "yaxis": {
           "automargin": true,
           "gridcolor": "white",
           "linecolor": "white",
           "ticks": "",
           "title": {
            "standoff": 15
           },
           "zerolinecolor": "white",
           "zerolinewidth": 2
          }
         }
        },
        "title": {
         "font": {
          "color": "#4D5663"
         }
        },
        "xaxis": {
         "gridcolor": "#E1E5ED",
         "showgrid": true,
         "tickfont": {
          "color": "#4D5663"
         },
         "title": {
          "font": {
           "color": "#4D5663"
          },
          "text": ""
         },
         "zerolinecolor": "#E1E5ED"
        },
        "yaxis": {
         "gridcolor": "#E1E5ED",
         "showgrid": true,
         "tickfont": {
          "color": "#4D5663"
         },
         "title": {
          "font": {
           "color": "#4D5663"
          },
          "text": ""
         },
         "zerolinecolor": "#E1E5ED"
        }
       }
      },
      "text/html": [
       "<div>\n",
       "        \n",
       "        \n",
       "            <div id=\"0e243ac5-8dea-4449-ac11-6e8ff516a40a\" class=\"plotly-graph-div\" style=\"height:525px; width:100%;\"></div>\n",
       "            <script type=\"text/javascript\">\n",
       "                require([\"plotly\"], function(Plotly) {\n",
       "                    window.PLOTLYENV=window.PLOTLYENV || {};\n",
       "                    window.PLOTLYENV.BASE_URL='https://plot.ly';\n",
       "                    \n",
       "                if (document.getElementById(\"0e243ac5-8dea-4449-ac11-6e8ff516a40a\")) {\n",
       "                    Plotly.newPlot(\n",
       "                        '0e243ac5-8dea-4449-ac11-6e8ff516a40a',\n",
       "                        [{\"boxpoints\": false, \"line\": {\"width\": 1.3}, \"marker\": {\"color\": \"rgba(255, 153, 51, 1.0)\"}, \"name\": \"A\", \"orientation\": \"v\", \"type\": \"box\", \"y\": [0.3696420558197603, 0.5253992122905893, -1.037046991780036, 0.24758500485110949, -1.8474714207170502, 1.3011206429284472, -0.9335639569440436, 0.7693596664680276, -0.7354420564182146, -0.3897801777723191, -0.5361110290279926, -0.11335978345336128, 0.5034703014821329, 0.6862383833141485, -0.998068344328191, -1.0158631125325421, 0.004348380037364213, 0.41957675079592427, 2.301491454423374, 1.4561157709628787, -0.39543442769501835, -2.9977343866583146, 0.4606828596039337, 0.4125115418393969, -1.6772472028110024, 0.4847284875647718, 0.13514321173399585, -0.8501933743837765, 0.7661903176591959, 0.2556084067919436, 1.2092208938314986, -0.9641519723820355, -0.4929362943760437, 0.28872133688964635, -0.9942239232924204, -0.17732241365179743, -1.167011992737201, -0.02479701877713464, -1.3437385112074935, -0.13425512337211468, -1.1387426056206769, -0.152654355616287, -0.20396279915057616, -1.09589281461307, -1.8186866319970554, -1.419713115103019, 1.1238921197556309, -0.25238924820713565, 0.8003631231624078, 1.510325015083661, 0.15693663155427395, -1.7131257418818993, -0.73964880933293, -0.9491578573939075, -0.030022804907188512, 1.1710417549444856, 0.12729687189798403, -0.005807129205971171, -0.028565868349607577, -0.4819911680944219, -1.518892135299185, -0.576390236024212, 0.36059632276433357, -0.12057217071166919, 0.15762625193431426, 0.06810068428376627, 0.6367262505638114, -2.1102698964980773, -0.7082699504905734, -0.2941154121319468, 0.126635294372914, -0.40570278219914246, 0.35808490553594086, -1.0342876768719167, -1.1947571676836943, 0.5541810575018407, 1.5133993382594308, -0.9003410000358811, -0.8560779010303979, 2.030211579966576, 0.582959641868816, 0.8494972234950936, 1.1581283542388061, 0.6879489752136857, -0.8493140319400361, -0.6133085997176515, -0.2850937172340025, -0.9857890053489234, -0.09162341605494383, -1.0244112466360455, 1.393245285512462, 0.03430148884087417, 0.37283225888140187, 0.1487104846347837, -1.256860203558932, 0.3464741711743709, -0.31822087540002797, 1.384161939100568, 0.060376550504078835, -1.5736730924838451]}, {\"boxpoints\": false, \"line\": {\"width\": 1.3}, \"marker\": {\"color\": \"rgba(55, 128, 191, 1.0)\"}, \"name\": \"B\", \"orientation\": \"v\", \"type\": \"box\", \"y\": [1.8544854469766379, 0.7836177074308012, -0.7023952067731887, -1.6590009035343811, 0.5368017098635539, -0.3523782119696855, 0.16226175563893364, 0.7264061191098, -1.2499210848417084, 0.1929954220383031, -0.21386919859532105, -0.29271630353287986, -0.6611903651266722, 0.744638175086269, 0.2040438468422435, 0.8584320617049238, 0.850452155003359, -1.3659953542696026, -0.05578684509734393, 0.6323620787780885, 0.2837188925661103, -0.30468203874642236, -2.8251949591332033, 0.34430547180085386, -0.9974663044329387, 1.0962755508149857, -1.7792529363166523, 1.1933040966037836, 0.07152250341734986, -0.36871156263976, 0.4574508446904451, -1.75587070274968, -1.59898164109928, -1.6860266836224718, -0.3277867055238577, -1.3629489107165276, 1.0412266116381714, 0.7179155165752484, 1.6930515185472383, 1.289448459481413, 0.30362087590713316, -2.1528501300606946, -1.0134696144934496, -0.15636623271294586, 0.8380139710009594, 0.5579228915062908, 0.5368016312120132, -0.5078470766397161, -0.845020274882293, -0.5032619357012125, 0.09063142724378265, 1.3230502586330954, 0.605470890269384, -1.4491029065733194, 1.5350799697628166, -0.4887321951171857, -1.9780210133324072, -0.09137475763597733, -0.7403203584012117, 0.7224915860473682, 0.7062391710651873, 0.2012465686323864, -1.418854798097011, -1.8166350247694463, -1.1893933087052846, 1.6008006185133081, -1.3828919131099306, -0.3939760308123558, -0.8518355622060666, -0.792128482209907, 1.3826855098314517, 0.19896340055223444, -0.23145050018903338, -0.47964419762986166, -0.44283720384580877, 0.2975083383573253, -1.0702080056630172, 0.3714803864386964, -1.7713799252108353, -0.05361606457323116, 1.2773542153545079, 1.130147907205399, 0.672508729528042, -0.04422356786938887, 0.06591820760695383, 0.8657351394759569, -1.149166652831269, 1.2801278124161366, 0.7053245114339901, -0.6450090266750952, 0.22479835435854695, -1.5687383321523662, -1.6711767415185925, 0.18688677530668604, 0.4801646737727269, 1.27730447068291, 1.5312853572122618, -0.003243945845103304, 0.31545108378705483, 0.8001980688130594]}, {\"boxpoints\": false, \"line\": {\"width\": 1.3}, \"marker\": {\"color\": \"rgba(50, 171, 96, 1.0)\"}, \"name\": \"C\", \"orientation\": \"v\", \"type\": \"box\", \"y\": [0.2252777989016697, 0.8623018188802899, -1.416244250131065, 0.32934869741646344, 0.1267464715656397, 0.06936779668551181, -0.8963800303599142, 0.15802245926053307, 1.134220418943405, 1.4859243642201287, 0.31410460046414307, -1.6317416932347404, -1.3468425919919842, -1.5377259965021013, 0.44803968693652124, -0.6087749895529724, -0.08444755271745026, -0.41543239452665953, -0.31077567466336165, 1.04630994845296, -1.3069377157747348, 0.766032531840848, 0.5780460097088275, -0.21423604833369836, 0.0036132856858055065, -0.8155164372988873, 0.05986444467837653, -1.9721889963414336, -2.078555799505978, 1.264205459685189, -0.09286916292385433, 0.37241483042135864, -0.4520027989707978, -0.06359946668577694, 0.40414748288786745, -1.42310455279087, 0.3761060108893962, 0.6216497343796945, 0.18867118091163326, 0.23902421149124484, -1.0410009754896765, 0.9718313088708687, 0.034362973196359586, 1.9488270240884749, -0.13331917111915575, 1.4608434457954884, -0.08665151619432472, 0.02926781149662285, -1.8004195748741825, 1.6289742337704256, 1.3582535172023908, -0.8454881168555592, 0.6093724484063817, 1.9344597807372632, 0.35797359496683784, -0.41599786611177764, -0.9050470296676526, 1.4043251327454243, 0.20857840336780592, 2.0939476995372703, 1.0497898426386931, 1.4265064707668738, -1.143234964880385, 2.309302086953698, 2.0259289469994974, 1.3659821749542929, -0.9407940552553328, -2.6219766910310476, -1.1426882136155434, -3.094999628250353, 1.0056417745869357, 0.39868504276673516, -0.046072701239227326, 0.7586484947069092, 0.5899860404075996, -0.3124991992480441, -0.5316162521241473, -0.31137328734129294, 0.9020306003109113, 0.8632424005893286, 1.0047379483834622, 0.8134640423609348, -0.4708781972522541, -1.6428143904942887, 0.30678393518761216, 0.2219842518238527, -0.012729532903647525, -2.6622374787543466, 0.7426211522876416, -1.3176793616791336, 0.03755321857630146, -0.10962231677693532, 1.5790362314396678, 1.4562306481619405, -1.0726071087385978, -2.4404905382187, 0.4434881014433977, -1.8094225526189711, -1.391051306056638, 1.2849228240434347]}, {\"boxpoints\": false, \"line\": {\"width\": 1.3}, \"marker\": {\"color\": \"rgba(128, 0, 128, 1.0)\"}, \"name\": \"D\", \"orientation\": \"v\", \"type\": \"box\", \"y\": [-1.5034959600232376, -0.5002545536406926, 0.28038963892268925, 0.6436157976651309, -0.32678525058336144, 2.2480455302993954, -0.10212614541672001, -0.3753141106509515, -0.09137779587221577, 2.806316180226526, -1.0696001667407682, -0.8198791828551726, -0.48954253559546135, -0.4855260402785763, 0.41740420839716347, 0.04750503769818647, -0.7647964360611823, -1.411902116190576, 1.76243350565496, -1.5380351291216554, 0.4753809754519136, -0.8594523204412604, -1.8534272922723198, -0.02493962626163329, 0.9286975747515848, -1.7976611239698812, 1.5949445899324757, 0.24349753016633013, 0.4076981943292706, 0.16867933305942437, -0.09072844291781407, 0.9478168842520501, 0.17999577841047074, -0.7508565155229779, -1.481340630988663, -2.464520025940437, 0.6434431949145675, -1.3761376024818746, 0.3468809070623607, -1.5764148071761146, -0.8436372667516829, -1.0300202683908892, 0.626443122495951, 1.3228318464001843, 2.8332868930935673, 0.05274994978958885, 0.18967361347084327, 0.9578411548794024, -0.7079610590083915, -0.9682769868480765, 1.0864687928058199, -0.23982121319770938, 0.43604123853449805, -2.076366837148839, 0.001923451586291724, 1.754416018047518, 0.16836066340273206, 2.158078850342077, -0.05922530625313715, 0.39488763101367946, -0.9021924044536117, 0.22894884857403328, -0.40663035035742795, -1.3770822654520178, -0.12048346955566772, 1.0761634563359206, -1.0707400073825306, 0.7429681963356116, -0.24613470003158003, 1.1582696382477444, -0.5012082480432763, 1.8268859083182867, 0.9603431670287832, -0.8197939109913333, 0.12123473658574371, 1.4465456172542097, 0.9657067653768596, 1.0466074677604935, -0.10324403695845281, -1.2168298340103647, 1.185780411258566, -0.27251029278709726, -0.40756724742538614, 0.005248339557275319, 0.5578637899562472, 0.6038168533560826, 0.7002552066325827, -1.3098700315350242, 1.3267048265141386, -0.5927916193949495, 0.05118912541609895, -1.2211986610627326, 0.23207065415443653, 0.7511052993502152, 1.003248932950057, 0.24431493409781493, -0.1342578021851783, 0.09554071996329187, -0.7154397211038919, -0.7617484585937415]}],\n",
       "                        {\"legend\": {\"bgcolor\": \"#F5F6F9\", \"font\": {\"color\": \"#4D5663\"}}, \"paper_bgcolor\": \"#F5F6F9\", \"plot_bgcolor\": \"#F5F6F9\", \"template\": {\"data\": {\"bar\": [{\"error_x\": {\"color\": \"#2a3f5f\"}, \"error_y\": {\"color\": \"#2a3f5f\"}, \"marker\": {\"line\": {\"color\": \"#E5ECF6\", \"width\": 0.5}}, \"type\": \"bar\"}], \"barpolar\": [{\"marker\": {\"line\": {\"color\": \"#E5ECF6\", \"width\": 0.5}}, \"type\": \"barpolar\"}], \"carpet\": [{\"aaxis\": {\"endlinecolor\": \"#2a3f5f\", \"gridcolor\": \"white\", \"linecolor\": \"white\", \"minorgridcolor\": \"white\", \"startlinecolor\": \"#2a3f5f\"}, \"baxis\": {\"endlinecolor\": \"#2a3f5f\", \"gridcolor\": \"white\", \"linecolor\": \"white\", \"minorgridcolor\": \"white\", \"startlinecolor\": \"#2a3f5f\"}, \"type\": \"carpet\"}], \"choropleth\": [{\"colorbar\": {\"outlinewidth\": 0, \"ticks\": \"\"}, \"type\": \"choropleth\"}], \"contour\": [{\"colorbar\": {\"outlinewidth\": 0, \"ticks\": \"\"}, \"colorscale\": [[0.0, \"#0d0887\"], [0.1111111111111111, \"#46039f\"], [0.2222222222222222, \"#7201a8\"], [0.3333333333333333, \"#9c179e\"], [0.4444444444444444, \"#bd3786\"], [0.5555555555555556, \"#d8576b\"], [0.6666666666666666, \"#ed7953\"], [0.7777777777777778, \"#fb9f3a\"], [0.8888888888888888, \"#fdca26\"], [1.0, \"#f0f921\"]], \"type\": \"contour\"}], \"contourcarpet\": [{\"colorbar\": {\"outlinewidth\": 0, \"ticks\": \"\"}, \"type\": \"contourcarpet\"}], \"heatmap\": [{\"colorbar\": {\"outlinewidth\": 0, \"ticks\": \"\"}, \"colorscale\": [[0.0, \"#0d0887\"], [0.1111111111111111, \"#46039f\"], [0.2222222222222222, \"#7201a8\"], [0.3333333333333333, \"#9c179e\"], [0.4444444444444444, \"#bd3786\"], [0.5555555555555556, \"#d8576b\"], [0.6666666666666666, \"#ed7953\"], [0.7777777777777778, \"#fb9f3a\"], [0.8888888888888888, \"#fdca26\"], [1.0, \"#f0f921\"]], \"type\": \"heatmap\"}], \"heatmapgl\": [{\"colorbar\": {\"outlinewidth\": 0, \"ticks\": \"\"}, \"colorscale\": [[0.0, \"#0d0887\"], [0.1111111111111111, \"#46039f\"], [0.2222222222222222, \"#7201a8\"], [0.3333333333333333, \"#9c179e\"], [0.4444444444444444, \"#bd3786\"], [0.5555555555555556, \"#d8576b\"], [0.6666666666666666, \"#ed7953\"], [0.7777777777777778, \"#fb9f3a\"], [0.8888888888888888, \"#fdca26\"], [1.0, \"#f0f921\"]], \"type\": \"heatmapgl\"}], \"histogram\": [{\"marker\": {\"colorbar\": {\"outlinewidth\": 0, \"ticks\": \"\"}}, \"type\": \"histogram\"}], \"histogram2d\": [{\"colorbar\": {\"outlinewidth\": 0, \"ticks\": \"\"}, \"colorscale\": [[0.0, \"#0d0887\"], [0.1111111111111111, \"#46039f\"], [0.2222222222222222, \"#7201a8\"], [0.3333333333333333, \"#9c179e\"], [0.4444444444444444, \"#bd3786\"], [0.5555555555555556, \"#d8576b\"], [0.6666666666666666, \"#ed7953\"], [0.7777777777777778, \"#fb9f3a\"], [0.8888888888888888, \"#fdca26\"], [1.0, \"#f0f921\"]], \"type\": \"histogram2d\"}], \"histogram2dcontour\": [{\"colorbar\": {\"outlinewidth\": 0, \"ticks\": \"\"}, \"colorscale\": [[0.0, \"#0d0887\"], [0.1111111111111111, \"#46039f\"], [0.2222222222222222, \"#7201a8\"], [0.3333333333333333, \"#9c179e\"], [0.4444444444444444, \"#bd3786\"], [0.5555555555555556, \"#d8576b\"], [0.6666666666666666, \"#ed7953\"], [0.7777777777777778, \"#fb9f3a\"], [0.8888888888888888, \"#fdca26\"], [1.0, \"#f0f921\"]], \"type\": \"histogram2dcontour\"}], \"mesh3d\": [{\"colorbar\": {\"outlinewidth\": 0, \"ticks\": \"\"}, \"type\": \"mesh3d\"}], \"parcoords\": [{\"line\": {\"colorbar\": {\"outlinewidth\": 0, \"ticks\": \"\"}}, \"type\": \"parcoords\"}], \"pie\": [{\"automargin\": true, \"type\": \"pie\"}], \"scatter\": [{\"marker\": {\"colorbar\": {\"outlinewidth\": 0, \"ticks\": \"\"}}, \"type\": \"scatter\"}], \"scatter3d\": [{\"line\": {\"colorbar\": {\"outlinewidth\": 0, \"ticks\": \"\"}}, \"marker\": {\"colorbar\": {\"outlinewidth\": 0, \"ticks\": \"\"}}, \"type\": \"scatter3d\"}], \"scattercarpet\": [{\"marker\": {\"colorbar\": {\"outlinewidth\": 0, \"ticks\": \"\"}}, \"type\": \"scattercarpet\"}], \"scattergeo\": [{\"marker\": {\"colorbar\": {\"outlinewidth\": 0, \"ticks\": \"\"}}, \"type\": \"scattergeo\"}], \"scattergl\": [{\"marker\": {\"colorbar\": {\"outlinewidth\": 0, \"ticks\": \"\"}}, \"type\": \"scattergl\"}], \"scattermapbox\": [{\"marker\": {\"colorbar\": {\"outlinewidth\": 0, \"ticks\": \"\"}}, \"type\": \"scattermapbox\"}], \"scatterpolar\": [{\"marker\": {\"colorbar\": {\"outlinewidth\": 0, \"ticks\": \"\"}}, \"type\": \"scatterpolar\"}], \"scatterpolargl\": [{\"marker\": {\"colorbar\": {\"outlinewidth\": 0, \"ticks\": \"\"}}, \"type\": \"scatterpolargl\"}], \"scatterternary\": [{\"marker\": {\"colorbar\": {\"outlinewidth\": 0, \"ticks\": \"\"}}, \"type\": \"scatterternary\"}], \"surface\": [{\"colorbar\": {\"outlinewidth\": 0, \"ticks\": \"\"}, \"colorscale\": [[0.0, \"#0d0887\"], [0.1111111111111111, \"#46039f\"], [0.2222222222222222, \"#7201a8\"], [0.3333333333333333, \"#9c179e\"], [0.4444444444444444, \"#bd3786\"], [0.5555555555555556, \"#d8576b\"], [0.6666666666666666, \"#ed7953\"], [0.7777777777777778, \"#fb9f3a\"], [0.8888888888888888, \"#fdca26\"], [1.0, \"#f0f921\"]], \"type\": \"surface\"}], \"table\": [{\"cells\": {\"fill\": {\"color\": \"#EBF0F8\"}, \"line\": {\"color\": \"white\"}}, \"header\": {\"fill\": {\"color\": \"#C8D4E3\"}, \"line\": {\"color\": \"white\"}}, \"type\": \"table\"}]}, \"layout\": {\"annotationdefaults\": {\"arrowcolor\": \"#2a3f5f\", \"arrowhead\": 0, \"arrowwidth\": 1}, \"coloraxis\": {\"colorbar\": {\"outlinewidth\": 0, \"ticks\": \"\"}}, \"colorscale\": {\"diverging\": [[0, \"#8e0152\"], [0.1, \"#c51b7d\"], [0.2, \"#de77ae\"], [0.3, \"#f1b6da\"], [0.4, \"#fde0ef\"], [0.5, \"#f7f7f7\"], [0.6, \"#e6f5d0\"], [0.7, \"#b8e186\"], [0.8, \"#7fbc41\"], [0.9, \"#4d9221\"], [1, \"#276419\"]], \"sequential\": [[0.0, \"#0d0887\"], [0.1111111111111111, \"#46039f\"], [0.2222222222222222, \"#7201a8\"], [0.3333333333333333, \"#9c179e\"], [0.4444444444444444, \"#bd3786\"], [0.5555555555555556, \"#d8576b\"], [0.6666666666666666, \"#ed7953\"], [0.7777777777777778, \"#fb9f3a\"], [0.8888888888888888, \"#fdca26\"], [1.0, \"#f0f921\"]], \"sequentialminus\": [[0.0, \"#0d0887\"], [0.1111111111111111, \"#46039f\"], [0.2222222222222222, \"#7201a8\"], [0.3333333333333333, \"#9c179e\"], [0.4444444444444444, \"#bd3786\"], [0.5555555555555556, \"#d8576b\"], [0.6666666666666666, \"#ed7953\"], [0.7777777777777778, \"#fb9f3a\"], [0.8888888888888888, \"#fdca26\"], [1.0, \"#f0f921\"]]}, \"colorway\": [\"#636efa\", \"#EF553B\", \"#00cc96\", \"#ab63fa\", \"#FFA15A\", \"#19d3f3\", \"#FF6692\", \"#B6E880\", \"#FF97FF\", \"#FECB52\"], \"font\": {\"color\": \"#2a3f5f\"}, \"geo\": {\"bgcolor\": \"white\", \"lakecolor\": \"white\", \"landcolor\": \"#E5ECF6\", \"showlakes\": true, \"showland\": true, \"subunitcolor\": \"white\"}, \"hoverlabel\": {\"align\": \"left\"}, \"hovermode\": \"closest\", \"mapbox\": {\"style\": \"light\"}, \"paper_bgcolor\": \"white\", \"plot_bgcolor\": \"#E5ECF6\", \"polar\": {\"angularaxis\": {\"gridcolor\": \"white\", \"linecolor\": \"white\", \"ticks\": \"\"}, \"bgcolor\": \"#E5ECF6\", \"radialaxis\": {\"gridcolor\": \"white\", \"linecolor\": \"white\", \"ticks\": \"\"}}, \"scene\": {\"xaxis\": {\"backgroundcolor\": \"#E5ECF6\", \"gridcolor\": \"white\", \"gridwidth\": 2, \"linecolor\": \"white\", \"showbackground\": true, \"ticks\": \"\", \"zerolinecolor\": \"white\"}, \"yaxis\": {\"backgroundcolor\": \"#E5ECF6\", \"gridcolor\": \"white\", \"gridwidth\": 2, \"linecolor\": \"white\", \"showbackground\": true, \"ticks\": \"\", \"zerolinecolor\": \"white\"}, \"zaxis\": {\"backgroundcolor\": \"#E5ECF6\", \"gridcolor\": \"white\", \"gridwidth\": 2, \"linecolor\": \"white\", \"showbackground\": true, \"ticks\": \"\", \"zerolinecolor\": \"white\"}}, \"shapedefaults\": {\"line\": {\"color\": \"#2a3f5f\"}}, \"ternary\": {\"aaxis\": {\"gridcolor\": \"white\", \"linecolor\": \"white\", \"ticks\": \"\"}, \"baxis\": {\"gridcolor\": \"white\", \"linecolor\": \"white\", \"ticks\": \"\"}, \"bgcolor\": \"#E5ECF6\", \"caxis\": {\"gridcolor\": \"white\", \"linecolor\": \"white\", \"ticks\": \"\"}}, \"title\": {\"x\": 0.05}, \"xaxis\": {\"automargin\": true, \"gridcolor\": \"white\", \"linecolor\": \"white\", \"ticks\": \"\", \"title\": {\"standoff\": 15}, \"zerolinecolor\": \"white\", \"zerolinewidth\": 2}, \"yaxis\": {\"automargin\": true, \"gridcolor\": \"white\", \"linecolor\": \"white\", \"ticks\": \"\", \"title\": {\"standoff\": 15}, \"zerolinecolor\": \"white\", \"zerolinewidth\": 2}}}, \"title\": {\"font\": {\"color\": \"#4D5663\"}}, \"xaxis\": {\"gridcolor\": \"#E1E5ED\", \"showgrid\": true, \"tickfont\": {\"color\": \"#4D5663\"}, \"title\": {\"font\": {\"color\": \"#4D5663\"}, \"text\": \"\"}, \"zerolinecolor\": \"#E1E5ED\"}, \"yaxis\": {\"gridcolor\": \"#E1E5ED\", \"showgrid\": true, \"tickfont\": {\"color\": \"#4D5663\"}, \"title\": {\"font\": {\"color\": \"#4D5663\"}, \"text\": \"\"}, \"zerolinecolor\": \"#E1E5ED\"}},\n",
       "                        {\"showLink\": true, \"linkText\": \"Export to plot.ly\", \"plotlyServerURL\": \"https://plot.ly\", \"responsive\": true}\n",
       "                    ).then(function(){\n",
       "                            \n",
       "var gd = document.getElementById('0e243ac5-8dea-4449-ac11-6e8ff516a40a');\n",
       "var x = new MutationObserver(function (mutations, observer) {{\n",
       "        var display = window.getComputedStyle(gd).display;\n",
       "        if (!display || display === 'none') {{\n",
       "            console.log([gd, 'removed!']);\n",
       "            Plotly.purge(gd);\n",
       "            observer.disconnect();\n",
       "        }}\n",
       "}});\n",
       "\n",
       "// Listen for the removal of the full notebook cells\n",
       "var notebookContainer = gd.closest('#notebook-container');\n",
       "if (notebookContainer) {{\n",
       "    x.observe(notebookContainer, {childList: true});\n",
       "}}\n",
       "\n",
       "// Listen for the clearing of the current output cell\n",
       "var outputEl = gd.closest('.output');\n",
       "if (outputEl) {{\n",
       "    x.observe(outputEl, {childList: true});\n",
       "}}\n",
       "\n",
       "                        })\n",
       "                };\n",
       "                });\n",
       "            </script>\n",
       "        </div>"
      ]
     },
     "metadata": {},
     "output_type": "display_data"
    }
   ],
   "source": [
    "df.iplot(kind='box')"
   ]
  },
  {
   "cell_type": "markdown",
   "metadata": {},
   "source": [
    "## 3d Surface"
   ]
  },
  {
   "cell_type": "code",
   "execution_count": 16,
   "metadata": {},
   "outputs": [
    {
     "data": {
      "application/vnd.plotly.v1+json": {
       "config": {
        "linkText": "Export to plot.ly",
        "plotlyServerURL": "https://plot.ly",
        "showLink": true
       },
       "data": [
        {
         "colorscale": [
          [
           0,
           "rgb(165,0,38)"
          ],
          [
           0.1,
           "rgb(215,48,39)"
          ],
          [
           0.2,
           "rgb(244,109,67)"
          ],
          [
           0.3,
           "rgb(253,174,97)"
          ],
          [
           0.4,
           "rgb(254,224,144)"
          ],
          [
           0.5,
           "rgb(255,255,191)"
          ],
          [
           0.6,
           "rgb(224,243,248)"
          ],
          [
           0.7,
           "rgb(171,217,233)"
          ],
          [
           0.8,
           "rgb(116,173,209)"
          ],
          [
           0.9,
           "rgb(69,117,180)"
          ],
          [
           1,
           "rgb(49,54,149)"
          ]
         ],
         "type": "surface",
         "x": [
          0,
          1,
          2,
          3,
          4
         ],
         "y": [
          "x",
          "y",
          "z"
         ],
         "z": [
          [
           1,
           2,
           3,
           4,
           5
          ],
          [
           10,
           20,
           30,
           20,
           10
          ],
          [
           5,
           4,
           3,
           2,
           1
          ]
         ]
        }
       ],
       "layout": {
        "legend": {
         "bgcolor": "#F5F6F9",
         "font": {
          "color": "#4D5663"
         }
        },
        "paper_bgcolor": "#F5F6F9",
        "plot_bgcolor": "#F5F6F9",
        "template": {
         "data": {
          "bar": [
           {
            "error_x": {
             "color": "#2a3f5f"
            },
            "error_y": {
             "color": "#2a3f5f"
            },
            "marker": {
             "line": {
              "color": "#E5ECF6",
              "width": 0.5
             }
            },
            "type": "bar"
           }
          ],
          "barpolar": [
           {
            "marker": {
             "line": {
              "color": "#E5ECF6",
              "width": 0.5
             }
            },
            "type": "barpolar"
           }
          ],
          "carpet": [
           {
            "aaxis": {
             "endlinecolor": "#2a3f5f",
             "gridcolor": "white",
             "linecolor": "white",
             "minorgridcolor": "white",
             "startlinecolor": "#2a3f5f"
            },
            "baxis": {
             "endlinecolor": "#2a3f5f",
             "gridcolor": "white",
             "linecolor": "white",
             "minorgridcolor": "white",
             "startlinecolor": "#2a3f5f"
            },
            "type": "carpet"
           }
          ],
          "choropleth": [
           {
            "colorbar": {
             "outlinewidth": 0,
             "ticks": ""
            },
            "type": "choropleth"
           }
          ],
          "contour": [
           {
            "colorbar": {
             "outlinewidth": 0,
             "ticks": ""
            },
            "colorscale": [
             [
              0,
              "#0d0887"
             ],
             [
              0.1111111111111111,
              "#46039f"
             ],
             [
              0.2222222222222222,
              "#7201a8"
             ],
             [
              0.3333333333333333,
              "#9c179e"
             ],
             [
              0.4444444444444444,
              "#bd3786"
             ],
             [
              0.5555555555555556,
              "#d8576b"
             ],
             [
              0.6666666666666666,
              "#ed7953"
             ],
             [
              0.7777777777777778,
              "#fb9f3a"
             ],
             [
              0.8888888888888888,
              "#fdca26"
             ],
             [
              1,
              "#f0f921"
             ]
            ],
            "type": "contour"
           }
          ],
          "contourcarpet": [
           {
            "colorbar": {
             "outlinewidth": 0,
             "ticks": ""
            },
            "type": "contourcarpet"
           }
          ],
          "heatmap": [
           {
            "colorbar": {
             "outlinewidth": 0,
             "ticks": ""
            },
            "colorscale": [
             [
              0,
              "#0d0887"
             ],
             [
              0.1111111111111111,
              "#46039f"
             ],
             [
              0.2222222222222222,
              "#7201a8"
             ],
             [
              0.3333333333333333,
              "#9c179e"
             ],
             [
              0.4444444444444444,
              "#bd3786"
             ],
             [
              0.5555555555555556,
              "#d8576b"
             ],
             [
              0.6666666666666666,
              "#ed7953"
             ],
             [
              0.7777777777777778,
              "#fb9f3a"
             ],
             [
              0.8888888888888888,
              "#fdca26"
             ],
             [
              1,
              "#f0f921"
             ]
            ],
            "type": "heatmap"
           }
          ],
          "heatmapgl": [
           {
            "colorbar": {
             "outlinewidth": 0,
             "ticks": ""
            },
            "colorscale": [
             [
              0,
              "#0d0887"
             ],
             [
              0.1111111111111111,
              "#46039f"
             ],
             [
              0.2222222222222222,
              "#7201a8"
             ],
             [
              0.3333333333333333,
              "#9c179e"
             ],
             [
              0.4444444444444444,
              "#bd3786"
             ],
             [
              0.5555555555555556,
              "#d8576b"
             ],
             [
              0.6666666666666666,
              "#ed7953"
             ],
             [
              0.7777777777777778,
              "#fb9f3a"
             ],
             [
              0.8888888888888888,
              "#fdca26"
             ],
             [
              1,
              "#f0f921"
             ]
            ],
            "type": "heatmapgl"
           }
          ],
          "histogram": [
           {
            "marker": {
             "colorbar": {
              "outlinewidth": 0,
              "ticks": ""
             }
            },
            "type": "histogram"
           }
          ],
          "histogram2d": [
           {
            "colorbar": {
             "outlinewidth": 0,
             "ticks": ""
            },
            "colorscale": [
             [
              0,
              "#0d0887"
             ],
             [
              0.1111111111111111,
              "#46039f"
             ],
             [
              0.2222222222222222,
              "#7201a8"
             ],
             [
              0.3333333333333333,
              "#9c179e"
             ],
             [
              0.4444444444444444,
              "#bd3786"
             ],
             [
              0.5555555555555556,
              "#d8576b"
             ],
             [
              0.6666666666666666,
              "#ed7953"
             ],
             [
              0.7777777777777778,
              "#fb9f3a"
             ],
             [
              0.8888888888888888,
              "#fdca26"
             ],
             [
              1,
              "#f0f921"
             ]
            ],
            "type": "histogram2d"
           }
          ],
          "histogram2dcontour": [
           {
            "colorbar": {
             "outlinewidth": 0,
             "ticks": ""
            },
            "colorscale": [
             [
              0,
              "#0d0887"
             ],
             [
              0.1111111111111111,
              "#46039f"
             ],
             [
              0.2222222222222222,
              "#7201a8"
             ],
             [
              0.3333333333333333,
              "#9c179e"
             ],
             [
              0.4444444444444444,
              "#bd3786"
             ],
             [
              0.5555555555555556,
              "#d8576b"
             ],
             [
              0.6666666666666666,
              "#ed7953"
             ],
             [
              0.7777777777777778,
              "#fb9f3a"
             ],
             [
              0.8888888888888888,
              "#fdca26"
             ],
             [
              1,
              "#f0f921"
             ]
            ],
            "type": "histogram2dcontour"
           }
          ],
          "mesh3d": [
           {
            "colorbar": {
             "outlinewidth": 0,
             "ticks": ""
            },
            "type": "mesh3d"
           }
          ],
          "parcoords": [
           {
            "line": {
             "colorbar": {
              "outlinewidth": 0,
              "ticks": ""
             }
            },
            "type": "parcoords"
           }
          ],
          "pie": [
           {
            "automargin": true,
            "type": "pie"
           }
          ],
          "scatter": [
           {
            "marker": {
             "colorbar": {
              "outlinewidth": 0,
              "ticks": ""
             }
            },
            "type": "scatter"
           }
          ],
          "scatter3d": [
           {
            "line": {
             "colorbar": {
              "outlinewidth": 0,
              "ticks": ""
             }
            },
            "marker": {
             "colorbar": {
              "outlinewidth": 0,
              "ticks": ""
             }
            },
            "type": "scatter3d"
           }
          ],
          "scattercarpet": [
           {
            "marker": {
             "colorbar": {
              "outlinewidth": 0,
              "ticks": ""
             }
            },
            "type": "scattercarpet"
           }
          ],
          "scattergeo": [
           {
            "marker": {
             "colorbar": {
              "outlinewidth": 0,
              "ticks": ""
             }
            },
            "type": "scattergeo"
           }
          ],
          "scattergl": [
           {
            "marker": {
             "colorbar": {
              "outlinewidth": 0,
              "ticks": ""
             }
            },
            "type": "scattergl"
           }
          ],
          "scattermapbox": [
           {
            "marker": {
             "colorbar": {
              "outlinewidth": 0,
              "ticks": ""
             }
            },
            "type": "scattermapbox"
           }
          ],
          "scatterpolar": [
           {
            "marker": {
             "colorbar": {
              "outlinewidth": 0,
              "ticks": ""
             }
            },
            "type": "scatterpolar"
           }
          ],
          "scatterpolargl": [
           {
            "marker": {
             "colorbar": {
              "outlinewidth": 0,
              "ticks": ""
             }
            },
            "type": "scatterpolargl"
           }
          ],
          "scatterternary": [
           {
            "marker": {
             "colorbar": {
              "outlinewidth": 0,
              "ticks": ""
             }
            },
            "type": "scatterternary"
           }
          ],
          "surface": [
           {
            "colorbar": {
             "outlinewidth": 0,
             "ticks": ""
            },
            "colorscale": [
             [
              0,
              "#0d0887"
             ],
             [
              0.1111111111111111,
              "#46039f"
             ],
             [
              0.2222222222222222,
              "#7201a8"
             ],
             [
              0.3333333333333333,
              "#9c179e"
             ],
             [
              0.4444444444444444,
              "#bd3786"
             ],
             [
              0.5555555555555556,
              "#d8576b"
             ],
             [
              0.6666666666666666,
              "#ed7953"
             ],
             [
              0.7777777777777778,
              "#fb9f3a"
             ],
             [
              0.8888888888888888,
              "#fdca26"
             ],
             [
              1,
              "#f0f921"
             ]
            ],
            "type": "surface"
           }
          ],
          "table": [
           {
            "cells": {
             "fill": {
              "color": "#EBF0F8"
             },
             "line": {
              "color": "white"
             }
            },
            "header": {
             "fill": {
              "color": "#C8D4E3"
             },
             "line": {
              "color": "white"
             }
            },
            "type": "table"
           }
          ]
         },
         "layout": {
          "annotationdefaults": {
           "arrowcolor": "#2a3f5f",
           "arrowhead": 0,
           "arrowwidth": 1
          },
          "coloraxis": {
           "colorbar": {
            "outlinewidth": 0,
            "ticks": ""
           }
          },
          "colorscale": {
           "diverging": [
            [
             0,
             "#8e0152"
            ],
            [
             0.1,
             "#c51b7d"
            ],
            [
             0.2,
             "#de77ae"
            ],
            [
             0.3,
             "#f1b6da"
            ],
            [
             0.4,
             "#fde0ef"
            ],
            [
             0.5,
             "#f7f7f7"
            ],
            [
             0.6,
             "#e6f5d0"
            ],
            [
             0.7,
             "#b8e186"
            ],
            [
             0.8,
             "#7fbc41"
            ],
            [
             0.9,
             "#4d9221"
            ],
            [
             1,
             "#276419"
            ]
           ],
           "sequential": [
            [
             0,
             "#0d0887"
            ],
            [
             0.1111111111111111,
             "#46039f"
            ],
            [
             0.2222222222222222,
             "#7201a8"
            ],
            [
             0.3333333333333333,
             "#9c179e"
            ],
            [
             0.4444444444444444,
             "#bd3786"
            ],
            [
             0.5555555555555556,
             "#d8576b"
            ],
            [
             0.6666666666666666,
             "#ed7953"
            ],
            [
             0.7777777777777778,
             "#fb9f3a"
            ],
            [
             0.8888888888888888,
             "#fdca26"
            ],
            [
             1,
             "#f0f921"
            ]
           ],
           "sequentialminus": [
            [
             0,
             "#0d0887"
            ],
            [
             0.1111111111111111,
             "#46039f"
            ],
            [
             0.2222222222222222,
             "#7201a8"
            ],
            [
             0.3333333333333333,
             "#9c179e"
            ],
            [
             0.4444444444444444,
             "#bd3786"
            ],
            [
             0.5555555555555556,
             "#d8576b"
            ],
            [
             0.6666666666666666,
             "#ed7953"
            ],
            [
             0.7777777777777778,
             "#fb9f3a"
            ],
            [
             0.8888888888888888,
             "#fdca26"
            ],
            [
             1,
             "#f0f921"
            ]
           ]
          },
          "colorway": [
           "#636efa",
           "#EF553B",
           "#00cc96",
           "#ab63fa",
           "#FFA15A",
           "#19d3f3",
           "#FF6692",
           "#B6E880",
           "#FF97FF",
           "#FECB52"
          ],
          "font": {
           "color": "#2a3f5f"
          },
          "geo": {
           "bgcolor": "white",
           "lakecolor": "white",
           "landcolor": "#E5ECF6",
           "showlakes": true,
           "showland": true,
           "subunitcolor": "white"
          },
          "hoverlabel": {
           "align": "left"
          },
          "hovermode": "closest",
          "mapbox": {
           "style": "light"
          },
          "paper_bgcolor": "white",
          "plot_bgcolor": "#E5ECF6",
          "polar": {
           "angularaxis": {
            "gridcolor": "white",
            "linecolor": "white",
            "ticks": ""
           },
           "bgcolor": "#E5ECF6",
           "radialaxis": {
            "gridcolor": "white",
            "linecolor": "white",
            "ticks": ""
           }
          },
          "scene": {
           "xaxis": {
            "backgroundcolor": "#E5ECF6",
            "gridcolor": "white",
            "gridwidth": 2,
            "linecolor": "white",
            "showbackground": true,
            "ticks": "",
            "zerolinecolor": "white"
           },
           "yaxis": {
            "backgroundcolor": "#E5ECF6",
            "gridcolor": "white",
            "gridwidth": 2,
            "linecolor": "white",
            "showbackground": true,
            "ticks": "",
            "zerolinecolor": "white"
           },
           "zaxis": {
            "backgroundcolor": "#E5ECF6",
            "gridcolor": "white",
            "gridwidth": 2,
            "linecolor": "white",
            "showbackground": true,
            "ticks": "",
            "zerolinecolor": "white"
           }
          },
          "shapedefaults": {
           "line": {
            "color": "#2a3f5f"
           }
          },
          "ternary": {
           "aaxis": {
            "gridcolor": "white",
            "linecolor": "white",
            "ticks": ""
           },
           "baxis": {
            "gridcolor": "white",
            "linecolor": "white",
            "ticks": ""
           },
           "bgcolor": "#E5ECF6",
           "caxis": {
            "gridcolor": "white",
            "linecolor": "white",
            "ticks": ""
           }
          },
          "title": {
           "x": 0.05
          },
          "xaxis": {
           "automargin": true,
           "gridcolor": "white",
           "linecolor": "white",
           "ticks": "",
           "title": {
            "standoff": 15
           },
           "zerolinecolor": "white",
           "zerolinewidth": 2
          },
          "yaxis": {
           "automargin": true,
           "gridcolor": "white",
           "linecolor": "white",
           "ticks": "",
           "title": {
            "standoff": 15
           },
           "zerolinecolor": "white",
           "zerolinewidth": 2
          }
         }
        },
        "title": {
         "font": {
          "color": "#4D5663"
         }
        },
        "xaxis": {
         "gridcolor": "#E1E5ED",
         "showgrid": true,
         "tickfont": {
          "color": "#4D5663"
         },
         "title": {
          "font": {
           "color": "#4D5663"
          },
          "text": ""
         },
         "zerolinecolor": "#E1E5ED"
        },
        "yaxis": {
         "gridcolor": "#E1E5ED",
         "showgrid": true,
         "tickfont": {
          "color": "#4D5663"
         },
         "title": {
          "font": {
           "color": "#4D5663"
          },
          "text": ""
         },
         "zerolinecolor": "#E1E5ED"
        }
       }
      },
      "text/html": [
       "<div>\n",
       "        \n",
       "        \n",
       "            <div id=\"6a399866-6218-4184-97a5-826dc0e83dbb\" class=\"plotly-graph-div\" style=\"height:525px; width:100%;\"></div>\n",
       "            <script type=\"text/javascript\">\n",
       "                require([\"plotly\"], function(Plotly) {\n",
       "                    window.PLOTLYENV=window.PLOTLYENV || {};\n",
       "                    window.PLOTLYENV.BASE_URL='https://plot.ly';\n",
       "                    \n",
       "                if (document.getElementById(\"6a399866-6218-4184-97a5-826dc0e83dbb\")) {\n",
       "                    Plotly.newPlot(\n",
       "                        '6a399866-6218-4184-97a5-826dc0e83dbb',\n",
       "                        [{\"colorscale\": [[0.0, \"rgb(165,0,38)\"], [0.1, \"rgb(215,48,39)\"], [0.2, \"rgb(244,109,67)\"], [0.3, \"rgb(253,174,97)\"], [0.4, \"rgb(254,224,144)\"], [0.5, \"rgb(255,255,191)\"], [0.6, \"rgb(224,243,248)\"], [0.7, \"rgb(171,217,233)\"], [0.8, \"rgb(116,173,209)\"], [0.9, \"rgb(69,117,180)\"], [1.0, \"rgb(49,54,149)\"]], \"type\": \"surface\", \"x\": [0, 1, 2, 3, 4], \"y\": [\"x\", \"y\", \"z\"], \"z\": [[1, 2, 3, 4, 5], [10, 20, 30, 20, 10], [5, 4, 3, 2, 1]]}],\n",
       "                        {\"legend\": {\"bgcolor\": \"#F5F6F9\", \"font\": {\"color\": \"#4D5663\"}}, \"paper_bgcolor\": \"#F5F6F9\", \"plot_bgcolor\": \"#F5F6F9\", \"template\": {\"data\": {\"bar\": [{\"error_x\": {\"color\": \"#2a3f5f\"}, \"error_y\": {\"color\": \"#2a3f5f\"}, \"marker\": {\"line\": {\"color\": \"#E5ECF6\", \"width\": 0.5}}, \"type\": \"bar\"}], \"barpolar\": [{\"marker\": {\"line\": {\"color\": \"#E5ECF6\", \"width\": 0.5}}, \"type\": \"barpolar\"}], \"carpet\": [{\"aaxis\": {\"endlinecolor\": \"#2a3f5f\", \"gridcolor\": \"white\", \"linecolor\": \"white\", \"minorgridcolor\": \"white\", \"startlinecolor\": \"#2a3f5f\"}, \"baxis\": {\"endlinecolor\": \"#2a3f5f\", \"gridcolor\": \"white\", \"linecolor\": \"white\", \"minorgridcolor\": \"white\", \"startlinecolor\": \"#2a3f5f\"}, \"type\": \"carpet\"}], \"choropleth\": [{\"colorbar\": {\"outlinewidth\": 0, \"ticks\": \"\"}, \"type\": \"choropleth\"}], \"contour\": [{\"colorbar\": {\"outlinewidth\": 0, \"ticks\": \"\"}, \"colorscale\": [[0.0, \"#0d0887\"], [0.1111111111111111, \"#46039f\"], [0.2222222222222222, \"#7201a8\"], [0.3333333333333333, \"#9c179e\"], [0.4444444444444444, \"#bd3786\"], [0.5555555555555556, \"#d8576b\"], [0.6666666666666666, \"#ed7953\"], [0.7777777777777778, \"#fb9f3a\"], [0.8888888888888888, \"#fdca26\"], [1.0, \"#f0f921\"]], \"type\": \"contour\"}], \"contourcarpet\": [{\"colorbar\": {\"outlinewidth\": 0, \"ticks\": \"\"}, \"type\": \"contourcarpet\"}], \"heatmap\": [{\"colorbar\": {\"outlinewidth\": 0, \"ticks\": \"\"}, \"colorscale\": [[0.0, \"#0d0887\"], [0.1111111111111111, \"#46039f\"], [0.2222222222222222, \"#7201a8\"], [0.3333333333333333, \"#9c179e\"], [0.4444444444444444, \"#bd3786\"], [0.5555555555555556, \"#d8576b\"], [0.6666666666666666, \"#ed7953\"], [0.7777777777777778, \"#fb9f3a\"], [0.8888888888888888, \"#fdca26\"], [1.0, \"#f0f921\"]], \"type\": \"heatmap\"}], \"heatmapgl\": [{\"colorbar\": {\"outlinewidth\": 0, \"ticks\": \"\"}, \"colorscale\": [[0.0, \"#0d0887\"], [0.1111111111111111, \"#46039f\"], [0.2222222222222222, \"#7201a8\"], [0.3333333333333333, \"#9c179e\"], [0.4444444444444444, \"#bd3786\"], [0.5555555555555556, \"#d8576b\"], [0.6666666666666666, \"#ed7953\"], [0.7777777777777778, \"#fb9f3a\"], [0.8888888888888888, \"#fdca26\"], [1.0, \"#f0f921\"]], \"type\": \"heatmapgl\"}], \"histogram\": [{\"marker\": {\"colorbar\": {\"outlinewidth\": 0, \"ticks\": \"\"}}, \"type\": \"histogram\"}], \"histogram2d\": [{\"colorbar\": {\"outlinewidth\": 0, \"ticks\": \"\"}, \"colorscale\": [[0.0, \"#0d0887\"], [0.1111111111111111, \"#46039f\"], [0.2222222222222222, \"#7201a8\"], [0.3333333333333333, \"#9c179e\"], [0.4444444444444444, \"#bd3786\"], [0.5555555555555556, \"#d8576b\"], [0.6666666666666666, \"#ed7953\"], [0.7777777777777778, \"#fb9f3a\"], [0.8888888888888888, \"#fdca26\"], [1.0, \"#f0f921\"]], \"type\": \"histogram2d\"}], \"histogram2dcontour\": [{\"colorbar\": {\"outlinewidth\": 0, \"ticks\": \"\"}, \"colorscale\": [[0.0, \"#0d0887\"], [0.1111111111111111, \"#46039f\"], [0.2222222222222222, \"#7201a8\"], [0.3333333333333333, \"#9c179e\"], [0.4444444444444444, \"#bd3786\"], [0.5555555555555556, \"#d8576b\"], [0.6666666666666666, \"#ed7953\"], [0.7777777777777778, \"#fb9f3a\"], [0.8888888888888888, \"#fdca26\"], [1.0, \"#f0f921\"]], \"type\": \"histogram2dcontour\"}], \"mesh3d\": [{\"colorbar\": {\"outlinewidth\": 0, \"ticks\": \"\"}, \"type\": \"mesh3d\"}], \"parcoords\": [{\"line\": {\"colorbar\": {\"outlinewidth\": 0, \"ticks\": \"\"}}, \"type\": \"parcoords\"}], \"pie\": [{\"automargin\": true, \"type\": \"pie\"}], \"scatter\": [{\"marker\": {\"colorbar\": {\"outlinewidth\": 0, \"ticks\": \"\"}}, \"type\": \"scatter\"}], \"scatter3d\": [{\"line\": {\"colorbar\": {\"outlinewidth\": 0, \"ticks\": \"\"}}, \"marker\": {\"colorbar\": {\"outlinewidth\": 0, \"ticks\": \"\"}}, \"type\": \"scatter3d\"}], \"scattercarpet\": [{\"marker\": {\"colorbar\": {\"outlinewidth\": 0, \"ticks\": \"\"}}, \"type\": \"scattercarpet\"}], \"scattergeo\": [{\"marker\": {\"colorbar\": {\"outlinewidth\": 0, \"ticks\": \"\"}}, \"type\": \"scattergeo\"}], \"scattergl\": [{\"marker\": {\"colorbar\": {\"outlinewidth\": 0, \"ticks\": \"\"}}, \"type\": \"scattergl\"}], \"scattermapbox\": [{\"marker\": {\"colorbar\": {\"outlinewidth\": 0, \"ticks\": \"\"}}, \"type\": \"scattermapbox\"}], \"scatterpolar\": [{\"marker\": {\"colorbar\": {\"outlinewidth\": 0, \"ticks\": \"\"}}, \"type\": \"scatterpolar\"}], \"scatterpolargl\": [{\"marker\": {\"colorbar\": {\"outlinewidth\": 0, \"ticks\": \"\"}}, \"type\": \"scatterpolargl\"}], \"scatterternary\": [{\"marker\": {\"colorbar\": {\"outlinewidth\": 0, \"ticks\": \"\"}}, \"type\": \"scatterternary\"}], \"surface\": [{\"colorbar\": {\"outlinewidth\": 0, \"ticks\": \"\"}, \"colorscale\": [[0.0, \"#0d0887\"], [0.1111111111111111, \"#46039f\"], [0.2222222222222222, \"#7201a8\"], [0.3333333333333333, \"#9c179e\"], [0.4444444444444444, \"#bd3786\"], [0.5555555555555556, \"#d8576b\"], [0.6666666666666666, \"#ed7953\"], [0.7777777777777778, \"#fb9f3a\"], [0.8888888888888888, \"#fdca26\"], [1.0, \"#f0f921\"]], \"type\": \"surface\"}], \"table\": [{\"cells\": {\"fill\": {\"color\": \"#EBF0F8\"}, \"line\": {\"color\": \"white\"}}, \"header\": {\"fill\": {\"color\": \"#C8D4E3\"}, \"line\": {\"color\": \"white\"}}, \"type\": \"table\"}]}, \"layout\": {\"annotationdefaults\": {\"arrowcolor\": \"#2a3f5f\", \"arrowhead\": 0, \"arrowwidth\": 1}, \"coloraxis\": {\"colorbar\": {\"outlinewidth\": 0, \"ticks\": \"\"}}, \"colorscale\": {\"diverging\": [[0, \"#8e0152\"], [0.1, \"#c51b7d\"], [0.2, \"#de77ae\"], [0.3, \"#f1b6da\"], [0.4, \"#fde0ef\"], [0.5, \"#f7f7f7\"], [0.6, \"#e6f5d0\"], [0.7, \"#b8e186\"], [0.8, \"#7fbc41\"], [0.9, \"#4d9221\"], [1, \"#276419\"]], \"sequential\": [[0.0, \"#0d0887\"], [0.1111111111111111, \"#46039f\"], [0.2222222222222222, \"#7201a8\"], [0.3333333333333333, \"#9c179e\"], [0.4444444444444444, \"#bd3786\"], [0.5555555555555556, \"#d8576b\"], [0.6666666666666666, \"#ed7953\"], [0.7777777777777778, \"#fb9f3a\"], [0.8888888888888888, \"#fdca26\"], [1.0, \"#f0f921\"]], \"sequentialminus\": [[0.0, \"#0d0887\"], [0.1111111111111111, \"#46039f\"], [0.2222222222222222, \"#7201a8\"], [0.3333333333333333, \"#9c179e\"], [0.4444444444444444, \"#bd3786\"], [0.5555555555555556, \"#d8576b\"], [0.6666666666666666, \"#ed7953\"], [0.7777777777777778, \"#fb9f3a\"], [0.8888888888888888, \"#fdca26\"], [1.0, \"#f0f921\"]]}, \"colorway\": [\"#636efa\", \"#EF553B\", \"#00cc96\", \"#ab63fa\", \"#FFA15A\", \"#19d3f3\", \"#FF6692\", \"#B6E880\", \"#FF97FF\", \"#FECB52\"], \"font\": {\"color\": \"#2a3f5f\"}, \"geo\": {\"bgcolor\": \"white\", \"lakecolor\": \"white\", \"landcolor\": \"#E5ECF6\", \"showlakes\": true, \"showland\": true, \"subunitcolor\": \"white\"}, \"hoverlabel\": {\"align\": \"left\"}, \"hovermode\": \"closest\", \"mapbox\": {\"style\": \"light\"}, \"paper_bgcolor\": \"white\", \"plot_bgcolor\": \"#E5ECF6\", \"polar\": {\"angularaxis\": {\"gridcolor\": \"white\", \"linecolor\": \"white\", \"ticks\": \"\"}, \"bgcolor\": \"#E5ECF6\", \"radialaxis\": {\"gridcolor\": \"white\", \"linecolor\": \"white\", \"ticks\": \"\"}}, \"scene\": {\"xaxis\": {\"backgroundcolor\": \"#E5ECF6\", \"gridcolor\": \"white\", \"gridwidth\": 2, \"linecolor\": \"white\", \"showbackground\": true, \"ticks\": \"\", \"zerolinecolor\": \"white\"}, \"yaxis\": {\"backgroundcolor\": \"#E5ECF6\", \"gridcolor\": \"white\", \"gridwidth\": 2, \"linecolor\": \"white\", \"showbackground\": true, \"ticks\": \"\", \"zerolinecolor\": \"white\"}, \"zaxis\": {\"backgroundcolor\": \"#E5ECF6\", \"gridcolor\": \"white\", \"gridwidth\": 2, \"linecolor\": \"white\", \"showbackground\": true, \"ticks\": \"\", \"zerolinecolor\": \"white\"}}, \"shapedefaults\": {\"line\": {\"color\": \"#2a3f5f\"}}, \"ternary\": {\"aaxis\": {\"gridcolor\": \"white\", \"linecolor\": \"white\", \"ticks\": \"\"}, \"baxis\": {\"gridcolor\": \"white\", \"linecolor\": \"white\", \"ticks\": \"\"}, \"bgcolor\": \"#E5ECF6\", \"caxis\": {\"gridcolor\": \"white\", \"linecolor\": \"white\", \"ticks\": \"\"}}, \"title\": {\"x\": 0.05}, \"xaxis\": {\"automargin\": true, \"gridcolor\": \"white\", \"linecolor\": \"white\", \"ticks\": \"\", \"title\": {\"standoff\": 15}, \"zerolinecolor\": \"white\", \"zerolinewidth\": 2}, \"yaxis\": {\"automargin\": true, \"gridcolor\": \"white\", \"linecolor\": \"white\", \"ticks\": \"\", \"title\": {\"standoff\": 15}, \"zerolinecolor\": \"white\", \"zerolinewidth\": 2}}}, \"title\": {\"font\": {\"color\": \"#4D5663\"}}, \"xaxis\": {\"gridcolor\": \"#E1E5ED\", \"showgrid\": true, \"tickfont\": {\"color\": \"#4D5663\"}, \"title\": {\"font\": {\"color\": \"#4D5663\"}, \"text\": \"\"}, \"zerolinecolor\": \"#E1E5ED\"}, \"yaxis\": {\"gridcolor\": \"#E1E5ED\", \"showgrid\": true, \"tickfont\": {\"color\": \"#4D5663\"}, \"title\": {\"font\": {\"color\": \"#4D5663\"}, \"text\": \"\"}, \"zerolinecolor\": \"#E1E5ED\"}},\n",
       "                        {\"showLink\": true, \"linkText\": \"Export to plot.ly\", \"plotlyServerURL\": \"https://plot.ly\", \"responsive\": true}\n",
       "                    ).then(function(){\n",
       "                            \n",
       "var gd = document.getElementById('6a399866-6218-4184-97a5-826dc0e83dbb');\n",
       "var x = new MutationObserver(function (mutations, observer) {{\n",
       "        var display = window.getComputedStyle(gd).display;\n",
       "        if (!display || display === 'none') {{\n",
       "            console.log([gd, 'removed!']);\n",
       "            Plotly.purge(gd);\n",
       "            observer.disconnect();\n",
       "        }}\n",
       "}});\n",
       "\n",
       "// Listen for the removal of the full notebook cells\n",
       "var notebookContainer = gd.closest('#notebook-container');\n",
       "if (notebookContainer) {{\n",
       "    x.observe(notebookContainer, {childList: true});\n",
       "}}\n",
       "\n",
       "// Listen for the clearing of the current output cell\n",
       "var outputEl = gd.closest('.output');\n",
       "if (outputEl) {{\n",
       "    x.observe(outputEl, {childList: true});\n",
       "}}\n",
       "\n",
       "                        })\n",
       "                };\n",
       "                });\n",
       "            </script>\n",
       "        </div>"
      ]
     },
     "metadata": {},
     "output_type": "display_data"
    }
   ],
   "source": [
    "df3 = pd.DataFrame({'x':[1,2,3,4,5],'y':[10,20,30,20,10],'z':[5,4,3,2,1]})\n",
    "df3.iplot(kind='surface',colorscale='rdylbu')"
   ]
  },
  {
   "cell_type": "markdown",
   "metadata": {},
   "source": [
    "## Spread"
   ]
  },
  {
   "cell_type": "code",
   "execution_count": 17,
   "metadata": {},
   "outputs": [
    {
     "name": "stderr",
     "output_type": "stream",
     "text": [
      "D:\\Programs\\Anaconda3\\lib\\site-packages\\cufflinks\\plotlytools.py:849: FutureWarning:\n",
      "\n",
      "The pandas.np module is deprecated and will be removed from pandas in a future version. Import numpy directly instead\n",
      "\n",
      "D:\\Programs\\Anaconda3\\lib\\site-packages\\cufflinks\\plotlytools.py:850: FutureWarning:\n",
      "\n",
      "The pandas.np module is deprecated and will be removed from pandas in a future version. Import numpy directly instead\n",
      "\n"
     ]
    },
    {
     "data": {
      "application/vnd.plotly.v1+json": {
       "config": {
        "linkText": "Export to plot.ly",
        "plotlyServerURL": "https://plot.ly",
        "showLink": true
       },
       "data": [
        {
         "line": {
          "color": "rgba(255, 153, 51, 1.0)",
          "dash": "solid",
          "shape": "linear",
          "width": 1.3
         },
         "mode": "lines",
         "name": "A",
         "text": "",
         "type": "scatter",
         "x": [
          0,
          1,
          2,
          3,
          4,
          5,
          6,
          7,
          8,
          9,
          10,
          11,
          12,
          13,
          14,
          15,
          16,
          17,
          18,
          19,
          20,
          21,
          22,
          23,
          24,
          25,
          26,
          27,
          28,
          29,
          30,
          31,
          32,
          33,
          34,
          35,
          36,
          37,
          38,
          39,
          40,
          41,
          42,
          43,
          44,
          45,
          46,
          47,
          48,
          49,
          50,
          51,
          52,
          53,
          54,
          55,
          56,
          57,
          58,
          59,
          60,
          61,
          62,
          63,
          64,
          65,
          66,
          67,
          68,
          69,
          70,
          71,
          72,
          73,
          74,
          75,
          76,
          77,
          78,
          79,
          80,
          81,
          82,
          83,
          84,
          85,
          86,
          87,
          88,
          89,
          90,
          91,
          92,
          93,
          94,
          95,
          96,
          97,
          98,
          99
         ],
         "y": [
          0.3696420558197603,
          0.5253992122905893,
          -1.037046991780036,
          0.24758500485110949,
          -1.8474714207170502,
          1.3011206429284472,
          -0.9335639569440436,
          0.7693596664680276,
          -0.7354420564182146,
          -0.3897801777723191,
          -0.5361110290279926,
          -0.11335978345336128,
          0.5034703014821329,
          0.6862383833141485,
          -0.998068344328191,
          -1.0158631125325421,
          0.004348380037364213,
          0.41957675079592427,
          2.301491454423374,
          1.4561157709628787,
          -0.39543442769501835,
          -2.9977343866583146,
          0.4606828596039337,
          0.4125115418393969,
          -1.6772472028110024,
          0.4847284875647718,
          0.13514321173399585,
          -0.8501933743837765,
          0.7661903176591959,
          0.2556084067919436,
          1.2092208938314986,
          -0.9641519723820355,
          -0.4929362943760437,
          0.28872133688964635,
          -0.9942239232924204,
          -0.17732241365179743,
          -1.167011992737201,
          -0.02479701877713464,
          -1.3437385112074935,
          -0.13425512337211468,
          -1.1387426056206769,
          -0.152654355616287,
          -0.20396279915057616,
          -1.09589281461307,
          -1.8186866319970554,
          -1.419713115103019,
          1.1238921197556309,
          -0.25238924820713565,
          0.8003631231624078,
          1.510325015083661,
          0.15693663155427395,
          -1.7131257418818993,
          -0.73964880933293,
          -0.9491578573939075,
          -0.030022804907188512,
          1.1710417549444856,
          0.12729687189798403,
          -0.005807129205971171,
          -0.028565868349607577,
          -0.4819911680944219,
          -1.518892135299185,
          -0.576390236024212,
          0.36059632276433357,
          -0.12057217071166919,
          0.15762625193431426,
          0.06810068428376627,
          0.6367262505638114,
          -2.1102698964980773,
          -0.7082699504905734,
          -0.2941154121319468,
          0.126635294372914,
          -0.40570278219914246,
          0.35808490553594086,
          -1.0342876768719167,
          -1.1947571676836943,
          0.5541810575018407,
          1.5133993382594308,
          -0.9003410000358811,
          -0.8560779010303979,
          2.030211579966576,
          0.582959641868816,
          0.8494972234950936,
          1.1581283542388061,
          0.6879489752136857,
          -0.8493140319400361,
          -0.6133085997176515,
          -0.2850937172340025,
          -0.9857890053489234,
          -0.09162341605494383,
          -1.0244112466360455,
          1.393245285512462,
          0.03430148884087417,
          0.37283225888140187,
          0.1487104846347837,
          -1.256860203558932,
          0.3464741711743709,
          -0.31822087540002797,
          1.384161939100568,
          0.060376550504078835,
          -1.5736730924838451
         ]
        },
        {
         "line": {
          "color": "rgba(55, 128, 191, 1.0)",
          "dash": "solid",
          "shape": "linear",
          "width": 1.3
         },
         "mode": "lines",
         "name": "B",
         "text": "",
         "type": "scatter",
         "x": [
          0,
          1,
          2,
          3,
          4,
          5,
          6,
          7,
          8,
          9,
          10,
          11,
          12,
          13,
          14,
          15,
          16,
          17,
          18,
          19,
          20,
          21,
          22,
          23,
          24,
          25,
          26,
          27,
          28,
          29,
          30,
          31,
          32,
          33,
          34,
          35,
          36,
          37,
          38,
          39,
          40,
          41,
          42,
          43,
          44,
          45,
          46,
          47,
          48,
          49,
          50,
          51,
          52,
          53,
          54,
          55,
          56,
          57,
          58,
          59,
          60,
          61,
          62,
          63,
          64,
          65,
          66,
          67,
          68,
          69,
          70,
          71,
          72,
          73,
          74,
          75,
          76,
          77,
          78,
          79,
          80,
          81,
          82,
          83,
          84,
          85,
          86,
          87,
          88,
          89,
          90,
          91,
          92,
          93,
          94,
          95,
          96,
          97,
          98,
          99
         ],
         "y": [
          1.8544854469766379,
          0.7836177074308012,
          -0.7023952067731887,
          -1.6590009035343811,
          0.5368017098635539,
          -0.3523782119696855,
          0.16226175563893364,
          0.7264061191098,
          -1.2499210848417084,
          0.1929954220383031,
          -0.21386919859532105,
          -0.29271630353287986,
          -0.6611903651266722,
          0.744638175086269,
          0.2040438468422435,
          0.8584320617049238,
          0.850452155003359,
          -1.3659953542696026,
          -0.05578684509734393,
          0.6323620787780885,
          0.2837188925661103,
          -0.30468203874642236,
          -2.8251949591332033,
          0.34430547180085386,
          -0.9974663044329387,
          1.0962755508149857,
          -1.7792529363166523,
          1.1933040966037836,
          0.07152250341734986,
          -0.36871156263976,
          0.4574508446904451,
          -1.75587070274968,
          -1.59898164109928,
          -1.6860266836224718,
          -0.3277867055238577,
          -1.3629489107165276,
          1.0412266116381714,
          0.7179155165752484,
          1.6930515185472383,
          1.289448459481413,
          0.30362087590713316,
          -2.1528501300606946,
          -1.0134696144934496,
          -0.15636623271294586,
          0.8380139710009594,
          0.5579228915062908,
          0.5368016312120132,
          -0.5078470766397161,
          -0.845020274882293,
          -0.5032619357012125,
          0.09063142724378265,
          1.3230502586330954,
          0.605470890269384,
          -1.4491029065733194,
          1.5350799697628166,
          -0.4887321951171857,
          -1.9780210133324072,
          -0.09137475763597733,
          -0.7403203584012117,
          0.7224915860473682,
          0.7062391710651873,
          0.2012465686323864,
          -1.418854798097011,
          -1.8166350247694463,
          -1.1893933087052846,
          1.6008006185133081,
          -1.3828919131099306,
          -0.3939760308123558,
          -0.8518355622060666,
          -0.792128482209907,
          1.3826855098314517,
          0.19896340055223444,
          -0.23145050018903338,
          -0.47964419762986166,
          -0.44283720384580877,
          0.2975083383573253,
          -1.0702080056630172,
          0.3714803864386964,
          -1.7713799252108353,
          -0.05361606457323116,
          1.2773542153545079,
          1.130147907205399,
          0.672508729528042,
          -0.04422356786938887,
          0.06591820760695383,
          0.8657351394759569,
          -1.149166652831269,
          1.2801278124161366,
          0.7053245114339901,
          -0.6450090266750952,
          0.22479835435854695,
          -1.5687383321523662,
          -1.6711767415185925,
          0.18688677530668604,
          0.4801646737727269,
          1.27730447068291,
          1.5312853572122618,
          -0.003243945845103304,
          0.31545108378705483,
          0.8001980688130594
         ]
        },
        {
         "connectgaps": false,
         "fill": "tozeroy",
         "line": {
          "color": "green",
          "dash": "solid",
          "shape": "linear",
          "width": 0.5
         },
         "mode": "lines",
         "name": "Spread",
         "showlegend": false,
         "type": "scatter",
         "x": [
          0,
          1,
          2,
          3,
          4,
          5,
          6,
          7,
          8,
          9,
          10,
          11,
          12,
          13,
          14,
          15,
          16,
          17,
          18,
          19,
          20,
          21,
          22,
          23,
          24,
          25,
          26,
          27,
          28,
          29,
          30,
          31,
          32,
          33,
          34,
          35,
          36,
          37,
          38,
          39,
          40,
          41,
          42,
          43,
          44,
          45,
          46,
          47,
          48,
          49,
          50,
          51,
          52,
          53,
          54,
          55,
          56,
          57,
          58,
          59,
          60,
          61,
          62,
          63,
          64,
          65,
          66,
          67,
          68,
          69,
          70,
          71,
          72,
          73,
          74,
          75,
          76,
          77,
          78,
          79,
          80,
          81,
          82,
          83,
          84,
          85,
          86,
          87,
          88,
          89,
          90,
          91,
          92,
          93,
          94,
          95,
          96,
          97,
          98,
          99
         ],
         "xaxis": "x2",
         "y": [
          "",
          "",
          "",
          1.9065859083854906,
          "",
          1.6534988548981326,
          "",
          0.04295354735822754,
          0.5144790284234938,
          "",
          "",
          0.17935652007951858,
          1.164660666608805,
          "",
          "",
          "",
          "",
          1.7855721050655269,
          2.357278299520718,
          0.8237536921847902,
          "",
          "",
          3.285877818737137,
          0.06820607003854307,
          "",
          "",
          1.9143961480506482,
          "",
          0.694667814241846,
          0.6243199694317036,
          0.7517700491410535,
          0.7917187303676445,
          1.1060453467232363,
          1.9747480205121182,
          "",
          1.1856264970647301,
          "",
          "",
          "",
          "",
          "",
          2.0001957744444074,
          0.8095068153428735,
          "",
          "",
          "",
          0.5870904885436177,
          0.2554578284325804,
          1.6453833980447008,
          2.013586950784873,
          0.0663052043104913,
          "",
          "",
          0.49994504917941196,
          "",
          1.6597739500616713,
          2.105317885230391,
          0.08556762843000616,
          0.7117544900516041,
          "",
          "",
          "",
          1.7794511208613446,
          1.6960628540577771,
          1.347019560639599,
          "",
          2.019618163673742,
          "",
          0.1435656117154932,
          0.49801307007796014,
          "",
          "",
          0.5895354057249742,
          "",
          "",
          0.25667271914451534,
          2.583607343922448,
          "",
          0.9153020241804374,
          2.083827644539807,
          "",
          "",
          0.48561962471076414,
          0.7321725430830746,
          "",
          "",
          0.8640729355972665,
          "",
          "",
          "",
          1.168446931153915,
          1.6030398209932404,
          2.0440090003999942,
          "",
          "",
          "",
          "",
          1.3874058849456712,
          "",
          ""
         ],
         "yaxis": "y2"
        },
        {
         "connectgaps": false,
         "fill": "tozeroy",
         "line": {
          "color": "red",
          "dash": "solid",
          "shape": "linear",
          "width": 0.5
         },
         "mode": "lines",
         "name": "Spread",
         "showlegend": false,
         "type": "scatter",
         "x": [
          0,
          1,
          2,
          3,
          4,
          5,
          6,
          7,
          8,
          9,
          10,
          11,
          12,
          13,
          14,
          15,
          16,
          17,
          18,
          19,
          20,
          21,
          22,
          23,
          24,
          25,
          26,
          27,
          28,
          29,
          30,
          31,
          32,
          33,
          34,
          35,
          36,
          37,
          38,
          39,
          40,
          41,
          42,
          43,
          44,
          45,
          46,
          47,
          48,
          49,
          50,
          51,
          52,
          53,
          54,
          55,
          56,
          57,
          58,
          59,
          60,
          61,
          62,
          63,
          64,
          65,
          66,
          67,
          68,
          69,
          70,
          71,
          72,
          73,
          74,
          75,
          76,
          77,
          78,
          79,
          80,
          81,
          82,
          83,
          84,
          85,
          86,
          87,
          88,
          89,
          90,
          91,
          92,
          93,
          94,
          95,
          96,
          97,
          98,
          99
         ],
         "xaxis": "x2",
         "y": [
          -1.4848433911568777,
          -0.2582184951402119,
          -0.33465178500684734,
          "",
          -2.384273130580604,
          "",
          -1.0958257125829771,
          "",
          "",
          -0.5827755998106222,
          -0.3222418304326715,
          "",
          "",
          -0.0583997917721204,
          -1.2021121911704344,
          -1.8742951742374658,
          -0.8461037749659948,
          "",
          "",
          "",
          -0.6791533202611286,
          -2.6930523479118924,
          "",
          "",
          -0.6797808983780637,
          -0.6115470632502139,
          "",
          -2.04349747098756,
          "",
          "",
          "",
          "",
          "",
          "",
          -0.6664372177685627,
          "",
          -2.2082386043753726,
          -0.7427125353523831,
          -3.036790029754732,
          -1.4237035828535278,
          -1.44236348152781,
          "",
          "",
          -0.9395265819001242,
          -2.656700602998015,
          -1.9776360066093097,
          "",
          "",
          "",
          "",
          "",
          -3.0361760005149945,
          -1.345119699602314,
          "",
          -1.565102774670005,
          "",
          "",
          "",
          "",
          -1.20448275414179,
          -2.2251313063643723,
          -0.7776368046565985,
          "",
          "",
          "",
          -1.5326999342295418,
          "",
          -1.7162938656857214,
          "",
          "",
          -1.2560502154585378,
          -0.6046661827513768,
          "",
          -0.554643479242055,
          -0.7519199638378855,
          "",
          "",
          -1.2718213864745775,
          "",
          "",
          -0.6943945734856919,
          -0.28065068371030544,
          "",
          "",
          -0.9152322395469898,
          -1.4790437391936084,
          "",
          -2.26591681776506,
          -0.796947927488934,
          -0.37940221996095036,
          "",
          "",
          "",
          -0.03817629067190234,
          -1.737024877331659,
          -0.9308302995085391,
          -1.8495062326122897,
          "",
          -0.255074533282976,
          -2.3738711612969046
         ],
         "yaxis": "y2"
        }
       ],
       "layout": {
        "hovermode": "x",
        "legend": {
         "bgcolor": "#F5F6F9",
         "font": {
          "color": "#4D5663"
         }
        },
        "paper_bgcolor": "#F5F6F9",
        "plot_bgcolor": "#F5F6F9",
        "template": {
         "data": {
          "bar": [
           {
            "error_x": {
             "color": "#2a3f5f"
            },
            "error_y": {
             "color": "#2a3f5f"
            },
            "marker": {
             "line": {
              "color": "#E5ECF6",
              "width": 0.5
             }
            },
            "type": "bar"
           }
          ],
          "barpolar": [
           {
            "marker": {
             "line": {
              "color": "#E5ECF6",
              "width": 0.5
             }
            },
            "type": "barpolar"
           }
          ],
          "carpet": [
           {
            "aaxis": {
             "endlinecolor": "#2a3f5f",
             "gridcolor": "white",
             "linecolor": "white",
             "minorgridcolor": "white",
             "startlinecolor": "#2a3f5f"
            },
            "baxis": {
             "endlinecolor": "#2a3f5f",
             "gridcolor": "white",
             "linecolor": "white",
             "minorgridcolor": "white",
             "startlinecolor": "#2a3f5f"
            },
            "type": "carpet"
           }
          ],
          "choropleth": [
           {
            "colorbar": {
             "outlinewidth": 0,
             "ticks": ""
            },
            "type": "choropleth"
           }
          ],
          "contour": [
           {
            "colorbar": {
             "outlinewidth": 0,
             "ticks": ""
            },
            "colorscale": [
             [
              0,
              "#0d0887"
             ],
             [
              0.1111111111111111,
              "#46039f"
             ],
             [
              0.2222222222222222,
              "#7201a8"
             ],
             [
              0.3333333333333333,
              "#9c179e"
             ],
             [
              0.4444444444444444,
              "#bd3786"
             ],
             [
              0.5555555555555556,
              "#d8576b"
             ],
             [
              0.6666666666666666,
              "#ed7953"
             ],
             [
              0.7777777777777778,
              "#fb9f3a"
             ],
             [
              0.8888888888888888,
              "#fdca26"
             ],
             [
              1,
              "#f0f921"
             ]
            ],
            "type": "contour"
           }
          ],
          "contourcarpet": [
           {
            "colorbar": {
             "outlinewidth": 0,
             "ticks": ""
            },
            "type": "contourcarpet"
           }
          ],
          "heatmap": [
           {
            "colorbar": {
             "outlinewidth": 0,
             "ticks": ""
            },
            "colorscale": [
             [
              0,
              "#0d0887"
             ],
             [
              0.1111111111111111,
              "#46039f"
             ],
             [
              0.2222222222222222,
              "#7201a8"
             ],
             [
              0.3333333333333333,
              "#9c179e"
             ],
             [
              0.4444444444444444,
              "#bd3786"
             ],
             [
              0.5555555555555556,
              "#d8576b"
             ],
             [
              0.6666666666666666,
              "#ed7953"
             ],
             [
              0.7777777777777778,
              "#fb9f3a"
             ],
             [
              0.8888888888888888,
              "#fdca26"
             ],
             [
              1,
              "#f0f921"
             ]
            ],
            "type": "heatmap"
           }
          ],
          "heatmapgl": [
           {
            "colorbar": {
             "outlinewidth": 0,
             "ticks": ""
            },
            "colorscale": [
             [
              0,
              "#0d0887"
             ],
             [
              0.1111111111111111,
              "#46039f"
             ],
             [
              0.2222222222222222,
              "#7201a8"
             ],
             [
              0.3333333333333333,
              "#9c179e"
             ],
             [
              0.4444444444444444,
              "#bd3786"
             ],
             [
              0.5555555555555556,
              "#d8576b"
             ],
             [
              0.6666666666666666,
              "#ed7953"
             ],
             [
              0.7777777777777778,
              "#fb9f3a"
             ],
             [
              0.8888888888888888,
              "#fdca26"
             ],
             [
              1,
              "#f0f921"
             ]
            ],
            "type": "heatmapgl"
           }
          ],
          "histogram": [
           {
            "marker": {
             "colorbar": {
              "outlinewidth": 0,
              "ticks": ""
             }
            },
            "type": "histogram"
           }
          ],
          "histogram2d": [
           {
            "colorbar": {
             "outlinewidth": 0,
             "ticks": ""
            },
            "colorscale": [
             [
              0,
              "#0d0887"
             ],
             [
              0.1111111111111111,
              "#46039f"
             ],
             [
              0.2222222222222222,
              "#7201a8"
             ],
             [
              0.3333333333333333,
              "#9c179e"
             ],
             [
              0.4444444444444444,
              "#bd3786"
             ],
             [
              0.5555555555555556,
              "#d8576b"
             ],
             [
              0.6666666666666666,
              "#ed7953"
             ],
             [
              0.7777777777777778,
              "#fb9f3a"
             ],
             [
              0.8888888888888888,
              "#fdca26"
             ],
             [
              1,
              "#f0f921"
             ]
            ],
            "type": "histogram2d"
           }
          ],
          "histogram2dcontour": [
           {
            "colorbar": {
             "outlinewidth": 0,
             "ticks": ""
            },
            "colorscale": [
             [
              0,
              "#0d0887"
             ],
             [
              0.1111111111111111,
              "#46039f"
             ],
             [
              0.2222222222222222,
              "#7201a8"
             ],
             [
              0.3333333333333333,
              "#9c179e"
             ],
             [
              0.4444444444444444,
              "#bd3786"
             ],
             [
              0.5555555555555556,
              "#d8576b"
             ],
             [
              0.6666666666666666,
              "#ed7953"
             ],
             [
              0.7777777777777778,
              "#fb9f3a"
             ],
             [
              0.8888888888888888,
              "#fdca26"
             ],
             [
              1,
              "#f0f921"
             ]
            ],
            "type": "histogram2dcontour"
           }
          ],
          "mesh3d": [
           {
            "colorbar": {
             "outlinewidth": 0,
             "ticks": ""
            },
            "type": "mesh3d"
           }
          ],
          "parcoords": [
           {
            "line": {
             "colorbar": {
              "outlinewidth": 0,
              "ticks": ""
             }
            },
            "type": "parcoords"
           }
          ],
          "pie": [
           {
            "automargin": true,
            "type": "pie"
           }
          ],
          "scatter": [
           {
            "marker": {
             "colorbar": {
              "outlinewidth": 0,
              "ticks": ""
             }
            },
            "type": "scatter"
           }
          ],
          "scatter3d": [
           {
            "line": {
             "colorbar": {
              "outlinewidth": 0,
              "ticks": ""
             }
            },
            "marker": {
             "colorbar": {
              "outlinewidth": 0,
              "ticks": ""
             }
            },
            "type": "scatter3d"
           }
          ],
          "scattercarpet": [
           {
            "marker": {
             "colorbar": {
              "outlinewidth": 0,
              "ticks": ""
             }
            },
            "type": "scattercarpet"
           }
          ],
          "scattergeo": [
           {
            "marker": {
             "colorbar": {
              "outlinewidth": 0,
              "ticks": ""
             }
            },
            "type": "scattergeo"
           }
          ],
          "scattergl": [
           {
            "marker": {
             "colorbar": {
              "outlinewidth": 0,
              "ticks": ""
             }
            },
            "type": "scattergl"
           }
          ],
          "scattermapbox": [
           {
            "marker": {
             "colorbar": {
              "outlinewidth": 0,
              "ticks": ""
             }
            },
            "type": "scattermapbox"
           }
          ],
          "scatterpolar": [
           {
            "marker": {
             "colorbar": {
              "outlinewidth": 0,
              "ticks": ""
             }
            },
            "type": "scatterpolar"
           }
          ],
          "scatterpolargl": [
           {
            "marker": {
             "colorbar": {
              "outlinewidth": 0,
              "ticks": ""
             }
            },
            "type": "scatterpolargl"
           }
          ],
          "scatterternary": [
           {
            "marker": {
             "colorbar": {
              "outlinewidth": 0,
              "ticks": ""
             }
            },
            "type": "scatterternary"
           }
          ],
          "surface": [
           {
            "colorbar": {
             "outlinewidth": 0,
             "ticks": ""
            },
            "colorscale": [
             [
              0,
              "#0d0887"
             ],
             [
              0.1111111111111111,
              "#46039f"
             ],
             [
              0.2222222222222222,
              "#7201a8"
             ],
             [
              0.3333333333333333,
              "#9c179e"
             ],
             [
              0.4444444444444444,
              "#bd3786"
             ],
             [
              0.5555555555555556,
              "#d8576b"
             ],
             [
              0.6666666666666666,
              "#ed7953"
             ],
             [
              0.7777777777777778,
              "#fb9f3a"
             ],
             [
              0.8888888888888888,
              "#fdca26"
             ],
             [
              1,
              "#f0f921"
             ]
            ],
            "type": "surface"
           }
          ],
          "table": [
           {
            "cells": {
             "fill": {
              "color": "#EBF0F8"
             },
             "line": {
              "color": "white"
             }
            },
            "header": {
             "fill": {
              "color": "#C8D4E3"
             },
             "line": {
              "color": "white"
             }
            },
            "type": "table"
           }
          ]
         },
         "layout": {
          "annotationdefaults": {
           "arrowcolor": "#2a3f5f",
           "arrowhead": 0,
           "arrowwidth": 1
          },
          "coloraxis": {
           "colorbar": {
            "outlinewidth": 0,
            "ticks": ""
           }
          },
          "colorscale": {
           "diverging": [
            [
             0,
             "#8e0152"
            ],
            [
             0.1,
             "#c51b7d"
            ],
            [
             0.2,
             "#de77ae"
            ],
            [
             0.3,
             "#f1b6da"
            ],
            [
             0.4,
             "#fde0ef"
            ],
            [
             0.5,
             "#f7f7f7"
            ],
            [
             0.6,
             "#e6f5d0"
            ],
            [
             0.7,
             "#b8e186"
            ],
            [
             0.8,
             "#7fbc41"
            ],
            [
             0.9,
             "#4d9221"
            ],
            [
             1,
             "#276419"
            ]
           ],
           "sequential": [
            [
             0,
             "#0d0887"
            ],
            [
             0.1111111111111111,
             "#46039f"
            ],
            [
             0.2222222222222222,
             "#7201a8"
            ],
            [
             0.3333333333333333,
             "#9c179e"
            ],
            [
             0.4444444444444444,
             "#bd3786"
            ],
            [
             0.5555555555555556,
             "#d8576b"
            ],
            [
             0.6666666666666666,
             "#ed7953"
            ],
            [
             0.7777777777777778,
             "#fb9f3a"
            ],
            [
             0.8888888888888888,
             "#fdca26"
            ],
            [
             1,
             "#f0f921"
            ]
           ],
           "sequentialminus": [
            [
             0,
             "#0d0887"
            ],
            [
             0.1111111111111111,
             "#46039f"
            ],
            [
             0.2222222222222222,
             "#7201a8"
            ],
            [
             0.3333333333333333,
             "#9c179e"
            ],
            [
             0.4444444444444444,
             "#bd3786"
            ],
            [
             0.5555555555555556,
             "#d8576b"
            ],
            [
             0.6666666666666666,
             "#ed7953"
            ],
            [
             0.7777777777777778,
             "#fb9f3a"
            ],
            [
             0.8888888888888888,
             "#fdca26"
            ],
            [
             1,
             "#f0f921"
            ]
           ]
          },
          "colorway": [
           "#636efa",
           "#EF553B",
           "#00cc96",
           "#ab63fa",
           "#FFA15A",
           "#19d3f3",
           "#FF6692",
           "#B6E880",
           "#FF97FF",
           "#FECB52"
          ],
          "font": {
           "color": "#2a3f5f"
          },
          "geo": {
           "bgcolor": "white",
           "lakecolor": "white",
           "landcolor": "#E5ECF6",
           "showlakes": true,
           "showland": true,
           "subunitcolor": "white"
          },
          "hoverlabel": {
           "align": "left"
          },
          "hovermode": "closest",
          "mapbox": {
           "style": "light"
          },
          "paper_bgcolor": "white",
          "plot_bgcolor": "#E5ECF6",
          "polar": {
           "angularaxis": {
            "gridcolor": "white",
            "linecolor": "white",
            "ticks": ""
           },
           "bgcolor": "#E5ECF6",
           "radialaxis": {
            "gridcolor": "white",
            "linecolor": "white",
            "ticks": ""
           }
          },
          "scene": {
           "xaxis": {
            "backgroundcolor": "#E5ECF6",
            "gridcolor": "white",
            "gridwidth": 2,
            "linecolor": "white",
            "showbackground": true,
            "ticks": "",
            "zerolinecolor": "white"
           },
           "yaxis": {
            "backgroundcolor": "#E5ECF6",
            "gridcolor": "white",
            "gridwidth": 2,
            "linecolor": "white",
            "showbackground": true,
            "ticks": "",
            "zerolinecolor": "white"
           },
           "zaxis": {
            "backgroundcolor": "#E5ECF6",
            "gridcolor": "white",
            "gridwidth": 2,
            "linecolor": "white",
            "showbackground": true,
            "ticks": "",
            "zerolinecolor": "white"
           }
          },
          "shapedefaults": {
           "line": {
            "color": "#2a3f5f"
           }
          },
          "ternary": {
           "aaxis": {
            "gridcolor": "white",
            "linecolor": "white",
            "ticks": ""
           },
           "baxis": {
            "gridcolor": "white",
            "linecolor": "white",
            "ticks": ""
           },
           "bgcolor": "#E5ECF6",
           "caxis": {
            "gridcolor": "white",
            "linecolor": "white",
            "ticks": ""
           }
          },
          "title": {
           "x": 0.05
          },
          "xaxis": {
           "automargin": true,
           "gridcolor": "white",
           "linecolor": "white",
           "ticks": "",
           "title": {
            "standoff": 15
           },
           "zerolinecolor": "white",
           "zerolinewidth": 2
          },
          "yaxis": {
           "automargin": true,
           "gridcolor": "white",
           "linecolor": "white",
           "ticks": "",
           "title": {
            "standoff": 15
           },
           "zerolinecolor": "white",
           "zerolinewidth": 2
          }
         }
        },
        "title": {
         "font": {
          "color": "#4D5663"
         }
        },
        "xaxis": {
         "gridcolor": "#E1E5ED",
         "showgrid": true,
         "tickfont": {
          "color": "#4D5663"
         },
         "title": {
          "font": {
           "color": "#4D5663"
          },
          "text": ""
         },
         "zerolinecolor": "#E1E5ED"
        },
        "xaxis2": {
         "anchor": "y2",
         "gridcolor": "#E1E5ED",
         "showgrid": true,
         "showticklabels": false,
         "tickfont": {
          "color": "#4D5663"
         },
         "title": {
          "font": {
           "color": "#4D5663"
          },
          "text": ""
         },
         "zerolinecolor": "#E1E5ED"
        },
        "yaxis": {
         "domain": [
          0.3,
          1
         ],
         "gridcolor": "#E1E5ED",
         "showgrid": true,
         "tickfont": {
          "color": "#4D5663"
         },
         "title": {
          "font": {
           "color": "#4D5663"
          },
          "text": ""
         },
         "zerolinecolor": "#E1E5ED"
        },
        "yaxis2": {
         "domain": [
          0,
          0.25
         ],
         "gridcolor": "#E1E5ED",
         "showgrid": true,
         "tickfont": {
          "color": "#4D5663"
         },
         "title": {
          "font": {
           "color": "#4D5663"
          },
          "text": "Spread"
         },
         "zerolinecolor": "#E1E5ED"
        }
       }
      },
      "text/html": [
       "<div>\n",
       "        \n",
       "        \n",
       "            <div id=\"6eded674-66b4-40f4-8160-0f45420324c1\" class=\"plotly-graph-div\" style=\"height:525px; width:100%;\"></div>\n",
       "            <script type=\"text/javascript\">\n",
       "                require([\"plotly\"], function(Plotly) {\n",
       "                    window.PLOTLYENV=window.PLOTLYENV || {};\n",
       "                    window.PLOTLYENV.BASE_URL='https://plot.ly';\n",
       "                    \n",
       "                if (document.getElementById(\"6eded674-66b4-40f4-8160-0f45420324c1\")) {\n",
       "                    Plotly.newPlot(\n",
       "                        '6eded674-66b4-40f4-8160-0f45420324c1',\n",
       "                        [{\"line\": {\"color\": \"rgba(255, 153, 51, 1.0)\", \"dash\": \"solid\", \"shape\": \"linear\", \"width\": 1.3}, \"mode\": \"lines\", \"name\": \"A\", \"text\": \"\", \"type\": \"scatter\", \"x\": [0, 1, 2, 3, 4, 5, 6, 7, 8, 9, 10, 11, 12, 13, 14, 15, 16, 17, 18, 19, 20, 21, 22, 23, 24, 25, 26, 27, 28, 29, 30, 31, 32, 33, 34, 35, 36, 37, 38, 39, 40, 41, 42, 43, 44, 45, 46, 47, 48, 49, 50, 51, 52, 53, 54, 55, 56, 57, 58, 59, 60, 61, 62, 63, 64, 65, 66, 67, 68, 69, 70, 71, 72, 73, 74, 75, 76, 77, 78, 79, 80, 81, 82, 83, 84, 85, 86, 87, 88, 89, 90, 91, 92, 93, 94, 95, 96, 97, 98, 99], \"y\": [0.3696420558197603, 0.5253992122905893, -1.037046991780036, 0.24758500485110949, -1.8474714207170502, 1.3011206429284472, -0.9335639569440436, 0.7693596664680276, -0.7354420564182146, -0.3897801777723191, -0.5361110290279926, -0.11335978345336128, 0.5034703014821329, 0.6862383833141485, -0.998068344328191, -1.0158631125325421, 0.004348380037364213, 0.41957675079592427, 2.301491454423374, 1.4561157709628787, -0.39543442769501835, -2.9977343866583146, 0.4606828596039337, 0.4125115418393969, -1.6772472028110024, 0.4847284875647718, 0.13514321173399585, -0.8501933743837765, 0.7661903176591959, 0.2556084067919436, 1.2092208938314986, -0.9641519723820355, -0.4929362943760437, 0.28872133688964635, -0.9942239232924204, -0.17732241365179743, -1.167011992737201, -0.02479701877713464, -1.3437385112074935, -0.13425512337211468, -1.1387426056206769, -0.152654355616287, -0.20396279915057616, -1.09589281461307, -1.8186866319970554, -1.419713115103019, 1.1238921197556309, -0.25238924820713565, 0.8003631231624078, 1.510325015083661, 0.15693663155427395, -1.7131257418818993, -0.73964880933293, -0.9491578573939075, -0.030022804907188512, 1.1710417549444856, 0.12729687189798403, -0.005807129205971171, -0.028565868349607577, -0.4819911680944219, -1.518892135299185, -0.576390236024212, 0.36059632276433357, -0.12057217071166919, 0.15762625193431426, 0.06810068428376627, 0.6367262505638114, -2.1102698964980773, -0.7082699504905734, -0.2941154121319468, 0.126635294372914, -0.40570278219914246, 0.35808490553594086, -1.0342876768719167, -1.1947571676836943, 0.5541810575018407, 1.5133993382594308, -0.9003410000358811, -0.8560779010303979, 2.030211579966576, 0.582959641868816, 0.8494972234950936, 1.1581283542388061, 0.6879489752136857, -0.8493140319400361, -0.6133085997176515, -0.2850937172340025, -0.9857890053489234, -0.09162341605494383, -1.0244112466360455, 1.393245285512462, 0.03430148884087417, 0.37283225888140187, 0.1487104846347837, -1.256860203558932, 0.3464741711743709, -0.31822087540002797, 1.384161939100568, 0.060376550504078835, -1.5736730924838451]}, {\"line\": {\"color\": \"rgba(55, 128, 191, 1.0)\", \"dash\": \"solid\", \"shape\": \"linear\", \"width\": 1.3}, \"mode\": \"lines\", \"name\": \"B\", \"text\": \"\", \"type\": \"scatter\", \"x\": [0, 1, 2, 3, 4, 5, 6, 7, 8, 9, 10, 11, 12, 13, 14, 15, 16, 17, 18, 19, 20, 21, 22, 23, 24, 25, 26, 27, 28, 29, 30, 31, 32, 33, 34, 35, 36, 37, 38, 39, 40, 41, 42, 43, 44, 45, 46, 47, 48, 49, 50, 51, 52, 53, 54, 55, 56, 57, 58, 59, 60, 61, 62, 63, 64, 65, 66, 67, 68, 69, 70, 71, 72, 73, 74, 75, 76, 77, 78, 79, 80, 81, 82, 83, 84, 85, 86, 87, 88, 89, 90, 91, 92, 93, 94, 95, 96, 97, 98, 99], \"y\": [1.8544854469766379, 0.7836177074308012, -0.7023952067731887, -1.6590009035343811, 0.5368017098635539, -0.3523782119696855, 0.16226175563893364, 0.7264061191098, -1.2499210848417084, 0.1929954220383031, -0.21386919859532105, -0.29271630353287986, -0.6611903651266722, 0.744638175086269, 0.2040438468422435, 0.8584320617049238, 0.850452155003359, -1.3659953542696026, -0.05578684509734393, 0.6323620787780885, 0.2837188925661103, -0.30468203874642236, -2.8251949591332033, 0.34430547180085386, -0.9974663044329387, 1.0962755508149857, -1.7792529363166523, 1.1933040966037836, 0.07152250341734986, -0.36871156263976, 0.4574508446904451, -1.75587070274968, -1.59898164109928, -1.6860266836224718, -0.3277867055238577, -1.3629489107165276, 1.0412266116381714, 0.7179155165752484, 1.6930515185472383, 1.289448459481413, 0.30362087590713316, -2.1528501300606946, -1.0134696144934496, -0.15636623271294586, 0.8380139710009594, 0.5579228915062908, 0.5368016312120132, -0.5078470766397161, -0.845020274882293, -0.5032619357012125, 0.09063142724378265, 1.3230502586330954, 0.605470890269384, -1.4491029065733194, 1.5350799697628166, -0.4887321951171857, -1.9780210133324072, -0.09137475763597733, -0.7403203584012117, 0.7224915860473682, 0.7062391710651873, 0.2012465686323864, -1.418854798097011, -1.8166350247694463, -1.1893933087052846, 1.6008006185133081, -1.3828919131099306, -0.3939760308123558, -0.8518355622060666, -0.792128482209907, 1.3826855098314517, 0.19896340055223444, -0.23145050018903338, -0.47964419762986166, -0.44283720384580877, 0.2975083383573253, -1.0702080056630172, 0.3714803864386964, -1.7713799252108353, -0.05361606457323116, 1.2773542153545079, 1.130147907205399, 0.672508729528042, -0.04422356786938887, 0.06591820760695383, 0.8657351394759569, -1.149166652831269, 1.2801278124161366, 0.7053245114339901, -0.6450090266750952, 0.22479835435854695, -1.5687383321523662, -1.6711767415185925, 0.18688677530668604, 0.4801646737727269, 1.27730447068291, 1.5312853572122618, -0.003243945845103304, 0.31545108378705483, 0.8001980688130594]}, {\"connectgaps\": false, \"fill\": \"tozeroy\", \"line\": {\"color\": \"green\", \"dash\": \"solid\", \"shape\": \"linear\", \"width\": 0.5}, \"mode\": \"lines\", \"name\": \"Spread\", \"showlegend\": false, \"type\": \"scatter\", \"x\": [0, 1, 2, 3, 4, 5, 6, 7, 8, 9, 10, 11, 12, 13, 14, 15, 16, 17, 18, 19, 20, 21, 22, 23, 24, 25, 26, 27, 28, 29, 30, 31, 32, 33, 34, 35, 36, 37, 38, 39, 40, 41, 42, 43, 44, 45, 46, 47, 48, 49, 50, 51, 52, 53, 54, 55, 56, 57, 58, 59, 60, 61, 62, 63, 64, 65, 66, 67, 68, 69, 70, 71, 72, 73, 74, 75, 76, 77, 78, 79, 80, 81, 82, 83, 84, 85, 86, 87, 88, 89, 90, 91, 92, 93, 94, 95, 96, 97, 98, 99], \"xaxis\": \"x2\", \"y\": [\"\", \"\", \"\", 1.9065859083854906, \"\", 1.6534988548981326, \"\", 0.04295354735822754, 0.5144790284234938, \"\", \"\", 0.17935652007951858, 1.164660666608805, \"\", \"\", \"\", \"\", 1.7855721050655269, 2.357278299520718, 0.8237536921847902, \"\", \"\", 3.285877818737137, 0.06820607003854307, \"\", \"\", 1.9143961480506482, \"\", 0.694667814241846, 0.6243199694317036, 0.7517700491410535, 0.7917187303676445, 1.1060453467232363, 1.9747480205121182, \"\", 1.1856264970647301, \"\", \"\", \"\", \"\", \"\", 2.0001957744444074, 0.8095068153428735, \"\", \"\", \"\", 0.5870904885436177, 0.2554578284325804, 1.6453833980447008, 2.013586950784873, 0.0663052043104913, \"\", \"\", 0.49994504917941196, \"\", 1.6597739500616713, 2.105317885230391, 0.08556762843000616, 0.7117544900516041, \"\", \"\", \"\", 1.7794511208613446, 1.6960628540577771, 1.347019560639599, \"\", 2.019618163673742, \"\", 0.1435656117154932, 0.49801307007796014, \"\", \"\", 0.5895354057249742, \"\", \"\", 0.25667271914451534, 2.583607343922448, \"\", 0.9153020241804374, 2.083827644539807, \"\", \"\", 0.48561962471076414, 0.7321725430830746, \"\", \"\", 0.8640729355972665, \"\", \"\", \"\", 1.168446931153915, 1.6030398209932404, 2.0440090003999942, \"\", \"\", \"\", \"\", 1.3874058849456712, \"\", \"\"], \"yaxis\": \"y2\"}, {\"connectgaps\": false, \"fill\": \"tozeroy\", \"line\": {\"color\": \"red\", \"dash\": \"solid\", \"shape\": \"linear\", \"width\": 0.5}, \"mode\": \"lines\", \"name\": \"Spread\", \"showlegend\": false, \"type\": \"scatter\", \"x\": [0, 1, 2, 3, 4, 5, 6, 7, 8, 9, 10, 11, 12, 13, 14, 15, 16, 17, 18, 19, 20, 21, 22, 23, 24, 25, 26, 27, 28, 29, 30, 31, 32, 33, 34, 35, 36, 37, 38, 39, 40, 41, 42, 43, 44, 45, 46, 47, 48, 49, 50, 51, 52, 53, 54, 55, 56, 57, 58, 59, 60, 61, 62, 63, 64, 65, 66, 67, 68, 69, 70, 71, 72, 73, 74, 75, 76, 77, 78, 79, 80, 81, 82, 83, 84, 85, 86, 87, 88, 89, 90, 91, 92, 93, 94, 95, 96, 97, 98, 99], \"xaxis\": \"x2\", \"y\": [-1.4848433911568777, -0.2582184951402119, -0.33465178500684734, \"\", -2.384273130580604, \"\", -1.0958257125829771, \"\", \"\", -0.5827755998106222, -0.3222418304326715, \"\", \"\", -0.0583997917721204, -1.2021121911704344, -1.8742951742374658, -0.8461037749659948, \"\", \"\", \"\", -0.6791533202611286, -2.6930523479118924, \"\", \"\", -0.6797808983780637, -0.6115470632502139, \"\", -2.04349747098756, \"\", \"\", \"\", \"\", \"\", \"\", -0.6664372177685627, \"\", -2.2082386043753726, -0.7427125353523831, -3.036790029754732, -1.4237035828535278, -1.44236348152781, \"\", \"\", -0.9395265819001242, -2.656700602998015, -1.9776360066093097, \"\", \"\", \"\", \"\", \"\", -3.0361760005149945, -1.345119699602314, \"\", -1.565102774670005, \"\", \"\", \"\", \"\", -1.20448275414179, -2.2251313063643723, -0.7776368046565985, \"\", \"\", \"\", -1.5326999342295418, \"\", -1.7162938656857214, \"\", \"\", -1.2560502154585378, -0.6046661827513768, \"\", -0.554643479242055, -0.7519199638378855, \"\", \"\", -1.2718213864745775, \"\", \"\", -0.6943945734856919, -0.28065068371030544, \"\", \"\", -0.9152322395469898, -1.4790437391936084, \"\", -2.26591681776506, -0.796947927488934, -0.37940221996095036, \"\", \"\", \"\", -0.03817629067190234, -1.737024877331659, -0.9308302995085391, -1.8495062326122897, \"\", -0.255074533282976, -2.3738711612969046], \"yaxis\": \"y2\"}],\n",
       "                        {\"hovermode\": \"x\", \"legend\": {\"bgcolor\": \"#F5F6F9\", \"font\": {\"color\": \"#4D5663\"}}, \"paper_bgcolor\": \"#F5F6F9\", \"plot_bgcolor\": \"#F5F6F9\", \"template\": {\"data\": {\"bar\": [{\"error_x\": {\"color\": \"#2a3f5f\"}, \"error_y\": {\"color\": \"#2a3f5f\"}, \"marker\": {\"line\": {\"color\": \"#E5ECF6\", \"width\": 0.5}}, \"type\": \"bar\"}], \"barpolar\": [{\"marker\": {\"line\": {\"color\": \"#E5ECF6\", \"width\": 0.5}}, \"type\": \"barpolar\"}], \"carpet\": [{\"aaxis\": {\"endlinecolor\": \"#2a3f5f\", \"gridcolor\": \"white\", \"linecolor\": \"white\", \"minorgridcolor\": \"white\", \"startlinecolor\": \"#2a3f5f\"}, \"baxis\": {\"endlinecolor\": \"#2a3f5f\", \"gridcolor\": \"white\", \"linecolor\": \"white\", \"minorgridcolor\": \"white\", \"startlinecolor\": \"#2a3f5f\"}, \"type\": \"carpet\"}], \"choropleth\": [{\"colorbar\": {\"outlinewidth\": 0, \"ticks\": \"\"}, \"type\": \"choropleth\"}], \"contour\": [{\"colorbar\": {\"outlinewidth\": 0, \"ticks\": \"\"}, \"colorscale\": [[0.0, \"#0d0887\"], [0.1111111111111111, \"#46039f\"], [0.2222222222222222, \"#7201a8\"], [0.3333333333333333, \"#9c179e\"], [0.4444444444444444, \"#bd3786\"], [0.5555555555555556, \"#d8576b\"], [0.6666666666666666, \"#ed7953\"], [0.7777777777777778, \"#fb9f3a\"], [0.8888888888888888, \"#fdca26\"], [1.0, \"#f0f921\"]], \"type\": \"contour\"}], \"contourcarpet\": [{\"colorbar\": {\"outlinewidth\": 0, \"ticks\": \"\"}, \"type\": \"contourcarpet\"}], \"heatmap\": [{\"colorbar\": {\"outlinewidth\": 0, \"ticks\": \"\"}, \"colorscale\": [[0.0, \"#0d0887\"], [0.1111111111111111, \"#46039f\"], [0.2222222222222222, \"#7201a8\"], [0.3333333333333333, \"#9c179e\"], [0.4444444444444444, \"#bd3786\"], [0.5555555555555556, \"#d8576b\"], [0.6666666666666666, \"#ed7953\"], [0.7777777777777778, \"#fb9f3a\"], [0.8888888888888888, \"#fdca26\"], [1.0, \"#f0f921\"]], \"type\": \"heatmap\"}], \"heatmapgl\": [{\"colorbar\": {\"outlinewidth\": 0, \"ticks\": \"\"}, \"colorscale\": [[0.0, \"#0d0887\"], [0.1111111111111111, \"#46039f\"], [0.2222222222222222, \"#7201a8\"], [0.3333333333333333, \"#9c179e\"], [0.4444444444444444, \"#bd3786\"], [0.5555555555555556, \"#d8576b\"], [0.6666666666666666, \"#ed7953\"], [0.7777777777777778, \"#fb9f3a\"], [0.8888888888888888, \"#fdca26\"], [1.0, \"#f0f921\"]], \"type\": \"heatmapgl\"}], \"histogram\": [{\"marker\": {\"colorbar\": {\"outlinewidth\": 0, \"ticks\": \"\"}}, \"type\": \"histogram\"}], \"histogram2d\": [{\"colorbar\": {\"outlinewidth\": 0, \"ticks\": \"\"}, \"colorscale\": [[0.0, \"#0d0887\"], [0.1111111111111111, \"#46039f\"], [0.2222222222222222, \"#7201a8\"], [0.3333333333333333, \"#9c179e\"], [0.4444444444444444, \"#bd3786\"], [0.5555555555555556, \"#d8576b\"], [0.6666666666666666, \"#ed7953\"], [0.7777777777777778, \"#fb9f3a\"], [0.8888888888888888, \"#fdca26\"], [1.0, \"#f0f921\"]], \"type\": \"histogram2d\"}], \"histogram2dcontour\": [{\"colorbar\": {\"outlinewidth\": 0, \"ticks\": \"\"}, \"colorscale\": [[0.0, \"#0d0887\"], [0.1111111111111111, \"#46039f\"], [0.2222222222222222, \"#7201a8\"], [0.3333333333333333, \"#9c179e\"], [0.4444444444444444, \"#bd3786\"], [0.5555555555555556, \"#d8576b\"], [0.6666666666666666, \"#ed7953\"], [0.7777777777777778, \"#fb9f3a\"], [0.8888888888888888, \"#fdca26\"], [1.0, \"#f0f921\"]], \"type\": \"histogram2dcontour\"}], \"mesh3d\": [{\"colorbar\": {\"outlinewidth\": 0, \"ticks\": \"\"}, \"type\": \"mesh3d\"}], \"parcoords\": [{\"line\": {\"colorbar\": {\"outlinewidth\": 0, \"ticks\": \"\"}}, \"type\": \"parcoords\"}], \"pie\": [{\"automargin\": true, \"type\": \"pie\"}], \"scatter\": [{\"marker\": {\"colorbar\": {\"outlinewidth\": 0, \"ticks\": \"\"}}, \"type\": \"scatter\"}], \"scatter3d\": [{\"line\": {\"colorbar\": {\"outlinewidth\": 0, \"ticks\": \"\"}}, \"marker\": {\"colorbar\": {\"outlinewidth\": 0, \"ticks\": \"\"}}, \"type\": \"scatter3d\"}], \"scattercarpet\": [{\"marker\": {\"colorbar\": {\"outlinewidth\": 0, \"ticks\": \"\"}}, \"type\": \"scattercarpet\"}], \"scattergeo\": [{\"marker\": {\"colorbar\": {\"outlinewidth\": 0, \"ticks\": \"\"}}, \"type\": \"scattergeo\"}], \"scattergl\": [{\"marker\": {\"colorbar\": {\"outlinewidth\": 0, \"ticks\": \"\"}}, \"type\": \"scattergl\"}], \"scattermapbox\": [{\"marker\": {\"colorbar\": {\"outlinewidth\": 0, \"ticks\": \"\"}}, \"type\": \"scattermapbox\"}], \"scatterpolar\": [{\"marker\": {\"colorbar\": {\"outlinewidth\": 0, \"ticks\": \"\"}}, \"type\": \"scatterpolar\"}], \"scatterpolargl\": [{\"marker\": {\"colorbar\": {\"outlinewidth\": 0, \"ticks\": \"\"}}, \"type\": \"scatterpolargl\"}], \"scatterternary\": [{\"marker\": {\"colorbar\": {\"outlinewidth\": 0, \"ticks\": \"\"}}, \"type\": \"scatterternary\"}], \"surface\": [{\"colorbar\": {\"outlinewidth\": 0, \"ticks\": \"\"}, \"colorscale\": [[0.0, \"#0d0887\"], [0.1111111111111111, \"#46039f\"], [0.2222222222222222, \"#7201a8\"], [0.3333333333333333, \"#9c179e\"], [0.4444444444444444, \"#bd3786\"], [0.5555555555555556, \"#d8576b\"], [0.6666666666666666, \"#ed7953\"], [0.7777777777777778, \"#fb9f3a\"], [0.8888888888888888, \"#fdca26\"], [1.0, \"#f0f921\"]], \"type\": \"surface\"}], \"table\": [{\"cells\": {\"fill\": {\"color\": \"#EBF0F8\"}, \"line\": {\"color\": \"white\"}}, \"header\": {\"fill\": {\"color\": \"#C8D4E3\"}, \"line\": {\"color\": \"white\"}}, \"type\": \"table\"}]}, \"layout\": {\"annotationdefaults\": {\"arrowcolor\": \"#2a3f5f\", \"arrowhead\": 0, \"arrowwidth\": 1}, \"coloraxis\": {\"colorbar\": {\"outlinewidth\": 0, \"ticks\": \"\"}}, \"colorscale\": {\"diverging\": [[0, \"#8e0152\"], [0.1, \"#c51b7d\"], [0.2, \"#de77ae\"], [0.3, \"#f1b6da\"], [0.4, \"#fde0ef\"], [0.5, \"#f7f7f7\"], [0.6, \"#e6f5d0\"], [0.7, \"#b8e186\"], [0.8, \"#7fbc41\"], [0.9, \"#4d9221\"], [1, \"#276419\"]], \"sequential\": [[0.0, \"#0d0887\"], [0.1111111111111111, \"#46039f\"], [0.2222222222222222, \"#7201a8\"], [0.3333333333333333, \"#9c179e\"], [0.4444444444444444, \"#bd3786\"], [0.5555555555555556, \"#d8576b\"], [0.6666666666666666, \"#ed7953\"], [0.7777777777777778, \"#fb9f3a\"], [0.8888888888888888, \"#fdca26\"], [1.0, \"#f0f921\"]], \"sequentialminus\": [[0.0, \"#0d0887\"], [0.1111111111111111, \"#46039f\"], [0.2222222222222222, \"#7201a8\"], [0.3333333333333333, \"#9c179e\"], [0.4444444444444444, \"#bd3786\"], [0.5555555555555556, \"#d8576b\"], [0.6666666666666666, \"#ed7953\"], [0.7777777777777778, \"#fb9f3a\"], [0.8888888888888888, \"#fdca26\"], [1.0, \"#f0f921\"]]}, \"colorway\": [\"#636efa\", \"#EF553B\", \"#00cc96\", \"#ab63fa\", \"#FFA15A\", \"#19d3f3\", \"#FF6692\", \"#B6E880\", \"#FF97FF\", \"#FECB52\"], \"font\": {\"color\": \"#2a3f5f\"}, \"geo\": {\"bgcolor\": \"white\", \"lakecolor\": \"white\", \"landcolor\": \"#E5ECF6\", \"showlakes\": true, \"showland\": true, \"subunitcolor\": \"white\"}, \"hoverlabel\": {\"align\": \"left\"}, \"hovermode\": \"closest\", \"mapbox\": {\"style\": \"light\"}, \"paper_bgcolor\": \"white\", \"plot_bgcolor\": \"#E5ECF6\", \"polar\": {\"angularaxis\": {\"gridcolor\": \"white\", \"linecolor\": \"white\", \"ticks\": \"\"}, \"bgcolor\": \"#E5ECF6\", \"radialaxis\": {\"gridcolor\": \"white\", \"linecolor\": \"white\", \"ticks\": \"\"}}, \"scene\": {\"xaxis\": {\"backgroundcolor\": \"#E5ECF6\", \"gridcolor\": \"white\", \"gridwidth\": 2, \"linecolor\": \"white\", \"showbackground\": true, \"ticks\": \"\", \"zerolinecolor\": \"white\"}, \"yaxis\": {\"backgroundcolor\": \"#E5ECF6\", \"gridcolor\": \"white\", \"gridwidth\": 2, \"linecolor\": \"white\", \"showbackground\": true, \"ticks\": \"\", \"zerolinecolor\": \"white\"}, \"zaxis\": {\"backgroundcolor\": \"#E5ECF6\", \"gridcolor\": \"white\", \"gridwidth\": 2, \"linecolor\": \"white\", \"showbackground\": true, \"ticks\": \"\", \"zerolinecolor\": \"white\"}}, \"shapedefaults\": {\"line\": {\"color\": \"#2a3f5f\"}}, \"ternary\": {\"aaxis\": {\"gridcolor\": \"white\", \"linecolor\": \"white\", \"ticks\": \"\"}, \"baxis\": {\"gridcolor\": \"white\", \"linecolor\": \"white\", \"ticks\": \"\"}, \"bgcolor\": \"#E5ECF6\", \"caxis\": {\"gridcolor\": \"white\", \"linecolor\": \"white\", \"ticks\": \"\"}}, \"title\": {\"x\": 0.05}, \"xaxis\": {\"automargin\": true, \"gridcolor\": \"white\", \"linecolor\": \"white\", \"ticks\": \"\", \"title\": {\"standoff\": 15}, \"zerolinecolor\": \"white\", \"zerolinewidth\": 2}, \"yaxis\": {\"automargin\": true, \"gridcolor\": \"white\", \"linecolor\": \"white\", \"ticks\": \"\", \"title\": {\"standoff\": 15}, \"zerolinecolor\": \"white\", \"zerolinewidth\": 2}}}, \"title\": {\"font\": {\"color\": \"#4D5663\"}}, \"xaxis\": {\"gridcolor\": \"#E1E5ED\", \"showgrid\": true, \"tickfont\": {\"color\": \"#4D5663\"}, \"title\": {\"font\": {\"color\": \"#4D5663\"}, \"text\": \"\"}, \"zerolinecolor\": \"#E1E5ED\"}, \"xaxis2\": {\"anchor\": \"y2\", \"gridcolor\": \"#E1E5ED\", \"showgrid\": true, \"showticklabels\": false, \"tickfont\": {\"color\": \"#4D5663\"}, \"title\": {\"font\": {\"color\": \"#4D5663\"}, \"text\": \"\"}, \"zerolinecolor\": \"#E1E5ED\"}, \"yaxis\": {\"domain\": [0.3, 1], \"gridcolor\": \"#E1E5ED\", \"showgrid\": true, \"tickfont\": {\"color\": \"#4D5663\"}, \"title\": {\"font\": {\"color\": \"#4D5663\"}, \"text\": \"\"}, \"zerolinecolor\": \"#E1E5ED\"}, \"yaxis2\": {\"domain\": [0, 0.25], \"gridcolor\": \"#E1E5ED\", \"showgrid\": true, \"tickfont\": {\"color\": \"#4D5663\"}, \"title\": {\"font\": {\"color\": \"#4D5663\"}, \"text\": \"Spread\"}, \"zerolinecolor\": \"#E1E5ED\"}},\n",
       "                        {\"showLink\": true, \"linkText\": \"Export to plot.ly\", \"plotlyServerURL\": \"https://plot.ly\", \"responsive\": true}\n",
       "                    ).then(function(){\n",
       "                            \n",
       "var gd = document.getElementById('6eded674-66b4-40f4-8160-0f45420324c1');\n",
       "var x = new MutationObserver(function (mutations, observer) {{\n",
       "        var display = window.getComputedStyle(gd).display;\n",
       "        if (!display || display === 'none') {{\n",
       "            console.log([gd, 'removed!']);\n",
       "            Plotly.purge(gd);\n",
       "            observer.disconnect();\n",
       "        }}\n",
       "}});\n",
       "\n",
       "// Listen for the removal of the full notebook cells\n",
       "var notebookContainer = gd.closest('#notebook-container');\n",
       "if (notebookContainer) {{\n",
       "    x.observe(notebookContainer, {childList: true});\n",
       "}}\n",
       "\n",
       "// Listen for the clearing of the current output cell\n",
       "var outputEl = gd.closest('.output');\n",
       "if (outputEl) {{\n",
       "    x.observe(outputEl, {childList: true});\n",
       "}}\n",
       "\n",
       "                        })\n",
       "                };\n",
       "                });\n",
       "            </script>\n",
       "        </div>"
      ]
     },
     "metadata": {},
     "output_type": "display_data"
    }
   ],
   "source": [
    "df[['A','B']].iplot(kind='spread')"
   ]
  },
  {
   "cell_type": "markdown",
   "metadata": {},
   "source": [
    "## histogram"
   ]
  },
  {
   "cell_type": "code",
   "execution_count": 18,
   "metadata": {},
   "outputs": [
    {
     "data": {
      "application/vnd.plotly.v1+json": {
       "config": {
        "linkText": "Export to plot.ly",
        "plotlyServerURL": "https://plot.ly",
        "showLink": true
       },
       "data": [
        {
         "histfunc": "count",
         "histnorm": "",
         "marker": {
          "color": "rgba(255, 153, 51, 1.0)",
          "line": {
           "color": "#4D5663",
           "width": 1.3
          }
         },
         "name": "A",
         "nbinsx": 25,
         "opacity": 0.8,
         "orientation": "v",
         "type": "histogram",
         "x": [
          0.3696420558197603,
          0.5253992122905893,
          -1.037046991780036,
          0.24758500485110949,
          -1.8474714207170502,
          1.3011206429284472,
          -0.9335639569440436,
          0.7693596664680276,
          -0.7354420564182146,
          -0.3897801777723191,
          -0.5361110290279926,
          -0.11335978345336128,
          0.5034703014821329,
          0.6862383833141485,
          -0.998068344328191,
          -1.0158631125325421,
          0.004348380037364213,
          0.41957675079592427,
          2.301491454423374,
          1.4561157709628787,
          -0.39543442769501835,
          -2.9977343866583146,
          0.4606828596039337,
          0.4125115418393969,
          -1.6772472028110024,
          0.4847284875647718,
          0.13514321173399585,
          -0.8501933743837765,
          0.7661903176591959,
          0.2556084067919436,
          1.2092208938314986,
          -0.9641519723820355,
          -0.4929362943760437,
          0.28872133688964635,
          -0.9942239232924204,
          -0.17732241365179743,
          -1.167011992737201,
          -0.02479701877713464,
          -1.3437385112074935,
          -0.13425512337211468,
          -1.1387426056206769,
          -0.152654355616287,
          -0.20396279915057616,
          -1.09589281461307,
          -1.8186866319970554,
          -1.419713115103019,
          1.1238921197556309,
          -0.25238924820713565,
          0.8003631231624078,
          1.510325015083661,
          0.15693663155427395,
          -1.7131257418818993,
          -0.73964880933293,
          -0.9491578573939075,
          -0.030022804907188512,
          1.1710417549444856,
          0.12729687189798403,
          -0.005807129205971171,
          -0.028565868349607577,
          -0.4819911680944219,
          -1.518892135299185,
          -0.576390236024212,
          0.36059632276433357,
          -0.12057217071166919,
          0.15762625193431426,
          0.06810068428376627,
          0.6367262505638114,
          -2.1102698964980773,
          -0.7082699504905734,
          -0.2941154121319468,
          0.126635294372914,
          -0.40570278219914246,
          0.35808490553594086,
          -1.0342876768719167,
          -1.1947571676836943,
          0.5541810575018407,
          1.5133993382594308,
          -0.9003410000358811,
          -0.8560779010303979,
          2.030211579966576,
          0.582959641868816,
          0.8494972234950936,
          1.1581283542388061,
          0.6879489752136857,
          -0.8493140319400361,
          -0.6133085997176515,
          -0.2850937172340025,
          -0.9857890053489234,
          -0.09162341605494383,
          -1.0244112466360455,
          1.393245285512462,
          0.03430148884087417,
          0.37283225888140187,
          0.1487104846347837,
          -1.256860203558932,
          0.3464741711743709,
          -0.31822087540002797,
          1.384161939100568,
          0.060376550504078835,
          -1.5736730924838451
         ]
        }
       ],
       "layout": {
        "barmode": "overlay",
        "legend": {
         "bgcolor": "#F5F6F9",
         "font": {
          "color": "#4D5663"
         }
        },
        "paper_bgcolor": "#F5F6F9",
        "plot_bgcolor": "#F5F6F9",
        "template": {
         "data": {
          "bar": [
           {
            "error_x": {
             "color": "#2a3f5f"
            },
            "error_y": {
             "color": "#2a3f5f"
            },
            "marker": {
             "line": {
              "color": "#E5ECF6",
              "width": 0.5
             }
            },
            "type": "bar"
           }
          ],
          "barpolar": [
           {
            "marker": {
             "line": {
              "color": "#E5ECF6",
              "width": 0.5
             }
            },
            "type": "barpolar"
           }
          ],
          "carpet": [
           {
            "aaxis": {
             "endlinecolor": "#2a3f5f",
             "gridcolor": "white",
             "linecolor": "white",
             "minorgridcolor": "white",
             "startlinecolor": "#2a3f5f"
            },
            "baxis": {
             "endlinecolor": "#2a3f5f",
             "gridcolor": "white",
             "linecolor": "white",
             "minorgridcolor": "white",
             "startlinecolor": "#2a3f5f"
            },
            "type": "carpet"
           }
          ],
          "choropleth": [
           {
            "colorbar": {
             "outlinewidth": 0,
             "ticks": ""
            },
            "type": "choropleth"
           }
          ],
          "contour": [
           {
            "colorbar": {
             "outlinewidth": 0,
             "ticks": ""
            },
            "colorscale": [
             [
              0,
              "#0d0887"
             ],
             [
              0.1111111111111111,
              "#46039f"
             ],
             [
              0.2222222222222222,
              "#7201a8"
             ],
             [
              0.3333333333333333,
              "#9c179e"
             ],
             [
              0.4444444444444444,
              "#bd3786"
             ],
             [
              0.5555555555555556,
              "#d8576b"
             ],
             [
              0.6666666666666666,
              "#ed7953"
             ],
             [
              0.7777777777777778,
              "#fb9f3a"
             ],
             [
              0.8888888888888888,
              "#fdca26"
             ],
             [
              1,
              "#f0f921"
             ]
            ],
            "type": "contour"
           }
          ],
          "contourcarpet": [
           {
            "colorbar": {
             "outlinewidth": 0,
             "ticks": ""
            },
            "type": "contourcarpet"
           }
          ],
          "heatmap": [
           {
            "colorbar": {
             "outlinewidth": 0,
             "ticks": ""
            },
            "colorscale": [
             [
              0,
              "#0d0887"
             ],
             [
              0.1111111111111111,
              "#46039f"
             ],
             [
              0.2222222222222222,
              "#7201a8"
             ],
             [
              0.3333333333333333,
              "#9c179e"
             ],
             [
              0.4444444444444444,
              "#bd3786"
             ],
             [
              0.5555555555555556,
              "#d8576b"
             ],
             [
              0.6666666666666666,
              "#ed7953"
             ],
             [
              0.7777777777777778,
              "#fb9f3a"
             ],
             [
              0.8888888888888888,
              "#fdca26"
             ],
             [
              1,
              "#f0f921"
             ]
            ],
            "type": "heatmap"
           }
          ],
          "heatmapgl": [
           {
            "colorbar": {
             "outlinewidth": 0,
             "ticks": ""
            },
            "colorscale": [
             [
              0,
              "#0d0887"
             ],
             [
              0.1111111111111111,
              "#46039f"
             ],
             [
              0.2222222222222222,
              "#7201a8"
             ],
             [
              0.3333333333333333,
              "#9c179e"
             ],
             [
              0.4444444444444444,
              "#bd3786"
             ],
             [
              0.5555555555555556,
              "#d8576b"
             ],
             [
              0.6666666666666666,
              "#ed7953"
             ],
             [
              0.7777777777777778,
              "#fb9f3a"
             ],
             [
              0.8888888888888888,
              "#fdca26"
             ],
             [
              1,
              "#f0f921"
             ]
            ],
            "type": "heatmapgl"
           }
          ],
          "histogram": [
           {
            "marker": {
             "colorbar": {
              "outlinewidth": 0,
              "ticks": ""
             }
            },
            "type": "histogram"
           }
          ],
          "histogram2d": [
           {
            "colorbar": {
             "outlinewidth": 0,
             "ticks": ""
            },
            "colorscale": [
             [
              0,
              "#0d0887"
             ],
             [
              0.1111111111111111,
              "#46039f"
             ],
             [
              0.2222222222222222,
              "#7201a8"
             ],
             [
              0.3333333333333333,
              "#9c179e"
             ],
             [
              0.4444444444444444,
              "#bd3786"
             ],
             [
              0.5555555555555556,
              "#d8576b"
             ],
             [
              0.6666666666666666,
              "#ed7953"
             ],
             [
              0.7777777777777778,
              "#fb9f3a"
             ],
             [
              0.8888888888888888,
              "#fdca26"
             ],
             [
              1,
              "#f0f921"
             ]
            ],
            "type": "histogram2d"
           }
          ],
          "histogram2dcontour": [
           {
            "colorbar": {
             "outlinewidth": 0,
             "ticks": ""
            },
            "colorscale": [
             [
              0,
              "#0d0887"
             ],
             [
              0.1111111111111111,
              "#46039f"
             ],
             [
              0.2222222222222222,
              "#7201a8"
             ],
             [
              0.3333333333333333,
              "#9c179e"
             ],
             [
              0.4444444444444444,
              "#bd3786"
             ],
             [
              0.5555555555555556,
              "#d8576b"
             ],
             [
              0.6666666666666666,
              "#ed7953"
             ],
             [
              0.7777777777777778,
              "#fb9f3a"
             ],
             [
              0.8888888888888888,
              "#fdca26"
             ],
             [
              1,
              "#f0f921"
             ]
            ],
            "type": "histogram2dcontour"
           }
          ],
          "mesh3d": [
           {
            "colorbar": {
             "outlinewidth": 0,
             "ticks": ""
            },
            "type": "mesh3d"
           }
          ],
          "parcoords": [
           {
            "line": {
             "colorbar": {
              "outlinewidth": 0,
              "ticks": ""
             }
            },
            "type": "parcoords"
           }
          ],
          "pie": [
           {
            "automargin": true,
            "type": "pie"
           }
          ],
          "scatter": [
           {
            "marker": {
             "colorbar": {
              "outlinewidth": 0,
              "ticks": ""
             }
            },
            "type": "scatter"
           }
          ],
          "scatter3d": [
           {
            "line": {
             "colorbar": {
              "outlinewidth": 0,
              "ticks": ""
             }
            },
            "marker": {
             "colorbar": {
              "outlinewidth": 0,
              "ticks": ""
             }
            },
            "type": "scatter3d"
           }
          ],
          "scattercarpet": [
           {
            "marker": {
             "colorbar": {
              "outlinewidth": 0,
              "ticks": ""
             }
            },
            "type": "scattercarpet"
           }
          ],
          "scattergeo": [
           {
            "marker": {
             "colorbar": {
              "outlinewidth": 0,
              "ticks": ""
             }
            },
            "type": "scattergeo"
           }
          ],
          "scattergl": [
           {
            "marker": {
             "colorbar": {
              "outlinewidth": 0,
              "ticks": ""
             }
            },
            "type": "scattergl"
           }
          ],
          "scattermapbox": [
           {
            "marker": {
             "colorbar": {
              "outlinewidth": 0,
              "ticks": ""
             }
            },
            "type": "scattermapbox"
           }
          ],
          "scatterpolar": [
           {
            "marker": {
             "colorbar": {
              "outlinewidth": 0,
              "ticks": ""
             }
            },
            "type": "scatterpolar"
           }
          ],
          "scatterpolargl": [
           {
            "marker": {
             "colorbar": {
              "outlinewidth": 0,
              "ticks": ""
             }
            },
            "type": "scatterpolargl"
           }
          ],
          "scatterternary": [
           {
            "marker": {
             "colorbar": {
              "outlinewidth": 0,
              "ticks": ""
             }
            },
            "type": "scatterternary"
           }
          ],
          "surface": [
           {
            "colorbar": {
             "outlinewidth": 0,
             "ticks": ""
            },
            "colorscale": [
             [
              0,
              "#0d0887"
             ],
             [
              0.1111111111111111,
              "#46039f"
             ],
             [
              0.2222222222222222,
              "#7201a8"
             ],
             [
              0.3333333333333333,
              "#9c179e"
             ],
             [
              0.4444444444444444,
              "#bd3786"
             ],
             [
              0.5555555555555556,
              "#d8576b"
             ],
             [
              0.6666666666666666,
              "#ed7953"
             ],
             [
              0.7777777777777778,
              "#fb9f3a"
             ],
             [
              0.8888888888888888,
              "#fdca26"
             ],
             [
              1,
              "#f0f921"
             ]
            ],
            "type": "surface"
           }
          ],
          "table": [
           {
            "cells": {
             "fill": {
              "color": "#EBF0F8"
             },
             "line": {
              "color": "white"
             }
            },
            "header": {
             "fill": {
              "color": "#C8D4E3"
             },
             "line": {
              "color": "white"
             }
            },
            "type": "table"
           }
          ]
         },
         "layout": {
          "annotationdefaults": {
           "arrowcolor": "#2a3f5f",
           "arrowhead": 0,
           "arrowwidth": 1
          },
          "coloraxis": {
           "colorbar": {
            "outlinewidth": 0,
            "ticks": ""
           }
          },
          "colorscale": {
           "diverging": [
            [
             0,
             "#8e0152"
            ],
            [
             0.1,
             "#c51b7d"
            ],
            [
             0.2,
             "#de77ae"
            ],
            [
             0.3,
             "#f1b6da"
            ],
            [
             0.4,
             "#fde0ef"
            ],
            [
             0.5,
             "#f7f7f7"
            ],
            [
             0.6,
             "#e6f5d0"
            ],
            [
             0.7,
             "#b8e186"
            ],
            [
             0.8,
             "#7fbc41"
            ],
            [
             0.9,
             "#4d9221"
            ],
            [
             1,
             "#276419"
            ]
           ],
           "sequential": [
            [
             0,
             "#0d0887"
            ],
            [
             0.1111111111111111,
             "#46039f"
            ],
            [
             0.2222222222222222,
             "#7201a8"
            ],
            [
             0.3333333333333333,
             "#9c179e"
            ],
            [
             0.4444444444444444,
             "#bd3786"
            ],
            [
             0.5555555555555556,
             "#d8576b"
            ],
            [
             0.6666666666666666,
             "#ed7953"
            ],
            [
             0.7777777777777778,
             "#fb9f3a"
            ],
            [
             0.8888888888888888,
             "#fdca26"
            ],
            [
             1,
             "#f0f921"
            ]
           ],
           "sequentialminus": [
            [
             0,
             "#0d0887"
            ],
            [
             0.1111111111111111,
             "#46039f"
            ],
            [
             0.2222222222222222,
             "#7201a8"
            ],
            [
             0.3333333333333333,
             "#9c179e"
            ],
            [
             0.4444444444444444,
             "#bd3786"
            ],
            [
             0.5555555555555556,
             "#d8576b"
            ],
            [
             0.6666666666666666,
             "#ed7953"
            ],
            [
             0.7777777777777778,
             "#fb9f3a"
            ],
            [
             0.8888888888888888,
             "#fdca26"
            ],
            [
             1,
             "#f0f921"
            ]
           ]
          },
          "colorway": [
           "#636efa",
           "#EF553B",
           "#00cc96",
           "#ab63fa",
           "#FFA15A",
           "#19d3f3",
           "#FF6692",
           "#B6E880",
           "#FF97FF",
           "#FECB52"
          ],
          "font": {
           "color": "#2a3f5f"
          },
          "geo": {
           "bgcolor": "white",
           "lakecolor": "white",
           "landcolor": "#E5ECF6",
           "showlakes": true,
           "showland": true,
           "subunitcolor": "white"
          },
          "hoverlabel": {
           "align": "left"
          },
          "hovermode": "closest",
          "mapbox": {
           "style": "light"
          },
          "paper_bgcolor": "white",
          "plot_bgcolor": "#E5ECF6",
          "polar": {
           "angularaxis": {
            "gridcolor": "white",
            "linecolor": "white",
            "ticks": ""
           },
           "bgcolor": "#E5ECF6",
           "radialaxis": {
            "gridcolor": "white",
            "linecolor": "white",
            "ticks": ""
           }
          },
          "scene": {
           "xaxis": {
            "backgroundcolor": "#E5ECF6",
            "gridcolor": "white",
            "gridwidth": 2,
            "linecolor": "white",
            "showbackground": true,
            "ticks": "",
            "zerolinecolor": "white"
           },
           "yaxis": {
            "backgroundcolor": "#E5ECF6",
            "gridcolor": "white",
            "gridwidth": 2,
            "linecolor": "white",
            "showbackground": true,
            "ticks": "",
            "zerolinecolor": "white"
           },
           "zaxis": {
            "backgroundcolor": "#E5ECF6",
            "gridcolor": "white",
            "gridwidth": 2,
            "linecolor": "white",
            "showbackground": true,
            "ticks": "",
            "zerolinecolor": "white"
           }
          },
          "shapedefaults": {
           "line": {
            "color": "#2a3f5f"
           }
          },
          "ternary": {
           "aaxis": {
            "gridcolor": "white",
            "linecolor": "white",
            "ticks": ""
           },
           "baxis": {
            "gridcolor": "white",
            "linecolor": "white",
            "ticks": ""
           },
           "bgcolor": "#E5ECF6",
           "caxis": {
            "gridcolor": "white",
            "linecolor": "white",
            "ticks": ""
           }
          },
          "title": {
           "x": 0.05
          },
          "xaxis": {
           "automargin": true,
           "gridcolor": "white",
           "linecolor": "white",
           "ticks": "",
           "title": {
            "standoff": 15
           },
           "zerolinecolor": "white",
           "zerolinewidth": 2
          },
          "yaxis": {
           "automargin": true,
           "gridcolor": "white",
           "linecolor": "white",
           "ticks": "",
           "title": {
            "standoff": 15
           },
           "zerolinecolor": "white",
           "zerolinewidth": 2
          }
         }
        },
        "title": {
         "font": {
          "color": "#4D5663"
         }
        },
        "xaxis": {
         "gridcolor": "#E1E5ED",
         "showgrid": true,
         "tickfont": {
          "color": "#4D5663"
         },
         "title": {
          "font": {
           "color": "#4D5663"
          },
          "text": ""
         },
         "zerolinecolor": "#E1E5ED"
        },
        "yaxis": {
         "gridcolor": "#E1E5ED",
         "showgrid": true,
         "tickfont": {
          "color": "#4D5663"
         },
         "title": {
          "font": {
           "color": "#4D5663"
          },
          "text": ""
         },
         "zerolinecolor": "#E1E5ED"
        }
       }
      },
      "text/html": [
       "<div>\n",
       "        \n",
       "        \n",
       "            <div id=\"e884bc57-12a2-4b31-b774-bf5cd7f597af\" class=\"plotly-graph-div\" style=\"height:525px; width:100%;\"></div>\n",
       "            <script type=\"text/javascript\">\n",
       "                require([\"plotly\"], function(Plotly) {\n",
       "                    window.PLOTLYENV=window.PLOTLYENV || {};\n",
       "                    window.PLOTLYENV.BASE_URL='https://plot.ly';\n",
       "                    \n",
       "                if (document.getElementById(\"e884bc57-12a2-4b31-b774-bf5cd7f597af\")) {\n",
       "                    Plotly.newPlot(\n",
       "                        'e884bc57-12a2-4b31-b774-bf5cd7f597af',\n",
       "                        [{\"histfunc\": \"count\", \"histnorm\": \"\", \"marker\": {\"color\": \"rgba(255, 153, 51, 1.0)\", \"line\": {\"color\": \"#4D5663\", \"width\": 1.3}}, \"name\": \"A\", \"nbinsx\": 25, \"opacity\": 0.8, \"orientation\": \"v\", \"type\": \"histogram\", \"x\": [0.3696420558197603, 0.5253992122905893, -1.037046991780036, 0.24758500485110949, -1.8474714207170502, 1.3011206429284472, -0.9335639569440436, 0.7693596664680276, -0.7354420564182146, -0.3897801777723191, -0.5361110290279926, -0.11335978345336128, 0.5034703014821329, 0.6862383833141485, -0.998068344328191, -1.0158631125325421, 0.004348380037364213, 0.41957675079592427, 2.301491454423374, 1.4561157709628787, -0.39543442769501835, -2.9977343866583146, 0.4606828596039337, 0.4125115418393969, -1.6772472028110024, 0.4847284875647718, 0.13514321173399585, -0.8501933743837765, 0.7661903176591959, 0.2556084067919436, 1.2092208938314986, -0.9641519723820355, -0.4929362943760437, 0.28872133688964635, -0.9942239232924204, -0.17732241365179743, -1.167011992737201, -0.02479701877713464, -1.3437385112074935, -0.13425512337211468, -1.1387426056206769, -0.152654355616287, -0.20396279915057616, -1.09589281461307, -1.8186866319970554, -1.419713115103019, 1.1238921197556309, -0.25238924820713565, 0.8003631231624078, 1.510325015083661, 0.15693663155427395, -1.7131257418818993, -0.73964880933293, -0.9491578573939075, -0.030022804907188512, 1.1710417549444856, 0.12729687189798403, -0.005807129205971171, -0.028565868349607577, -0.4819911680944219, -1.518892135299185, -0.576390236024212, 0.36059632276433357, -0.12057217071166919, 0.15762625193431426, 0.06810068428376627, 0.6367262505638114, -2.1102698964980773, -0.7082699504905734, -0.2941154121319468, 0.126635294372914, -0.40570278219914246, 0.35808490553594086, -1.0342876768719167, -1.1947571676836943, 0.5541810575018407, 1.5133993382594308, -0.9003410000358811, -0.8560779010303979, 2.030211579966576, 0.582959641868816, 0.8494972234950936, 1.1581283542388061, 0.6879489752136857, -0.8493140319400361, -0.6133085997176515, -0.2850937172340025, -0.9857890053489234, -0.09162341605494383, -1.0244112466360455, 1.393245285512462, 0.03430148884087417, 0.37283225888140187, 0.1487104846347837, -1.256860203558932, 0.3464741711743709, -0.31822087540002797, 1.384161939100568, 0.060376550504078835, -1.5736730924838451]}],\n",
       "                        {\"barmode\": \"overlay\", \"legend\": {\"bgcolor\": \"#F5F6F9\", \"font\": {\"color\": \"#4D5663\"}}, \"paper_bgcolor\": \"#F5F6F9\", \"plot_bgcolor\": \"#F5F6F9\", \"template\": {\"data\": {\"bar\": [{\"error_x\": {\"color\": \"#2a3f5f\"}, \"error_y\": {\"color\": \"#2a3f5f\"}, \"marker\": {\"line\": {\"color\": \"#E5ECF6\", \"width\": 0.5}}, \"type\": \"bar\"}], \"barpolar\": [{\"marker\": {\"line\": {\"color\": \"#E5ECF6\", \"width\": 0.5}}, \"type\": \"barpolar\"}], \"carpet\": [{\"aaxis\": {\"endlinecolor\": \"#2a3f5f\", \"gridcolor\": \"white\", \"linecolor\": \"white\", \"minorgridcolor\": \"white\", \"startlinecolor\": \"#2a3f5f\"}, \"baxis\": {\"endlinecolor\": \"#2a3f5f\", \"gridcolor\": \"white\", \"linecolor\": \"white\", \"minorgridcolor\": \"white\", \"startlinecolor\": \"#2a3f5f\"}, \"type\": \"carpet\"}], \"choropleth\": [{\"colorbar\": {\"outlinewidth\": 0, \"ticks\": \"\"}, \"type\": \"choropleth\"}], \"contour\": [{\"colorbar\": {\"outlinewidth\": 0, \"ticks\": \"\"}, \"colorscale\": [[0.0, \"#0d0887\"], [0.1111111111111111, \"#46039f\"], [0.2222222222222222, \"#7201a8\"], [0.3333333333333333, \"#9c179e\"], [0.4444444444444444, \"#bd3786\"], [0.5555555555555556, \"#d8576b\"], [0.6666666666666666, \"#ed7953\"], [0.7777777777777778, \"#fb9f3a\"], [0.8888888888888888, \"#fdca26\"], [1.0, \"#f0f921\"]], \"type\": \"contour\"}], \"contourcarpet\": [{\"colorbar\": {\"outlinewidth\": 0, \"ticks\": \"\"}, \"type\": \"contourcarpet\"}], \"heatmap\": [{\"colorbar\": {\"outlinewidth\": 0, \"ticks\": \"\"}, \"colorscale\": [[0.0, \"#0d0887\"], [0.1111111111111111, \"#46039f\"], [0.2222222222222222, \"#7201a8\"], [0.3333333333333333, \"#9c179e\"], [0.4444444444444444, \"#bd3786\"], [0.5555555555555556, \"#d8576b\"], [0.6666666666666666, \"#ed7953\"], [0.7777777777777778, \"#fb9f3a\"], [0.8888888888888888, \"#fdca26\"], [1.0, \"#f0f921\"]], \"type\": \"heatmap\"}], \"heatmapgl\": [{\"colorbar\": {\"outlinewidth\": 0, \"ticks\": \"\"}, \"colorscale\": [[0.0, \"#0d0887\"], [0.1111111111111111, \"#46039f\"], [0.2222222222222222, \"#7201a8\"], [0.3333333333333333, \"#9c179e\"], [0.4444444444444444, \"#bd3786\"], [0.5555555555555556, \"#d8576b\"], [0.6666666666666666, \"#ed7953\"], [0.7777777777777778, \"#fb9f3a\"], [0.8888888888888888, \"#fdca26\"], [1.0, \"#f0f921\"]], \"type\": \"heatmapgl\"}], \"histogram\": [{\"marker\": {\"colorbar\": {\"outlinewidth\": 0, \"ticks\": \"\"}}, \"type\": \"histogram\"}], \"histogram2d\": [{\"colorbar\": {\"outlinewidth\": 0, \"ticks\": \"\"}, \"colorscale\": [[0.0, \"#0d0887\"], [0.1111111111111111, \"#46039f\"], [0.2222222222222222, \"#7201a8\"], [0.3333333333333333, \"#9c179e\"], [0.4444444444444444, \"#bd3786\"], [0.5555555555555556, \"#d8576b\"], [0.6666666666666666, \"#ed7953\"], [0.7777777777777778, \"#fb9f3a\"], [0.8888888888888888, \"#fdca26\"], [1.0, \"#f0f921\"]], \"type\": \"histogram2d\"}], \"histogram2dcontour\": [{\"colorbar\": {\"outlinewidth\": 0, \"ticks\": \"\"}, \"colorscale\": [[0.0, \"#0d0887\"], [0.1111111111111111, \"#46039f\"], [0.2222222222222222, \"#7201a8\"], [0.3333333333333333, \"#9c179e\"], [0.4444444444444444, \"#bd3786\"], [0.5555555555555556, \"#d8576b\"], [0.6666666666666666, \"#ed7953\"], [0.7777777777777778, \"#fb9f3a\"], [0.8888888888888888, \"#fdca26\"], [1.0, \"#f0f921\"]], \"type\": \"histogram2dcontour\"}], \"mesh3d\": [{\"colorbar\": {\"outlinewidth\": 0, \"ticks\": \"\"}, \"type\": \"mesh3d\"}], \"parcoords\": [{\"line\": {\"colorbar\": {\"outlinewidth\": 0, \"ticks\": \"\"}}, \"type\": \"parcoords\"}], \"pie\": [{\"automargin\": true, \"type\": \"pie\"}], \"scatter\": [{\"marker\": {\"colorbar\": {\"outlinewidth\": 0, \"ticks\": \"\"}}, \"type\": \"scatter\"}], \"scatter3d\": [{\"line\": {\"colorbar\": {\"outlinewidth\": 0, \"ticks\": \"\"}}, \"marker\": {\"colorbar\": {\"outlinewidth\": 0, \"ticks\": \"\"}}, \"type\": \"scatter3d\"}], \"scattercarpet\": [{\"marker\": {\"colorbar\": {\"outlinewidth\": 0, \"ticks\": \"\"}}, \"type\": \"scattercarpet\"}], \"scattergeo\": [{\"marker\": {\"colorbar\": {\"outlinewidth\": 0, \"ticks\": \"\"}}, \"type\": \"scattergeo\"}], \"scattergl\": [{\"marker\": {\"colorbar\": {\"outlinewidth\": 0, \"ticks\": \"\"}}, \"type\": \"scattergl\"}], \"scattermapbox\": [{\"marker\": {\"colorbar\": {\"outlinewidth\": 0, \"ticks\": \"\"}}, \"type\": \"scattermapbox\"}], \"scatterpolar\": [{\"marker\": {\"colorbar\": {\"outlinewidth\": 0, \"ticks\": \"\"}}, \"type\": \"scatterpolar\"}], \"scatterpolargl\": [{\"marker\": {\"colorbar\": {\"outlinewidth\": 0, \"ticks\": \"\"}}, \"type\": \"scatterpolargl\"}], \"scatterternary\": [{\"marker\": {\"colorbar\": {\"outlinewidth\": 0, \"ticks\": \"\"}}, \"type\": \"scatterternary\"}], \"surface\": [{\"colorbar\": {\"outlinewidth\": 0, \"ticks\": \"\"}, \"colorscale\": [[0.0, \"#0d0887\"], [0.1111111111111111, \"#46039f\"], [0.2222222222222222, \"#7201a8\"], [0.3333333333333333, \"#9c179e\"], [0.4444444444444444, \"#bd3786\"], [0.5555555555555556, \"#d8576b\"], [0.6666666666666666, \"#ed7953\"], [0.7777777777777778, \"#fb9f3a\"], [0.8888888888888888, \"#fdca26\"], [1.0, \"#f0f921\"]], \"type\": \"surface\"}], \"table\": [{\"cells\": {\"fill\": {\"color\": \"#EBF0F8\"}, \"line\": {\"color\": \"white\"}}, \"header\": {\"fill\": {\"color\": \"#C8D4E3\"}, \"line\": {\"color\": \"white\"}}, \"type\": \"table\"}]}, \"layout\": {\"annotationdefaults\": {\"arrowcolor\": \"#2a3f5f\", \"arrowhead\": 0, \"arrowwidth\": 1}, \"coloraxis\": {\"colorbar\": {\"outlinewidth\": 0, \"ticks\": \"\"}}, \"colorscale\": {\"diverging\": [[0, \"#8e0152\"], [0.1, \"#c51b7d\"], [0.2, \"#de77ae\"], [0.3, \"#f1b6da\"], [0.4, \"#fde0ef\"], [0.5, \"#f7f7f7\"], [0.6, \"#e6f5d0\"], [0.7, \"#b8e186\"], [0.8, \"#7fbc41\"], [0.9, \"#4d9221\"], [1, \"#276419\"]], \"sequential\": [[0.0, \"#0d0887\"], [0.1111111111111111, \"#46039f\"], [0.2222222222222222, \"#7201a8\"], [0.3333333333333333, \"#9c179e\"], [0.4444444444444444, \"#bd3786\"], [0.5555555555555556, \"#d8576b\"], [0.6666666666666666, \"#ed7953\"], [0.7777777777777778, \"#fb9f3a\"], [0.8888888888888888, \"#fdca26\"], [1.0, \"#f0f921\"]], \"sequentialminus\": [[0.0, \"#0d0887\"], [0.1111111111111111, \"#46039f\"], [0.2222222222222222, \"#7201a8\"], [0.3333333333333333, \"#9c179e\"], [0.4444444444444444, \"#bd3786\"], [0.5555555555555556, \"#d8576b\"], [0.6666666666666666, \"#ed7953\"], [0.7777777777777778, \"#fb9f3a\"], [0.8888888888888888, \"#fdca26\"], [1.0, \"#f0f921\"]]}, \"colorway\": [\"#636efa\", \"#EF553B\", \"#00cc96\", \"#ab63fa\", \"#FFA15A\", \"#19d3f3\", \"#FF6692\", \"#B6E880\", \"#FF97FF\", \"#FECB52\"], \"font\": {\"color\": \"#2a3f5f\"}, \"geo\": {\"bgcolor\": \"white\", \"lakecolor\": \"white\", \"landcolor\": \"#E5ECF6\", \"showlakes\": true, \"showland\": true, \"subunitcolor\": \"white\"}, \"hoverlabel\": {\"align\": \"left\"}, \"hovermode\": \"closest\", \"mapbox\": {\"style\": \"light\"}, \"paper_bgcolor\": \"white\", \"plot_bgcolor\": \"#E5ECF6\", \"polar\": {\"angularaxis\": {\"gridcolor\": \"white\", \"linecolor\": \"white\", \"ticks\": \"\"}, \"bgcolor\": \"#E5ECF6\", \"radialaxis\": {\"gridcolor\": \"white\", \"linecolor\": \"white\", \"ticks\": \"\"}}, \"scene\": {\"xaxis\": {\"backgroundcolor\": \"#E5ECF6\", \"gridcolor\": \"white\", \"gridwidth\": 2, \"linecolor\": \"white\", \"showbackground\": true, \"ticks\": \"\", \"zerolinecolor\": \"white\"}, \"yaxis\": {\"backgroundcolor\": \"#E5ECF6\", \"gridcolor\": \"white\", \"gridwidth\": 2, \"linecolor\": \"white\", \"showbackground\": true, \"ticks\": \"\", \"zerolinecolor\": \"white\"}, \"zaxis\": {\"backgroundcolor\": \"#E5ECF6\", \"gridcolor\": \"white\", \"gridwidth\": 2, \"linecolor\": \"white\", \"showbackground\": true, \"ticks\": \"\", \"zerolinecolor\": \"white\"}}, \"shapedefaults\": {\"line\": {\"color\": \"#2a3f5f\"}}, \"ternary\": {\"aaxis\": {\"gridcolor\": \"white\", \"linecolor\": \"white\", \"ticks\": \"\"}, \"baxis\": {\"gridcolor\": \"white\", \"linecolor\": \"white\", \"ticks\": \"\"}, \"bgcolor\": \"#E5ECF6\", \"caxis\": {\"gridcolor\": \"white\", \"linecolor\": \"white\", \"ticks\": \"\"}}, \"title\": {\"x\": 0.05}, \"xaxis\": {\"automargin\": true, \"gridcolor\": \"white\", \"linecolor\": \"white\", \"ticks\": \"\", \"title\": {\"standoff\": 15}, \"zerolinecolor\": \"white\", \"zerolinewidth\": 2}, \"yaxis\": {\"automargin\": true, \"gridcolor\": \"white\", \"linecolor\": \"white\", \"ticks\": \"\", \"title\": {\"standoff\": 15}, \"zerolinecolor\": \"white\", \"zerolinewidth\": 2}}}, \"title\": {\"font\": {\"color\": \"#4D5663\"}}, \"xaxis\": {\"gridcolor\": \"#E1E5ED\", \"showgrid\": true, \"tickfont\": {\"color\": \"#4D5663\"}, \"title\": {\"font\": {\"color\": \"#4D5663\"}, \"text\": \"\"}, \"zerolinecolor\": \"#E1E5ED\"}, \"yaxis\": {\"gridcolor\": \"#E1E5ED\", \"showgrid\": true, \"tickfont\": {\"color\": \"#4D5663\"}, \"title\": {\"font\": {\"color\": \"#4D5663\"}, \"text\": \"\"}, \"zerolinecolor\": \"#E1E5ED\"}},\n",
       "                        {\"showLink\": true, \"linkText\": \"Export to plot.ly\", \"plotlyServerURL\": \"https://plot.ly\", \"responsive\": true}\n",
       "                    ).then(function(){\n",
       "                            \n",
       "var gd = document.getElementById('e884bc57-12a2-4b31-b774-bf5cd7f597af');\n",
       "var x = new MutationObserver(function (mutations, observer) {{\n",
       "        var display = window.getComputedStyle(gd).display;\n",
       "        if (!display || display === 'none') {{\n",
       "            console.log([gd, 'removed!']);\n",
       "            Plotly.purge(gd);\n",
       "            observer.disconnect();\n",
       "        }}\n",
       "}});\n",
       "\n",
       "// Listen for the removal of the full notebook cells\n",
       "var notebookContainer = gd.closest('#notebook-container');\n",
       "if (notebookContainer) {{\n",
       "    x.observe(notebookContainer, {childList: true});\n",
       "}}\n",
       "\n",
       "// Listen for the clearing of the current output cell\n",
       "var outputEl = gd.closest('.output');\n",
       "if (outputEl) {{\n",
       "    x.observe(outputEl, {childList: true});\n",
       "}}\n",
       "\n",
       "                        })\n",
       "                };\n",
       "                });\n",
       "            </script>\n",
       "        </div>"
      ]
     },
     "metadata": {},
     "output_type": "display_data"
    }
   ],
   "source": [
    "df['A'].iplot(kind='hist',bins=25)"
   ]
  },
  {
   "cell_type": "code",
   "execution_count": 19,
   "metadata": {},
   "outputs": [
    {
     "data": {
      "application/vnd.plotly.v1+json": {
       "config": {
        "linkText": "Export to plot.ly",
        "plotlyServerURL": "https://plot.ly",
        "showLink": true
       },
       "data": [
        {
         "marker": {
          "color": [
           "rgb(255, 153, 51)",
           "rgb(55, 128, 191)",
           "rgb(50, 171, 96)",
           "rgb(128, 0, 128)",
           "rgb(219, 64, 82)",
           "rgb(0, 128, 128)",
           "rgb(255, 255, 51)",
           "rgb(128, 128, 0)",
           "rgb(251, 128, 114)",
           "rgb(128, 177, 211)"
          ],
          "line": {
           "width": 1.3
          },
          "size": [
           73,
           85,
           43,
           75,
           71,
           70,
           52,
           72,
           90,
           96,
           75,
           39,
           44,
           40,
           77,
           58,
           67,
           61,
           63,
           88,
           45,
           83,
           79,
           65,
           69,
           54,
           70,
           32,
           30,
           92,
           67,
           76,
           60,
           68,
           76,
           42,
           76,
           80,
           72,
           73,
           50,
           87,
           69,
           105,
           66,
           96,
           67,
           69,
           35,
           99,
           94,
           53,
           80,
           105,
           75,
           61,
           52,
           95,
           73,
           108,
           88,
           95,
           48,
           112,
           106,
           94,
           51,
           20,
           48,
           12,
           87,
           76,
           68,
           83,
           80,
           63,
           59,
           63,
           85,
           85,
           87,
           84,
           60,
           38,
           74,
           73,
           69,
           20,
           83,
           44,
           69,
           67,
           98,
           96,
           49,
           24,
           77,
           35,
           43,
           93
          ],
          "symbol": "circle"
         },
         "mode": "markers",
         "text": "",
         "type": "scatter",
         "x": [
          0.3696420558197603,
          0.5253992122905893,
          -1.037046991780036,
          0.24758500485110949,
          -1.8474714207170502,
          1.3011206429284472,
          -0.9335639569440436,
          0.7693596664680276,
          -0.7354420564182146,
          -0.3897801777723191,
          -0.5361110290279926,
          -0.11335978345336128,
          0.5034703014821329,
          0.6862383833141485,
          -0.998068344328191,
          -1.0158631125325421,
          0.004348380037364213,
          0.41957675079592427,
          2.301491454423374,
          1.4561157709628787,
          -0.39543442769501835,
          -2.9977343866583146,
          0.4606828596039337,
          0.4125115418393969,
          -1.6772472028110024,
          0.4847284875647718,
          0.13514321173399585,
          -0.8501933743837765,
          0.7661903176591959,
          0.2556084067919436,
          1.2092208938314986,
          -0.9641519723820355,
          -0.4929362943760437,
          0.28872133688964635,
          -0.9942239232924204,
          -0.17732241365179743,
          -1.167011992737201,
          -0.02479701877713464,
          -1.3437385112074935,
          -0.13425512337211468,
          -1.1387426056206769,
          -0.152654355616287,
          -0.20396279915057616,
          -1.09589281461307,
          -1.8186866319970554,
          -1.419713115103019,
          1.1238921197556309,
          -0.25238924820713565,
          0.8003631231624078,
          1.510325015083661,
          0.15693663155427395,
          -1.7131257418818993,
          -0.73964880933293,
          -0.9491578573939075,
          -0.030022804907188512,
          1.1710417549444856,
          0.12729687189798403,
          -0.005807129205971171,
          -0.028565868349607577,
          -0.4819911680944219,
          -1.518892135299185,
          -0.576390236024212,
          0.36059632276433357,
          -0.12057217071166919,
          0.15762625193431426,
          0.06810068428376627,
          0.6367262505638114,
          -2.1102698964980773,
          -0.7082699504905734,
          -0.2941154121319468,
          0.126635294372914,
          -0.40570278219914246,
          0.35808490553594086,
          -1.0342876768719167,
          -1.1947571676836943,
          0.5541810575018407,
          1.5133993382594308,
          -0.9003410000358811,
          -0.8560779010303979,
          2.030211579966576,
          0.582959641868816,
          0.8494972234950936,
          1.1581283542388061,
          0.6879489752136857,
          -0.8493140319400361,
          -0.6133085997176515,
          -0.2850937172340025,
          -0.9857890053489234,
          -0.09162341605494383,
          -1.0244112466360455,
          1.393245285512462,
          0.03430148884087417,
          0.37283225888140187,
          0.1487104846347837,
          -1.256860203558932,
          0.3464741711743709,
          -0.31822087540002797,
          1.384161939100568,
          0.060376550504078835,
          -1.5736730924838451
         ],
         "y": [
          1.8544854469766379,
          0.7836177074308012,
          -0.7023952067731887,
          -1.6590009035343811,
          0.5368017098635539,
          -0.3523782119696855,
          0.16226175563893364,
          0.7264061191098,
          -1.2499210848417084,
          0.1929954220383031,
          -0.21386919859532105,
          -0.29271630353287986,
          -0.6611903651266722,
          0.744638175086269,
          0.2040438468422435,
          0.8584320617049238,
          0.850452155003359,
          -1.3659953542696026,
          -0.05578684509734393,
          0.6323620787780885,
          0.2837188925661103,
          -0.30468203874642236,
          -2.8251949591332033,
          0.34430547180085386,
          -0.9974663044329387,
          1.0962755508149857,
          -1.7792529363166523,
          1.1933040966037836,
          0.07152250341734986,
          -0.36871156263976,
          0.4574508446904451,
          -1.75587070274968,
          -1.59898164109928,
          -1.6860266836224718,
          -0.3277867055238577,
          -1.3629489107165276,
          1.0412266116381714,
          0.7179155165752484,
          1.6930515185472383,
          1.289448459481413,
          0.30362087590713316,
          -2.1528501300606946,
          -1.0134696144934496,
          -0.15636623271294586,
          0.8380139710009594,
          0.5579228915062908,
          0.5368016312120132,
          -0.5078470766397161,
          -0.845020274882293,
          -0.5032619357012125,
          0.09063142724378265,
          1.3230502586330954,
          0.605470890269384,
          -1.4491029065733194,
          1.5350799697628166,
          -0.4887321951171857,
          -1.9780210133324072,
          -0.09137475763597733,
          -0.7403203584012117,
          0.7224915860473682,
          0.7062391710651873,
          0.2012465686323864,
          -1.418854798097011,
          -1.8166350247694463,
          -1.1893933087052846,
          1.6008006185133081,
          -1.3828919131099306,
          -0.3939760308123558,
          -0.8518355622060666,
          -0.792128482209907,
          1.3826855098314517,
          0.19896340055223444,
          -0.23145050018903338,
          -0.47964419762986166,
          -0.44283720384580877,
          0.2975083383573253,
          -1.0702080056630172,
          0.3714803864386964,
          -1.7713799252108353,
          -0.05361606457323116,
          1.2773542153545079,
          1.130147907205399,
          0.672508729528042,
          -0.04422356786938887,
          0.06591820760695383,
          0.8657351394759569,
          -1.149166652831269,
          1.2801278124161366,
          0.7053245114339901,
          -0.6450090266750952,
          0.22479835435854695,
          -1.5687383321523662,
          -1.6711767415185925,
          0.18688677530668604,
          0.4801646737727269,
          1.27730447068291,
          1.5312853572122618,
          -0.003243945845103304,
          0.31545108378705483,
          0.8001980688130594
         ]
        }
       ],
       "layout": {
        "legend": {
         "bgcolor": "#F5F6F9",
         "font": {
          "color": "#4D5663"
         }
        },
        "paper_bgcolor": "#F5F6F9",
        "plot_bgcolor": "#F5F6F9",
        "template": {
         "data": {
          "bar": [
           {
            "error_x": {
             "color": "#2a3f5f"
            },
            "error_y": {
             "color": "#2a3f5f"
            },
            "marker": {
             "line": {
              "color": "#E5ECF6",
              "width": 0.5
             }
            },
            "type": "bar"
           }
          ],
          "barpolar": [
           {
            "marker": {
             "line": {
              "color": "#E5ECF6",
              "width": 0.5
             }
            },
            "type": "barpolar"
           }
          ],
          "carpet": [
           {
            "aaxis": {
             "endlinecolor": "#2a3f5f",
             "gridcolor": "white",
             "linecolor": "white",
             "minorgridcolor": "white",
             "startlinecolor": "#2a3f5f"
            },
            "baxis": {
             "endlinecolor": "#2a3f5f",
             "gridcolor": "white",
             "linecolor": "white",
             "minorgridcolor": "white",
             "startlinecolor": "#2a3f5f"
            },
            "type": "carpet"
           }
          ],
          "choropleth": [
           {
            "colorbar": {
             "outlinewidth": 0,
             "ticks": ""
            },
            "type": "choropleth"
           }
          ],
          "contour": [
           {
            "colorbar": {
             "outlinewidth": 0,
             "ticks": ""
            },
            "colorscale": [
             [
              0,
              "#0d0887"
             ],
             [
              0.1111111111111111,
              "#46039f"
             ],
             [
              0.2222222222222222,
              "#7201a8"
             ],
             [
              0.3333333333333333,
              "#9c179e"
             ],
             [
              0.4444444444444444,
              "#bd3786"
             ],
             [
              0.5555555555555556,
              "#d8576b"
             ],
             [
              0.6666666666666666,
              "#ed7953"
             ],
             [
              0.7777777777777778,
              "#fb9f3a"
             ],
             [
              0.8888888888888888,
              "#fdca26"
             ],
             [
              1,
              "#f0f921"
             ]
            ],
            "type": "contour"
           }
          ],
          "contourcarpet": [
           {
            "colorbar": {
             "outlinewidth": 0,
             "ticks": ""
            },
            "type": "contourcarpet"
           }
          ],
          "heatmap": [
           {
            "colorbar": {
             "outlinewidth": 0,
             "ticks": ""
            },
            "colorscale": [
             [
              0,
              "#0d0887"
             ],
             [
              0.1111111111111111,
              "#46039f"
             ],
             [
              0.2222222222222222,
              "#7201a8"
             ],
             [
              0.3333333333333333,
              "#9c179e"
             ],
             [
              0.4444444444444444,
              "#bd3786"
             ],
             [
              0.5555555555555556,
              "#d8576b"
             ],
             [
              0.6666666666666666,
              "#ed7953"
             ],
             [
              0.7777777777777778,
              "#fb9f3a"
             ],
             [
              0.8888888888888888,
              "#fdca26"
             ],
             [
              1,
              "#f0f921"
             ]
            ],
            "type": "heatmap"
           }
          ],
          "heatmapgl": [
           {
            "colorbar": {
             "outlinewidth": 0,
             "ticks": ""
            },
            "colorscale": [
             [
              0,
              "#0d0887"
             ],
             [
              0.1111111111111111,
              "#46039f"
             ],
             [
              0.2222222222222222,
              "#7201a8"
             ],
             [
              0.3333333333333333,
              "#9c179e"
             ],
             [
              0.4444444444444444,
              "#bd3786"
             ],
             [
              0.5555555555555556,
              "#d8576b"
             ],
             [
              0.6666666666666666,
              "#ed7953"
             ],
             [
              0.7777777777777778,
              "#fb9f3a"
             ],
             [
              0.8888888888888888,
              "#fdca26"
             ],
             [
              1,
              "#f0f921"
             ]
            ],
            "type": "heatmapgl"
           }
          ],
          "histogram": [
           {
            "marker": {
             "colorbar": {
              "outlinewidth": 0,
              "ticks": ""
             }
            },
            "type": "histogram"
           }
          ],
          "histogram2d": [
           {
            "colorbar": {
             "outlinewidth": 0,
             "ticks": ""
            },
            "colorscale": [
             [
              0,
              "#0d0887"
             ],
             [
              0.1111111111111111,
              "#46039f"
             ],
             [
              0.2222222222222222,
              "#7201a8"
             ],
             [
              0.3333333333333333,
              "#9c179e"
             ],
             [
              0.4444444444444444,
              "#bd3786"
             ],
             [
              0.5555555555555556,
              "#d8576b"
             ],
             [
              0.6666666666666666,
              "#ed7953"
             ],
             [
              0.7777777777777778,
              "#fb9f3a"
             ],
             [
              0.8888888888888888,
              "#fdca26"
             ],
             [
              1,
              "#f0f921"
             ]
            ],
            "type": "histogram2d"
           }
          ],
          "histogram2dcontour": [
           {
            "colorbar": {
             "outlinewidth": 0,
             "ticks": ""
            },
            "colorscale": [
             [
              0,
              "#0d0887"
             ],
             [
              0.1111111111111111,
              "#46039f"
             ],
             [
              0.2222222222222222,
              "#7201a8"
             ],
             [
              0.3333333333333333,
              "#9c179e"
             ],
             [
              0.4444444444444444,
              "#bd3786"
             ],
             [
              0.5555555555555556,
              "#d8576b"
             ],
             [
              0.6666666666666666,
              "#ed7953"
             ],
             [
              0.7777777777777778,
              "#fb9f3a"
             ],
             [
              0.8888888888888888,
              "#fdca26"
             ],
             [
              1,
              "#f0f921"
             ]
            ],
            "type": "histogram2dcontour"
           }
          ],
          "mesh3d": [
           {
            "colorbar": {
             "outlinewidth": 0,
             "ticks": ""
            },
            "type": "mesh3d"
           }
          ],
          "parcoords": [
           {
            "line": {
             "colorbar": {
              "outlinewidth": 0,
              "ticks": ""
             }
            },
            "type": "parcoords"
           }
          ],
          "pie": [
           {
            "automargin": true,
            "type": "pie"
           }
          ],
          "scatter": [
           {
            "marker": {
             "colorbar": {
              "outlinewidth": 0,
              "ticks": ""
             }
            },
            "type": "scatter"
           }
          ],
          "scatter3d": [
           {
            "line": {
             "colorbar": {
              "outlinewidth": 0,
              "ticks": ""
             }
            },
            "marker": {
             "colorbar": {
              "outlinewidth": 0,
              "ticks": ""
             }
            },
            "type": "scatter3d"
           }
          ],
          "scattercarpet": [
           {
            "marker": {
             "colorbar": {
              "outlinewidth": 0,
              "ticks": ""
             }
            },
            "type": "scattercarpet"
           }
          ],
          "scattergeo": [
           {
            "marker": {
             "colorbar": {
              "outlinewidth": 0,
              "ticks": ""
             }
            },
            "type": "scattergeo"
           }
          ],
          "scattergl": [
           {
            "marker": {
             "colorbar": {
              "outlinewidth": 0,
              "ticks": ""
             }
            },
            "type": "scattergl"
           }
          ],
          "scattermapbox": [
           {
            "marker": {
             "colorbar": {
              "outlinewidth": 0,
              "ticks": ""
             }
            },
            "type": "scattermapbox"
           }
          ],
          "scatterpolar": [
           {
            "marker": {
             "colorbar": {
              "outlinewidth": 0,
              "ticks": ""
             }
            },
            "type": "scatterpolar"
           }
          ],
          "scatterpolargl": [
           {
            "marker": {
             "colorbar": {
              "outlinewidth": 0,
              "ticks": ""
             }
            },
            "type": "scatterpolargl"
           }
          ],
          "scatterternary": [
           {
            "marker": {
             "colorbar": {
              "outlinewidth": 0,
              "ticks": ""
             }
            },
            "type": "scatterternary"
           }
          ],
          "surface": [
           {
            "colorbar": {
             "outlinewidth": 0,
             "ticks": ""
            },
            "colorscale": [
             [
              0,
              "#0d0887"
             ],
             [
              0.1111111111111111,
              "#46039f"
             ],
             [
              0.2222222222222222,
              "#7201a8"
             ],
             [
              0.3333333333333333,
              "#9c179e"
             ],
             [
              0.4444444444444444,
              "#bd3786"
             ],
             [
              0.5555555555555556,
              "#d8576b"
             ],
             [
              0.6666666666666666,
              "#ed7953"
             ],
             [
              0.7777777777777778,
              "#fb9f3a"
             ],
             [
              0.8888888888888888,
              "#fdca26"
             ],
             [
              1,
              "#f0f921"
             ]
            ],
            "type": "surface"
           }
          ],
          "table": [
           {
            "cells": {
             "fill": {
              "color": "#EBF0F8"
             },
             "line": {
              "color": "white"
             }
            },
            "header": {
             "fill": {
              "color": "#C8D4E3"
             },
             "line": {
              "color": "white"
             }
            },
            "type": "table"
           }
          ]
         },
         "layout": {
          "annotationdefaults": {
           "arrowcolor": "#2a3f5f",
           "arrowhead": 0,
           "arrowwidth": 1
          },
          "coloraxis": {
           "colorbar": {
            "outlinewidth": 0,
            "ticks": ""
           }
          },
          "colorscale": {
           "diverging": [
            [
             0,
             "#8e0152"
            ],
            [
             0.1,
             "#c51b7d"
            ],
            [
             0.2,
             "#de77ae"
            ],
            [
             0.3,
             "#f1b6da"
            ],
            [
             0.4,
             "#fde0ef"
            ],
            [
             0.5,
             "#f7f7f7"
            ],
            [
             0.6,
             "#e6f5d0"
            ],
            [
             0.7,
             "#b8e186"
            ],
            [
             0.8,
             "#7fbc41"
            ],
            [
             0.9,
             "#4d9221"
            ],
            [
             1,
             "#276419"
            ]
           ],
           "sequential": [
            [
             0,
             "#0d0887"
            ],
            [
             0.1111111111111111,
             "#46039f"
            ],
            [
             0.2222222222222222,
             "#7201a8"
            ],
            [
             0.3333333333333333,
             "#9c179e"
            ],
            [
             0.4444444444444444,
             "#bd3786"
            ],
            [
             0.5555555555555556,
             "#d8576b"
            ],
            [
             0.6666666666666666,
             "#ed7953"
            ],
            [
             0.7777777777777778,
             "#fb9f3a"
            ],
            [
             0.8888888888888888,
             "#fdca26"
            ],
            [
             1,
             "#f0f921"
            ]
           ],
           "sequentialminus": [
            [
             0,
             "#0d0887"
            ],
            [
             0.1111111111111111,
             "#46039f"
            ],
            [
             0.2222222222222222,
             "#7201a8"
            ],
            [
             0.3333333333333333,
             "#9c179e"
            ],
            [
             0.4444444444444444,
             "#bd3786"
            ],
            [
             0.5555555555555556,
             "#d8576b"
            ],
            [
             0.6666666666666666,
             "#ed7953"
            ],
            [
             0.7777777777777778,
             "#fb9f3a"
            ],
            [
             0.8888888888888888,
             "#fdca26"
            ],
            [
             1,
             "#f0f921"
            ]
           ]
          },
          "colorway": [
           "#636efa",
           "#EF553B",
           "#00cc96",
           "#ab63fa",
           "#FFA15A",
           "#19d3f3",
           "#FF6692",
           "#B6E880",
           "#FF97FF",
           "#FECB52"
          ],
          "font": {
           "color": "#2a3f5f"
          },
          "geo": {
           "bgcolor": "white",
           "lakecolor": "white",
           "landcolor": "#E5ECF6",
           "showlakes": true,
           "showland": true,
           "subunitcolor": "white"
          },
          "hoverlabel": {
           "align": "left"
          },
          "hovermode": "closest",
          "mapbox": {
           "style": "light"
          },
          "paper_bgcolor": "white",
          "plot_bgcolor": "#E5ECF6",
          "polar": {
           "angularaxis": {
            "gridcolor": "white",
            "linecolor": "white",
            "ticks": ""
           },
           "bgcolor": "#E5ECF6",
           "radialaxis": {
            "gridcolor": "white",
            "linecolor": "white",
            "ticks": ""
           }
          },
          "scene": {
           "xaxis": {
            "backgroundcolor": "#E5ECF6",
            "gridcolor": "white",
            "gridwidth": 2,
            "linecolor": "white",
            "showbackground": true,
            "ticks": "",
            "zerolinecolor": "white"
           },
           "yaxis": {
            "backgroundcolor": "#E5ECF6",
            "gridcolor": "white",
            "gridwidth": 2,
            "linecolor": "white",
            "showbackground": true,
            "ticks": "",
            "zerolinecolor": "white"
           },
           "zaxis": {
            "backgroundcolor": "#E5ECF6",
            "gridcolor": "white",
            "gridwidth": 2,
            "linecolor": "white",
            "showbackground": true,
            "ticks": "",
            "zerolinecolor": "white"
           }
          },
          "shapedefaults": {
           "line": {
            "color": "#2a3f5f"
           }
          },
          "ternary": {
           "aaxis": {
            "gridcolor": "white",
            "linecolor": "white",
            "ticks": ""
           },
           "baxis": {
            "gridcolor": "white",
            "linecolor": "white",
            "ticks": ""
           },
           "bgcolor": "#E5ECF6",
           "caxis": {
            "gridcolor": "white",
            "linecolor": "white",
            "ticks": ""
           }
          },
          "title": {
           "x": 0.05
          },
          "xaxis": {
           "automargin": true,
           "gridcolor": "white",
           "linecolor": "white",
           "ticks": "",
           "title": {
            "standoff": 15
           },
           "zerolinecolor": "white",
           "zerolinewidth": 2
          },
          "yaxis": {
           "automargin": true,
           "gridcolor": "white",
           "linecolor": "white",
           "ticks": "",
           "title": {
            "standoff": 15
           },
           "zerolinecolor": "white",
           "zerolinewidth": 2
          }
         }
        },
        "title": {
         "font": {
          "color": "#4D5663"
         }
        },
        "xaxis": {
         "gridcolor": "#E1E5ED",
         "showgrid": true,
         "tickfont": {
          "color": "#4D5663"
         },
         "title": {
          "font": {
           "color": "#4D5663"
          },
          "text": ""
         },
         "zerolinecolor": "#E1E5ED"
        },
        "yaxis": {
         "gridcolor": "#E1E5ED",
         "showgrid": true,
         "tickfont": {
          "color": "#4D5663"
         },
         "title": {
          "font": {
           "color": "#4D5663"
          },
          "text": ""
         },
         "zerolinecolor": "#E1E5ED"
        }
       }
      },
      "text/html": [
       "<div>\n",
       "        \n",
       "        \n",
       "            <div id=\"e34ffd4a-1a81-4e4c-b3ea-34c5d2d9e4c0\" class=\"plotly-graph-div\" style=\"height:525px; width:100%;\"></div>\n",
       "            <script type=\"text/javascript\">\n",
       "                require([\"plotly\"], function(Plotly) {\n",
       "                    window.PLOTLYENV=window.PLOTLYENV || {};\n",
       "                    window.PLOTLYENV.BASE_URL='https://plot.ly';\n",
       "                    \n",
       "                if (document.getElementById(\"e34ffd4a-1a81-4e4c-b3ea-34c5d2d9e4c0\")) {\n",
       "                    Plotly.newPlot(\n",
       "                        'e34ffd4a-1a81-4e4c-b3ea-34c5d2d9e4c0',\n",
       "                        [{\"marker\": {\"color\": [\"rgb(255, 153, 51)\", \"rgb(55, 128, 191)\", \"rgb(50, 171, 96)\", \"rgb(128, 0, 128)\", \"rgb(219, 64, 82)\", \"rgb(0, 128, 128)\", \"rgb(255, 255, 51)\", \"rgb(128, 128, 0)\", \"rgb(251, 128, 114)\", \"rgb(128, 177, 211)\"], \"line\": {\"width\": 1.3}, \"size\": [73, 85, 43, 75, 71, 70, 52, 72, 90, 96, 75, 39, 44, 40, 77, 58, 67, 61, 63, 88, 45, 83, 79, 65, 69, 54, 70, 32, 30, 92, 67, 76, 60, 68, 76, 42, 76, 80, 72, 73, 50, 87, 69, 105, 66, 96, 67, 69, 35, 99, 94, 53, 80, 105, 75, 61, 52, 95, 73, 108, 88, 95, 48, 112, 106, 94, 51, 20, 48, 12, 87, 76, 68, 83, 80, 63, 59, 63, 85, 85, 87, 84, 60, 38, 74, 73, 69, 20, 83, 44, 69, 67, 98, 96, 49, 24, 77, 35, 43, 93], \"symbol\": \"circle\"}, \"mode\": \"markers\", \"text\": \"\", \"type\": \"scatter\", \"x\": [0.3696420558197603, 0.5253992122905893, -1.037046991780036, 0.24758500485110949, -1.8474714207170502, 1.3011206429284472, -0.9335639569440436, 0.7693596664680276, -0.7354420564182146, -0.3897801777723191, -0.5361110290279926, -0.11335978345336128, 0.5034703014821329, 0.6862383833141485, -0.998068344328191, -1.0158631125325421, 0.004348380037364213, 0.41957675079592427, 2.301491454423374, 1.4561157709628787, -0.39543442769501835, -2.9977343866583146, 0.4606828596039337, 0.4125115418393969, -1.6772472028110024, 0.4847284875647718, 0.13514321173399585, -0.8501933743837765, 0.7661903176591959, 0.2556084067919436, 1.2092208938314986, -0.9641519723820355, -0.4929362943760437, 0.28872133688964635, -0.9942239232924204, -0.17732241365179743, -1.167011992737201, -0.02479701877713464, -1.3437385112074935, -0.13425512337211468, -1.1387426056206769, -0.152654355616287, -0.20396279915057616, -1.09589281461307, -1.8186866319970554, -1.419713115103019, 1.1238921197556309, -0.25238924820713565, 0.8003631231624078, 1.510325015083661, 0.15693663155427395, -1.7131257418818993, -0.73964880933293, -0.9491578573939075, -0.030022804907188512, 1.1710417549444856, 0.12729687189798403, -0.005807129205971171, -0.028565868349607577, -0.4819911680944219, -1.518892135299185, -0.576390236024212, 0.36059632276433357, -0.12057217071166919, 0.15762625193431426, 0.06810068428376627, 0.6367262505638114, -2.1102698964980773, -0.7082699504905734, -0.2941154121319468, 0.126635294372914, -0.40570278219914246, 0.35808490553594086, -1.0342876768719167, -1.1947571676836943, 0.5541810575018407, 1.5133993382594308, -0.9003410000358811, -0.8560779010303979, 2.030211579966576, 0.582959641868816, 0.8494972234950936, 1.1581283542388061, 0.6879489752136857, -0.8493140319400361, -0.6133085997176515, -0.2850937172340025, -0.9857890053489234, -0.09162341605494383, -1.0244112466360455, 1.393245285512462, 0.03430148884087417, 0.37283225888140187, 0.1487104846347837, -1.256860203558932, 0.3464741711743709, -0.31822087540002797, 1.384161939100568, 0.060376550504078835, -1.5736730924838451], \"y\": [1.8544854469766379, 0.7836177074308012, -0.7023952067731887, -1.6590009035343811, 0.5368017098635539, -0.3523782119696855, 0.16226175563893364, 0.7264061191098, -1.2499210848417084, 0.1929954220383031, -0.21386919859532105, -0.29271630353287986, -0.6611903651266722, 0.744638175086269, 0.2040438468422435, 0.8584320617049238, 0.850452155003359, -1.3659953542696026, -0.05578684509734393, 0.6323620787780885, 0.2837188925661103, -0.30468203874642236, -2.8251949591332033, 0.34430547180085386, -0.9974663044329387, 1.0962755508149857, -1.7792529363166523, 1.1933040966037836, 0.07152250341734986, -0.36871156263976, 0.4574508446904451, -1.75587070274968, -1.59898164109928, -1.6860266836224718, -0.3277867055238577, -1.3629489107165276, 1.0412266116381714, 0.7179155165752484, 1.6930515185472383, 1.289448459481413, 0.30362087590713316, -2.1528501300606946, -1.0134696144934496, -0.15636623271294586, 0.8380139710009594, 0.5579228915062908, 0.5368016312120132, -0.5078470766397161, -0.845020274882293, -0.5032619357012125, 0.09063142724378265, 1.3230502586330954, 0.605470890269384, -1.4491029065733194, 1.5350799697628166, -0.4887321951171857, -1.9780210133324072, -0.09137475763597733, -0.7403203584012117, 0.7224915860473682, 0.7062391710651873, 0.2012465686323864, -1.418854798097011, -1.8166350247694463, -1.1893933087052846, 1.6008006185133081, -1.3828919131099306, -0.3939760308123558, -0.8518355622060666, -0.792128482209907, 1.3826855098314517, 0.19896340055223444, -0.23145050018903338, -0.47964419762986166, -0.44283720384580877, 0.2975083383573253, -1.0702080056630172, 0.3714803864386964, -1.7713799252108353, -0.05361606457323116, 1.2773542153545079, 1.130147907205399, 0.672508729528042, -0.04422356786938887, 0.06591820760695383, 0.8657351394759569, -1.149166652831269, 1.2801278124161366, 0.7053245114339901, -0.6450090266750952, 0.22479835435854695, -1.5687383321523662, -1.6711767415185925, 0.18688677530668604, 0.4801646737727269, 1.27730447068291, 1.5312853572122618, -0.003243945845103304, 0.31545108378705483, 0.8001980688130594]}],\n",
       "                        {\"legend\": {\"bgcolor\": \"#F5F6F9\", \"font\": {\"color\": \"#4D5663\"}}, \"paper_bgcolor\": \"#F5F6F9\", \"plot_bgcolor\": \"#F5F6F9\", \"template\": {\"data\": {\"bar\": [{\"error_x\": {\"color\": \"#2a3f5f\"}, \"error_y\": {\"color\": \"#2a3f5f\"}, \"marker\": {\"line\": {\"color\": \"#E5ECF6\", \"width\": 0.5}}, \"type\": \"bar\"}], \"barpolar\": [{\"marker\": {\"line\": {\"color\": \"#E5ECF6\", \"width\": 0.5}}, \"type\": \"barpolar\"}], \"carpet\": [{\"aaxis\": {\"endlinecolor\": \"#2a3f5f\", \"gridcolor\": \"white\", \"linecolor\": \"white\", \"minorgridcolor\": \"white\", \"startlinecolor\": \"#2a3f5f\"}, \"baxis\": {\"endlinecolor\": \"#2a3f5f\", \"gridcolor\": \"white\", \"linecolor\": \"white\", \"minorgridcolor\": \"white\", \"startlinecolor\": \"#2a3f5f\"}, \"type\": \"carpet\"}], \"choropleth\": [{\"colorbar\": {\"outlinewidth\": 0, \"ticks\": \"\"}, \"type\": \"choropleth\"}], \"contour\": [{\"colorbar\": {\"outlinewidth\": 0, \"ticks\": \"\"}, \"colorscale\": [[0.0, \"#0d0887\"], [0.1111111111111111, \"#46039f\"], [0.2222222222222222, \"#7201a8\"], [0.3333333333333333, \"#9c179e\"], [0.4444444444444444, \"#bd3786\"], [0.5555555555555556, \"#d8576b\"], [0.6666666666666666, \"#ed7953\"], [0.7777777777777778, \"#fb9f3a\"], [0.8888888888888888, \"#fdca26\"], [1.0, \"#f0f921\"]], \"type\": \"contour\"}], \"contourcarpet\": [{\"colorbar\": {\"outlinewidth\": 0, \"ticks\": \"\"}, \"type\": \"contourcarpet\"}], \"heatmap\": [{\"colorbar\": {\"outlinewidth\": 0, \"ticks\": \"\"}, \"colorscale\": [[0.0, \"#0d0887\"], [0.1111111111111111, \"#46039f\"], [0.2222222222222222, \"#7201a8\"], [0.3333333333333333, \"#9c179e\"], [0.4444444444444444, \"#bd3786\"], [0.5555555555555556, \"#d8576b\"], [0.6666666666666666, \"#ed7953\"], [0.7777777777777778, \"#fb9f3a\"], [0.8888888888888888, \"#fdca26\"], [1.0, \"#f0f921\"]], \"type\": \"heatmap\"}], \"heatmapgl\": [{\"colorbar\": {\"outlinewidth\": 0, \"ticks\": \"\"}, \"colorscale\": [[0.0, \"#0d0887\"], [0.1111111111111111, \"#46039f\"], [0.2222222222222222, \"#7201a8\"], [0.3333333333333333, \"#9c179e\"], [0.4444444444444444, \"#bd3786\"], [0.5555555555555556, \"#d8576b\"], [0.6666666666666666, \"#ed7953\"], [0.7777777777777778, \"#fb9f3a\"], [0.8888888888888888, \"#fdca26\"], [1.0, \"#f0f921\"]], \"type\": \"heatmapgl\"}], \"histogram\": [{\"marker\": {\"colorbar\": {\"outlinewidth\": 0, \"ticks\": \"\"}}, \"type\": \"histogram\"}], \"histogram2d\": [{\"colorbar\": {\"outlinewidth\": 0, \"ticks\": \"\"}, \"colorscale\": [[0.0, \"#0d0887\"], [0.1111111111111111, \"#46039f\"], [0.2222222222222222, \"#7201a8\"], [0.3333333333333333, \"#9c179e\"], [0.4444444444444444, \"#bd3786\"], [0.5555555555555556, \"#d8576b\"], [0.6666666666666666, \"#ed7953\"], [0.7777777777777778, \"#fb9f3a\"], [0.8888888888888888, \"#fdca26\"], [1.0, \"#f0f921\"]], \"type\": \"histogram2d\"}], \"histogram2dcontour\": [{\"colorbar\": {\"outlinewidth\": 0, \"ticks\": \"\"}, \"colorscale\": [[0.0, \"#0d0887\"], [0.1111111111111111, \"#46039f\"], [0.2222222222222222, \"#7201a8\"], [0.3333333333333333, \"#9c179e\"], [0.4444444444444444, \"#bd3786\"], [0.5555555555555556, \"#d8576b\"], [0.6666666666666666, \"#ed7953\"], [0.7777777777777778, \"#fb9f3a\"], [0.8888888888888888, \"#fdca26\"], [1.0, \"#f0f921\"]], \"type\": \"histogram2dcontour\"}], \"mesh3d\": [{\"colorbar\": {\"outlinewidth\": 0, \"ticks\": \"\"}, \"type\": \"mesh3d\"}], \"parcoords\": [{\"line\": {\"colorbar\": {\"outlinewidth\": 0, \"ticks\": \"\"}}, \"type\": \"parcoords\"}], \"pie\": [{\"automargin\": true, \"type\": \"pie\"}], \"scatter\": [{\"marker\": {\"colorbar\": {\"outlinewidth\": 0, \"ticks\": \"\"}}, \"type\": \"scatter\"}], \"scatter3d\": [{\"line\": {\"colorbar\": {\"outlinewidth\": 0, \"ticks\": \"\"}}, \"marker\": {\"colorbar\": {\"outlinewidth\": 0, \"ticks\": \"\"}}, \"type\": \"scatter3d\"}], \"scattercarpet\": [{\"marker\": {\"colorbar\": {\"outlinewidth\": 0, \"ticks\": \"\"}}, \"type\": \"scattercarpet\"}], \"scattergeo\": [{\"marker\": {\"colorbar\": {\"outlinewidth\": 0, \"ticks\": \"\"}}, \"type\": \"scattergeo\"}], \"scattergl\": [{\"marker\": {\"colorbar\": {\"outlinewidth\": 0, \"ticks\": \"\"}}, \"type\": \"scattergl\"}], \"scattermapbox\": [{\"marker\": {\"colorbar\": {\"outlinewidth\": 0, \"ticks\": \"\"}}, \"type\": \"scattermapbox\"}], \"scatterpolar\": [{\"marker\": {\"colorbar\": {\"outlinewidth\": 0, \"ticks\": \"\"}}, \"type\": \"scatterpolar\"}], \"scatterpolargl\": [{\"marker\": {\"colorbar\": {\"outlinewidth\": 0, \"ticks\": \"\"}}, \"type\": \"scatterpolargl\"}], \"scatterternary\": [{\"marker\": {\"colorbar\": {\"outlinewidth\": 0, \"ticks\": \"\"}}, \"type\": \"scatterternary\"}], \"surface\": [{\"colorbar\": {\"outlinewidth\": 0, \"ticks\": \"\"}, \"colorscale\": [[0.0, \"#0d0887\"], [0.1111111111111111, \"#46039f\"], [0.2222222222222222, \"#7201a8\"], [0.3333333333333333, \"#9c179e\"], [0.4444444444444444, \"#bd3786\"], [0.5555555555555556, \"#d8576b\"], [0.6666666666666666, \"#ed7953\"], [0.7777777777777778, \"#fb9f3a\"], [0.8888888888888888, \"#fdca26\"], [1.0, \"#f0f921\"]], \"type\": \"surface\"}], \"table\": [{\"cells\": {\"fill\": {\"color\": \"#EBF0F8\"}, \"line\": {\"color\": \"white\"}}, \"header\": {\"fill\": {\"color\": \"#C8D4E3\"}, \"line\": {\"color\": \"white\"}}, \"type\": \"table\"}]}, \"layout\": {\"annotationdefaults\": {\"arrowcolor\": \"#2a3f5f\", \"arrowhead\": 0, \"arrowwidth\": 1}, \"coloraxis\": {\"colorbar\": {\"outlinewidth\": 0, \"ticks\": \"\"}}, \"colorscale\": {\"diverging\": [[0, \"#8e0152\"], [0.1, \"#c51b7d\"], [0.2, \"#de77ae\"], [0.3, \"#f1b6da\"], [0.4, \"#fde0ef\"], [0.5, \"#f7f7f7\"], [0.6, \"#e6f5d0\"], [0.7, \"#b8e186\"], [0.8, \"#7fbc41\"], [0.9, \"#4d9221\"], [1, \"#276419\"]], \"sequential\": [[0.0, \"#0d0887\"], [0.1111111111111111, \"#46039f\"], [0.2222222222222222, \"#7201a8\"], [0.3333333333333333, \"#9c179e\"], [0.4444444444444444, \"#bd3786\"], [0.5555555555555556, \"#d8576b\"], [0.6666666666666666, \"#ed7953\"], [0.7777777777777778, \"#fb9f3a\"], [0.8888888888888888, \"#fdca26\"], [1.0, \"#f0f921\"]], \"sequentialminus\": [[0.0, \"#0d0887\"], [0.1111111111111111, \"#46039f\"], [0.2222222222222222, \"#7201a8\"], [0.3333333333333333, \"#9c179e\"], [0.4444444444444444, \"#bd3786\"], [0.5555555555555556, \"#d8576b\"], [0.6666666666666666, \"#ed7953\"], [0.7777777777777778, \"#fb9f3a\"], [0.8888888888888888, \"#fdca26\"], [1.0, \"#f0f921\"]]}, \"colorway\": [\"#636efa\", \"#EF553B\", \"#00cc96\", \"#ab63fa\", \"#FFA15A\", \"#19d3f3\", \"#FF6692\", \"#B6E880\", \"#FF97FF\", \"#FECB52\"], \"font\": {\"color\": \"#2a3f5f\"}, \"geo\": {\"bgcolor\": \"white\", \"lakecolor\": \"white\", \"landcolor\": \"#E5ECF6\", \"showlakes\": true, \"showland\": true, \"subunitcolor\": \"white\"}, \"hoverlabel\": {\"align\": \"left\"}, \"hovermode\": \"closest\", \"mapbox\": {\"style\": \"light\"}, \"paper_bgcolor\": \"white\", \"plot_bgcolor\": \"#E5ECF6\", \"polar\": {\"angularaxis\": {\"gridcolor\": \"white\", \"linecolor\": \"white\", \"ticks\": \"\"}, \"bgcolor\": \"#E5ECF6\", \"radialaxis\": {\"gridcolor\": \"white\", \"linecolor\": \"white\", \"ticks\": \"\"}}, \"scene\": {\"xaxis\": {\"backgroundcolor\": \"#E5ECF6\", \"gridcolor\": \"white\", \"gridwidth\": 2, \"linecolor\": \"white\", \"showbackground\": true, \"ticks\": \"\", \"zerolinecolor\": \"white\"}, \"yaxis\": {\"backgroundcolor\": \"#E5ECF6\", \"gridcolor\": \"white\", \"gridwidth\": 2, \"linecolor\": \"white\", \"showbackground\": true, \"ticks\": \"\", \"zerolinecolor\": \"white\"}, \"zaxis\": {\"backgroundcolor\": \"#E5ECF6\", \"gridcolor\": \"white\", \"gridwidth\": 2, \"linecolor\": \"white\", \"showbackground\": true, \"ticks\": \"\", \"zerolinecolor\": \"white\"}}, \"shapedefaults\": {\"line\": {\"color\": \"#2a3f5f\"}}, \"ternary\": {\"aaxis\": {\"gridcolor\": \"white\", \"linecolor\": \"white\", \"ticks\": \"\"}, \"baxis\": {\"gridcolor\": \"white\", \"linecolor\": \"white\", \"ticks\": \"\"}, \"bgcolor\": \"#E5ECF6\", \"caxis\": {\"gridcolor\": \"white\", \"linecolor\": \"white\", \"ticks\": \"\"}}, \"title\": {\"x\": 0.05}, \"xaxis\": {\"automargin\": true, \"gridcolor\": \"white\", \"linecolor\": \"white\", \"ticks\": \"\", \"title\": {\"standoff\": 15}, \"zerolinecolor\": \"white\", \"zerolinewidth\": 2}, \"yaxis\": {\"automargin\": true, \"gridcolor\": \"white\", \"linecolor\": \"white\", \"ticks\": \"\", \"title\": {\"standoff\": 15}, \"zerolinecolor\": \"white\", \"zerolinewidth\": 2}}}, \"title\": {\"font\": {\"color\": \"#4D5663\"}}, \"xaxis\": {\"gridcolor\": \"#E1E5ED\", \"showgrid\": true, \"tickfont\": {\"color\": \"#4D5663\"}, \"title\": {\"font\": {\"color\": \"#4D5663\"}, \"text\": \"\"}, \"zerolinecolor\": \"#E1E5ED\"}, \"yaxis\": {\"gridcolor\": \"#E1E5ED\", \"showgrid\": true, \"tickfont\": {\"color\": \"#4D5663\"}, \"title\": {\"font\": {\"color\": \"#4D5663\"}, \"text\": \"\"}, \"zerolinecolor\": \"#E1E5ED\"}},\n",
       "                        {\"showLink\": true, \"linkText\": \"Export to plot.ly\", \"plotlyServerURL\": \"https://plot.ly\", \"responsive\": true}\n",
       "                    ).then(function(){\n",
       "                            \n",
       "var gd = document.getElementById('e34ffd4a-1a81-4e4c-b3ea-34c5d2d9e4c0');\n",
       "var x = new MutationObserver(function (mutations, observer) {{\n",
       "        var display = window.getComputedStyle(gd).display;\n",
       "        if (!display || display === 'none') {{\n",
       "            console.log([gd, 'removed!']);\n",
       "            Plotly.purge(gd);\n",
       "            observer.disconnect();\n",
       "        }}\n",
       "}});\n",
       "\n",
       "// Listen for the removal of the full notebook cells\n",
       "var notebookContainer = gd.closest('#notebook-container');\n",
       "if (notebookContainer) {{\n",
       "    x.observe(notebookContainer, {childList: true});\n",
       "}}\n",
       "\n",
       "// Listen for the clearing of the current output cell\n",
       "var outputEl = gd.closest('.output');\n",
       "if (outputEl) {{\n",
       "    x.observe(outputEl, {childList: true});\n",
       "}}\n",
       "\n",
       "                        })\n",
       "                };\n",
       "                });\n",
       "            </script>\n",
       "        </div>"
      ]
     },
     "metadata": {},
     "output_type": "display_data"
    }
   ],
   "source": [
    "df.iplot(kind='bubble',x='A',y='B',size='C')"
   ]
  },
  {
   "cell_type": "markdown",
   "metadata": {},
   "source": [
    "## scatter_matrix()\n",
    "\n",
    "Similar to sns.pairplot()"
   ]
  },
  {
   "cell_type": "code",
   "execution_count": 20,
   "metadata": {},
   "outputs": [
    {
     "data": {
      "application/vnd.plotly.v1+json": {
       "config": {
        "linkText": "Export to plot.ly",
        "plotlyServerURL": "https://plot.ly",
        "showLink": true
       },
       "data": [
        {
         "histfunc": "count",
         "histnorm": "",
         "marker": {
          "color": "rgba(255, 153, 51, 1.0)",
          "line": {
           "color": "#4D5663",
           "width": 1.3
          }
         },
         "name": "A",
         "nbinsx": 10,
         "opacity": 0.8,
         "orientation": "v",
         "type": "histogram",
         "x": [
          0.3696420558197603,
          0.5253992122905893,
          -1.037046991780036,
          0.24758500485110949,
          -1.8474714207170502,
          1.3011206429284472,
          -0.9335639569440436,
          0.7693596664680276,
          -0.7354420564182146,
          -0.3897801777723191,
          -0.5361110290279926,
          -0.11335978345336128,
          0.5034703014821329,
          0.6862383833141485,
          -0.998068344328191,
          -1.0158631125325421,
          0.004348380037364213,
          0.41957675079592427,
          2.301491454423374,
          1.4561157709628787,
          -0.39543442769501835,
          -2.9977343866583146,
          0.4606828596039337,
          0.4125115418393969,
          -1.6772472028110024,
          0.4847284875647718,
          0.13514321173399585,
          -0.8501933743837765,
          0.7661903176591959,
          0.2556084067919436,
          1.2092208938314986,
          -0.9641519723820355,
          -0.4929362943760437,
          0.28872133688964635,
          -0.9942239232924204,
          -0.17732241365179743,
          -1.167011992737201,
          -0.02479701877713464,
          -1.3437385112074935,
          -0.13425512337211468,
          -1.1387426056206769,
          -0.152654355616287,
          -0.20396279915057616,
          -1.09589281461307,
          -1.8186866319970554,
          -1.419713115103019,
          1.1238921197556309,
          -0.25238924820713565,
          0.8003631231624078,
          1.510325015083661,
          0.15693663155427395,
          -1.7131257418818993,
          -0.73964880933293,
          -0.9491578573939075,
          -0.030022804907188512,
          1.1710417549444856,
          0.12729687189798403,
          -0.005807129205971171,
          -0.028565868349607577,
          -0.4819911680944219,
          -1.518892135299185,
          -0.576390236024212,
          0.36059632276433357,
          -0.12057217071166919,
          0.15762625193431426,
          0.06810068428376627,
          0.6367262505638114,
          -2.1102698964980773,
          -0.7082699504905734,
          -0.2941154121319468,
          0.126635294372914,
          -0.40570278219914246,
          0.35808490553594086,
          -1.0342876768719167,
          -1.1947571676836943,
          0.5541810575018407,
          1.5133993382594308,
          -0.9003410000358811,
          -0.8560779010303979,
          2.030211579966576,
          0.582959641868816,
          0.8494972234950936,
          1.1581283542388061,
          0.6879489752136857,
          -0.8493140319400361,
          -0.6133085997176515,
          -0.2850937172340025,
          -0.9857890053489234,
          -0.09162341605494383,
          -1.0244112466360455,
          1.393245285512462,
          0.03430148884087417,
          0.37283225888140187,
          0.1487104846347837,
          -1.256860203558932,
          0.3464741711743709,
          -0.31822087540002797,
          1.384161939100568,
          0.060376550504078835,
          -1.5736730924838451
         ],
         "xaxis": "x",
         "yaxis": "y"
        },
        {
         "line": {
          "color": "rgba(128, 128, 128, 1.0)",
          "dash": "solid",
          "shape": "linear",
          "width": 1.3
         },
         "marker": {
          "size": 2,
          "symbol": "circle"
         },
         "mode": "markers",
         "name": "A",
         "text": "",
         "type": "scatter",
         "x": [
          1.8544854469766379,
          0.7836177074308012,
          -0.7023952067731887,
          -1.6590009035343811,
          0.5368017098635539,
          -0.3523782119696855,
          0.16226175563893364,
          0.7264061191098,
          -1.2499210848417084,
          0.1929954220383031,
          -0.21386919859532105,
          -0.29271630353287986,
          -0.6611903651266722,
          0.744638175086269,
          0.2040438468422435,
          0.8584320617049238,
          0.850452155003359,
          -1.3659953542696026,
          -0.05578684509734393,
          0.6323620787780885,
          0.2837188925661103,
          -0.30468203874642236,
          -2.8251949591332033,
          0.34430547180085386,
          -0.9974663044329387,
          1.0962755508149857,
          -1.7792529363166523,
          1.1933040966037836,
          0.07152250341734986,
          -0.36871156263976,
          0.4574508446904451,
          -1.75587070274968,
          -1.59898164109928,
          -1.6860266836224718,
          -0.3277867055238577,
          -1.3629489107165276,
          1.0412266116381714,
          0.7179155165752484,
          1.6930515185472383,
          1.289448459481413,
          0.30362087590713316,
          -2.1528501300606946,
          -1.0134696144934496,
          -0.15636623271294586,
          0.8380139710009594,
          0.5579228915062908,
          0.5368016312120132,
          -0.5078470766397161,
          -0.845020274882293,
          -0.5032619357012125,
          0.09063142724378265,
          1.3230502586330954,
          0.605470890269384,
          -1.4491029065733194,
          1.5350799697628166,
          -0.4887321951171857,
          -1.9780210133324072,
          -0.09137475763597733,
          -0.7403203584012117,
          0.7224915860473682,
          0.7062391710651873,
          0.2012465686323864,
          -1.418854798097011,
          -1.8166350247694463,
          -1.1893933087052846,
          1.6008006185133081,
          -1.3828919131099306,
          -0.3939760308123558,
          -0.8518355622060666,
          -0.792128482209907,
          1.3826855098314517,
          0.19896340055223444,
          -0.23145050018903338,
          -0.47964419762986166,
          -0.44283720384580877,
          0.2975083383573253,
          -1.0702080056630172,
          0.3714803864386964,
          -1.7713799252108353,
          -0.05361606457323116,
          1.2773542153545079,
          1.130147907205399,
          0.672508729528042,
          -0.04422356786938887,
          0.06591820760695383,
          0.8657351394759569,
          -1.149166652831269,
          1.2801278124161366,
          0.7053245114339901,
          -0.6450090266750952,
          0.22479835435854695,
          -1.5687383321523662,
          -1.6711767415185925,
          0.18688677530668604,
          0.4801646737727269,
          1.27730447068291,
          1.5312853572122618,
          -0.003243945845103304,
          0.31545108378705483,
          0.8001980688130594
         ],
         "xaxis": "x2",
         "y": [
          0.3696420558197603,
          0.5253992122905893,
          -1.037046991780036,
          0.24758500485110949,
          -1.8474714207170502,
          1.3011206429284472,
          -0.9335639569440436,
          0.7693596664680276,
          -0.7354420564182146,
          -0.3897801777723191,
          -0.5361110290279926,
          -0.11335978345336128,
          0.5034703014821329,
          0.6862383833141485,
          -0.998068344328191,
          -1.0158631125325421,
          0.004348380037364213,
          0.41957675079592427,
          2.301491454423374,
          1.4561157709628787,
          -0.39543442769501835,
          -2.9977343866583146,
          0.4606828596039337,
          0.4125115418393969,
          -1.6772472028110024,
          0.4847284875647718,
          0.13514321173399585,
          -0.8501933743837765,
          0.7661903176591959,
          0.2556084067919436,
          1.2092208938314986,
          -0.9641519723820355,
          -0.4929362943760437,
          0.28872133688964635,
          -0.9942239232924204,
          -0.17732241365179743,
          -1.167011992737201,
          -0.02479701877713464,
          -1.3437385112074935,
          -0.13425512337211468,
          -1.1387426056206769,
          -0.152654355616287,
          -0.20396279915057616,
          -1.09589281461307,
          -1.8186866319970554,
          -1.419713115103019,
          1.1238921197556309,
          -0.25238924820713565,
          0.8003631231624078,
          1.510325015083661,
          0.15693663155427395,
          -1.7131257418818993,
          -0.73964880933293,
          -0.9491578573939075,
          -0.030022804907188512,
          1.1710417549444856,
          0.12729687189798403,
          -0.005807129205971171,
          -0.028565868349607577,
          -0.4819911680944219,
          -1.518892135299185,
          -0.576390236024212,
          0.36059632276433357,
          -0.12057217071166919,
          0.15762625193431426,
          0.06810068428376627,
          0.6367262505638114,
          -2.1102698964980773,
          -0.7082699504905734,
          -0.2941154121319468,
          0.126635294372914,
          -0.40570278219914246,
          0.35808490553594086,
          -1.0342876768719167,
          -1.1947571676836943,
          0.5541810575018407,
          1.5133993382594308,
          -0.9003410000358811,
          -0.8560779010303979,
          2.030211579966576,
          0.582959641868816,
          0.8494972234950936,
          1.1581283542388061,
          0.6879489752136857,
          -0.8493140319400361,
          -0.6133085997176515,
          -0.2850937172340025,
          -0.9857890053489234,
          -0.09162341605494383,
          -1.0244112466360455,
          1.393245285512462,
          0.03430148884087417,
          0.37283225888140187,
          0.1487104846347837,
          -1.256860203558932,
          0.3464741711743709,
          -0.31822087540002797,
          1.384161939100568,
          0.060376550504078835,
          -1.5736730924838451
         ],
         "yaxis": "y2"
        },
        {
         "line": {
          "color": "rgba(128, 128, 128, 1.0)",
          "dash": "solid",
          "shape": "linear",
          "width": 1.3
         },
         "marker": {
          "size": 2,
          "symbol": "circle"
         },
         "mode": "markers",
         "name": "A",
         "text": "",
         "type": "scatter",
         "x": [
          0.2252777989016697,
          0.8623018188802899,
          -1.416244250131065,
          0.32934869741646344,
          0.1267464715656397,
          0.06936779668551181,
          -0.8963800303599142,
          0.15802245926053307,
          1.134220418943405,
          1.4859243642201287,
          0.31410460046414307,
          -1.6317416932347404,
          -1.3468425919919842,
          -1.5377259965021013,
          0.44803968693652124,
          -0.6087749895529724,
          -0.08444755271745026,
          -0.41543239452665953,
          -0.31077567466336165,
          1.04630994845296,
          -1.3069377157747348,
          0.766032531840848,
          0.5780460097088275,
          -0.21423604833369836,
          0.0036132856858055065,
          -0.8155164372988873,
          0.05986444467837653,
          -1.9721889963414336,
          -2.078555799505978,
          1.264205459685189,
          -0.09286916292385433,
          0.37241483042135864,
          -0.4520027989707978,
          -0.06359946668577694,
          0.40414748288786745,
          -1.42310455279087,
          0.3761060108893962,
          0.6216497343796945,
          0.18867118091163326,
          0.23902421149124484,
          -1.0410009754896765,
          0.9718313088708687,
          0.034362973196359586,
          1.9488270240884749,
          -0.13331917111915575,
          1.4608434457954884,
          -0.08665151619432472,
          0.02926781149662285,
          -1.8004195748741825,
          1.6289742337704256,
          1.3582535172023908,
          -0.8454881168555592,
          0.6093724484063817,
          1.9344597807372632,
          0.35797359496683784,
          -0.41599786611177764,
          -0.9050470296676526,
          1.4043251327454243,
          0.20857840336780592,
          2.0939476995372703,
          1.0497898426386931,
          1.4265064707668738,
          -1.143234964880385,
          2.309302086953698,
          2.0259289469994974,
          1.3659821749542929,
          -0.9407940552553328,
          -2.6219766910310476,
          -1.1426882136155434,
          -3.094999628250353,
          1.0056417745869357,
          0.39868504276673516,
          -0.046072701239227326,
          0.7586484947069092,
          0.5899860404075996,
          -0.3124991992480441,
          -0.5316162521241473,
          -0.31137328734129294,
          0.9020306003109113,
          0.8632424005893286,
          1.0047379483834622,
          0.8134640423609348,
          -0.4708781972522541,
          -1.6428143904942887,
          0.30678393518761216,
          0.2219842518238527,
          -0.012729532903647525,
          -2.6622374787543466,
          0.7426211522876416,
          -1.3176793616791336,
          0.03755321857630146,
          -0.10962231677693532,
          1.5790362314396678,
          1.4562306481619405,
          -1.0726071087385978,
          -2.4404905382187,
          0.4434881014433977,
          -1.8094225526189711,
          -1.391051306056638,
          1.2849228240434347
         ],
         "xaxis": "x3",
         "y": [
          0.3696420558197603,
          0.5253992122905893,
          -1.037046991780036,
          0.24758500485110949,
          -1.8474714207170502,
          1.3011206429284472,
          -0.9335639569440436,
          0.7693596664680276,
          -0.7354420564182146,
          -0.3897801777723191,
          -0.5361110290279926,
          -0.11335978345336128,
          0.5034703014821329,
          0.6862383833141485,
          -0.998068344328191,
          -1.0158631125325421,
          0.004348380037364213,
          0.41957675079592427,
          2.301491454423374,
          1.4561157709628787,
          -0.39543442769501835,
          -2.9977343866583146,
          0.4606828596039337,
          0.4125115418393969,
          -1.6772472028110024,
          0.4847284875647718,
          0.13514321173399585,
          -0.8501933743837765,
          0.7661903176591959,
          0.2556084067919436,
          1.2092208938314986,
          -0.9641519723820355,
          -0.4929362943760437,
          0.28872133688964635,
          -0.9942239232924204,
          -0.17732241365179743,
          -1.167011992737201,
          -0.02479701877713464,
          -1.3437385112074935,
          -0.13425512337211468,
          -1.1387426056206769,
          -0.152654355616287,
          -0.20396279915057616,
          -1.09589281461307,
          -1.8186866319970554,
          -1.419713115103019,
          1.1238921197556309,
          -0.25238924820713565,
          0.8003631231624078,
          1.510325015083661,
          0.15693663155427395,
          -1.7131257418818993,
          -0.73964880933293,
          -0.9491578573939075,
          -0.030022804907188512,
          1.1710417549444856,
          0.12729687189798403,
          -0.005807129205971171,
          -0.028565868349607577,
          -0.4819911680944219,
          -1.518892135299185,
          -0.576390236024212,
          0.36059632276433357,
          -0.12057217071166919,
          0.15762625193431426,
          0.06810068428376627,
          0.6367262505638114,
          -2.1102698964980773,
          -0.7082699504905734,
          -0.2941154121319468,
          0.126635294372914,
          -0.40570278219914246,
          0.35808490553594086,
          -1.0342876768719167,
          -1.1947571676836943,
          0.5541810575018407,
          1.5133993382594308,
          -0.9003410000358811,
          -0.8560779010303979,
          2.030211579966576,
          0.582959641868816,
          0.8494972234950936,
          1.1581283542388061,
          0.6879489752136857,
          -0.8493140319400361,
          -0.6133085997176515,
          -0.2850937172340025,
          -0.9857890053489234,
          -0.09162341605494383,
          -1.0244112466360455,
          1.393245285512462,
          0.03430148884087417,
          0.37283225888140187,
          0.1487104846347837,
          -1.256860203558932,
          0.3464741711743709,
          -0.31822087540002797,
          1.384161939100568,
          0.060376550504078835,
          -1.5736730924838451
         ],
         "yaxis": "y3"
        },
        {
         "line": {
          "color": "rgba(128, 128, 128, 1.0)",
          "dash": "solid",
          "shape": "linear",
          "width": 1.3
         },
         "marker": {
          "size": 2,
          "symbol": "circle"
         },
         "mode": "markers",
         "name": "A",
         "text": "",
         "type": "scatter",
         "x": [
          -1.5034959600232376,
          -0.5002545536406926,
          0.28038963892268925,
          0.6436157976651309,
          -0.32678525058336144,
          2.2480455302993954,
          -0.10212614541672001,
          -0.3753141106509515,
          -0.09137779587221577,
          2.806316180226526,
          -1.0696001667407682,
          -0.8198791828551726,
          -0.48954253559546135,
          -0.4855260402785763,
          0.41740420839716347,
          0.04750503769818647,
          -0.7647964360611823,
          -1.411902116190576,
          1.76243350565496,
          -1.5380351291216554,
          0.4753809754519136,
          -0.8594523204412604,
          -1.8534272922723198,
          -0.02493962626163329,
          0.9286975747515848,
          -1.7976611239698812,
          1.5949445899324757,
          0.24349753016633013,
          0.4076981943292706,
          0.16867933305942437,
          -0.09072844291781407,
          0.9478168842520501,
          0.17999577841047074,
          -0.7508565155229779,
          -1.481340630988663,
          -2.464520025940437,
          0.6434431949145675,
          -1.3761376024818746,
          0.3468809070623607,
          -1.5764148071761146,
          -0.8436372667516829,
          -1.0300202683908892,
          0.626443122495951,
          1.3228318464001843,
          2.8332868930935673,
          0.05274994978958885,
          0.18967361347084327,
          0.9578411548794024,
          -0.7079610590083915,
          -0.9682769868480765,
          1.0864687928058199,
          -0.23982121319770938,
          0.43604123853449805,
          -2.076366837148839,
          0.001923451586291724,
          1.754416018047518,
          0.16836066340273206,
          2.158078850342077,
          -0.05922530625313715,
          0.39488763101367946,
          -0.9021924044536117,
          0.22894884857403328,
          -0.40663035035742795,
          -1.3770822654520178,
          -0.12048346955566772,
          1.0761634563359206,
          -1.0707400073825306,
          0.7429681963356116,
          -0.24613470003158003,
          1.1582696382477444,
          -0.5012082480432763,
          1.8268859083182867,
          0.9603431670287832,
          -0.8197939109913333,
          0.12123473658574371,
          1.4465456172542097,
          0.9657067653768596,
          1.0466074677604935,
          -0.10324403695845281,
          -1.2168298340103647,
          1.185780411258566,
          -0.27251029278709726,
          -0.40756724742538614,
          0.005248339557275319,
          0.5578637899562472,
          0.6038168533560826,
          0.7002552066325827,
          -1.3098700315350242,
          1.3267048265141386,
          -0.5927916193949495,
          0.05118912541609895,
          -1.2211986610627326,
          0.23207065415443653,
          0.7511052993502152,
          1.003248932950057,
          0.24431493409781493,
          -0.1342578021851783,
          0.09554071996329187,
          -0.7154397211038919,
          -0.7617484585937415
         ],
         "xaxis": "x4",
         "y": [
          0.3696420558197603,
          0.5253992122905893,
          -1.037046991780036,
          0.24758500485110949,
          -1.8474714207170502,
          1.3011206429284472,
          -0.9335639569440436,
          0.7693596664680276,
          -0.7354420564182146,
          -0.3897801777723191,
          -0.5361110290279926,
          -0.11335978345336128,
          0.5034703014821329,
          0.6862383833141485,
          -0.998068344328191,
          -1.0158631125325421,
          0.004348380037364213,
          0.41957675079592427,
          2.301491454423374,
          1.4561157709628787,
          -0.39543442769501835,
          -2.9977343866583146,
          0.4606828596039337,
          0.4125115418393969,
          -1.6772472028110024,
          0.4847284875647718,
          0.13514321173399585,
          -0.8501933743837765,
          0.7661903176591959,
          0.2556084067919436,
          1.2092208938314986,
          -0.9641519723820355,
          -0.4929362943760437,
          0.28872133688964635,
          -0.9942239232924204,
          -0.17732241365179743,
          -1.167011992737201,
          -0.02479701877713464,
          -1.3437385112074935,
          -0.13425512337211468,
          -1.1387426056206769,
          -0.152654355616287,
          -0.20396279915057616,
          -1.09589281461307,
          -1.8186866319970554,
          -1.419713115103019,
          1.1238921197556309,
          -0.25238924820713565,
          0.8003631231624078,
          1.510325015083661,
          0.15693663155427395,
          -1.7131257418818993,
          -0.73964880933293,
          -0.9491578573939075,
          -0.030022804907188512,
          1.1710417549444856,
          0.12729687189798403,
          -0.005807129205971171,
          -0.028565868349607577,
          -0.4819911680944219,
          -1.518892135299185,
          -0.576390236024212,
          0.36059632276433357,
          -0.12057217071166919,
          0.15762625193431426,
          0.06810068428376627,
          0.6367262505638114,
          -2.1102698964980773,
          -0.7082699504905734,
          -0.2941154121319468,
          0.126635294372914,
          -0.40570278219914246,
          0.35808490553594086,
          -1.0342876768719167,
          -1.1947571676836943,
          0.5541810575018407,
          1.5133993382594308,
          -0.9003410000358811,
          -0.8560779010303979,
          2.030211579966576,
          0.582959641868816,
          0.8494972234950936,
          1.1581283542388061,
          0.6879489752136857,
          -0.8493140319400361,
          -0.6133085997176515,
          -0.2850937172340025,
          -0.9857890053489234,
          -0.09162341605494383,
          -1.0244112466360455,
          1.393245285512462,
          0.03430148884087417,
          0.37283225888140187,
          0.1487104846347837,
          -1.256860203558932,
          0.3464741711743709,
          -0.31822087540002797,
          1.384161939100568,
          0.060376550504078835,
          -1.5736730924838451
         ],
         "yaxis": "y4"
        },
        {
         "line": {
          "color": "rgba(128, 128, 128, 1.0)",
          "dash": "solid",
          "shape": "linear",
          "width": 1.3
         },
         "marker": {
          "size": 2,
          "symbol": "circle"
         },
         "mode": "markers",
         "name": "B",
         "text": "",
         "type": "scatter",
         "x": [
          0.3696420558197603,
          0.5253992122905893,
          -1.037046991780036,
          0.24758500485110949,
          -1.8474714207170502,
          1.3011206429284472,
          -0.9335639569440436,
          0.7693596664680276,
          -0.7354420564182146,
          -0.3897801777723191,
          -0.5361110290279926,
          -0.11335978345336128,
          0.5034703014821329,
          0.6862383833141485,
          -0.998068344328191,
          -1.0158631125325421,
          0.004348380037364213,
          0.41957675079592427,
          2.301491454423374,
          1.4561157709628787,
          -0.39543442769501835,
          -2.9977343866583146,
          0.4606828596039337,
          0.4125115418393969,
          -1.6772472028110024,
          0.4847284875647718,
          0.13514321173399585,
          -0.8501933743837765,
          0.7661903176591959,
          0.2556084067919436,
          1.2092208938314986,
          -0.9641519723820355,
          -0.4929362943760437,
          0.28872133688964635,
          -0.9942239232924204,
          -0.17732241365179743,
          -1.167011992737201,
          -0.02479701877713464,
          -1.3437385112074935,
          -0.13425512337211468,
          -1.1387426056206769,
          -0.152654355616287,
          -0.20396279915057616,
          -1.09589281461307,
          -1.8186866319970554,
          -1.419713115103019,
          1.1238921197556309,
          -0.25238924820713565,
          0.8003631231624078,
          1.510325015083661,
          0.15693663155427395,
          -1.7131257418818993,
          -0.73964880933293,
          -0.9491578573939075,
          -0.030022804907188512,
          1.1710417549444856,
          0.12729687189798403,
          -0.005807129205971171,
          -0.028565868349607577,
          -0.4819911680944219,
          -1.518892135299185,
          -0.576390236024212,
          0.36059632276433357,
          -0.12057217071166919,
          0.15762625193431426,
          0.06810068428376627,
          0.6367262505638114,
          -2.1102698964980773,
          -0.7082699504905734,
          -0.2941154121319468,
          0.126635294372914,
          -0.40570278219914246,
          0.35808490553594086,
          -1.0342876768719167,
          -1.1947571676836943,
          0.5541810575018407,
          1.5133993382594308,
          -0.9003410000358811,
          -0.8560779010303979,
          2.030211579966576,
          0.582959641868816,
          0.8494972234950936,
          1.1581283542388061,
          0.6879489752136857,
          -0.8493140319400361,
          -0.6133085997176515,
          -0.2850937172340025,
          -0.9857890053489234,
          -0.09162341605494383,
          -1.0244112466360455,
          1.393245285512462,
          0.03430148884087417,
          0.37283225888140187,
          0.1487104846347837,
          -1.256860203558932,
          0.3464741711743709,
          -0.31822087540002797,
          1.384161939100568,
          0.060376550504078835,
          -1.5736730924838451
         ],
         "xaxis": "x5",
         "y": [
          1.8544854469766379,
          0.7836177074308012,
          -0.7023952067731887,
          -1.6590009035343811,
          0.5368017098635539,
          -0.3523782119696855,
          0.16226175563893364,
          0.7264061191098,
          -1.2499210848417084,
          0.1929954220383031,
          -0.21386919859532105,
          -0.29271630353287986,
          -0.6611903651266722,
          0.744638175086269,
          0.2040438468422435,
          0.8584320617049238,
          0.850452155003359,
          -1.3659953542696026,
          -0.05578684509734393,
          0.6323620787780885,
          0.2837188925661103,
          -0.30468203874642236,
          -2.8251949591332033,
          0.34430547180085386,
          -0.9974663044329387,
          1.0962755508149857,
          -1.7792529363166523,
          1.1933040966037836,
          0.07152250341734986,
          -0.36871156263976,
          0.4574508446904451,
          -1.75587070274968,
          -1.59898164109928,
          -1.6860266836224718,
          -0.3277867055238577,
          -1.3629489107165276,
          1.0412266116381714,
          0.7179155165752484,
          1.6930515185472383,
          1.289448459481413,
          0.30362087590713316,
          -2.1528501300606946,
          -1.0134696144934496,
          -0.15636623271294586,
          0.8380139710009594,
          0.5579228915062908,
          0.5368016312120132,
          -0.5078470766397161,
          -0.845020274882293,
          -0.5032619357012125,
          0.09063142724378265,
          1.3230502586330954,
          0.605470890269384,
          -1.4491029065733194,
          1.5350799697628166,
          -0.4887321951171857,
          -1.9780210133324072,
          -0.09137475763597733,
          -0.7403203584012117,
          0.7224915860473682,
          0.7062391710651873,
          0.2012465686323864,
          -1.418854798097011,
          -1.8166350247694463,
          -1.1893933087052846,
          1.6008006185133081,
          -1.3828919131099306,
          -0.3939760308123558,
          -0.8518355622060666,
          -0.792128482209907,
          1.3826855098314517,
          0.19896340055223444,
          -0.23145050018903338,
          -0.47964419762986166,
          -0.44283720384580877,
          0.2975083383573253,
          -1.0702080056630172,
          0.3714803864386964,
          -1.7713799252108353,
          -0.05361606457323116,
          1.2773542153545079,
          1.130147907205399,
          0.672508729528042,
          -0.04422356786938887,
          0.06591820760695383,
          0.8657351394759569,
          -1.149166652831269,
          1.2801278124161366,
          0.7053245114339901,
          -0.6450090266750952,
          0.22479835435854695,
          -1.5687383321523662,
          -1.6711767415185925,
          0.18688677530668604,
          0.4801646737727269,
          1.27730447068291,
          1.5312853572122618,
          -0.003243945845103304,
          0.31545108378705483,
          0.8001980688130594
         ],
         "yaxis": "y5"
        },
        {
         "histfunc": "count",
         "histnorm": "",
         "marker": {
          "color": "rgba(55, 128, 191, 1.0)",
          "line": {
           "color": "#4D5663",
           "width": 1.3
          }
         },
         "name": "B",
         "nbinsx": 10,
         "opacity": 0.8,
         "orientation": "v",
         "type": "histogram",
         "x": [
          1.8544854469766379,
          0.7836177074308012,
          -0.7023952067731887,
          -1.6590009035343811,
          0.5368017098635539,
          -0.3523782119696855,
          0.16226175563893364,
          0.7264061191098,
          -1.2499210848417084,
          0.1929954220383031,
          -0.21386919859532105,
          -0.29271630353287986,
          -0.6611903651266722,
          0.744638175086269,
          0.2040438468422435,
          0.8584320617049238,
          0.850452155003359,
          -1.3659953542696026,
          -0.05578684509734393,
          0.6323620787780885,
          0.2837188925661103,
          -0.30468203874642236,
          -2.8251949591332033,
          0.34430547180085386,
          -0.9974663044329387,
          1.0962755508149857,
          -1.7792529363166523,
          1.1933040966037836,
          0.07152250341734986,
          -0.36871156263976,
          0.4574508446904451,
          -1.75587070274968,
          -1.59898164109928,
          -1.6860266836224718,
          -0.3277867055238577,
          -1.3629489107165276,
          1.0412266116381714,
          0.7179155165752484,
          1.6930515185472383,
          1.289448459481413,
          0.30362087590713316,
          -2.1528501300606946,
          -1.0134696144934496,
          -0.15636623271294586,
          0.8380139710009594,
          0.5579228915062908,
          0.5368016312120132,
          -0.5078470766397161,
          -0.845020274882293,
          -0.5032619357012125,
          0.09063142724378265,
          1.3230502586330954,
          0.605470890269384,
          -1.4491029065733194,
          1.5350799697628166,
          -0.4887321951171857,
          -1.9780210133324072,
          -0.09137475763597733,
          -0.7403203584012117,
          0.7224915860473682,
          0.7062391710651873,
          0.2012465686323864,
          -1.418854798097011,
          -1.8166350247694463,
          -1.1893933087052846,
          1.6008006185133081,
          -1.3828919131099306,
          -0.3939760308123558,
          -0.8518355622060666,
          -0.792128482209907,
          1.3826855098314517,
          0.19896340055223444,
          -0.23145050018903338,
          -0.47964419762986166,
          -0.44283720384580877,
          0.2975083383573253,
          -1.0702080056630172,
          0.3714803864386964,
          -1.7713799252108353,
          -0.05361606457323116,
          1.2773542153545079,
          1.130147907205399,
          0.672508729528042,
          -0.04422356786938887,
          0.06591820760695383,
          0.8657351394759569,
          -1.149166652831269,
          1.2801278124161366,
          0.7053245114339901,
          -0.6450090266750952,
          0.22479835435854695,
          -1.5687383321523662,
          -1.6711767415185925,
          0.18688677530668604,
          0.4801646737727269,
          1.27730447068291,
          1.5312853572122618,
          -0.003243945845103304,
          0.31545108378705483,
          0.8001980688130594
         ],
         "xaxis": "x6",
         "yaxis": "y6"
        },
        {
         "line": {
          "color": "rgba(128, 128, 128, 1.0)",
          "dash": "solid",
          "shape": "linear",
          "width": 1.3
         },
         "marker": {
          "size": 2,
          "symbol": "circle"
         },
         "mode": "markers",
         "name": "B",
         "text": "",
         "type": "scatter",
         "x": [
          0.2252777989016697,
          0.8623018188802899,
          -1.416244250131065,
          0.32934869741646344,
          0.1267464715656397,
          0.06936779668551181,
          -0.8963800303599142,
          0.15802245926053307,
          1.134220418943405,
          1.4859243642201287,
          0.31410460046414307,
          -1.6317416932347404,
          -1.3468425919919842,
          -1.5377259965021013,
          0.44803968693652124,
          -0.6087749895529724,
          -0.08444755271745026,
          -0.41543239452665953,
          -0.31077567466336165,
          1.04630994845296,
          -1.3069377157747348,
          0.766032531840848,
          0.5780460097088275,
          -0.21423604833369836,
          0.0036132856858055065,
          -0.8155164372988873,
          0.05986444467837653,
          -1.9721889963414336,
          -2.078555799505978,
          1.264205459685189,
          -0.09286916292385433,
          0.37241483042135864,
          -0.4520027989707978,
          -0.06359946668577694,
          0.40414748288786745,
          -1.42310455279087,
          0.3761060108893962,
          0.6216497343796945,
          0.18867118091163326,
          0.23902421149124484,
          -1.0410009754896765,
          0.9718313088708687,
          0.034362973196359586,
          1.9488270240884749,
          -0.13331917111915575,
          1.4608434457954884,
          -0.08665151619432472,
          0.02926781149662285,
          -1.8004195748741825,
          1.6289742337704256,
          1.3582535172023908,
          -0.8454881168555592,
          0.6093724484063817,
          1.9344597807372632,
          0.35797359496683784,
          -0.41599786611177764,
          -0.9050470296676526,
          1.4043251327454243,
          0.20857840336780592,
          2.0939476995372703,
          1.0497898426386931,
          1.4265064707668738,
          -1.143234964880385,
          2.309302086953698,
          2.0259289469994974,
          1.3659821749542929,
          -0.9407940552553328,
          -2.6219766910310476,
          -1.1426882136155434,
          -3.094999628250353,
          1.0056417745869357,
          0.39868504276673516,
          -0.046072701239227326,
          0.7586484947069092,
          0.5899860404075996,
          -0.3124991992480441,
          -0.5316162521241473,
          -0.31137328734129294,
          0.9020306003109113,
          0.8632424005893286,
          1.0047379483834622,
          0.8134640423609348,
          -0.4708781972522541,
          -1.6428143904942887,
          0.30678393518761216,
          0.2219842518238527,
          -0.012729532903647525,
          -2.6622374787543466,
          0.7426211522876416,
          -1.3176793616791336,
          0.03755321857630146,
          -0.10962231677693532,
          1.5790362314396678,
          1.4562306481619405,
          -1.0726071087385978,
          -2.4404905382187,
          0.4434881014433977,
          -1.8094225526189711,
          -1.391051306056638,
          1.2849228240434347
         ],
         "xaxis": "x7",
         "y": [
          1.8544854469766379,
          0.7836177074308012,
          -0.7023952067731887,
          -1.6590009035343811,
          0.5368017098635539,
          -0.3523782119696855,
          0.16226175563893364,
          0.7264061191098,
          -1.2499210848417084,
          0.1929954220383031,
          -0.21386919859532105,
          -0.29271630353287986,
          -0.6611903651266722,
          0.744638175086269,
          0.2040438468422435,
          0.8584320617049238,
          0.850452155003359,
          -1.3659953542696026,
          -0.05578684509734393,
          0.6323620787780885,
          0.2837188925661103,
          -0.30468203874642236,
          -2.8251949591332033,
          0.34430547180085386,
          -0.9974663044329387,
          1.0962755508149857,
          -1.7792529363166523,
          1.1933040966037836,
          0.07152250341734986,
          -0.36871156263976,
          0.4574508446904451,
          -1.75587070274968,
          -1.59898164109928,
          -1.6860266836224718,
          -0.3277867055238577,
          -1.3629489107165276,
          1.0412266116381714,
          0.7179155165752484,
          1.6930515185472383,
          1.289448459481413,
          0.30362087590713316,
          -2.1528501300606946,
          -1.0134696144934496,
          -0.15636623271294586,
          0.8380139710009594,
          0.5579228915062908,
          0.5368016312120132,
          -0.5078470766397161,
          -0.845020274882293,
          -0.5032619357012125,
          0.09063142724378265,
          1.3230502586330954,
          0.605470890269384,
          -1.4491029065733194,
          1.5350799697628166,
          -0.4887321951171857,
          -1.9780210133324072,
          -0.09137475763597733,
          -0.7403203584012117,
          0.7224915860473682,
          0.7062391710651873,
          0.2012465686323864,
          -1.418854798097011,
          -1.8166350247694463,
          -1.1893933087052846,
          1.6008006185133081,
          -1.3828919131099306,
          -0.3939760308123558,
          -0.8518355622060666,
          -0.792128482209907,
          1.3826855098314517,
          0.19896340055223444,
          -0.23145050018903338,
          -0.47964419762986166,
          -0.44283720384580877,
          0.2975083383573253,
          -1.0702080056630172,
          0.3714803864386964,
          -1.7713799252108353,
          -0.05361606457323116,
          1.2773542153545079,
          1.130147907205399,
          0.672508729528042,
          -0.04422356786938887,
          0.06591820760695383,
          0.8657351394759569,
          -1.149166652831269,
          1.2801278124161366,
          0.7053245114339901,
          -0.6450090266750952,
          0.22479835435854695,
          -1.5687383321523662,
          -1.6711767415185925,
          0.18688677530668604,
          0.4801646737727269,
          1.27730447068291,
          1.5312853572122618,
          -0.003243945845103304,
          0.31545108378705483,
          0.8001980688130594
         ],
         "yaxis": "y7"
        },
        {
         "line": {
          "color": "rgba(128, 128, 128, 1.0)",
          "dash": "solid",
          "shape": "linear",
          "width": 1.3
         },
         "marker": {
          "size": 2,
          "symbol": "circle"
         },
         "mode": "markers",
         "name": "B",
         "text": "",
         "type": "scatter",
         "x": [
          -1.5034959600232376,
          -0.5002545536406926,
          0.28038963892268925,
          0.6436157976651309,
          -0.32678525058336144,
          2.2480455302993954,
          -0.10212614541672001,
          -0.3753141106509515,
          -0.09137779587221577,
          2.806316180226526,
          -1.0696001667407682,
          -0.8198791828551726,
          -0.48954253559546135,
          -0.4855260402785763,
          0.41740420839716347,
          0.04750503769818647,
          -0.7647964360611823,
          -1.411902116190576,
          1.76243350565496,
          -1.5380351291216554,
          0.4753809754519136,
          -0.8594523204412604,
          -1.8534272922723198,
          -0.02493962626163329,
          0.9286975747515848,
          -1.7976611239698812,
          1.5949445899324757,
          0.24349753016633013,
          0.4076981943292706,
          0.16867933305942437,
          -0.09072844291781407,
          0.9478168842520501,
          0.17999577841047074,
          -0.7508565155229779,
          -1.481340630988663,
          -2.464520025940437,
          0.6434431949145675,
          -1.3761376024818746,
          0.3468809070623607,
          -1.5764148071761146,
          -0.8436372667516829,
          -1.0300202683908892,
          0.626443122495951,
          1.3228318464001843,
          2.8332868930935673,
          0.05274994978958885,
          0.18967361347084327,
          0.9578411548794024,
          -0.7079610590083915,
          -0.9682769868480765,
          1.0864687928058199,
          -0.23982121319770938,
          0.43604123853449805,
          -2.076366837148839,
          0.001923451586291724,
          1.754416018047518,
          0.16836066340273206,
          2.158078850342077,
          -0.05922530625313715,
          0.39488763101367946,
          -0.9021924044536117,
          0.22894884857403328,
          -0.40663035035742795,
          -1.3770822654520178,
          -0.12048346955566772,
          1.0761634563359206,
          -1.0707400073825306,
          0.7429681963356116,
          -0.24613470003158003,
          1.1582696382477444,
          -0.5012082480432763,
          1.8268859083182867,
          0.9603431670287832,
          -0.8197939109913333,
          0.12123473658574371,
          1.4465456172542097,
          0.9657067653768596,
          1.0466074677604935,
          -0.10324403695845281,
          -1.2168298340103647,
          1.185780411258566,
          -0.27251029278709726,
          -0.40756724742538614,
          0.005248339557275319,
          0.5578637899562472,
          0.6038168533560826,
          0.7002552066325827,
          -1.3098700315350242,
          1.3267048265141386,
          -0.5927916193949495,
          0.05118912541609895,
          -1.2211986610627326,
          0.23207065415443653,
          0.7511052993502152,
          1.003248932950057,
          0.24431493409781493,
          -0.1342578021851783,
          0.09554071996329187,
          -0.7154397211038919,
          -0.7617484585937415
         ],
         "xaxis": "x8",
         "y": [
          1.8544854469766379,
          0.7836177074308012,
          -0.7023952067731887,
          -1.6590009035343811,
          0.5368017098635539,
          -0.3523782119696855,
          0.16226175563893364,
          0.7264061191098,
          -1.2499210848417084,
          0.1929954220383031,
          -0.21386919859532105,
          -0.29271630353287986,
          -0.6611903651266722,
          0.744638175086269,
          0.2040438468422435,
          0.8584320617049238,
          0.850452155003359,
          -1.3659953542696026,
          -0.05578684509734393,
          0.6323620787780885,
          0.2837188925661103,
          -0.30468203874642236,
          -2.8251949591332033,
          0.34430547180085386,
          -0.9974663044329387,
          1.0962755508149857,
          -1.7792529363166523,
          1.1933040966037836,
          0.07152250341734986,
          -0.36871156263976,
          0.4574508446904451,
          -1.75587070274968,
          -1.59898164109928,
          -1.6860266836224718,
          -0.3277867055238577,
          -1.3629489107165276,
          1.0412266116381714,
          0.7179155165752484,
          1.6930515185472383,
          1.289448459481413,
          0.30362087590713316,
          -2.1528501300606946,
          -1.0134696144934496,
          -0.15636623271294586,
          0.8380139710009594,
          0.5579228915062908,
          0.5368016312120132,
          -0.5078470766397161,
          -0.845020274882293,
          -0.5032619357012125,
          0.09063142724378265,
          1.3230502586330954,
          0.605470890269384,
          -1.4491029065733194,
          1.5350799697628166,
          -0.4887321951171857,
          -1.9780210133324072,
          -0.09137475763597733,
          -0.7403203584012117,
          0.7224915860473682,
          0.7062391710651873,
          0.2012465686323864,
          -1.418854798097011,
          -1.8166350247694463,
          -1.1893933087052846,
          1.6008006185133081,
          -1.3828919131099306,
          -0.3939760308123558,
          -0.8518355622060666,
          -0.792128482209907,
          1.3826855098314517,
          0.19896340055223444,
          -0.23145050018903338,
          -0.47964419762986166,
          -0.44283720384580877,
          0.2975083383573253,
          -1.0702080056630172,
          0.3714803864386964,
          -1.7713799252108353,
          -0.05361606457323116,
          1.2773542153545079,
          1.130147907205399,
          0.672508729528042,
          -0.04422356786938887,
          0.06591820760695383,
          0.8657351394759569,
          -1.149166652831269,
          1.2801278124161366,
          0.7053245114339901,
          -0.6450090266750952,
          0.22479835435854695,
          -1.5687383321523662,
          -1.6711767415185925,
          0.18688677530668604,
          0.4801646737727269,
          1.27730447068291,
          1.5312853572122618,
          -0.003243945845103304,
          0.31545108378705483,
          0.8001980688130594
         ],
         "yaxis": "y8"
        },
        {
         "line": {
          "color": "rgba(128, 128, 128, 1.0)",
          "dash": "solid",
          "shape": "linear",
          "width": 1.3
         },
         "marker": {
          "size": 2,
          "symbol": "circle"
         },
         "mode": "markers",
         "name": "C",
         "text": "",
         "type": "scatter",
         "x": [
          0.3696420558197603,
          0.5253992122905893,
          -1.037046991780036,
          0.24758500485110949,
          -1.8474714207170502,
          1.3011206429284472,
          -0.9335639569440436,
          0.7693596664680276,
          -0.7354420564182146,
          -0.3897801777723191,
          -0.5361110290279926,
          -0.11335978345336128,
          0.5034703014821329,
          0.6862383833141485,
          -0.998068344328191,
          -1.0158631125325421,
          0.004348380037364213,
          0.41957675079592427,
          2.301491454423374,
          1.4561157709628787,
          -0.39543442769501835,
          -2.9977343866583146,
          0.4606828596039337,
          0.4125115418393969,
          -1.6772472028110024,
          0.4847284875647718,
          0.13514321173399585,
          -0.8501933743837765,
          0.7661903176591959,
          0.2556084067919436,
          1.2092208938314986,
          -0.9641519723820355,
          -0.4929362943760437,
          0.28872133688964635,
          -0.9942239232924204,
          -0.17732241365179743,
          -1.167011992737201,
          -0.02479701877713464,
          -1.3437385112074935,
          -0.13425512337211468,
          -1.1387426056206769,
          -0.152654355616287,
          -0.20396279915057616,
          -1.09589281461307,
          -1.8186866319970554,
          -1.419713115103019,
          1.1238921197556309,
          -0.25238924820713565,
          0.8003631231624078,
          1.510325015083661,
          0.15693663155427395,
          -1.7131257418818993,
          -0.73964880933293,
          -0.9491578573939075,
          -0.030022804907188512,
          1.1710417549444856,
          0.12729687189798403,
          -0.005807129205971171,
          -0.028565868349607577,
          -0.4819911680944219,
          -1.518892135299185,
          -0.576390236024212,
          0.36059632276433357,
          -0.12057217071166919,
          0.15762625193431426,
          0.06810068428376627,
          0.6367262505638114,
          -2.1102698964980773,
          -0.7082699504905734,
          -0.2941154121319468,
          0.126635294372914,
          -0.40570278219914246,
          0.35808490553594086,
          -1.0342876768719167,
          -1.1947571676836943,
          0.5541810575018407,
          1.5133993382594308,
          -0.9003410000358811,
          -0.8560779010303979,
          2.030211579966576,
          0.582959641868816,
          0.8494972234950936,
          1.1581283542388061,
          0.6879489752136857,
          -0.8493140319400361,
          -0.6133085997176515,
          -0.2850937172340025,
          -0.9857890053489234,
          -0.09162341605494383,
          -1.0244112466360455,
          1.393245285512462,
          0.03430148884087417,
          0.37283225888140187,
          0.1487104846347837,
          -1.256860203558932,
          0.3464741711743709,
          -0.31822087540002797,
          1.384161939100568,
          0.060376550504078835,
          -1.5736730924838451
         ],
         "xaxis": "x9",
         "y": [
          0.2252777989016697,
          0.8623018188802899,
          -1.416244250131065,
          0.32934869741646344,
          0.1267464715656397,
          0.06936779668551181,
          -0.8963800303599142,
          0.15802245926053307,
          1.134220418943405,
          1.4859243642201287,
          0.31410460046414307,
          -1.6317416932347404,
          -1.3468425919919842,
          -1.5377259965021013,
          0.44803968693652124,
          -0.6087749895529724,
          -0.08444755271745026,
          -0.41543239452665953,
          -0.31077567466336165,
          1.04630994845296,
          -1.3069377157747348,
          0.766032531840848,
          0.5780460097088275,
          -0.21423604833369836,
          0.0036132856858055065,
          -0.8155164372988873,
          0.05986444467837653,
          -1.9721889963414336,
          -2.078555799505978,
          1.264205459685189,
          -0.09286916292385433,
          0.37241483042135864,
          -0.4520027989707978,
          -0.06359946668577694,
          0.40414748288786745,
          -1.42310455279087,
          0.3761060108893962,
          0.6216497343796945,
          0.18867118091163326,
          0.23902421149124484,
          -1.0410009754896765,
          0.9718313088708687,
          0.034362973196359586,
          1.9488270240884749,
          -0.13331917111915575,
          1.4608434457954884,
          -0.08665151619432472,
          0.02926781149662285,
          -1.8004195748741825,
          1.6289742337704256,
          1.3582535172023908,
          -0.8454881168555592,
          0.6093724484063817,
          1.9344597807372632,
          0.35797359496683784,
          -0.41599786611177764,
          -0.9050470296676526,
          1.4043251327454243,
          0.20857840336780592,
          2.0939476995372703,
          1.0497898426386931,
          1.4265064707668738,
          -1.143234964880385,
          2.309302086953698,
          2.0259289469994974,
          1.3659821749542929,
          -0.9407940552553328,
          -2.6219766910310476,
          -1.1426882136155434,
          -3.094999628250353,
          1.0056417745869357,
          0.39868504276673516,
          -0.046072701239227326,
          0.7586484947069092,
          0.5899860404075996,
          -0.3124991992480441,
          -0.5316162521241473,
          -0.31137328734129294,
          0.9020306003109113,
          0.8632424005893286,
          1.0047379483834622,
          0.8134640423609348,
          -0.4708781972522541,
          -1.6428143904942887,
          0.30678393518761216,
          0.2219842518238527,
          -0.012729532903647525,
          -2.6622374787543466,
          0.7426211522876416,
          -1.3176793616791336,
          0.03755321857630146,
          -0.10962231677693532,
          1.5790362314396678,
          1.4562306481619405,
          -1.0726071087385978,
          -2.4404905382187,
          0.4434881014433977,
          -1.8094225526189711,
          -1.391051306056638,
          1.2849228240434347
         ],
         "yaxis": "y9"
        },
        {
         "line": {
          "color": "rgba(128, 128, 128, 1.0)",
          "dash": "solid",
          "shape": "linear",
          "width": 1.3
         },
         "marker": {
          "size": 2,
          "symbol": "circle"
         },
         "mode": "markers",
         "name": "C",
         "text": "",
         "type": "scatter",
         "x": [
          1.8544854469766379,
          0.7836177074308012,
          -0.7023952067731887,
          -1.6590009035343811,
          0.5368017098635539,
          -0.3523782119696855,
          0.16226175563893364,
          0.7264061191098,
          -1.2499210848417084,
          0.1929954220383031,
          -0.21386919859532105,
          -0.29271630353287986,
          -0.6611903651266722,
          0.744638175086269,
          0.2040438468422435,
          0.8584320617049238,
          0.850452155003359,
          -1.3659953542696026,
          -0.05578684509734393,
          0.6323620787780885,
          0.2837188925661103,
          -0.30468203874642236,
          -2.8251949591332033,
          0.34430547180085386,
          -0.9974663044329387,
          1.0962755508149857,
          -1.7792529363166523,
          1.1933040966037836,
          0.07152250341734986,
          -0.36871156263976,
          0.4574508446904451,
          -1.75587070274968,
          -1.59898164109928,
          -1.6860266836224718,
          -0.3277867055238577,
          -1.3629489107165276,
          1.0412266116381714,
          0.7179155165752484,
          1.6930515185472383,
          1.289448459481413,
          0.30362087590713316,
          -2.1528501300606946,
          -1.0134696144934496,
          -0.15636623271294586,
          0.8380139710009594,
          0.5579228915062908,
          0.5368016312120132,
          -0.5078470766397161,
          -0.845020274882293,
          -0.5032619357012125,
          0.09063142724378265,
          1.3230502586330954,
          0.605470890269384,
          -1.4491029065733194,
          1.5350799697628166,
          -0.4887321951171857,
          -1.9780210133324072,
          -0.09137475763597733,
          -0.7403203584012117,
          0.7224915860473682,
          0.7062391710651873,
          0.2012465686323864,
          -1.418854798097011,
          -1.8166350247694463,
          -1.1893933087052846,
          1.6008006185133081,
          -1.3828919131099306,
          -0.3939760308123558,
          -0.8518355622060666,
          -0.792128482209907,
          1.3826855098314517,
          0.19896340055223444,
          -0.23145050018903338,
          -0.47964419762986166,
          -0.44283720384580877,
          0.2975083383573253,
          -1.0702080056630172,
          0.3714803864386964,
          -1.7713799252108353,
          -0.05361606457323116,
          1.2773542153545079,
          1.130147907205399,
          0.672508729528042,
          -0.04422356786938887,
          0.06591820760695383,
          0.8657351394759569,
          -1.149166652831269,
          1.2801278124161366,
          0.7053245114339901,
          -0.6450090266750952,
          0.22479835435854695,
          -1.5687383321523662,
          -1.6711767415185925,
          0.18688677530668604,
          0.4801646737727269,
          1.27730447068291,
          1.5312853572122618,
          -0.003243945845103304,
          0.31545108378705483,
          0.8001980688130594
         ],
         "xaxis": "x10",
         "y": [
          0.2252777989016697,
          0.8623018188802899,
          -1.416244250131065,
          0.32934869741646344,
          0.1267464715656397,
          0.06936779668551181,
          -0.8963800303599142,
          0.15802245926053307,
          1.134220418943405,
          1.4859243642201287,
          0.31410460046414307,
          -1.6317416932347404,
          -1.3468425919919842,
          -1.5377259965021013,
          0.44803968693652124,
          -0.6087749895529724,
          -0.08444755271745026,
          -0.41543239452665953,
          -0.31077567466336165,
          1.04630994845296,
          -1.3069377157747348,
          0.766032531840848,
          0.5780460097088275,
          -0.21423604833369836,
          0.0036132856858055065,
          -0.8155164372988873,
          0.05986444467837653,
          -1.9721889963414336,
          -2.078555799505978,
          1.264205459685189,
          -0.09286916292385433,
          0.37241483042135864,
          -0.4520027989707978,
          -0.06359946668577694,
          0.40414748288786745,
          -1.42310455279087,
          0.3761060108893962,
          0.6216497343796945,
          0.18867118091163326,
          0.23902421149124484,
          -1.0410009754896765,
          0.9718313088708687,
          0.034362973196359586,
          1.9488270240884749,
          -0.13331917111915575,
          1.4608434457954884,
          -0.08665151619432472,
          0.02926781149662285,
          -1.8004195748741825,
          1.6289742337704256,
          1.3582535172023908,
          -0.8454881168555592,
          0.6093724484063817,
          1.9344597807372632,
          0.35797359496683784,
          -0.41599786611177764,
          -0.9050470296676526,
          1.4043251327454243,
          0.20857840336780592,
          2.0939476995372703,
          1.0497898426386931,
          1.4265064707668738,
          -1.143234964880385,
          2.309302086953698,
          2.0259289469994974,
          1.3659821749542929,
          -0.9407940552553328,
          -2.6219766910310476,
          -1.1426882136155434,
          -3.094999628250353,
          1.0056417745869357,
          0.39868504276673516,
          -0.046072701239227326,
          0.7586484947069092,
          0.5899860404075996,
          -0.3124991992480441,
          -0.5316162521241473,
          -0.31137328734129294,
          0.9020306003109113,
          0.8632424005893286,
          1.0047379483834622,
          0.8134640423609348,
          -0.4708781972522541,
          -1.6428143904942887,
          0.30678393518761216,
          0.2219842518238527,
          -0.012729532903647525,
          -2.6622374787543466,
          0.7426211522876416,
          -1.3176793616791336,
          0.03755321857630146,
          -0.10962231677693532,
          1.5790362314396678,
          1.4562306481619405,
          -1.0726071087385978,
          -2.4404905382187,
          0.4434881014433977,
          -1.8094225526189711,
          -1.391051306056638,
          1.2849228240434347
         ],
         "yaxis": "y10"
        },
        {
         "histfunc": "count",
         "histnorm": "",
         "marker": {
          "color": "rgba(50, 171, 96, 1.0)",
          "line": {
           "color": "#4D5663",
           "width": 1.3
          }
         },
         "name": "C",
         "nbinsx": 10,
         "opacity": 0.8,
         "orientation": "v",
         "type": "histogram",
         "x": [
          0.2252777989016697,
          0.8623018188802899,
          -1.416244250131065,
          0.32934869741646344,
          0.1267464715656397,
          0.06936779668551181,
          -0.8963800303599142,
          0.15802245926053307,
          1.134220418943405,
          1.4859243642201287,
          0.31410460046414307,
          -1.6317416932347404,
          -1.3468425919919842,
          -1.5377259965021013,
          0.44803968693652124,
          -0.6087749895529724,
          -0.08444755271745026,
          -0.41543239452665953,
          -0.31077567466336165,
          1.04630994845296,
          -1.3069377157747348,
          0.766032531840848,
          0.5780460097088275,
          -0.21423604833369836,
          0.0036132856858055065,
          -0.8155164372988873,
          0.05986444467837653,
          -1.9721889963414336,
          -2.078555799505978,
          1.264205459685189,
          -0.09286916292385433,
          0.37241483042135864,
          -0.4520027989707978,
          -0.06359946668577694,
          0.40414748288786745,
          -1.42310455279087,
          0.3761060108893962,
          0.6216497343796945,
          0.18867118091163326,
          0.23902421149124484,
          -1.0410009754896765,
          0.9718313088708687,
          0.034362973196359586,
          1.9488270240884749,
          -0.13331917111915575,
          1.4608434457954884,
          -0.08665151619432472,
          0.02926781149662285,
          -1.8004195748741825,
          1.6289742337704256,
          1.3582535172023908,
          -0.8454881168555592,
          0.6093724484063817,
          1.9344597807372632,
          0.35797359496683784,
          -0.41599786611177764,
          -0.9050470296676526,
          1.4043251327454243,
          0.20857840336780592,
          2.0939476995372703,
          1.0497898426386931,
          1.4265064707668738,
          -1.143234964880385,
          2.309302086953698,
          2.0259289469994974,
          1.3659821749542929,
          -0.9407940552553328,
          -2.6219766910310476,
          -1.1426882136155434,
          -3.094999628250353,
          1.0056417745869357,
          0.39868504276673516,
          -0.046072701239227326,
          0.7586484947069092,
          0.5899860404075996,
          -0.3124991992480441,
          -0.5316162521241473,
          -0.31137328734129294,
          0.9020306003109113,
          0.8632424005893286,
          1.0047379483834622,
          0.8134640423609348,
          -0.4708781972522541,
          -1.6428143904942887,
          0.30678393518761216,
          0.2219842518238527,
          -0.012729532903647525,
          -2.6622374787543466,
          0.7426211522876416,
          -1.3176793616791336,
          0.03755321857630146,
          -0.10962231677693532,
          1.5790362314396678,
          1.4562306481619405,
          -1.0726071087385978,
          -2.4404905382187,
          0.4434881014433977,
          -1.8094225526189711,
          -1.391051306056638,
          1.2849228240434347
         ],
         "xaxis": "x11",
         "yaxis": "y11"
        },
        {
         "line": {
          "color": "rgba(128, 128, 128, 1.0)",
          "dash": "solid",
          "shape": "linear",
          "width": 1.3
         },
         "marker": {
          "size": 2,
          "symbol": "circle"
         },
         "mode": "markers",
         "name": "C",
         "text": "",
         "type": "scatter",
         "x": [
          -1.5034959600232376,
          -0.5002545536406926,
          0.28038963892268925,
          0.6436157976651309,
          -0.32678525058336144,
          2.2480455302993954,
          -0.10212614541672001,
          -0.3753141106509515,
          -0.09137779587221577,
          2.806316180226526,
          -1.0696001667407682,
          -0.8198791828551726,
          -0.48954253559546135,
          -0.4855260402785763,
          0.41740420839716347,
          0.04750503769818647,
          -0.7647964360611823,
          -1.411902116190576,
          1.76243350565496,
          -1.5380351291216554,
          0.4753809754519136,
          -0.8594523204412604,
          -1.8534272922723198,
          -0.02493962626163329,
          0.9286975747515848,
          -1.7976611239698812,
          1.5949445899324757,
          0.24349753016633013,
          0.4076981943292706,
          0.16867933305942437,
          -0.09072844291781407,
          0.9478168842520501,
          0.17999577841047074,
          -0.7508565155229779,
          -1.481340630988663,
          -2.464520025940437,
          0.6434431949145675,
          -1.3761376024818746,
          0.3468809070623607,
          -1.5764148071761146,
          -0.8436372667516829,
          -1.0300202683908892,
          0.626443122495951,
          1.3228318464001843,
          2.8332868930935673,
          0.05274994978958885,
          0.18967361347084327,
          0.9578411548794024,
          -0.7079610590083915,
          -0.9682769868480765,
          1.0864687928058199,
          -0.23982121319770938,
          0.43604123853449805,
          -2.076366837148839,
          0.001923451586291724,
          1.754416018047518,
          0.16836066340273206,
          2.158078850342077,
          -0.05922530625313715,
          0.39488763101367946,
          -0.9021924044536117,
          0.22894884857403328,
          -0.40663035035742795,
          -1.3770822654520178,
          -0.12048346955566772,
          1.0761634563359206,
          -1.0707400073825306,
          0.7429681963356116,
          -0.24613470003158003,
          1.1582696382477444,
          -0.5012082480432763,
          1.8268859083182867,
          0.9603431670287832,
          -0.8197939109913333,
          0.12123473658574371,
          1.4465456172542097,
          0.9657067653768596,
          1.0466074677604935,
          -0.10324403695845281,
          -1.2168298340103647,
          1.185780411258566,
          -0.27251029278709726,
          -0.40756724742538614,
          0.005248339557275319,
          0.5578637899562472,
          0.6038168533560826,
          0.7002552066325827,
          -1.3098700315350242,
          1.3267048265141386,
          -0.5927916193949495,
          0.05118912541609895,
          -1.2211986610627326,
          0.23207065415443653,
          0.7511052993502152,
          1.003248932950057,
          0.24431493409781493,
          -0.1342578021851783,
          0.09554071996329187,
          -0.7154397211038919,
          -0.7617484585937415
         ],
         "xaxis": "x12",
         "y": [
          0.2252777989016697,
          0.8623018188802899,
          -1.416244250131065,
          0.32934869741646344,
          0.1267464715656397,
          0.06936779668551181,
          -0.8963800303599142,
          0.15802245926053307,
          1.134220418943405,
          1.4859243642201287,
          0.31410460046414307,
          -1.6317416932347404,
          -1.3468425919919842,
          -1.5377259965021013,
          0.44803968693652124,
          -0.6087749895529724,
          -0.08444755271745026,
          -0.41543239452665953,
          -0.31077567466336165,
          1.04630994845296,
          -1.3069377157747348,
          0.766032531840848,
          0.5780460097088275,
          -0.21423604833369836,
          0.0036132856858055065,
          -0.8155164372988873,
          0.05986444467837653,
          -1.9721889963414336,
          -2.078555799505978,
          1.264205459685189,
          -0.09286916292385433,
          0.37241483042135864,
          -0.4520027989707978,
          -0.06359946668577694,
          0.40414748288786745,
          -1.42310455279087,
          0.3761060108893962,
          0.6216497343796945,
          0.18867118091163326,
          0.23902421149124484,
          -1.0410009754896765,
          0.9718313088708687,
          0.034362973196359586,
          1.9488270240884749,
          -0.13331917111915575,
          1.4608434457954884,
          -0.08665151619432472,
          0.02926781149662285,
          -1.8004195748741825,
          1.6289742337704256,
          1.3582535172023908,
          -0.8454881168555592,
          0.6093724484063817,
          1.9344597807372632,
          0.35797359496683784,
          -0.41599786611177764,
          -0.9050470296676526,
          1.4043251327454243,
          0.20857840336780592,
          2.0939476995372703,
          1.0497898426386931,
          1.4265064707668738,
          -1.143234964880385,
          2.309302086953698,
          2.0259289469994974,
          1.3659821749542929,
          -0.9407940552553328,
          -2.6219766910310476,
          -1.1426882136155434,
          -3.094999628250353,
          1.0056417745869357,
          0.39868504276673516,
          -0.046072701239227326,
          0.7586484947069092,
          0.5899860404075996,
          -0.3124991992480441,
          -0.5316162521241473,
          -0.31137328734129294,
          0.9020306003109113,
          0.8632424005893286,
          1.0047379483834622,
          0.8134640423609348,
          -0.4708781972522541,
          -1.6428143904942887,
          0.30678393518761216,
          0.2219842518238527,
          -0.012729532903647525,
          -2.6622374787543466,
          0.7426211522876416,
          -1.3176793616791336,
          0.03755321857630146,
          -0.10962231677693532,
          1.5790362314396678,
          1.4562306481619405,
          -1.0726071087385978,
          -2.4404905382187,
          0.4434881014433977,
          -1.8094225526189711,
          -1.391051306056638,
          1.2849228240434347
         ],
         "yaxis": "y12"
        },
        {
         "line": {
          "color": "rgba(128, 128, 128, 1.0)",
          "dash": "solid",
          "shape": "linear",
          "width": 1.3
         },
         "marker": {
          "size": 2,
          "symbol": "circle"
         },
         "mode": "markers",
         "name": "D",
         "text": "",
         "type": "scatter",
         "x": [
          0.3696420558197603,
          0.5253992122905893,
          -1.037046991780036,
          0.24758500485110949,
          -1.8474714207170502,
          1.3011206429284472,
          -0.9335639569440436,
          0.7693596664680276,
          -0.7354420564182146,
          -0.3897801777723191,
          -0.5361110290279926,
          -0.11335978345336128,
          0.5034703014821329,
          0.6862383833141485,
          -0.998068344328191,
          -1.0158631125325421,
          0.004348380037364213,
          0.41957675079592427,
          2.301491454423374,
          1.4561157709628787,
          -0.39543442769501835,
          -2.9977343866583146,
          0.4606828596039337,
          0.4125115418393969,
          -1.6772472028110024,
          0.4847284875647718,
          0.13514321173399585,
          -0.8501933743837765,
          0.7661903176591959,
          0.2556084067919436,
          1.2092208938314986,
          -0.9641519723820355,
          -0.4929362943760437,
          0.28872133688964635,
          -0.9942239232924204,
          -0.17732241365179743,
          -1.167011992737201,
          -0.02479701877713464,
          -1.3437385112074935,
          -0.13425512337211468,
          -1.1387426056206769,
          -0.152654355616287,
          -0.20396279915057616,
          -1.09589281461307,
          -1.8186866319970554,
          -1.419713115103019,
          1.1238921197556309,
          -0.25238924820713565,
          0.8003631231624078,
          1.510325015083661,
          0.15693663155427395,
          -1.7131257418818993,
          -0.73964880933293,
          -0.9491578573939075,
          -0.030022804907188512,
          1.1710417549444856,
          0.12729687189798403,
          -0.005807129205971171,
          -0.028565868349607577,
          -0.4819911680944219,
          -1.518892135299185,
          -0.576390236024212,
          0.36059632276433357,
          -0.12057217071166919,
          0.15762625193431426,
          0.06810068428376627,
          0.6367262505638114,
          -2.1102698964980773,
          -0.7082699504905734,
          -0.2941154121319468,
          0.126635294372914,
          -0.40570278219914246,
          0.35808490553594086,
          -1.0342876768719167,
          -1.1947571676836943,
          0.5541810575018407,
          1.5133993382594308,
          -0.9003410000358811,
          -0.8560779010303979,
          2.030211579966576,
          0.582959641868816,
          0.8494972234950936,
          1.1581283542388061,
          0.6879489752136857,
          -0.8493140319400361,
          -0.6133085997176515,
          -0.2850937172340025,
          -0.9857890053489234,
          -0.09162341605494383,
          -1.0244112466360455,
          1.393245285512462,
          0.03430148884087417,
          0.37283225888140187,
          0.1487104846347837,
          -1.256860203558932,
          0.3464741711743709,
          -0.31822087540002797,
          1.384161939100568,
          0.060376550504078835,
          -1.5736730924838451
         ],
         "xaxis": "x13",
         "y": [
          -1.5034959600232376,
          -0.5002545536406926,
          0.28038963892268925,
          0.6436157976651309,
          -0.32678525058336144,
          2.2480455302993954,
          -0.10212614541672001,
          -0.3753141106509515,
          -0.09137779587221577,
          2.806316180226526,
          -1.0696001667407682,
          -0.8198791828551726,
          -0.48954253559546135,
          -0.4855260402785763,
          0.41740420839716347,
          0.04750503769818647,
          -0.7647964360611823,
          -1.411902116190576,
          1.76243350565496,
          -1.5380351291216554,
          0.4753809754519136,
          -0.8594523204412604,
          -1.8534272922723198,
          -0.02493962626163329,
          0.9286975747515848,
          -1.7976611239698812,
          1.5949445899324757,
          0.24349753016633013,
          0.4076981943292706,
          0.16867933305942437,
          -0.09072844291781407,
          0.9478168842520501,
          0.17999577841047074,
          -0.7508565155229779,
          -1.481340630988663,
          -2.464520025940437,
          0.6434431949145675,
          -1.3761376024818746,
          0.3468809070623607,
          -1.5764148071761146,
          -0.8436372667516829,
          -1.0300202683908892,
          0.626443122495951,
          1.3228318464001843,
          2.8332868930935673,
          0.05274994978958885,
          0.18967361347084327,
          0.9578411548794024,
          -0.7079610590083915,
          -0.9682769868480765,
          1.0864687928058199,
          -0.23982121319770938,
          0.43604123853449805,
          -2.076366837148839,
          0.001923451586291724,
          1.754416018047518,
          0.16836066340273206,
          2.158078850342077,
          -0.05922530625313715,
          0.39488763101367946,
          -0.9021924044536117,
          0.22894884857403328,
          -0.40663035035742795,
          -1.3770822654520178,
          -0.12048346955566772,
          1.0761634563359206,
          -1.0707400073825306,
          0.7429681963356116,
          -0.24613470003158003,
          1.1582696382477444,
          -0.5012082480432763,
          1.8268859083182867,
          0.9603431670287832,
          -0.8197939109913333,
          0.12123473658574371,
          1.4465456172542097,
          0.9657067653768596,
          1.0466074677604935,
          -0.10324403695845281,
          -1.2168298340103647,
          1.185780411258566,
          -0.27251029278709726,
          -0.40756724742538614,
          0.005248339557275319,
          0.5578637899562472,
          0.6038168533560826,
          0.7002552066325827,
          -1.3098700315350242,
          1.3267048265141386,
          -0.5927916193949495,
          0.05118912541609895,
          -1.2211986610627326,
          0.23207065415443653,
          0.7511052993502152,
          1.003248932950057,
          0.24431493409781493,
          -0.1342578021851783,
          0.09554071996329187,
          -0.7154397211038919,
          -0.7617484585937415
         ],
         "yaxis": "y13"
        },
        {
         "line": {
          "color": "rgba(128, 128, 128, 1.0)",
          "dash": "solid",
          "shape": "linear",
          "width": 1.3
         },
         "marker": {
          "size": 2,
          "symbol": "circle"
         },
         "mode": "markers",
         "name": "D",
         "text": "",
         "type": "scatter",
         "x": [
          1.8544854469766379,
          0.7836177074308012,
          -0.7023952067731887,
          -1.6590009035343811,
          0.5368017098635539,
          -0.3523782119696855,
          0.16226175563893364,
          0.7264061191098,
          -1.2499210848417084,
          0.1929954220383031,
          -0.21386919859532105,
          -0.29271630353287986,
          -0.6611903651266722,
          0.744638175086269,
          0.2040438468422435,
          0.8584320617049238,
          0.850452155003359,
          -1.3659953542696026,
          -0.05578684509734393,
          0.6323620787780885,
          0.2837188925661103,
          -0.30468203874642236,
          -2.8251949591332033,
          0.34430547180085386,
          -0.9974663044329387,
          1.0962755508149857,
          -1.7792529363166523,
          1.1933040966037836,
          0.07152250341734986,
          -0.36871156263976,
          0.4574508446904451,
          -1.75587070274968,
          -1.59898164109928,
          -1.6860266836224718,
          -0.3277867055238577,
          -1.3629489107165276,
          1.0412266116381714,
          0.7179155165752484,
          1.6930515185472383,
          1.289448459481413,
          0.30362087590713316,
          -2.1528501300606946,
          -1.0134696144934496,
          -0.15636623271294586,
          0.8380139710009594,
          0.5579228915062908,
          0.5368016312120132,
          -0.5078470766397161,
          -0.845020274882293,
          -0.5032619357012125,
          0.09063142724378265,
          1.3230502586330954,
          0.605470890269384,
          -1.4491029065733194,
          1.5350799697628166,
          -0.4887321951171857,
          -1.9780210133324072,
          -0.09137475763597733,
          -0.7403203584012117,
          0.7224915860473682,
          0.7062391710651873,
          0.2012465686323864,
          -1.418854798097011,
          -1.8166350247694463,
          -1.1893933087052846,
          1.6008006185133081,
          -1.3828919131099306,
          -0.3939760308123558,
          -0.8518355622060666,
          -0.792128482209907,
          1.3826855098314517,
          0.19896340055223444,
          -0.23145050018903338,
          -0.47964419762986166,
          -0.44283720384580877,
          0.2975083383573253,
          -1.0702080056630172,
          0.3714803864386964,
          -1.7713799252108353,
          -0.05361606457323116,
          1.2773542153545079,
          1.130147907205399,
          0.672508729528042,
          -0.04422356786938887,
          0.06591820760695383,
          0.8657351394759569,
          -1.149166652831269,
          1.2801278124161366,
          0.7053245114339901,
          -0.6450090266750952,
          0.22479835435854695,
          -1.5687383321523662,
          -1.6711767415185925,
          0.18688677530668604,
          0.4801646737727269,
          1.27730447068291,
          1.5312853572122618,
          -0.003243945845103304,
          0.31545108378705483,
          0.8001980688130594
         ],
         "xaxis": "x14",
         "y": [
          -1.5034959600232376,
          -0.5002545536406926,
          0.28038963892268925,
          0.6436157976651309,
          -0.32678525058336144,
          2.2480455302993954,
          -0.10212614541672001,
          -0.3753141106509515,
          -0.09137779587221577,
          2.806316180226526,
          -1.0696001667407682,
          -0.8198791828551726,
          -0.48954253559546135,
          -0.4855260402785763,
          0.41740420839716347,
          0.04750503769818647,
          -0.7647964360611823,
          -1.411902116190576,
          1.76243350565496,
          -1.5380351291216554,
          0.4753809754519136,
          -0.8594523204412604,
          -1.8534272922723198,
          -0.02493962626163329,
          0.9286975747515848,
          -1.7976611239698812,
          1.5949445899324757,
          0.24349753016633013,
          0.4076981943292706,
          0.16867933305942437,
          -0.09072844291781407,
          0.9478168842520501,
          0.17999577841047074,
          -0.7508565155229779,
          -1.481340630988663,
          -2.464520025940437,
          0.6434431949145675,
          -1.3761376024818746,
          0.3468809070623607,
          -1.5764148071761146,
          -0.8436372667516829,
          -1.0300202683908892,
          0.626443122495951,
          1.3228318464001843,
          2.8332868930935673,
          0.05274994978958885,
          0.18967361347084327,
          0.9578411548794024,
          -0.7079610590083915,
          -0.9682769868480765,
          1.0864687928058199,
          -0.23982121319770938,
          0.43604123853449805,
          -2.076366837148839,
          0.001923451586291724,
          1.754416018047518,
          0.16836066340273206,
          2.158078850342077,
          -0.05922530625313715,
          0.39488763101367946,
          -0.9021924044536117,
          0.22894884857403328,
          -0.40663035035742795,
          -1.3770822654520178,
          -0.12048346955566772,
          1.0761634563359206,
          -1.0707400073825306,
          0.7429681963356116,
          -0.24613470003158003,
          1.1582696382477444,
          -0.5012082480432763,
          1.8268859083182867,
          0.9603431670287832,
          -0.8197939109913333,
          0.12123473658574371,
          1.4465456172542097,
          0.9657067653768596,
          1.0466074677604935,
          -0.10324403695845281,
          -1.2168298340103647,
          1.185780411258566,
          -0.27251029278709726,
          -0.40756724742538614,
          0.005248339557275319,
          0.5578637899562472,
          0.6038168533560826,
          0.7002552066325827,
          -1.3098700315350242,
          1.3267048265141386,
          -0.5927916193949495,
          0.05118912541609895,
          -1.2211986610627326,
          0.23207065415443653,
          0.7511052993502152,
          1.003248932950057,
          0.24431493409781493,
          -0.1342578021851783,
          0.09554071996329187,
          -0.7154397211038919,
          -0.7617484585937415
         ],
         "yaxis": "y14"
        },
        {
         "line": {
          "color": "rgba(128, 128, 128, 1.0)",
          "dash": "solid",
          "shape": "linear",
          "width": 1.3
         },
         "marker": {
          "size": 2,
          "symbol": "circle"
         },
         "mode": "markers",
         "name": "D",
         "text": "",
         "type": "scatter",
         "x": [
          0.2252777989016697,
          0.8623018188802899,
          -1.416244250131065,
          0.32934869741646344,
          0.1267464715656397,
          0.06936779668551181,
          -0.8963800303599142,
          0.15802245926053307,
          1.134220418943405,
          1.4859243642201287,
          0.31410460046414307,
          -1.6317416932347404,
          -1.3468425919919842,
          -1.5377259965021013,
          0.44803968693652124,
          -0.6087749895529724,
          -0.08444755271745026,
          -0.41543239452665953,
          -0.31077567466336165,
          1.04630994845296,
          -1.3069377157747348,
          0.766032531840848,
          0.5780460097088275,
          -0.21423604833369836,
          0.0036132856858055065,
          -0.8155164372988873,
          0.05986444467837653,
          -1.9721889963414336,
          -2.078555799505978,
          1.264205459685189,
          -0.09286916292385433,
          0.37241483042135864,
          -0.4520027989707978,
          -0.06359946668577694,
          0.40414748288786745,
          -1.42310455279087,
          0.3761060108893962,
          0.6216497343796945,
          0.18867118091163326,
          0.23902421149124484,
          -1.0410009754896765,
          0.9718313088708687,
          0.034362973196359586,
          1.9488270240884749,
          -0.13331917111915575,
          1.4608434457954884,
          -0.08665151619432472,
          0.02926781149662285,
          -1.8004195748741825,
          1.6289742337704256,
          1.3582535172023908,
          -0.8454881168555592,
          0.6093724484063817,
          1.9344597807372632,
          0.35797359496683784,
          -0.41599786611177764,
          -0.9050470296676526,
          1.4043251327454243,
          0.20857840336780592,
          2.0939476995372703,
          1.0497898426386931,
          1.4265064707668738,
          -1.143234964880385,
          2.309302086953698,
          2.0259289469994974,
          1.3659821749542929,
          -0.9407940552553328,
          -2.6219766910310476,
          -1.1426882136155434,
          -3.094999628250353,
          1.0056417745869357,
          0.39868504276673516,
          -0.046072701239227326,
          0.7586484947069092,
          0.5899860404075996,
          -0.3124991992480441,
          -0.5316162521241473,
          -0.31137328734129294,
          0.9020306003109113,
          0.8632424005893286,
          1.0047379483834622,
          0.8134640423609348,
          -0.4708781972522541,
          -1.6428143904942887,
          0.30678393518761216,
          0.2219842518238527,
          -0.012729532903647525,
          -2.6622374787543466,
          0.7426211522876416,
          -1.3176793616791336,
          0.03755321857630146,
          -0.10962231677693532,
          1.5790362314396678,
          1.4562306481619405,
          -1.0726071087385978,
          -2.4404905382187,
          0.4434881014433977,
          -1.8094225526189711,
          -1.391051306056638,
          1.2849228240434347
         ],
         "xaxis": "x15",
         "y": [
          -1.5034959600232376,
          -0.5002545536406926,
          0.28038963892268925,
          0.6436157976651309,
          -0.32678525058336144,
          2.2480455302993954,
          -0.10212614541672001,
          -0.3753141106509515,
          -0.09137779587221577,
          2.806316180226526,
          -1.0696001667407682,
          -0.8198791828551726,
          -0.48954253559546135,
          -0.4855260402785763,
          0.41740420839716347,
          0.04750503769818647,
          -0.7647964360611823,
          -1.411902116190576,
          1.76243350565496,
          -1.5380351291216554,
          0.4753809754519136,
          -0.8594523204412604,
          -1.8534272922723198,
          -0.02493962626163329,
          0.9286975747515848,
          -1.7976611239698812,
          1.5949445899324757,
          0.24349753016633013,
          0.4076981943292706,
          0.16867933305942437,
          -0.09072844291781407,
          0.9478168842520501,
          0.17999577841047074,
          -0.7508565155229779,
          -1.481340630988663,
          -2.464520025940437,
          0.6434431949145675,
          -1.3761376024818746,
          0.3468809070623607,
          -1.5764148071761146,
          -0.8436372667516829,
          -1.0300202683908892,
          0.626443122495951,
          1.3228318464001843,
          2.8332868930935673,
          0.05274994978958885,
          0.18967361347084327,
          0.9578411548794024,
          -0.7079610590083915,
          -0.9682769868480765,
          1.0864687928058199,
          -0.23982121319770938,
          0.43604123853449805,
          -2.076366837148839,
          0.001923451586291724,
          1.754416018047518,
          0.16836066340273206,
          2.158078850342077,
          -0.05922530625313715,
          0.39488763101367946,
          -0.9021924044536117,
          0.22894884857403328,
          -0.40663035035742795,
          -1.3770822654520178,
          -0.12048346955566772,
          1.0761634563359206,
          -1.0707400073825306,
          0.7429681963356116,
          -0.24613470003158003,
          1.1582696382477444,
          -0.5012082480432763,
          1.8268859083182867,
          0.9603431670287832,
          -0.8197939109913333,
          0.12123473658574371,
          1.4465456172542097,
          0.9657067653768596,
          1.0466074677604935,
          -0.10324403695845281,
          -1.2168298340103647,
          1.185780411258566,
          -0.27251029278709726,
          -0.40756724742538614,
          0.005248339557275319,
          0.5578637899562472,
          0.6038168533560826,
          0.7002552066325827,
          -1.3098700315350242,
          1.3267048265141386,
          -0.5927916193949495,
          0.05118912541609895,
          -1.2211986610627326,
          0.23207065415443653,
          0.7511052993502152,
          1.003248932950057,
          0.24431493409781493,
          -0.1342578021851783,
          0.09554071996329187,
          -0.7154397211038919,
          -0.7617484585937415
         ],
         "yaxis": "y15"
        },
        {
         "histfunc": "count",
         "histnorm": "",
         "marker": {
          "color": "rgba(128, 0, 128, 1.0)",
          "line": {
           "color": "#4D5663",
           "width": 1.3
          }
         },
         "name": "D",
         "nbinsx": 10,
         "opacity": 0.8,
         "orientation": "v",
         "type": "histogram",
         "x": [
          -1.5034959600232376,
          -0.5002545536406926,
          0.28038963892268925,
          0.6436157976651309,
          -0.32678525058336144,
          2.2480455302993954,
          -0.10212614541672001,
          -0.3753141106509515,
          -0.09137779587221577,
          2.806316180226526,
          -1.0696001667407682,
          -0.8198791828551726,
          -0.48954253559546135,
          -0.4855260402785763,
          0.41740420839716347,
          0.04750503769818647,
          -0.7647964360611823,
          -1.411902116190576,
          1.76243350565496,
          -1.5380351291216554,
          0.4753809754519136,
          -0.8594523204412604,
          -1.8534272922723198,
          -0.02493962626163329,
          0.9286975747515848,
          -1.7976611239698812,
          1.5949445899324757,
          0.24349753016633013,
          0.4076981943292706,
          0.16867933305942437,
          -0.09072844291781407,
          0.9478168842520501,
          0.17999577841047074,
          -0.7508565155229779,
          -1.481340630988663,
          -2.464520025940437,
          0.6434431949145675,
          -1.3761376024818746,
          0.3468809070623607,
          -1.5764148071761146,
          -0.8436372667516829,
          -1.0300202683908892,
          0.626443122495951,
          1.3228318464001843,
          2.8332868930935673,
          0.05274994978958885,
          0.18967361347084327,
          0.9578411548794024,
          -0.7079610590083915,
          -0.9682769868480765,
          1.0864687928058199,
          -0.23982121319770938,
          0.43604123853449805,
          -2.076366837148839,
          0.001923451586291724,
          1.754416018047518,
          0.16836066340273206,
          2.158078850342077,
          -0.05922530625313715,
          0.39488763101367946,
          -0.9021924044536117,
          0.22894884857403328,
          -0.40663035035742795,
          -1.3770822654520178,
          -0.12048346955566772,
          1.0761634563359206,
          -1.0707400073825306,
          0.7429681963356116,
          -0.24613470003158003,
          1.1582696382477444,
          -0.5012082480432763,
          1.8268859083182867,
          0.9603431670287832,
          -0.8197939109913333,
          0.12123473658574371,
          1.4465456172542097,
          0.9657067653768596,
          1.0466074677604935,
          -0.10324403695845281,
          -1.2168298340103647,
          1.185780411258566,
          -0.27251029278709726,
          -0.40756724742538614,
          0.005248339557275319,
          0.5578637899562472,
          0.6038168533560826,
          0.7002552066325827,
          -1.3098700315350242,
          1.3267048265141386,
          -0.5927916193949495,
          0.05118912541609895,
          -1.2211986610627326,
          0.23207065415443653,
          0.7511052993502152,
          1.003248932950057,
          0.24431493409781493,
          -0.1342578021851783,
          0.09554071996329187,
          -0.7154397211038919,
          -0.7617484585937415
         ],
         "xaxis": "x16",
         "yaxis": "y16"
        }
       ],
       "layout": {
        "bargap": 0.02,
        "legend": {
         "bgcolor": "#F5F6F9",
         "font": {
          "color": "#4D5663"
         }
        },
        "paper_bgcolor": "#F5F6F9",
        "plot_bgcolor": "#F5F6F9",
        "showlegend": false,
        "template": {
         "data": {
          "bar": [
           {
            "error_x": {
             "color": "#2a3f5f"
            },
            "error_y": {
             "color": "#2a3f5f"
            },
            "marker": {
             "line": {
              "color": "#E5ECF6",
              "width": 0.5
             }
            },
            "type": "bar"
           }
          ],
          "barpolar": [
           {
            "marker": {
             "line": {
              "color": "#E5ECF6",
              "width": 0.5
             }
            },
            "type": "barpolar"
           }
          ],
          "carpet": [
           {
            "aaxis": {
             "endlinecolor": "#2a3f5f",
             "gridcolor": "white",
             "linecolor": "white",
             "minorgridcolor": "white",
             "startlinecolor": "#2a3f5f"
            },
            "baxis": {
             "endlinecolor": "#2a3f5f",
             "gridcolor": "white",
             "linecolor": "white",
             "minorgridcolor": "white",
             "startlinecolor": "#2a3f5f"
            },
            "type": "carpet"
           }
          ],
          "choropleth": [
           {
            "colorbar": {
             "outlinewidth": 0,
             "ticks": ""
            },
            "type": "choropleth"
           }
          ],
          "contour": [
           {
            "colorbar": {
             "outlinewidth": 0,
             "ticks": ""
            },
            "colorscale": [
             [
              0,
              "#0d0887"
             ],
             [
              0.1111111111111111,
              "#46039f"
             ],
             [
              0.2222222222222222,
              "#7201a8"
             ],
             [
              0.3333333333333333,
              "#9c179e"
             ],
             [
              0.4444444444444444,
              "#bd3786"
             ],
             [
              0.5555555555555556,
              "#d8576b"
             ],
             [
              0.6666666666666666,
              "#ed7953"
             ],
             [
              0.7777777777777778,
              "#fb9f3a"
             ],
             [
              0.8888888888888888,
              "#fdca26"
             ],
             [
              1,
              "#f0f921"
             ]
            ],
            "type": "contour"
           }
          ],
          "contourcarpet": [
           {
            "colorbar": {
             "outlinewidth": 0,
             "ticks": ""
            },
            "type": "contourcarpet"
           }
          ],
          "heatmap": [
           {
            "colorbar": {
             "outlinewidth": 0,
             "ticks": ""
            },
            "colorscale": [
             [
              0,
              "#0d0887"
             ],
             [
              0.1111111111111111,
              "#46039f"
             ],
             [
              0.2222222222222222,
              "#7201a8"
             ],
             [
              0.3333333333333333,
              "#9c179e"
             ],
             [
              0.4444444444444444,
              "#bd3786"
             ],
             [
              0.5555555555555556,
              "#d8576b"
             ],
             [
              0.6666666666666666,
              "#ed7953"
             ],
             [
              0.7777777777777778,
              "#fb9f3a"
             ],
             [
              0.8888888888888888,
              "#fdca26"
             ],
             [
              1,
              "#f0f921"
             ]
            ],
            "type": "heatmap"
           }
          ],
          "heatmapgl": [
           {
            "colorbar": {
             "outlinewidth": 0,
             "ticks": ""
            },
            "colorscale": [
             [
              0,
              "#0d0887"
             ],
             [
              0.1111111111111111,
              "#46039f"
             ],
             [
              0.2222222222222222,
              "#7201a8"
             ],
             [
              0.3333333333333333,
              "#9c179e"
             ],
             [
              0.4444444444444444,
              "#bd3786"
             ],
             [
              0.5555555555555556,
              "#d8576b"
             ],
             [
              0.6666666666666666,
              "#ed7953"
             ],
             [
              0.7777777777777778,
              "#fb9f3a"
             ],
             [
              0.8888888888888888,
              "#fdca26"
             ],
             [
              1,
              "#f0f921"
             ]
            ],
            "type": "heatmapgl"
           }
          ],
          "histogram": [
           {
            "marker": {
             "colorbar": {
              "outlinewidth": 0,
              "ticks": ""
             }
            },
            "type": "histogram"
           }
          ],
          "histogram2d": [
           {
            "colorbar": {
             "outlinewidth": 0,
             "ticks": ""
            },
            "colorscale": [
             [
              0,
              "#0d0887"
             ],
             [
              0.1111111111111111,
              "#46039f"
             ],
             [
              0.2222222222222222,
              "#7201a8"
             ],
             [
              0.3333333333333333,
              "#9c179e"
             ],
             [
              0.4444444444444444,
              "#bd3786"
             ],
             [
              0.5555555555555556,
              "#d8576b"
             ],
             [
              0.6666666666666666,
              "#ed7953"
             ],
             [
              0.7777777777777778,
              "#fb9f3a"
             ],
             [
              0.8888888888888888,
              "#fdca26"
             ],
             [
              1,
              "#f0f921"
             ]
            ],
            "type": "histogram2d"
           }
          ],
          "histogram2dcontour": [
           {
            "colorbar": {
             "outlinewidth": 0,
             "ticks": ""
            },
            "colorscale": [
             [
              0,
              "#0d0887"
             ],
             [
              0.1111111111111111,
              "#46039f"
             ],
             [
              0.2222222222222222,
              "#7201a8"
             ],
             [
              0.3333333333333333,
              "#9c179e"
             ],
             [
              0.4444444444444444,
              "#bd3786"
             ],
             [
              0.5555555555555556,
              "#d8576b"
             ],
             [
              0.6666666666666666,
              "#ed7953"
             ],
             [
              0.7777777777777778,
              "#fb9f3a"
             ],
             [
              0.8888888888888888,
              "#fdca26"
             ],
             [
              1,
              "#f0f921"
             ]
            ],
            "type": "histogram2dcontour"
           }
          ],
          "mesh3d": [
           {
            "colorbar": {
             "outlinewidth": 0,
             "ticks": ""
            },
            "type": "mesh3d"
           }
          ],
          "parcoords": [
           {
            "line": {
             "colorbar": {
              "outlinewidth": 0,
              "ticks": ""
             }
            },
            "type": "parcoords"
           }
          ],
          "pie": [
           {
            "automargin": true,
            "type": "pie"
           }
          ],
          "scatter": [
           {
            "marker": {
             "colorbar": {
              "outlinewidth": 0,
              "ticks": ""
             }
            },
            "type": "scatter"
           }
          ],
          "scatter3d": [
           {
            "line": {
             "colorbar": {
              "outlinewidth": 0,
              "ticks": ""
             }
            },
            "marker": {
             "colorbar": {
              "outlinewidth": 0,
              "ticks": ""
             }
            },
            "type": "scatter3d"
           }
          ],
          "scattercarpet": [
           {
            "marker": {
             "colorbar": {
              "outlinewidth": 0,
              "ticks": ""
             }
            },
            "type": "scattercarpet"
           }
          ],
          "scattergeo": [
           {
            "marker": {
             "colorbar": {
              "outlinewidth": 0,
              "ticks": ""
             }
            },
            "type": "scattergeo"
           }
          ],
          "scattergl": [
           {
            "marker": {
             "colorbar": {
              "outlinewidth": 0,
              "ticks": ""
             }
            },
            "type": "scattergl"
           }
          ],
          "scattermapbox": [
           {
            "marker": {
             "colorbar": {
              "outlinewidth": 0,
              "ticks": ""
             }
            },
            "type": "scattermapbox"
           }
          ],
          "scatterpolar": [
           {
            "marker": {
             "colorbar": {
              "outlinewidth": 0,
              "ticks": ""
             }
            },
            "type": "scatterpolar"
           }
          ],
          "scatterpolargl": [
           {
            "marker": {
             "colorbar": {
              "outlinewidth": 0,
              "ticks": ""
             }
            },
            "type": "scatterpolargl"
           }
          ],
          "scatterternary": [
           {
            "marker": {
             "colorbar": {
              "outlinewidth": 0,
              "ticks": ""
             }
            },
            "type": "scatterternary"
           }
          ],
          "surface": [
           {
            "colorbar": {
             "outlinewidth": 0,
             "ticks": ""
            },
            "colorscale": [
             [
              0,
              "#0d0887"
             ],
             [
              0.1111111111111111,
              "#46039f"
             ],
             [
              0.2222222222222222,
              "#7201a8"
             ],
             [
              0.3333333333333333,
              "#9c179e"
             ],
             [
              0.4444444444444444,
              "#bd3786"
             ],
             [
              0.5555555555555556,
              "#d8576b"
             ],
             [
              0.6666666666666666,
              "#ed7953"
             ],
             [
              0.7777777777777778,
              "#fb9f3a"
             ],
             [
              0.8888888888888888,
              "#fdca26"
             ],
             [
              1,
              "#f0f921"
             ]
            ],
            "type": "surface"
           }
          ],
          "table": [
           {
            "cells": {
             "fill": {
              "color": "#EBF0F8"
             },
             "line": {
              "color": "white"
             }
            },
            "header": {
             "fill": {
              "color": "#C8D4E3"
             },
             "line": {
              "color": "white"
             }
            },
            "type": "table"
           }
          ]
         },
         "layout": {
          "annotationdefaults": {
           "arrowcolor": "#2a3f5f",
           "arrowhead": 0,
           "arrowwidth": 1
          },
          "coloraxis": {
           "colorbar": {
            "outlinewidth": 0,
            "ticks": ""
           }
          },
          "colorscale": {
           "diverging": [
            [
             0,
             "#8e0152"
            ],
            [
             0.1,
             "#c51b7d"
            ],
            [
             0.2,
             "#de77ae"
            ],
            [
             0.3,
             "#f1b6da"
            ],
            [
             0.4,
             "#fde0ef"
            ],
            [
             0.5,
             "#f7f7f7"
            ],
            [
             0.6,
             "#e6f5d0"
            ],
            [
             0.7,
             "#b8e186"
            ],
            [
             0.8,
             "#7fbc41"
            ],
            [
             0.9,
             "#4d9221"
            ],
            [
             1,
             "#276419"
            ]
           ],
           "sequential": [
            [
             0,
             "#0d0887"
            ],
            [
             0.1111111111111111,
             "#46039f"
            ],
            [
             0.2222222222222222,
             "#7201a8"
            ],
            [
             0.3333333333333333,
             "#9c179e"
            ],
            [
             0.4444444444444444,
             "#bd3786"
            ],
            [
             0.5555555555555556,
             "#d8576b"
            ],
            [
             0.6666666666666666,
             "#ed7953"
            ],
            [
             0.7777777777777778,
             "#fb9f3a"
            ],
            [
             0.8888888888888888,
             "#fdca26"
            ],
            [
             1,
             "#f0f921"
            ]
           ],
           "sequentialminus": [
            [
             0,
             "#0d0887"
            ],
            [
             0.1111111111111111,
             "#46039f"
            ],
            [
             0.2222222222222222,
             "#7201a8"
            ],
            [
             0.3333333333333333,
             "#9c179e"
            ],
            [
             0.4444444444444444,
             "#bd3786"
            ],
            [
             0.5555555555555556,
             "#d8576b"
            ],
            [
             0.6666666666666666,
             "#ed7953"
            ],
            [
             0.7777777777777778,
             "#fb9f3a"
            ],
            [
             0.8888888888888888,
             "#fdca26"
            ],
            [
             1,
             "#f0f921"
            ]
           ]
          },
          "colorway": [
           "#636efa",
           "#EF553B",
           "#00cc96",
           "#ab63fa",
           "#FFA15A",
           "#19d3f3",
           "#FF6692",
           "#B6E880",
           "#FF97FF",
           "#FECB52"
          ],
          "font": {
           "color": "#2a3f5f"
          },
          "geo": {
           "bgcolor": "white",
           "lakecolor": "white",
           "landcolor": "#E5ECF6",
           "showlakes": true,
           "showland": true,
           "subunitcolor": "white"
          },
          "hoverlabel": {
           "align": "left"
          },
          "hovermode": "closest",
          "mapbox": {
           "style": "light"
          },
          "paper_bgcolor": "white",
          "plot_bgcolor": "#E5ECF6",
          "polar": {
           "angularaxis": {
            "gridcolor": "white",
            "linecolor": "white",
            "ticks": ""
           },
           "bgcolor": "#E5ECF6",
           "radialaxis": {
            "gridcolor": "white",
            "linecolor": "white",
            "ticks": ""
           }
          },
          "scene": {
           "xaxis": {
            "backgroundcolor": "#E5ECF6",
            "gridcolor": "white",
            "gridwidth": 2,
            "linecolor": "white",
            "showbackground": true,
            "ticks": "",
            "zerolinecolor": "white"
           },
           "yaxis": {
            "backgroundcolor": "#E5ECF6",
            "gridcolor": "white",
            "gridwidth": 2,
            "linecolor": "white",
            "showbackground": true,
            "ticks": "",
            "zerolinecolor": "white"
           },
           "zaxis": {
            "backgroundcolor": "#E5ECF6",
            "gridcolor": "white",
            "gridwidth": 2,
            "linecolor": "white",
            "showbackground": true,
            "ticks": "",
            "zerolinecolor": "white"
           }
          },
          "shapedefaults": {
           "line": {
            "color": "#2a3f5f"
           }
          },
          "ternary": {
           "aaxis": {
            "gridcolor": "white",
            "linecolor": "white",
            "ticks": ""
           },
           "baxis": {
            "gridcolor": "white",
            "linecolor": "white",
            "ticks": ""
           },
           "bgcolor": "#E5ECF6",
           "caxis": {
            "gridcolor": "white",
            "linecolor": "white",
            "ticks": ""
           }
          },
          "title": {
           "x": 0.05
          },
          "xaxis": {
           "automargin": true,
           "gridcolor": "white",
           "linecolor": "white",
           "ticks": "",
           "title": {
            "standoff": 15
           },
           "zerolinecolor": "white",
           "zerolinewidth": 2
          },
          "yaxis": {
           "automargin": true,
           "gridcolor": "white",
           "linecolor": "white",
           "ticks": "",
           "title": {
            "standoff": 15
           },
           "zerolinecolor": "white",
           "zerolinewidth": 2
          }
         }
        },
        "title": {
         "font": {
          "color": "#4D5663"
         }
        },
        "xaxis": {
         "anchor": "y",
         "domain": [
          0,
          0.2125
         ],
         "gridcolor": "#E1E5ED",
         "showgrid": false,
         "tickfont": {
          "color": "#4D5663"
         },
         "title": {
          "font": {
           "color": "#4D5663"
          },
          "text": ""
         },
         "zerolinecolor": "#E1E5ED"
        },
        "xaxis10": {
         "anchor": "y10",
         "domain": [
          0.2625,
          0.475
         ],
         "gridcolor": "#E1E5ED",
         "showgrid": false,
         "tickfont": {
          "color": "#4D5663"
         },
         "title": {
          "font": {
           "color": "#4D5663"
          },
          "text": ""
         },
         "zerolinecolor": "#E1E5ED"
        },
        "xaxis11": {
         "anchor": "y11",
         "domain": [
          0.525,
          0.7375
         ],
         "gridcolor": "#E1E5ED",
         "showgrid": false,
         "tickfont": {
          "color": "#4D5663"
         },
         "title": {
          "font": {
           "color": "#4D5663"
          },
          "text": ""
         },
         "zerolinecolor": "#E1E5ED"
        },
        "xaxis12": {
         "anchor": "y12",
         "domain": [
          0.7875,
          1
         ],
         "gridcolor": "#E1E5ED",
         "showgrid": false,
         "tickfont": {
          "color": "#4D5663"
         },
         "title": {
          "font": {
           "color": "#4D5663"
          },
          "text": ""
         },
         "zerolinecolor": "#E1E5ED"
        },
        "xaxis13": {
         "anchor": "y13",
         "domain": [
          0,
          0.2125
         ],
         "gridcolor": "#E1E5ED",
         "showgrid": false,
         "tickfont": {
          "color": "#4D5663"
         },
         "title": {
          "font": {
           "color": "#4D5663"
          },
          "text": ""
         },
         "zerolinecolor": "#E1E5ED"
        },
        "xaxis14": {
         "anchor": "y14",
         "domain": [
          0.2625,
          0.475
         ],
         "gridcolor": "#E1E5ED",
         "showgrid": false,
         "tickfont": {
          "color": "#4D5663"
         },
         "title": {
          "font": {
           "color": "#4D5663"
          },
          "text": ""
         },
         "zerolinecolor": "#E1E5ED"
        },
        "xaxis15": {
         "anchor": "y15",
         "domain": [
          0.525,
          0.7375
         ],
         "gridcolor": "#E1E5ED",
         "showgrid": false,
         "tickfont": {
          "color": "#4D5663"
         },
         "title": {
          "font": {
           "color": "#4D5663"
          },
          "text": ""
         },
         "zerolinecolor": "#E1E5ED"
        },
        "xaxis16": {
         "anchor": "y16",
         "domain": [
          0.7875,
          1
         ],
         "gridcolor": "#E1E5ED",
         "showgrid": false,
         "tickfont": {
          "color": "#4D5663"
         },
         "title": {
          "font": {
           "color": "#4D5663"
          },
          "text": ""
         },
         "zerolinecolor": "#E1E5ED"
        },
        "xaxis2": {
         "anchor": "y2",
         "domain": [
          0.2625,
          0.475
         ],
         "gridcolor": "#E1E5ED",
         "showgrid": false,
         "tickfont": {
          "color": "#4D5663"
         },
         "title": {
          "font": {
           "color": "#4D5663"
          },
          "text": ""
         },
         "zerolinecolor": "#E1E5ED"
        },
        "xaxis3": {
         "anchor": "y3",
         "domain": [
          0.525,
          0.7375
         ],
         "gridcolor": "#E1E5ED",
         "showgrid": false,
         "tickfont": {
          "color": "#4D5663"
         },
         "title": {
          "font": {
           "color": "#4D5663"
          },
          "text": ""
         },
         "zerolinecolor": "#E1E5ED"
        },
        "xaxis4": {
         "anchor": "y4",
         "domain": [
          0.7875,
          1
         ],
         "gridcolor": "#E1E5ED",
         "showgrid": false,
         "tickfont": {
          "color": "#4D5663"
         },
         "title": {
          "font": {
           "color": "#4D5663"
          },
          "text": ""
         },
         "zerolinecolor": "#E1E5ED"
        },
        "xaxis5": {
         "anchor": "y5",
         "domain": [
          0,
          0.2125
         ],
         "gridcolor": "#E1E5ED",
         "showgrid": false,
         "tickfont": {
          "color": "#4D5663"
         },
         "title": {
          "font": {
           "color": "#4D5663"
          },
          "text": ""
         },
         "zerolinecolor": "#E1E5ED"
        },
        "xaxis6": {
         "anchor": "y6",
         "domain": [
          0.2625,
          0.475
         ],
         "gridcolor": "#E1E5ED",
         "showgrid": false,
         "tickfont": {
          "color": "#4D5663"
         },
         "title": {
          "font": {
           "color": "#4D5663"
          },
          "text": ""
         },
         "zerolinecolor": "#E1E5ED"
        },
        "xaxis7": {
         "anchor": "y7",
         "domain": [
          0.525,
          0.7375
         ],
         "gridcolor": "#E1E5ED",
         "showgrid": false,
         "tickfont": {
          "color": "#4D5663"
         },
         "title": {
          "font": {
           "color": "#4D5663"
          },
          "text": ""
         },
         "zerolinecolor": "#E1E5ED"
        },
        "xaxis8": {
         "anchor": "y8",
         "domain": [
          0.7875,
          1
         ],
         "gridcolor": "#E1E5ED",
         "showgrid": false,
         "tickfont": {
          "color": "#4D5663"
         },
         "title": {
          "font": {
           "color": "#4D5663"
          },
          "text": ""
         },
         "zerolinecolor": "#E1E5ED"
        },
        "xaxis9": {
         "anchor": "y9",
         "domain": [
          0,
          0.2125
         ],
         "gridcolor": "#E1E5ED",
         "showgrid": false,
         "tickfont": {
          "color": "#4D5663"
         },
         "title": {
          "font": {
           "color": "#4D5663"
          },
          "text": ""
         },
         "zerolinecolor": "#E1E5ED"
        },
        "yaxis": {
         "anchor": "x",
         "domain": [
          0.8025,
          1
         ],
         "gridcolor": "#E1E5ED",
         "showgrid": false,
         "tickfont": {
          "color": "#4D5663"
         },
         "title": {
          "font": {
           "color": "#4D5663"
          },
          "text": ""
         },
         "zerolinecolor": "#E1E5ED"
        },
        "yaxis10": {
         "anchor": "x10",
         "domain": [
          0.2675,
          0.465
         ],
         "gridcolor": "#E1E5ED",
         "showgrid": false,
         "tickfont": {
          "color": "#4D5663"
         },
         "title": {
          "font": {
           "color": "#4D5663"
          },
          "text": ""
         },
         "zerolinecolor": "#E1E5ED"
        },
        "yaxis11": {
         "anchor": "x11",
         "domain": [
          0.2675,
          0.465
         ],
         "gridcolor": "#E1E5ED",
         "showgrid": false,
         "tickfont": {
          "color": "#4D5663"
         },
         "title": {
          "font": {
           "color": "#4D5663"
          },
          "text": ""
         },
         "zerolinecolor": "#E1E5ED"
        },
        "yaxis12": {
         "anchor": "x12",
         "domain": [
          0.2675,
          0.465
         ],
         "gridcolor": "#E1E5ED",
         "showgrid": false,
         "tickfont": {
          "color": "#4D5663"
         },
         "title": {
          "font": {
           "color": "#4D5663"
          },
          "text": ""
         },
         "zerolinecolor": "#E1E5ED"
        },
        "yaxis13": {
         "anchor": "x13",
         "domain": [
          0,
          0.1975
         ],
         "gridcolor": "#E1E5ED",
         "showgrid": false,
         "tickfont": {
          "color": "#4D5663"
         },
         "title": {
          "font": {
           "color": "#4D5663"
          },
          "text": ""
         },
         "zerolinecolor": "#E1E5ED"
        },
        "yaxis14": {
         "anchor": "x14",
         "domain": [
          0,
          0.1975
         ],
         "gridcolor": "#E1E5ED",
         "showgrid": false,
         "tickfont": {
          "color": "#4D5663"
         },
         "title": {
          "font": {
           "color": "#4D5663"
          },
          "text": ""
         },
         "zerolinecolor": "#E1E5ED"
        },
        "yaxis15": {
         "anchor": "x15",
         "domain": [
          0,
          0.1975
         ],
         "gridcolor": "#E1E5ED",
         "showgrid": false,
         "tickfont": {
          "color": "#4D5663"
         },
         "title": {
          "font": {
           "color": "#4D5663"
          },
          "text": ""
         },
         "zerolinecolor": "#E1E5ED"
        },
        "yaxis16": {
         "anchor": "x16",
         "domain": [
          0,
          0.1975
         ],
         "gridcolor": "#E1E5ED",
         "showgrid": false,
         "tickfont": {
          "color": "#4D5663"
         },
         "title": {
          "font": {
           "color": "#4D5663"
          },
          "text": ""
         },
         "zerolinecolor": "#E1E5ED"
        },
        "yaxis2": {
         "anchor": "x2",
         "domain": [
          0.8025,
          1
         ],
         "gridcolor": "#E1E5ED",
         "showgrid": false,
         "tickfont": {
          "color": "#4D5663"
         },
         "title": {
          "font": {
           "color": "#4D5663"
          },
          "text": ""
         },
         "zerolinecolor": "#E1E5ED"
        },
        "yaxis3": {
         "anchor": "x3",
         "domain": [
          0.8025,
          1
         ],
         "gridcolor": "#E1E5ED",
         "showgrid": false,
         "tickfont": {
          "color": "#4D5663"
         },
         "title": {
          "font": {
           "color": "#4D5663"
          },
          "text": ""
         },
         "zerolinecolor": "#E1E5ED"
        },
        "yaxis4": {
         "anchor": "x4",
         "domain": [
          0.8025,
          1
         ],
         "gridcolor": "#E1E5ED",
         "showgrid": false,
         "tickfont": {
          "color": "#4D5663"
         },
         "title": {
          "font": {
           "color": "#4D5663"
          },
          "text": ""
         },
         "zerolinecolor": "#E1E5ED"
        },
        "yaxis5": {
         "anchor": "x5",
         "domain": [
          0.535,
          0.7325
         ],
         "gridcolor": "#E1E5ED",
         "showgrid": false,
         "tickfont": {
          "color": "#4D5663"
         },
         "title": {
          "font": {
           "color": "#4D5663"
          },
          "text": ""
         },
         "zerolinecolor": "#E1E5ED"
        },
        "yaxis6": {
         "anchor": "x6",
         "domain": [
          0.535,
          0.7325
         ],
         "gridcolor": "#E1E5ED",
         "showgrid": false,
         "tickfont": {
          "color": "#4D5663"
         },
         "title": {
          "font": {
           "color": "#4D5663"
          },
          "text": ""
         },
         "zerolinecolor": "#E1E5ED"
        },
        "yaxis7": {
         "anchor": "x7",
         "domain": [
          0.535,
          0.7325
         ],
         "gridcolor": "#E1E5ED",
         "showgrid": false,
         "tickfont": {
          "color": "#4D5663"
         },
         "title": {
          "font": {
           "color": "#4D5663"
          },
          "text": ""
         },
         "zerolinecolor": "#E1E5ED"
        },
        "yaxis8": {
         "anchor": "x8",
         "domain": [
          0.535,
          0.7325
         ],
         "gridcolor": "#E1E5ED",
         "showgrid": false,
         "tickfont": {
          "color": "#4D5663"
         },
         "title": {
          "font": {
           "color": "#4D5663"
          },
          "text": ""
         },
         "zerolinecolor": "#E1E5ED"
        },
        "yaxis9": {
         "anchor": "x9",
         "domain": [
          0.2675,
          0.465
         ],
         "gridcolor": "#E1E5ED",
         "showgrid": false,
         "tickfont": {
          "color": "#4D5663"
         },
         "title": {
          "font": {
           "color": "#4D5663"
          },
          "text": ""
         },
         "zerolinecolor": "#E1E5ED"
        }
       }
      },
      "text/html": [
       "<div>\n",
       "        \n",
       "        \n",
       "            <div id=\"c5250010-cf06-48af-b7a2-39e9e6f8ab3f\" class=\"plotly-graph-div\" style=\"height:525px; width:100%;\"></div>\n",
       "            <script type=\"text/javascript\">\n",
       "                require([\"plotly\"], function(Plotly) {\n",
       "                    window.PLOTLYENV=window.PLOTLYENV || {};\n",
       "                    window.PLOTLYENV.BASE_URL='https://plot.ly';\n",
       "                    \n",
       "                if (document.getElementById(\"c5250010-cf06-48af-b7a2-39e9e6f8ab3f\")) {\n",
       "                    Plotly.newPlot(\n",
       "                        'c5250010-cf06-48af-b7a2-39e9e6f8ab3f',\n",
       "                        [{\"histfunc\": \"count\", \"histnorm\": \"\", \"marker\": {\"color\": \"rgba(255, 153, 51, 1.0)\", \"line\": {\"color\": \"#4D5663\", \"width\": 1.3}}, \"name\": \"A\", \"nbinsx\": 10, \"opacity\": 0.8, \"orientation\": \"v\", \"type\": \"histogram\", \"x\": [0.3696420558197603, 0.5253992122905893, -1.037046991780036, 0.24758500485110949, -1.8474714207170502, 1.3011206429284472, -0.9335639569440436, 0.7693596664680276, -0.7354420564182146, -0.3897801777723191, -0.5361110290279926, -0.11335978345336128, 0.5034703014821329, 0.6862383833141485, -0.998068344328191, -1.0158631125325421, 0.004348380037364213, 0.41957675079592427, 2.301491454423374, 1.4561157709628787, -0.39543442769501835, -2.9977343866583146, 0.4606828596039337, 0.4125115418393969, -1.6772472028110024, 0.4847284875647718, 0.13514321173399585, -0.8501933743837765, 0.7661903176591959, 0.2556084067919436, 1.2092208938314986, -0.9641519723820355, -0.4929362943760437, 0.28872133688964635, -0.9942239232924204, -0.17732241365179743, -1.167011992737201, -0.02479701877713464, -1.3437385112074935, -0.13425512337211468, -1.1387426056206769, -0.152654355616287, -0.20396279915057616, -1.09589281461307, -1.8186866319970554, -1.419713115103019, 1.1238921197556309, -0.25238924820713565, 0.8003631231624078, 1.510325015083661, 0.15693663155427395, -1.7131257418818993, -0.73964880933293, -0.9491578573939075, -0.030022804907188512, 1.1710417549444856, 0.12729687189798403, -0.005807129205971171, -0.028565868349607577, -0.4819911680944219, -1.518892135299185, -0.576390236024212, 0.36059632276433357, -0.12057217071166919, 0.15762625193431426, 0.06810068428376627, 0.6367262505638114, -2.1102698964980773, -0.7082699504905734, -0.2941154121319468, 0.126635294372914, -0.40570278219914246, 0.35808490553594086, -1.0342876768719167, -1.1947571676836943, 0.5541810575018407, 1.5133993382594308, -0.9003410000358811, -0.8560779010303979, 2.030211579966576, 0.582959641868816, 0.8494972234950936, 1.1581283542388061, 0.6879489752136857, -0.8493140319400361, -0.6133085997176515, -0.2850937172340025, -0.9857890053489234, -0.09162341605494383, -1.0244112466360455, 1.393245285512462, 0.03430148884087417, 0.37283225888140187, 0.1487104846347837, -1.256860203558932, 0.3464741711743709, -0.31822087540002797, 1.384161939100568, 0.060376550504078835, -1.5736730924838451], \"xaxis\": \"x\", \"yaxis\": \"y\"}, {\"line\": {\"color\": \"rgba(128, 128, 128, 1.0)\", \"dash\": \"solid\", \"shape\": \"linear\", \"width\": 1.3}, \"marker\": {\"size\": 2, \"symbol\": \"circle\"}, \"mode\": \"markers\", \"name\": \"A\", \"text\": \"\", \"type\": \"scatter\", \"x\": [1.8544854469766379, 0.7836177074308012, -0.7023952067731887, -1.6590009035343811, 0.5368017098635539, -0.3523782119696855, 0.16226175563893364, 0.7264061191098, -1.2499210848417084, 0.1929954220383031, -0.21386919859532105, -0.29271630353287986, -0.6611903651266722, 0.744638175086269, 0.2040438468422435, 0.8584320617049238, 0.850452155003359, -1.3659953542696026, -0.05578684509734393, 0.6323620787780885, 0.2837188925661103, -0.30468203874642236, -2.8251949591332033, 0.34430547180085386, -0.9974663044329387, 1.0962755508149857, -1.7792529363166523, 1.1933040966037836, 0.07152250341734986, -0.36871156263976, 0.4574508446904451, -1.75587070274968, -1.59898164109928, -1.6860266836224718, -0.3277867055238577, -1.3629489107165276, 1.0412266116381714, 0.7179155165752484, 1.6930515185472383, 1.289448459481413, 0.30362087590713316, -2.1528501300606946, -1.0134696144934496, -0.15636623271294586, 0.8380139710009594, 0.5579228915062908, 0.5368016312120132, -0.5078470766397161, -0.845020274882293, -0.5032619357012125, 0.09063142724378265, 1.3230502586330954, 0.605470890269384, -1.4491029065733194, 1.5350799697628166, -0.4887321951171857, -1.9780210133324072, -0.09137475763597733, -0.7403203584012117, 0.7224915860473682, 0.7062391710651873, 0.2012465686323864, -1.418854798097011, -1.8166350247694463, -1.1893933087052846, 1.6008006185133081, -1.3828919131099306, -0.3939760308123558, -0.8518355622060666, -0.792128482209907, 1.3826855098314517, 0.19896340055223444, -0.23145050018903338, -0.47964419762986166, -0.44283720384580877, 0.2975083383573253, -1.0702080056630172, 0.3714803864386964, -1.7713799252108353, -0.05361606457323116, 1.2773542153545079, 1.130147907205399, 0.672508729528042, -0.04422356786938887, 0.06591820760695383, 0.8657351394759569, -1.149166652831269, 1.2801278124161366, 0.7053245114339901, -0.6450090266750952, 0.22479835435854695, -1.5687383321523662, -1.6711767415185925, 0.18688677530668604, 0.4801646737727269, 1.27730447068291, 1.5312853572122618, -0.003243945845103304, 0.31545108378705483, 0.8001980688130594], \"xaxis\": \"x2\", \"y\": [0.3696420558197603, 0.5253992122905893, -1.037046991780036, 0.24758500485110949, -1.8474714207170502, 1.3011206429284472, -0.9335639569440436, 0.7693596664680276, -0.7354420564182146, -0.3897801777723191, -0.5361110290279926, -0.11335978345336128, 0.5034703014821329, 0.6862383833141485, -0.998068344328191, -1.0158631125325421, 0.004348380037364213, 0.41957675079592427, 2.301491454423374, 1.4561157709628787, -0.39543442769501835, -2.9977343866583146, 0.4606828596039337, 0.4125115418393969, -1.6772472028110024, 0.4847284875647718, 0.13514321173399585, -0.8501933743837765, 0.7661903176591959, 0.2556084067919436, 1.2092208938314986, -0.9641519723820355, -0.4929362943760437, 0.28872133688964635, -0.9942239232924204, -0.17732241365179743, -1.167011992737201, -0.02479701877713464, -1.3437385112074935, -0.13425512337211468, -1.1387426056206769, -0.152654355616287, -0.20396279915057616, -1.09589281461307, -1.8186866319970554, -1.419713115103019, 1.1238921197556309, -0.25238924820713565, 0.8003631231624078, 1.510325015083661, 0.15693663155427395, -1.7131257418818993, -0.73964880933293, -0.9491578573939075, -0.030022804907188512, 1.1710417549444856, 0.12729687189798403, -0.005807129205971171, -0.028565868349607577, -0.4819911680944219, -1.518892135299185, -0.576390236024212, 0.36059632276433357, -0.12057217071166919, 0.15762625193431426, 0.06810068428376627, 0.6367262505638114, -2.1102698964980773, -0.7082699504905734, -0.2941154121319468, 0.126635294372914, -0.40570278219914246, 0.35808490553594086, -1.0342876768719167, -1.1947571676836943, 0.5541810575018407, 1.5133993382594308, -0.9003410000358811, -0.8560779010303979, 2.030211579966576, 0.582959641868816, 0.8494972234950936, 1.1581283542388061, 0.6879489752136857, -0.8493140319400361, -0.6133085997176515, -0.2850937172340025, -0.9857890053489234, -0.09162341605494383, -1.0244112466360455, 1.393245285512462, 0.03430148884087417, 0.37283225888140187, 0.1487104846347837, -1.256860203558932, 0.3464741711743709, -0.31822087540002797, 1.384161939100568, 0.060376550504078835, -1.5736730924838451], \"yaxis\": \"y2\"}, {\"line\": {\"color\": \"rgba(128, 128, 128, 1.0)\", \"dash\": \"solid\", \"shape\": \"linear\", \"width\": 1.3}, \"marker\": {\"size\": 2, \"symbol\": \"circle\"}, \"mode\": \"markers\", \"name\": \"A\", \"text\": \"\", \"type\": \"scatter\", \"x\": [0.2252777989016697, 0.8623018188802899, -1.416244250131065, 0.32934869741646344, 0.1267464715656397, 0.06936779668551181, -0.8963800303599142, 0.15802245926053307, 1.134220418943405, 1.4859243642201287, 0.31410460046414307, -1.6317416932347404, -1.3468425919919842, -1.5377259965021013, 0.44803968693652124, -0.6087749895529724, -0.08444755271745026, -0.41543239452665953, -0.31077567466336165, 1.04630994845296, -1.3069377157747348, 0.766032531840848, 0.5780460097088275, -0.21423604833369836, 0.0036132856858055065, -0.8155164372988873, 0.05986444467837653, -1.9721889963414336, -2.078555799505978, 1.264205459685189, -0.09286916292385433, 0.37241483042135864, -0.4520027989707978, -0.06359946668577694, 0.40414748288786745, -1.42310455279087, 0.3761060108893962, 0.6216497343796945, 0.18867118091163326, 0.23902421149124484, -1.0410009754896765, 0.9718313088708687, 0.034362973196359586, 1.9488270240884749, -0.13331917111915575, 1.4608434457954884, -0.08665151619432472, 0.02926781149662285, -1.8004195748741825, 1.6289742337704256, 1.3582535172023908, -0.8454881168555592, 0.6093724484063817, 1.9344597807372632, 0.35797359496683784, -0.41599786611177764, -0.9050470296676526, 1.4043251327454243, 0.20857840336780592, 2.0939476995372703, 1.0497898426386931, 1.4265064707668738, -1.143234964880385, 2.309302086953698, 2.0259289469994974, 1.3659821749542929, -0.9407940552553328, -2.6219766910310476, -1.1426882136155434, -3.094999628250353, 1.0056417745869357, 0.39868504276673516, -0.046072701239227326, 0.7586484947069092, 0.5899860404075996, -0.3124991992480441, -0.5316162521241473, -0.31137328734129294, 0.9020306003109113, 0.8632424005893286, 1.0047379483834622, 0.8134640423609348, -0.4708781972522541, -1.6428143904942887, 0.30678393518761216, 0.2219842518238527, -0.012729532903647525, -2.6622374787543466, 0.7426211522876416, -1.3176793616791336, 0.03755321857630146, -0.10962231677693532, 1.5790362314396678, 1.4562306481619405, -1.0726071087385978, -2.4404905382187, 0.4434881014433977, -1.8094225526189711, -1.391051306056638, 1.2849228240434347], \"xaxis\": \"x3\", \"y\": [0.3696420558197603, 0.5253992122905893, -1.037046991780036, 0.24758500485110949, -1.8474714207170502, 1.3011206429284472, -0.9335639569440436, 0.7693596664680276, -0.7354420564182146, -0.3897801777723191, -0.5361110290279926, -0.11335978345336128, 0.5034703014821329, 0.6862383833141485, -0.998068344328191, -1.0158631125325421, 0.004348380037364213, 0.41957675079592427, 2.301491454423374, 1.4561157709628787, -0.39543442769501835, -2.9977343866583146, 0.4606828596039337, 0.4125115418393969, -1.6772472028110024, 0.4847284875647718, 0.13514321173399585, -0.8501933743837765, 0.7661903176591959, 0.2556084067919436, 1.2092208938314986, -0.9641519723820355, -0.4929362943760437, 0.28872133688964635, -0.9942239232924204, -0.17732241365179743, -1.167011992737201, -0.02479701877713464, -1.3437385112074935, -0.13425512337211468, -1.1387426056206769, -0.152654355616287, -0.20396279915057616, -1.09589281461307, -1.8186866319970554, -1.419713115103019, 1.1238921197556309, -0.25238924820713565, 0.8003631231624078, 1.510325015083661, 0.15693663155427395, -1.7131257418818993, -0.73964880933293, -0.9491578573939075, -0.030022804907188512, 1.1710417549444856, 0.12729687189798403, -0.005807129205971171, -0.028565868349607577, -0.4819911680944219, -1.518892135299185, -0.576390236024212, 0.36059632276433357, -0.12057217071166919, 0.15762625193431426, 0.06810068428376627, 0.6367262505638114, -2.1102698964980773, -0.7082699504905734, -0.2941154121319468, 0.126635294372914, -0.40570278219914246, 0.35808490553594086, -1.0342876768719167, -1.1947571676836943, 0.5541810575018407, 1.5133993382594308, -0.9003410000358811, -0.8560779010303979, 2.030211579966576, 0.582959641868816, 0.8494972234950936, 1.1581283542388061, 0.6879489752136857, -0.8493140319400361, -0.6133085997176515, -0.2850937172340025, -0.9857890053489234, -0.09162341605494383, -1.0244112466360455, 1.393245285512462, 0.03430148884087417, 0.37283225888140187, 0.1487104846347837, -1.256860203558932, 0.3464741711743709, -0.31822087540002797, 1.384161939100568, 0.060376550504078835, -1.5736730924838451], \"yaxis\": \"y3\"}, {\"line\": {\"color\": \"rgba(128, 128, 128, 1.0)\", \"dash\": \"solid\", \"shape\": \"linear\", \"width\": 1.3}, \"marker\": {\"size\": 2, \"symbol\": \"circle\"}, \"mode\": \"markers\", \"name\": \"A\", \"text\": \"\", \"type\": \"scatter\", \"x\": [-1.5034959600232376, -0.5002545536406926, 0.28038963892268925, 0.6436157976651309, -0.32678525058336144, 2.2480455302993954, -0.10212614541672001, -0.3753141106509515, -0.09137779587221577, 2.806316180226526, -1.0696001667407682, -0.8198791828551726, -0.48954253559546135, -0.4855260402785763, 0.41740420839716347, 0.04750503769818647, -0.7647964360611823, -1.411902116190576, 1.76243350565496, -1.5380351291216554, 0.4753809754519136, -0.8594523204412604, -1.8534272922723198, -0.02493962626163329, 0.9286975747515848, -1.7976611239698812, 1.5949445899324757, 0.24349753016633013, 0.4076981943292706, 0.16867933305942437, -0.09072844291781407, 0.9478168842520501, 0.17999577841047074, -0.7508565155229779, -1.481340630988663, -2.464520025940437, 0.6434431949145675, -1.3761376024818746, 0.3468809070623607, -1.5764148071761146, -0.8436372667516829, -1.0300202683908892, 0.626443122495951, 1.3228318464001843, 2.8332868930935673, 0.05274994978958885, 0.18967361347084327, 0.9578411548794024, -0.7079610590083915, -0.9682769868480765, 1.0864687928058199, -0.23982121319770938, 0.43604123853449805, -2.076366837148839, 0.001923451586291724, 1.754416018047518, 0.16836066340273206, 2.158078850342077, -0.05922530625313715, 0.39488763101367946, -0.9021924044536117, 0.22894884857403328, -0.40663035035742795, -1.3770822654520178, -0.12048346955566772, 1.0761634563359206, -1.0707400073825306, 0.7429681963356116, -0.24613470003158003, 1.1582696382477444, -0.5012082480432763, 1.8268859083182867, 0.9603431670287832, -0.8197939109913333, 0.12123473658574371, 1.4465456172542097, 0.9657067653768596, 1.0466074677604935, -0.10324403695845281, -1.2168298340103647, 1.185780411258566, -0.27251029278709726, -0.40756724742538614, 0.005248339557275319, 0.5578637899562472, 0.6038168533560826, 0.7002552066325827, -1.3098700315350242, 1.3267048265141386, -0.5927916193949495, 0.05118912541609895, -1.2211986610627326, 0.23207065415443653, 0.7511052993502152, 1.003248932950057, 0.24431493409781493, -0.1342578021851783, 0.09554071996329187, -0.7154397211038919, -0.7617484585937415], \"xaxis\": \"x4\", \"y\": [0.3696420558197603, 0.5253992122905893, -1.037046991780036, 0.24758500485110949, -1.8474714207170502, 1.3011206429284472, -0.9335639569440436, 0.7693596664680276, -0.7354420564182146, -0.3897801777723191, -0.5361110290279926, -0.11335978345336128, 0.5034703014821329, 0.6862383833141485, -0.998068344328191, -1.0158631125325421, 0.004348380037364213, 0.41957675079592427, 2.301491454423374, 1.4561157709628787, -0.39543442769501835, -2.9977343866583146, 0.4606828596039337, 0.4125115418393969, -1.6772472028110024, 0.4847284875647718, 0.13514321173399585, -0.8501933743837765, 0.7661903176591959, 0.2556084067919436, 1.2092208938314986, -0.9641519723820355, -0.4929362943760437, 0.28872133688964635, -0.9942239232924204, -0.17732241365179743, -1.167011992737201, -0.02479701877713464, -1.3437385112074935, -0.13425512337211468, -1.1387426056206769, -0.152654355616287, -0.20396279915057616, -1.09589281461307, -1.8186866319970554, -1.419713115103019, 1.1238921197556309, -0.25238924820713565, 0.8003631231624078, 1.510325015083661, 0.15693663155427395, -1.7131257418818993, -0.73964880933293, -0.9491578573939075, -0.030022804907188512, 1.1710417549444856, 0.12729687189798403, -0.005807129205971171, -0.028565868349607577, -0.4819911680944219, -1.518892135299185, -0.576390236024212, 0.36059632276433357, -0.12057217071166919, 0.15762625193431426, 0.06810068428376627, 0.6367262505638114, -2.1102698964980773, -0.7082699504905734, -0.2941154121319468, 0.126635294372914, -0.40570278219914246, 0.35808490553594086, -1.0342876768719167, -1.1947571676836943, 0.5541810575018407, 1.5133993382594308, -0.9003410000358811, -0.8560779010303979, 2.030211579966576, 0.582959641868816, 0.8494972234950936, 1.1581283542388061, 0.6879489752136857, -0.8493140319400361, -0.6133085997176515, -0.2850937172340025, -0.9857890053489234, -0.09162341605494383, -1.0244112466360455, 1.393245285512462, 0.03430148884087417, 0.37283225888140187, 0.1487104846347837, -1.256860203558932, 0.3464741711743709, -0.31822087540002797, 1.384161939100568, 0.060376550504078835, -1.5736730924838451], \"yaxis\": \"y4\"}, {\"line\": {\"color\": \"rgba(128, 128, 128, 1.0)\", \"dash\": \"solid\", \"shape\": \"linear\", \"width\": 1.3}, \"marker\": {\"size\": 2, \"symbol\": \"circle\"}, \"mode\": \"markers\", \"name\": \"B\", \"text\": \"\", \"type\": \"scatter\", \"x\": [0.3696420558197603, 0.5253992122905893, -1.037046991780036, 0.24758500485110949, -1.8474714207170502, 1.3011206429284472, -0.9335639569440436, 0.7693596664680276, -0.7354420564182146, -0.3897801777723191, -0.5361110290279926, -0.11335978345336128, 0.5034703014821329, 0.6862383833141485, -0.998068344328191, -1.0158631125325421, 0.004348380037364213, 0.41957675079592427, 2.301491454423374, 1.4561157709628787, -0.39543442769501835, -2.9977343866583146, 0.4606828596039337, 0.4125115418393969, -1.6772472028110024, 0.4847284875647718, 0.13514321173399585, -0.8501933743837765, 0.7661903176591959, 0.2556084067919436, 1.2092208938314986, -0.9641519723820355, -0.4929362943760437, 0.28872133688964635, -0.9942239232924204, -0.17732241365179743, -1.167011992737201, -0.02479701877713464, -1.3437385112074935, -0.13425512337211468, -1.1387426056206769, -0.152654355616287, -0.20396279915057616, -1.09589281461307, -1.8186866319970554, -1.419713115103019, 1.1238921197556309, -0.25238924820713565, 0.8003631231624078, 1.510325015083661, 0.15693663155427395, -1.7131257418818993, -0.73964880933293, -0.9491578573939075, -0.030022804907188512, 1.1710417549444856, 0.12729687189798403, -0.005807129205971171, -0.028565868349607577, -0.4819911680944219, -1.518892135299185, -0.576390236024212, 0.36059632276433357, -0.12057217071166919, 0.15762625193431426, 0.06810068428376627, 0.6367262505638114, -2.1102698964980773, -0.7082699504905734, -0.2941154121319468, 0.126635294372914, -0.40570278219914246, 0.35808490553594086, -1.0342876768719167, -1.1947571676836943, 0.5541810575018407, 1.5133993382594308, -0.9003410000358811, -0.8560779010303979, 2.030211579966576, 0.582959641868816, 0.8494972234950936, 1.1581283542388061, 0.6879489752136857, -0.8493140319400361, -0.6133085997176515, -0.2850937172340025, -0.9857890053489234, -0.09162341605494383, -1.0244112466360455, 1.393245285512462, 0.03430148884087417, 0.37283225888140187, 0.1487104846347837, -1.256860203558932, 0.3464741711743709, -0.31822087540002797, 1.384161939100568, 0.060376550504078835, -1.5736730924838451], \"xaxis\": \"x5\", \"y\": [1.8544854469766379, 0.7836177074308012, -0.7023952067731887, -1.6590009035343811, 0.5368017098635539, -0.3523782119696855, 0.16226175563893364, 0.7264061191098, -1.2499210848417084, 0.1929954220383031, -0.21386919859532105, -0.29271630353287986, -0.6611903651266722, 0.744638175086269, 0.2040438468422435, 0.8584320617049238, 0.850452155003359, -1.3659953542696026, -0.05578684509734393, 0.6323620787780885, 0.2837188925661103, -0.30468203874642236, -2.8251949591332033, 0.34430547180085386, -0.9974663044329387, 1.0962755508149857, -1.7792529363166523, 1.1933040966037836, 0.07152250341734986, -0.36871156263976, 0.4574508446904451, -1.75587070274968, -1.59898164109928, -1.6860266836224718, -0.3277867055238577, -1.3629489107165276, 1.0412266116381714, 0.7179155165752484, 1.6930515185472383, 1.289448459481413, 0.30362087590713316, -2.1528501300606946, -1.0134696144934496, -0.15636623271294586, 0.8380139710009594, 0.5579228915062908, 0.5368016312120132, -0.5078470766397161, -0.845020274882293, -0.5032619357012125, 0.09063142724378265, 1.3230502586330954, 0.605470890269384, -1.4491029065733194, 1.5350799697628166, -0.4887321951171857, -1.9780210133324072, -0.09137475763597733, -0.7403203584012117, 0.7224915860473682, 0.7062391710651873, 0.2012465686323864, -1.418854798097011, -1.8166350247694463, -1.1893933087052846, 1.6008006185133081, -1.3828919131099306, -0.3939760308123558, -0.8518355622060666, -0.792128482209907, 1.3826855098314517, 0.19896340055223444, -0.23145050018903338, -0.47964419762986166, -0.44283720384580877, 0.2975083383573253, -1.0702080056630172, 0.3714803864386964, -1.7713799252108353, -0.05361606457323116, 1.2773542153545079, 1.130147907205399, 0.672508729528042, -0.04422356786938887, 0.06591820760695383, 0.8657351394759569, -1.149166652831269, 1.2801278124161366, 0.7053245114339901, -0.6450090266750952, 0.22479835435854695, -1.5687383321523662, -1.6711767415185925, 0.18688677530668604, 0.4801646737727269, 1.27730447068291, 1.5312853572122618, -0.003243945845103304, 0.31545108378705483, 0.8001980688130594], \"yaxis\": \"y5\"}, {\"histfunc\": \"count\", \"histnorm\": \"\", \"marker\": {\"color\": \"rgba(55, 128, 191, 1.0)\", \"line\": {\"color\": \"#4D5663\", \"width\": 1.3}}, \"name\": \"B\", \"nbinsx\": 10, \"opacity\": 0.8, \"orientation\": \"v\", \"type\": \"histogram\", \"x\": [1.8544854469766379, 0.7836177074308012, -0.7023952067731887, -1.6590009035343811, 0.5368017098635539, -0.3523782119696855, 0.16226175563893364, 0.7264061191098, -1.2499210848417084, 0.1929954220383031, -0.21386919859532105, -0.29271630353287986, -0.6611903651266722, 0.744638175086269, 0.2040438468422435, 0.8584320617049238, 0.850452155003359, -1.3659953542696026, -0.05578684509734393, 0.6323620787780885, 0.2837188925661103, -0.30468203874642236, -2.8251949591332033, 0.34430547180085386, -0.9974663044329387, 1.0962755508149857, -1.7792529363166523, 1.1933040966037836, 0.07152250341734986, -0.36871156263976, 0.4574508446904451, -1.75587070274968, -1.59898164109928, -1.6860266836224718, -0.3277867055238577, -1.3629489107165276, 1.0412266116381714, 0.7179155165752484, 1.6930515185472383, 1.289448459481413, 0.30362087590713316, -2.1528501300606946, -1.0134696144934496, -0.15636623271294586, 0.8380139710009594, 0.5579228915062908, 0.5368016312120132, -0.5078470766397161, -0.845020274882293, -0.5032619357012125, 0.09063142724378265, 1.3230502586330954, 0.605470890269384, -1.4491029065733194, 1.5350799697628166, -0.4887321951171857, -1.9780210133324072, -0.09137475763597733, -0.7403203584012117, 0.7224915860473682, 0.7062391710651873, 0.2012465686323864, -1.418854798097011, -1.8166350247694463, -1.1893933087052846, 1.6008006185133081, -1.3828919131099306, -0.3939760308123558, -0.8518355622060666, -0.792128482209907, 1.3826855098314517, 0.19896340055223444, -0.23145050018903338, -0.47964419762986166, -0.44283720384580877, 0.2975083383573253, -1.0702080056630172, 0.3714803864386964, -1.7713799252108353, -0.05361606457323116, 1.2773542153545079, 1.130147907205399, 0.672508729528042, -0.04422356786938887, 0.06591820760695383, 0.8657351394759569, -1.149166652831269, 1.2801278124161366, 0.7053245114339901, -0.6450090266750952, 0.22479835435854695, -1.5687383321523662, -1.6711767415185925, 0.18688677530668604, 0.4801646737727269, 1.27730447068291, 1.5312853572122618, -0.003243945845103304, 0.31545108378705483, 0.8001980688130594], \"xaxis\": \"x6\", \"yaxis\": \"y6\"}, {\"line\": {\"color\": \"rgba(128, 128, 128, 1.0)\", \"dash\": \"solid\", \"shape\": \"linear\", \"width\": 1.3}, \"marker\": {\"size\": 2, \"symbol\": \"circle\"}, \"mode\": \"markers\", \"name\": \"B\", \"text\": \"\", \"type\": \"scatter\", \"x\": [0.2252777989016697, 0.8623018188802899, -1.416244250131065, 0.32934869741646344, 0.1267464715656397, 0.06936779668551181, -0.8963800303599142, 0.15802245926053307, 1.134220418943405, 1.4859243642201287, 0.31410460046414307, -1.6317416932347404, -1.3468425919919842, -1.5377259965021013, 0.44803968693652124, -0.6087749895529724, -0.08444755271745026, -0.41543239452665953, -0.31077567466336165, 1.04630994845296, -1.3069377157747348, 0.766032531840848, 0.5780460097088275, -0.21423604833369836, 0.0036132856858055065, -0.8155164372988873, 0.05986444467837653, -1.9721889963414336, -2.078555799505978, 1.264205459685189, -0.09286916292385433, 0.37241483042135864, -0.4520027989707978, -0.06359946668577694, 0.40414748288786745, -1.42310455279087, 0.3761060108893962, 0.6216497343796945, 0.18867118091163326, 0.23902421149124484, -1.0410009754896765, 0.9718313088708687, 0.034362973196359586, 1.9488270240884749, -0.13331917111915575, 1.4608434457954884, -0.08665151619432472, 0.02926781149662285, -1.8004195748741825, 1.6289742337704256, 1.3582535172023908, -0.8454881168555592, 0.6093724484063817, 1.9344597807372632, 0.35797359496683784, -0.41599786611177764, -0.9050470296676526, 1.4043251327454243, 0.20857840336780592, 2.0939476995372703, 1.0497898426386931, 1.4265064707668738, -1.143234964880385, 2.309302086953698, 2.0259289469994974, 1.3659821749542929, -0.9407940552553328, -2.6219766910310476, -1.1426882136155434, -3.094999628250353, 1.0056417745869357, 0.39868504276673516, -0.046072701239227326, 0.7586484947069092, 0.5899860404075996, -0.3124991992480441, -0.5316162521241473, -0.31137328734129294, 0.9020306003109113, 0.8632424005893286, 1.0047379483834622, 0.8134640423609348, -0.4708781972522541, -1.6428143904942887, 0.30678393518761216, 0.2219842518238527, -0.012729532903647525, -2.6622374787543466, 0.7426211522876416, -1.3176793616791336, 0.03755321857630146, -0.10962231677693532, 1.5790362314396678, 1.4562306481619405, -1.0726071087385978, -2.4404905382187, 0.4434881014433977, -1.8094225526189711, -1.391051306056638, 1.2849228240434347], \"xaxis\": \"x7\", \"y\": [1.8544854469766379, 0.7836177074308012, -0.7023952067731887, -1.6590009035343811, 0.5368017098635539, -0.3523782119696855, 0.16226175563893364, 0.7264061191098, -1.2499210848417084, 0.1929954220383031, -0.21386919859532105, -0.29271630353287986, -0.6611903651266722, 0.744638175086269, 0.2040438468422435, 0.8584320617049238, 0.850452155003359, -1.3659953542696026, -0.05578684509734393, 0.6323620787780885, 0.2837188925661103, -0.30468203874642236, -2.8251949591332033, 0.34430547180085386, -0.9974663044329387, 1.0962755508149857, -1.7792529363166523, 1.1933040966037836, 0.07152250341734986, -0.36871156263976, 0.4574508446904451, -1.75587070274968, -1.59898164109928, -1.6860266836224718, -0.3277867055238577, -1.3629489107165276, 1.0412266116381714, 0.7179155165752484, 1.6930515185472383, 1.289448459481413, 0.30362087590713316, -2.1528501300606946, -1.0134696144934496, -0.15636623271294586, 0.8380139710009594, 0.5579228915062908, 0.5368016312120132, -0.5078470766397161, -0.845020274882293, -0.5032619357012125, 0.09063142724378265, 1.3230502586330954, 0.605470890269384, -1.4491029065733194, 1.5350799697628166, -0.4887321951171857, -1.9780210133324072, -0.09137475763597733, -0.7403203584012117, 0.7224915860473682, 0.7062391710651873, 0.2012465686323864, -1.418854798097011, -1.8166350247694463, -1.1893933087052846, 1.6008006185133081, -1.3828919131099306, -0.3939760308123558, -0.8518355622060666, -0.792128482209907, 1.3826855098314517, 0.19896340055223444, -0.23145050018903338, -0.47964419762986166, -0.44283720384580877, 0.2975083383573253, -1.0702080056630172, 0.3714803864386964, -1.7713799252108353, -0.05361606457323116, 1.2773542153545079, 1.130147907205399, 0.672508729528042, -0.04422356786938887, 0.06591820760695383, 0.8657351394759569, -1.149166652831269, 1.2801278124161366, 0.7053245114339901, -0.6450090266750952, 0.22479835435854695, -1.5687383321523662, -1.6711767415185925, 0.18688677530668604, 0.4801646737727269, 1.27730447068291, 1.5312853572122618, -0.003243945845103304, 0.31545108378705483, 0.8001980688130594], \"yaxis\": \"y7\"}, {\"line\": {\"color\": \"rgba(128, 128, 128, 1.0)\", \"dash\": \"solid\", \"shape\": \"linear\", \"width\": 1.3}, \"marker\": {\"size\": 2, \"symbol\": \"circle\"}, \"mode\": \"markers\", \"name\": \"B\", \"text\": \"\", \"type\": \"scatter\", \"x\": [-1.5034959600232376, -0.5002545536406926, 0.28038963892268925, 0.6436157976651309, -0.32678525058336144, 2.2480455302993954, -0.10212614541672001, -0.3753141106509515, -0.09137779587221577, 2.806316180226526, -1.0696001667407682, -0.8198791828551726, -0.48954253559546135, -0.4855260402785763, 0.41740420839716347, 0.04750503769818647, -0.7647964360611823, -1.411902116190576, 1.76243350565496, -1.5380351291216554, 0.4753809754519136, -0.8594523204412604, -1.8534272922723198, -0.02493962626163329, 0.9286975747515848, -1.7976611239698812, 1.5949445899324757, 0.24349753016633013, 0.4076981943292706, 0.16867933305942437, -0.09072844291781407, 0.9478168842520501, 0.17999577841047074, -0.7508565155229779, -1.481340630988663, -2.464520025940437, 0.6434431949145675, -1.3761376024818746, 0.3468809070623607, -1.5764148071761146, -0.8436372667516829, -1.0300202683908892, 0.626443122495951, 1.3228318464001843, 2.8332868930935673, 0.05274994978958885, 0.18967361347084327, 0.9578411548794024, -0.7079610590083915, -0.9682769868480765, 1.0864687928058199, -0.23982121319770938, 0.43604123853449805, -2.076366837148839, 0.001923451586291724, 1.754416018047518, 0.16836066340273206, 2.158078850342077, -0.05922530625313715, 0.39488763101367946, -0.9021924044536117, 0.22894884857403328, -0.40663035035742795, -1.3770822654520178, -0.12048346955566772, 1.0761634563359206, -1.0707400073825306, 0.7429681963356116, -0.24613470003158003, 1.1582696382477444, -0.5012082480432763, 1.8268859083182867, 0.9603431670287832, -0.8197939109913333, 0.12123473658574371, 1.4465456172542097, 0.9657067653768596, 1.0466074677604935, -0.10324403695845281, -1.2168298340103647, 1.185780411258566, -0.27251029278709726, -0.40756724742538614, 0.005248339557275319, 0.5578637899562472, 0.6038168533560826, 0.7002552066325827, -1.3098700315350242, 1.3267048265141386, -0.5927916193949495, 0.05118912541609895, -1.2211986610627326, 0.23207065415443653, 0.7511052993502152, 1.003248932950057, 0.24431493409781493, -0.1342578021851783, 0.09554071996329187, -0.7154397211038919, -0.7617484585937415], \"xaxis\": \"x8\", \"y\": [1.8544854469766379, 0.7836177074308012, -0.7023952067731887, -1.6590009035343811, 0.5368017098635539, -0.3523782119696855, 0.16226175563893364, 0.7264061191098, -1.2499210848417084, 0.1929954220383031, -0.21386919859532105, -0.29271630353287986, -0.6611903651266722, 0.744638175086269, 0.2040438468422435, 0.8584320617049238, 0.850452155003359, -1.3659953542696026, -0.05578684509734393, 0.6323620787780885, 0.2837188925661103, -0.30468203874642236, -2.8251949591332033, 0.34430547180085386, -0.9974663044329387, 1.0962755508149857, -1.7792529363166523, 1.1933040966037836, 0.07152250341734986, -0.36871156263976, 0.4574508446904451, -1.75587070274968, -1.59898164109928, -1.6860266836224718, -0.3277867055238577, -1.3629489107165276, 1.0412266116381714, 0.7179155165752484, 1.6930515185472383, 1.289448459481413, 0.30362087590713316, -2.1528501300606946, -1.0134696144934496, -0.15636623271294586, 0.8380139710009594, 0.5579228915062908, 0.5368016312120132, -0.5078470766397161, -0.845020274882293, -0.5032619357012125, 0.09063142724378265, 1.3230502586330954, 0.605470890269384, -1.4491029065733194, 1.5350799697628166, -0.4887321951171857, -1.9780210133324072, -0.09137475763597733, -0.7403203584012117, 0.7224915860473682, 0.7062391710651873, 0.2012465686323864, -1.418854798097011, -1.8166350247694463, -1.1893933087052846, 1.6008006185133081, -1.3828919131099306, -0.3939760308123558, -0.8518355622060666, -0.792128482209907, 1.3826855098314517, 0.19896340055223444, -0.23145050018903338, -0.47964419762986166, -0.44283720384580877, 0.2975083383573253, -1.0702080056630172, 0.3714803864386964, -1.7713799252108353, -0.05361606457323116, 1.2773542153545079, 1.130147907205399, 0.672508729528042, -0.04422356786938887, 0.06591820760695383, 0.8657351394759569, -1.149166652831269, 1.2801278124161366, 0.7053245114339901, -0.6450090266750952, 0.22479835435854695, -1.5687383321523662, -1.6711767415185925, 0.18688677530668604, 0.4801646737727269, 1.27730447068291, 1.5312853572122618, -0.003243945845103304, 0.31545108378705483, 0.8001980688130594], \"yaxis\": \"y8\"}, {\"line\": {\"color\": \"rgba(128, 128, 128, 1.0)\", \"dash\": \"solid\", \"shape\": \"linear\", \"width\": 1.3}, \"marker\": {\"size\": 2, \"symbol\": \"circle\"}, \"mode\": \"markers\", \"name\": \"C\", \"text\": \"\", \"type\": \"scatter\", \"x\": [0.3696420558197603, 0.5253992122905893, -1.037046991780036, 0.24758500485110949, -1.8474714207170502, 1.3011206429284472, -0.9335639569440436, 0.7693596664680276, -0.7354420564182146, -0.3897801777723191, -0.5361110290279926, -0.11335978345336128, 0.5034703014821329, 0.6862383833141485, -0.998068344328191, -1.0158631125325421, 0.004348380037364213, 0.41957675079592427, 2.301491454423374, 1.4561157709628787, -0.39543442769501835, -2.9977343866583146, 0.4606828596039337, 0.4125115418393969, -1.6772472028110024, 0.4847284875647718, 0.13514321173399585, -0.8501933743837765, 0.7661903176591959, 0.2556084067919436, 1.2092208938314986, -0.9641519723820355, -0.4929362943760437, 0.28872133688964635, -0.9942239232924204, -0.17732241365179743, -1.167011992737201, -0.02479701877713464, -1.3437385112074935, -0.13425512337211468, -1.1387426056206769, -0.152654355616287, -0.20396279915057616, -1.09589281461307, -1.8186866319970554, -1.419713115103019, 1.1238921197556309, -0.25238924820713565, 0.8003631231624078, 1.510325015083661, 0.15693663155427395, -1.7131257418818993, -0.73964880933293, -0.9491578573939075, -0.030022804907188512, 1.1710417549444856, 0.12729687189798403, -0.005807129205971171, -0.028565868349607577, -0.4819911680944219, -1.518892135299185, -0.576390236024212, 0.36059632276433357, -0.12057217071166919, 0.15762625193431426, 0.06810068428376627, 0.6367262505638114, -2.1102698964980773, -0.7082699504905734, -0.2941154121319468, 0.126635294372914, -0.40570278219914246, 0.35808490553594086, -1.0342876768719167, -1.1947571676836943, 0.5541810575018407, 1.5133993382594308, -0.9003410000358811, -0.8560779010303979, 2.030211579966576, 0.582959641868816, 0.8494972234950936, 1.1581283542388061, 0.6879489752136857, -0.8493140319400361, -0.6133085997176515, -0.2850937172340025, -0.9857890053489234, -0.09162341605494383, -1.0244112466360455, 1.393245285512462, 0.03430148884087417, 0.37283225888140187, 0.1487104846347837, -1.256860203558932, 0.3464741711743709, -0.31822087540002797, 1.384161939100568, 0.060376550504078835, -1.5736730924838451], \"xaxis\": \"x9\", \"y\": [0.2252777989016697, 0.8623018188802899, -1.416244250131065, 0.32934869741646344, 0.1267464715656397, 0.06936779668551181, -0.8963800303599142, 0.15802245926053307, 1.134220418943405, 1.4859243642201287, 0.31410460046414307, -1.6317416932347404, -1.3468425919919842, -1.5377259965021013, 0.44803968693652124, -0.6087749895529724, -0.08444755271745026, -0.41543239452665953, -0.31077567466336165, 1.04630994845296, -1.3069377157747348, 0.766032531840848, 0.5780460097088275, -0.21423604833369836, 0.0036132856858055065, -0.8155164372988873, 0.05986444467837653, -1.9721889963414336, -2.078555799505978, 1.264205459685189, -0.09286916292385433, 0.37241483042135864, -0.4520027989707978, -0.06359946668577694, 0.40414748288786745, -1.42310455279087, 0.3761060108893962, 0.6216497343796945, 0.18867118091163326, 0.23902421149124484, -1.0410009754896765, 0.9718313088708687, 0.034362973196359586, 1.9488270240884749, -0.13331917111915575, 1.4608434457954884, -0.08665151619432472, 0.02926781149662285, -1.8004195748741825, 1.6289742337704256, 1.3582535172023908, -0.8454881168555592, 0.6093724484063817, 1.9344597807372632, 0.35797359496683784, -0.41599786611177764, -0.9050470296676526, 1.4043251327454243, 0.20857840336780592, 2.0939476995372703, 1.0497898426386931, 1.4265064707668738, -1.143234964880385, 2.309302086953698, 2.0259289469994974, 1.3659821749542929, -0.9407940552553328, -2.6219766910310476, -1.1426882136155434, -3.094999628250353, 1.0056417745869357, 0.39868504276673516, -0.046072701239227326, 0.7586484947069092, 0.5899860404075996, -0.3124991992480441, -0.5316162521241473, -0.31137328734129294, 0.9020306003109113, 0.8632424005893286, 1.0047379483834622, 0.8134640423609348, -0.4708781972522541, -1.6428143904942887, 0.30678393518761216, 0.2219842518238527, -0.012729532903647525, -2.6622374787543466, 0.7426211522876416, -1.3176793616791336, 0.03755321857630146, -0.10962231677693532, 1.5790362314396678, 1.4562306481619405, -1.0726071087385978, -2.4404905382187, 0.4434881014433977, -1.8094225526189711, -1.391051306056638, 1.2849228240434347], \"yaxis\": \"y9\"}, {\"line\": {\"color\": \"rgba(128, 128, 128, 1.0)\", \"dash\": \"solid\", \"shape\": \"linear\", \"width\": 1.3}, \"marker\": {\"size\": 2, \"symbol\": \"circle\"}, \"mode\": \"markers\", \"name\": \"C\", \"text\": \"\", \"type\": \"scatter\", \"x\": [1.8544854469766379, 0.7836177074308012, -0.7023952067731887, -1.6590009035343811, 0.5368017098635539, -0.3523782119696855, 0.16226175563893364, 0.7264061191098, -1.2499210848417084, 0.1929954220383031, -0.21386919859532105, -0.29271630353287986, -0.6611903651266722, 0.744638175086269, 0.2040438468422435, 0.8584320617049238, 0.850452155003359, -1.3659953542696026, -0.05578684509734393, 0.6323620787780885, 0.2837188925661103, -0.30468203874642236, -2.8251949591332033, 0.34430547180085386, -0.9974663044329387, 1.0962755508149857, -1.7792529363166523, 1.1933040966037836, 0.07152250341734986, -0.36871156263976, 0.4574508446904451, -1.75587070274968, -1.59898164109928, -1.6860266836224718, -0.3277867055238577, -1.3629489107165276, 1.0412266116381714, 0.7179155165752484, 1.6930515185472383, 1.289448459481413, 0.30362087590713316, -2.1528501300606946, -1.0134696144934496, -0.15636623271294586, 0.8380139710009594, 0.5579228915062908, 0.5368016312120132, -0.5078470766397161, -0.845020274882293, -0.5032619357012125, 0.09063142724378265, 1.3230502586330954, 0.605470890269384, -1.4491029065733194, 1.5350799697628166, -0.4887321951171857, -1.9780210133324072, -0.09137475763597733, -0.7403203584012117, 0.7224915860473682, 0.7062391710651873, 0.2012465686323864, -1.418854798097011, -1.8166350247694463, -1.1893933087052846, 1.6008006185133081, -1.3828919131099306, -0.3939760308123558, -0.8518355622060666, -0.792128482209907, 1.3826855098314517, 0.19896340055223444, -0.23145050018903338, -0.47964419762986166, -0.44283720384580877, 0.2975083383573253, -1.0702080056630172, 0.3714803864386964, -1.7713799252108353, -0.05361606457323116, 1.2773542153545079, 1.130147907205399, 0.672508729528042, -0.04422356786938887, 0.06591820760695383, 0.8657351394759569, -1.149166652831269, 1.2801278124161366, 0.7053245114339901, -0.6450090266750952, 0.22479835435854695, -1.5687383321523662, -1.6711767415185925, 0.18688677530668604, 0.4801646737727269, 1.27730447068291, 1.5312853572122618, -0.003243945845103304, 0.31545108378705483, 0.8001980688130594], \"xaxis\": \"x10\", \"y\": [0.2252777989016697, 0.8623018188802899, -1.416244250131065, 0.32934869741646344, 0.1267464715656397, 0.06936779668551181, -0.8963800303599142, 0.15802245926053307, 1.134220418943405, 1.4859243642201287, 0.31410460046414307, -1.6317416932347404, -1.3468425919919842, -1.5377259965021013, 0.44803968693652124, -0.6087749895529724, -0.08444755271745026, -0.41543239452665953, -0.31077567466336165, 1.04630994845296, -1.3069377157747348, 0.766032531840848, 0.5780460097088275, -0.21423604833369836, 0.0036132856858055065, -0.8155164372988873, 0.05986444467837653, -1.9721889963414336, -2.078555799505978, 1.264205459685189, -0.09286916292385433, 0.37241483042135864, -0.4520027989707978, -0.06359946668577694, 0.40414748288786745, -1.42310455279087, 0.3761060108893962, 0.6216497343796945, 0.18867118091163326, 0.23902421149124484, -1.0410009754896765, 0.9718313088708687, 0.034362973196359586, 1.9488270240884749, -0.13331917111915575, 1.4608434457954884, -0.08665151619432472, 0.02926781149662285, -1.8004195748741825, 1.6289742337704256, 1.3582535172023908, -0.8454881168555592, 0.6093724484063817, 1.9344597807372632, 0.35797359496683784, -0.41599786611177764, -0.9050470296676526, 1.4043251327454243, 0.20857840336780592, 2.0939476995372703, 1.0497898426386931, 1.4265064707668738, -1.143234964880385, 2.309302086953698, 2.0259289469994974, 1.3659821749542929, -0.9407940552553328, -2.6219766910310476, -1.1426882136155434, -3.094999628250353, 1.0056417745869357, 0.39868504276673516, -0.046072701239227326, 0.7586484947069092, 0.5899860404075996, -0.3124991992480441, -0.5316162521241473, -0.31137328734129294, 0.9020306003109113, 0.8632424005893286, 1.0047379483834622, 0.8134640423609348, -0.4708781972522541, -1.6428143904942887, 0.30678393518761216, 0.2219842518238527, -0.012729532903647525, -2.6622374787543466, 0.7426211522876416, -1.3176793616791336, 0.03755321857630146, -0.10962231677693532, 1.5790362314396678, 1.4562306481619405, -1.0726071087385978, -2.4404905382187, 0.4434881014433977, -1.8094225526189711, -1.391051306056638, 1.2849228240434347], \"yaxis\": \"y10\"}, {\"histfunc\": \"count\", \"histnorm\": \"\", \"marker\": {\"color\": \"rgba(50, 171, 96, 1.0)\", \"line\": {\"color\": \"#4D5663\", \"width\": 1.3}}, \"name\": \"C\", \"nbinsx\": 10, \"opacity\": 0.8, \"orientation\": \"v\", \"type\": \"histogram\", \"x\": [0.2252777989016697, 0.8623018188802899, -1.416244250131065, 0.32934869741646344, 0.1267464715656397, 0.06936779668551181, -0.8963800303599142, 0.15802245926053307, 1.134220418943405, 1.4859243642201287, 0.31410460046414307, -1.6317416932347404, -1.3468425919919842, -1.5377259965021013, 0.44803968693652124, -0.6087749895529724, -0.08444755271745026, -0.41543239452665953, -0.31077567466336165, 1.04630994845296, -1.3069377157747348, 0.766032531840848, 0.5780460097088275, -0.21423604833369836, 0.0036132856858055065, -0.8155164372988873, 0.05986444467837653, -1.9721889963414336, -2.078555799505978, 1.264205459685189, -0.09286916292385433, 0.37241483042135864, -0.4520027989707978, -0.06359946668577694, 0.40414748288786745, -1.42310455279087, 0.3761060108893962, 0.6216497343796945, 0.18867118091163326, 0.23902421149124484, -1.0410009754896765, 0.9718313088708687, 0.034362973196359586, 1.9488270240884749, -0.13331917111915575, 1.4608434457954884, -0.08665151619432472, 0.02926781149662285, -1.8004195748741825, 1.6289742337704256, 1.3582535172023908, -0.8454881168555592, 0.6093724484063817, 1.9344597807372632, 0.35797359496683784, -0.41599786611177764, -0.9050470296676526, 1.4043251327454243, 0.20857840336780592, 2.0939476995372703, 1.0497898426386931, 1.4265064707668738, -1.143234964880385, 2.309302086953698, 2.0259289469994974, 1.3659821749542929, -0.9407940552553328, -2.6219766910310476, -1.1426882136155434, -3.094999628250353, 1.0056417745869357, 0.39868504276673516, -0.046072701239227326, 0.7586484947069092, 0.5899860404075996, -0.3124991992480441, -0.5316162521241473, -0.31137328734129294, 0.9020306003109113, 0.8632424005893286, 1.0047379483834622, 0.8134640423609348, -0.4708781972522541, -1.6428143904942887, 0.30678393518761216, 0.2219842518238527, -0.012729532903647525, -2.6622374787543466, 0.7426211522876416, -1.3176793616791336, 0.03755321857630146, -0.10962231677693532, 1.5790362314396678, 1.4562306481619405, -1.0726071087385978, -2.4404905382187, 0.4434881014433977, -1.8094225526189711, -1.391051306056638, 1.2849228240434347], \"xaxis\": \"x11\", \"yaxis\": \"y11\"}, {\"line\": {\"color\": \"rgba(128, 128, 128, 1.0)\", \"dash\": \"solid\", \"shape\": \"linear\", \"width\": 1.3}, \"marker\": {\"size\": 2, \"symbol\": \"circle\"}, \"mode\": \"markers\", \"name\": \"C\", \"text\": \"\", \"type\": \"scatter\", \"x\": [-1.5034959600232376, -0.5002545536406926, 0.28038963892268925, 0.6436157976651309, -0.32678525058336144, 2.2480455302993954, -0.10212614541672001, -0.3753141106509515, -0.09137779587221577, 2.806316180226526, -1.0696001667407682, -0.8198791828551726, -0.48954253559546135, -0.4855260402785763, 0.41740420839716347, 0.04750503769818647, -0.7647964360611823, -1.411902116190576, 1.76243350565496, -1.5380351291216554, 0.4753809754519136, -0.8594523204412604, -1.8534272922723198, -0.02493962626163329, 0.9286975747515848, -1.7976611239698812, 1.5949445899324757, 0.24349753016633013, 0.4076981943292706, 0.16867933305942437, -0.09072844291781407, 0.9478168842520501, 0.17999577841047074, -0.7508565155229779, -1.481340630988663, -2.464520025940437, 0.6434431949145675, -1.3761376024818746, 0.3468809070623607, -1.5764148071761146, -0.8436372667516829, -1.0300202683908892, 0.626443122495951, 1.3228318464001843, 2.8332868930935673, 0.05274994978958885, 0.18967361347084327, 0.9578411548794024, -0.7079610590083915, -0.9682769868480765, 1.0864687928058199, -0.23982121319770938, 0.43604123853449805, -2.076366837148839, 0.001923451586291724, 1.754416018047518, 0.16836066340273206, 2.158078850342077, -0.05922530625313715, 0.39488763101367946, -0.9021924044536117, 0.22894884857403328, -0.40663035035742795, -1.3770822654520178, -0.12048346955566772, 1.0761634563359206, -1.0707400073825306, 0.7429681963356116, -0.24613470003158003, 1.1582696382477444, -0.5012082480432763, 1.8268859083182867, 0.9603431670287832, -0.8197939109913333, 0.12123473658574371, 1.4465456172542097, 0.9657067653768596, 1.0466074677604935, -0.10324403695845281, -1.2168298340103647, 1.185780411258566, -0.27251029278709726, -0.40756724742538614, 0.005248339557275319, 0.5578637899562472, 0.6038168533560826, 0.7002552066325827, -1.3098700315350242, 1.3267048265141386, -0.5927916193949495, 0.05118912541609895, -1.2211986610627326, 0.23207065415443653, 0.7511052993502152, 1.003248932950057, 0.24431493409781493, -0.1342578021851783, 0.09554071996329187, -0.7154397211038919, -0.7617484585937415], \"xaxis\": \"x12\", \"y\": [0.2252777989016697, 0.8623018188802899, -1.416244250131065, 0.32934869741646344, 0.1267464715656397, 0.06936779668551181, -0.8963800303599142, 0.15802245926053307, 1.134220418943405, 1.4859243642201287, 0.31410460046414307, -1.6317416932347404, -1.3468425919919842, -1.5377259965021013, 0.44803968693652124, -0.6087749895529724, -0.08444755271745026, -0.41543239452665953, -0.31077567466336165, 1.04630994845296, -1.3069377157747348, 0.766032531840848, 0.5780460097088275, -0.21423604833369836, 0.0036132856858055065, -0.8155164372988873, 0.05986444467837653, -1.9721889963414336, -2.078555799505978, 1.264205459685189, -0.09286916292385433, 0.37241483042135864, -0.4520027989707978, -0.06359946668577694, 0.40414748288786745, -1.42310455279087, 0.3761060108893962, 0.6216497343796945, 0.18867118091163326, 0.23902421149124484, -1.0410009754896765, 0.9718313088708687, 0.034362973196359586, 1.9488270240884749, -0.13331917111915575, 1.4608434457954884, -0.08665151619432472, 0.02926781149662285, -1.8004195748741825, 1.6289742337704256, 1.3582535172023908, -0.8454881168555592, 0.6093724484063817, 1.9344597807372632, 0.35797359496683784, -0.41599786611177764, -0.9050470296676526, 1.4043251327454243, 0.20857840336780592, 2.0939476995372703, 1.0497898426386931, 1.4265064707668738, -1.143234964880385, 2.309302086953698, 2.0259289469994974, 1.3659821749542929, -0.9407940552553328, -2.6219766910310476, -1.1426882136155434, -3.094999628250353, 1.0056417745869357, 0.39868504276673516, -0.046072701239227326, 0.7586484947069092, 0.5899860404075996, -0.3124991992480441, -0.5316162521241473, -0.31137328734129294, 0.9020306003109113, 0.8632424005893286, 1.0047379483834622, 0.8134640423609348, -0.4708781972522541, -1.6428143904942887, 0.30678393518761216, 0.2219842518238527, -0.012729532903647525, -2.6622374787543466, 0.7426211522876416, -1.3176793616791336, 0.03755321857630146, -0.10962231677693532, 1.5790362314396678, 1.4562306481619405, -1.0726071087385978, -2.4404905382187, 0.4434881014433977, -1.8094225526189711, -1.391051306056638, 1.2849228240434347], \"yaxis\": \"y12\"}, {\"line\": {\"color\": \"rgba(128, 128, 128, 1.0)\", \"dash\": \"solid\", \"shape\": \"linear\", \"width\": 1.3}, \"marker\": {\"size\": 2, \"symbol\": \"circle\"}, \"mode\": \"markers\", \"name\": \"D\", \"text\": \"\", \"type\": \"scatter\", \"x\": [0.3696420558197603, 0.5253992122905893, -1.037046991780036, 0.24758500485110949, -1.8474714207170502, 1.3011206429284472, -0.9335639569440436, 0.7693596664680276, -0.7354420564182146, -0.3897801777723191, -0.5361110290279926, -0.11335978345336128, 0.5034703014821329, 0.6862383833141485, -0.998068344328191, -1.0158631125325421, 0.004348380037364213, 0.41957675079592427, 2.301491454423374, 1.4561157709628787, -0.39543442769501835, -2.9977343866583146, 0.4606828596039337, 0.4125115418393969, -1.6772472028110024, 0.4847284875647718, 0.13514321173399585, -0.8501933743837765, 0.7661903176591959, 0.2556084067919436, 1.2092208938314986, -0.9641519723820355, -0.4929362943760437, 0.28872133688964635, -0.9942239232924204, -0.17732241365179743, -1.167011992737201, -0.02479701877713464, -1.3437385112074935, -0.13425512337211468, -1.1387426056206769, -0.152654355616287, -0.20396279915057616, -1.09589281461307, -1.8186866319970554, -1.419713115103019, 1.1238921197556309, -0.25238924820713565, 0.8003631231624078, 1.510325015083661, 0.15693663155427395, -1.7131257418818993, -0.73964880933293, -0.9491578573939075, -0.030022804907188512, 1.1710417549444856, 0.12729687189798403, -0.005807129205971171, -0.028565868349607577, -0.4819911680944219, -1.518892135299185, -0.576390236024212, 0.36059632276433357, -0.12057217071166919, 0.15762625193431426, 0.06810068428376627, 0.6367262505638114, -2.1102698964980773, -0.7082699504905734, -0.2941154121319468, 0.126635294372914, -0.40570278219914246, 0.35808490553594086, -1.0342876768719167, -1.1947571676836943, 0.5541810575018407, 1.5133993382594308, -0.9003410000358811, -0.8560779010303979, 2.030211579966576, 0.582959641868816, 0.8494972234950936, 1.1581283542388061, 0.6879489752136857, -0.8493140319400361, -0.6133085997176515, -0.2850937172340025, -0.9857890053489234, -0.09162341605494383, -1.0244112466360455, 1.393245285512462, 0.03430148884087417, 0.37283225888140187, 0.1487104846347837, -1.256860203558932, 0.3464741711743709, -0.31822087540002797, 1.384161939100568, 0.060376550504078835, -1.5736730924838451], \"xaxis\": \"x13\", \"y\": [-1.5034959600232376, -0.5002545536406926, 0.28038963892268925, 0.6436157976651309, -0.32678525058336144, 2.2480455302993954, -0.10212614541672001, -0.3753141106509515, -0.09137779587221577, 2.806316180226526, -1.0696001667407682, -0.8198791828551726, -0.48954253559546135, -0.4855260402785763, 0.41740420839716347, 0.04750503769818647, -0.7647964360611823, -1.411902116190576, 1.76243350565496, -1.5380351291216554, 0.4753809754519136, -0.8594523204412604, -1.8534272922723198, -0.02493962626163329, 0.9286975747515848, -1.7976611239698812, 1.5949445899324757, 0.24349753016633013, 0.4076981943292706, 0.16867933305942437, -0.09072844291781407, 0.9478168842520501, 0.17999577841047074, -0.7508565155229779, -1.481340630988663, -2.464520025940437, 0.6434431949145675, -1.3761376024818746, 0.3468809070623607, -1.5764148071761146, -0.8436372667516829, -1.0300202683908892, 0.626443122495951, 1.3228318464001843, 2.8332868930935673, 0.05274994978958885, 0.18967361347084327, 0.9578411548794024, -0.7079610590083915, -0.9682769868480765, 1.0864687928058199, -0.23982121319770938, 0.43604123853449805, -2.076366837148839, 0.001923451586291724, 1.754416018047518, 0.16836066340273206, 2.158078850342077, -0.05922530625313715, 0.39488763101367946, -0.9021924044536117, 0.22894884857403328, -0.40663035035742795, -1.3770822654520178, -0.12048346955566772, 1.0761634563359206, -1.0707400073825306, 0.7429681963356116, -0.24613470003158003, 1.1582696382477444, -0.5012082480432763, 1.8268859083182867, 0.9603431670287832, -0.8197939109913333, 0.12123473658574371, 1.4465456172542097, 0.9657067653768596, 1.0466074677604935, -0.10324403695845281, -1.2168298340103647, 1.185780411258566, -0.27251029278709726, -0.40756724742538614, 0.005248339557275319, 0.5578637899562472, 0.6038168533560826, 0.7002552066325827, -1.3098700315350242, 1.3267048265141386, -0.5927916193949495, 0.05118912541609895, -1.2211986610627326, 0.23207065415443653, 0.7511052993502152, 1.003248932950057, 0.24431493409781493, -0.1342578021851783, 0.09554071996329187, -0.7154397211038919, -0.7617484585937415], \"yaxis\": \"y13\"}, {\"line\": {\"color\": \"rgba(128, 128, 128, 1.0)\", \"dash\": \"solid\", \"shape\": \"linear\", \"width\": 1.3}, \"marker\": {\"size\": 2, \"symbol\": \"circle\"}, \"mode\": \"markers\", \"name\": \"D\", \"text\": \"\", \"type\": \"scatter\", \"x\": [1.8544854469766379, 0.7836177074308012, -0.7023952067731887, -1.6590009035343811, 0.5368017098635539, -0.3523782119696855, 0.16226175563893364, 0.7264061191098, -1.2499210848417084, 0.1929954220383031, -0.21386919859532105, -0.29271630353287986, -0.6611903651266722, 0.744638175086269, 0.2040438468422435, 0.8584320617049238, 0.850452155003359, -1.3659953542696026, -0.05578684509734393, 0.6323620787780885, 0.2837188925661103, -0.30468203874642236, -2.8251949591332033, 0.34430547180085386, -0.9974663044329387, 1.0962755508149857, -1.7792529363166523, 1.1933040966037836, 0.07152250341734986, -0.36871156263976, 0.4574508446904451, -1.75587070274968, -1.59898164109928, -1.6860266836224718, -0.3277867055238577, -1.3629489107165276, 1.0412266116381714, 0.7179155165752484, 1.6930515185472383, 1.289448459481413, 0.30362087590713316, -2.1528501300606946, -1.0134696144934496, -0.15636623271294586, 0.8380139710009594, 0.5579228915062908, 0.5368016312120132, -0.5078470766397161, -0.845020274882293, -0.5032619357012125, 0.09063142724378265, 1.3230502586330954, 0.605470890269384, -1.4491029065733194, 1.5350799697628166, -0.4887321951171857, -1.9780210133324072, -0.09137475763597733, -0.7403203584012117, 0.7224915860473682, 0.7062391710651873, 0.2012465686323864, -1.418854798097011, -1.8166350247694463, -1.1893933087052846, 1.6008006185133081, -1.3828919131099306, -0.3939760308123558, -0.8518355622060666, -0.792128482209907, 1.3826855098314517, 0.19896340055223444, -0.23145050018903338, -0.47964419762986166, -0.44283720384580877, 0.2975083383573253, -1.0702080056630172, 0.3714803864386964, -1.7713799252108353, -0.05361606457323116, 1.2773542153545079, 1.130147907205399, 0.672508729528042, -0.04422356786938887, 0.06591820760695383, 0.8657351394759569, -1.149166652831269, 1.2801278124161366, 0.7053245114339901, -0.6450090266750952, 0.22479835435854695, -1.5687383321523662, -1.6711767415185925, 0.18688677530668604, 0.4801646737727269, 1.27730447068291, 1.5312853572122618, -0.003243945845103304, 0.31545108378705483, 0.8001980688130594], \"xaxis\": \"x14\", \"y\": [-1.5034959600232376, -0.5002545536406926, 0.28038963892268925, 0.6436157976651309, -0.32678525058336144, 2.2480455302993954, -0.10212614541672001, -0.3753141106509515, -0.09137779587221577, 2.806316180226526, -1.0696001667407682, -0.8198791828551726, -0.48954253559546135, -0.4855260402785763, 0.41740420839716347, 0.04750503769818647, -0.7647964360611823, -1.411902116190576, 1.76243350565496, -1.5380351291216554, 0.4753809754519136, -0.8594523204412604, -1.8534272922723198, -0.02493962626163329, 0.9286975747515848, -1.7976611239698812, 1.5949445899324757, 0.24349753016633013, 0.4076981943292706, 0.16867933305942437, -0.09072844291781407, 0.9478168842520501, 0.17999577841047074, -0.7508565155229779, -1.481340630988663, -2.464520025940437, 0.6434431949145675, -1.3761376024818746, 0.3468809070623607, -1.5764148071761146, -0.8436372667516829, -1.0300202683908892, 0.626443122495951, 1.3228318464001843, 2.8332868930935673, 0.05274994978958885, 0.18967361347084327, 0.9578411548794024, -0.7079610590083915, -0.9682769868480765, 1.0864687928058199, -0.23982121319770938, 0.43604123853449805, -2.076366837148839, 0.001923451586291724, 1.754416018047518, 0.16836066340273206, 2.158078850342077, -0.05922530625313715, 0.39488763101367946, -0.9021924044536117, 0.22894884857403328, -0.40663035035742795, -1.3770822654520178, -0.12048346955566772, 1.0761634563359206, -1.0707400073825306, 0.7429681963356116, -0.24613470003158003, 1.1582696382477444, -0.5012082480432763, 1.8268859083182867, 0.9603431670287832, -0.8197939109913333, 0.12123473658574371, 1.4465456172542097, 0.9657067653768596, 1.0466074677604935, -0.10324403695845281, -1.2168298340103647, 1.185780411258566, -0.27251029278709726, -0.40756724742538614, 0.005248339557275319, 0.5578637899562472, 0.6038168533560826, 0.7002552066325827, -1.3098700315350242, 1.3267048265141386, -0.5927916193949495, 0.05118912541609895, -1.2211986610627326, 0.23207065415443653, 0.7511052993502152, 1.003248932950057, 0.24431493409781493, -0.1342578021851783, 0.09554071996329187, -0.7154397211038919, -0.7617484585937415], \"yaxis\": \"y14\"}, {\"line\": {\"color\": \"rgba(128, 128, 128, 1.0)\", \"dash\": \"solid\", \"shape\": \"linear\", \"width\": 1.3}, \"marker\": {\"size\": 2, \"symbol\": \"circle\"}, \"mode\": \"markers\", \"name\": \"D\", \"text\": \"\", \"type\": \"scatter\", \"x\": [0.2252777989016697, 0.8623018188802899, -1.416244250131065, 0.32934869741646344, 0.1267464715656397, 0.06936779668551181, -0.8963800303599142, 0.15802245926053307, 1.134220418943405, 1.4859243642201287, 0.31410460046414307, -1.6317416932347404, -1.3468425919919842, -1.5377259965021013, 0.44803968693652124, -0.6087749895529724, -0.08444755271745026, -0.41543239452665953, -0.31077567466336165, 1.04630994845296, -1.3069377157747348, 0.766032531840848, 0.5780460097088275, -0.21423604833369836, 0.0036132856858055065, -0.8155164372988873, 0.05986444467837653, -1.9721889963414336, -2.078555799505978, 1.264205459685189, -0.09286916292385433, 0.37241483042135864, -0.4520027989707978, -0.06359946668577694, 0.40414748288786745, -1.42310455279087, 0.3761060108893962, 0.6216497343796945, 0.18867118091163326, 0.23902421149124484, -1.0410009754896765, 0.9718313088708687, 0.034362973196359586, 1.9488270240884749, -0.13331917111915575, 1.4608434457954884, -0.08665151619432472, 0.02926781149662285, -1.8004195748741825, 1.6289742337704256, 1.3582535172023908, -0.8454881168555592, 0.6093724484063817, 1.9344597807372632, 0.35797359496683784, -0.41599786611177764, -0.9050470296676526, 1.4043251327454243, 0.20857840336780592, 2.0939476995372703, 1.0497898426386931, 1.4265064707668738, -1.143234964880385, 2.309302086953698, 2.0259289469994974, 1.3659821749542929, -0.9407940552553328, -2.6219766910310476, -1.1426882136155434, -3.094999628250353, 1.0056417745869357, 0.39868504276673516, -0.046072701239227326, 0.7586484947069092, 0.5899860404075996, -0.3124991992480441, -0.5316162521241473, -0.31137328734129294, 0.9020306003109113, 0.8632424005893286, 1.0047379483834622, 0.8134640423609348, -0.4708781972522541, -1.6428143904942887, 0.30678393518761216, 0.2219842518238527, -0.012729532903647525, -2.6622374787543466, 0.7426211522876416, -1.3176793616791336, 0.03755321857630146, -0.10962231677693532, 1.5790362314396678, 1.4562306481619405, -1.0726071087385978, -2.4404905382187, 0.4434881014433977, -1.8094225526189711, -1.391051306056638, 1.2849228240434347], \"xaxis\": \"x15\", \"y\": [-1.5034959600232376, -0.5002545536406926, 0.28038963892268925, 0.6436157976651309, -0.32678525058336144, 2.2480455302993954, -0.10212614541672001, -0.3753141106509515, -0.09137779587221577, 2.806316180226526, -1.0696001667407682, -0.8198791828551726, -0.48954253559546135, -0.4855260402785763, 0.41740420839716347, 0.04750503769818647, -0.7647964360611823, -1.411902116190576, 1.76243350565496, -1.5380351291216554, 0.4753809754519136, -0.8594523204412604, -1.8534272922723198, -0.02493962626163329, 0.9286975747515848, -1.7976611239698812, 1.5949445899324757, 0.24349753016633013, 0.4076981943292706, 0.16867933305942437, -0.09072844291781407, 0.9478168842520501, 0.17999577841047074, -0.7508565155229779, -1.481340630988663, -2.464520025940437, 0.6434431949145675, -1.3761376024818746, 0.3468809070623607, -1.5764148071761146, -0.8436372667516829, -1.0300202683908892, 0.626443122495951, 1.3228318464001843, 2.8332868930935673, 0.05274994978958885, 0.18967361347084327, 0.9578411548794024, -0.7079610590083915, -0.9682769868480765, 1.0864687928058199, -0.23982121319770938, 0.43604123853449805, -2.076366837148839, 0.001923451586291724, 1.754416018047518, 0.16836066340273206, 2.158078850342077, -0.05922530625313715, 0.39488763101367946, -0.9021924044536117, 0.22894884857403328, -0.40663035035742795, -1.3770822654520178, -0.12048346955566772, 1.0761634563359206, -1.0707400073825306, 0.7429681963356116, -0.24613470003158003, 1.1582696382477444, -0.5012082480432763, 1.8268859083182867, 0.9603431670287832, -0.8197939109913333, 0.12123473658574371, 1.4465456172542097, 0.9657067653768596, 1.0466074677604935, -0.10324403695845281, -1.2168298340103647, 1.185780411258566, -0.27251029278709726, -0.40756724742538614, 0.005248339557275319, 0.5578637899562472, 0.6038168533560826, 0.7002552066325827, -1.3098700315350242, 1.3267048265141386, -0.5927916193949495, 0.05118912541609895, -1.2211986610627326, 0.23207065415443653, 0.7511052993502152, 1.003248932950057, 0.24431493409781493, -0.1342578021851783, 0.09554071996329187, -0.7154397211038919, -0.7617484585937415], \"yaxis\": \"y15\"}, {\"histfunc\": \"count\", \"histnorm\": \"\", \"marker\": {\"color\": \"rgba(128, 0, 128, 1.0)\", \"line\": {\"color\": \"#4D5663\", \"width\": 1.3}}, \"name\": \"D\", \"nbinsx\": 10, \"opacity\": 0.8, \"orientation\": \"v\", \"type\": \"histogram\", \"x\": [-1.5034959600232376, -0.5002545536406926, 0.28038963892268925, 0.6436157976651309, -0.32678525058336144, 2.2480455302993954, -0.10212614541672001, -0.3753141106509515, -0.09137779587221577, 2.806316180226526, -1.0696001667407682, -0.8198791828551726, -0.48954253559546135, -0.4855260402785763, 0.41740420839716347, 0.04750503769818647, -0.7647964360611823, -1.411902116190576, 1.76243350565496, -1.5380351291216554, 0.4753809754519136, -0.8594523204412604, -1.8534272922723198, -0.02493962626163329, 0.9286975747515848, -1.7976611239698812, 1.5949445899324757, 0.24349753016633013, 0.4076981943292706, 0.16867933305942437, -0.09072844291781407, 0.9478168842520501, 0.17999577841047074, -0.7508565155229779, -1.481340630988663, -2.464520025940437, 0.6434431949145675, -1.3761376024818746, 0.3468809070623607, -1.5764148071761146, -0.8436372667516829, -1.0300202683908892, 0.626443122495951, 1.3228318464001843, 2.8332868930935673, 0.05274994978958885, 0.18967361347084327, 0.9578411548794024, -0.7079610590083915, -0.9682769868480765, 1.0864687928058199, -0.23982121319770938, 0.43604123853449805, -2.076366837148839, 0.001923451586291724, 1.754416018047518, 0.16836066340273206, 2.158078850342077, -0.05922530625313715, 0.39488763101367946, -0.9021924044536117, 0.22894884857403328, -0.40663035035742795, -1.3770822654520178, -0.12048346955566772, 1.0761634563359206, -1.0707400073825306, 0.7429681963356116, -0.24613470003158003, 1.1582696382477444, -0.5012082480432763, 1.8268859083182867, 0.9603431670287832, -0.8197939109913333, 0.12123473658574371, 1.4465456172542097, 0.9657067653768596, 1.0466074677604935, -0.10324403695845281, -1.2168298340103647, 1.185780411258566, -0.27251029278709726, -0.40756724742538614, 0.005248339557275319, 0.5578637899562472, 0.6038168533560826, 0.7002552066325827, -1.3098700315350242, 1.3267048265141386, -0.5927916193949495, 0.05118912541609895, -1.2211986610627326, 0.23207065415443653, 0.7511052993502152, 1.003248932950057, 0.24431493409781493, -0.1342578021851783, 0.09554071996329187, -0.7154397211038919, -0.7617484585937415], \"xaxis\": \"x16\", \"yaxis\": \"y16\"}],\n",
       "                        {\"bargap\": 0.02, \"legend\": {\"bgcolor\": \"#F5F6F9\", \"font\": {\"color\": \"#4D5663\"}}, \"paper_bgcolor\": \"#F5F6F9\", \"plot_bgcolor\": \"#F5F6F9\", \"showlegend\": false, \"template\": {\"data\": {\"bar\": [{\"error_x\": {\"color\": \"#2a3f5f\"}, \"error_y\": {\"color\": \"#2a3f5f\"}, \"marker\": {\"line\": {\"color\": \"#E5ECF6\", \"width\": 0.5}}, \"type\": \"bar\"}], \"barpolar\": [{\"marker\": {\"line\": {\"color\": \"#E5ECF6\", \"width\": 0.5}}, \"type\": \"barpolar\"}], \"carpet\": [{\"aaxis\": {\"endlinecolor\": \"#2a3f5f\", \"gridcolor\": \"white\", \"linecolor\": \"white\", \"minorgridcolor\": \"white\", \"startlinecolor\": \"#2a3f5f\"}, \"baxis\": {\"endlinecolor\": \"#2a3f5f\", \"gridcolor\": \"white\", \"linecolor\": \"white\", \"minorgridcolor\": \"white\", \"startlinecolor\": \"#2a3f5f\"}, \"type\": \"carpet\"}], \"choropleth\": [{\"colorbar\": {\"outlinewidth\": 0, \"ticks\": \"\"}, \"type\": \"choropleth\"}], \"contour\": [{\"colorbar\": {\"outlinewidth\": 0, \"ticks\": \"\"}, \"colorscale\": [[0.0, \"#0d0887\"], [0.1111111111111111, \"#46039f\"], [0.2222222222222222, \"#7201a8\"], [0.3333333333333333, \"#9c179e\"], [0.4444444444444444, \"#bd3786\"], [0.5555555555555556, \"#d8576b\"], [0.6666666666666666, \"#ed7953\"], [0.7777777777777778, \"#fb9f3a\"], [0.8888888888888888, \"#fdca26\"], [1.0, \"#f0f921\"]], \"type\": \"contour\"}], \"contourcarpet\": [{\"colorbar\": {\"outlinewidth\": 0, \"ticks\": \"\"}, \"type\": \"contourcarpet\"}], \"heatmap\": [{\"colorbar\": {\"outlinewidth\": 0, \"ticks\": \"\"}, \"colorscale\": [[0.0, \"#0d0887\"], [0.1111111111111111, \"#46039f\"], [0.2222222222222222, \"#7201a8\"], [0.3333333333333333, \"#9c179e\"], [0.4444444444444444, \"#bd3786\"], [0.5555555555555556, \"#d8576b\"], [0.6666666666666666, \"#ed7953\"], [0.7777777777777778, \"#fb9f3a\"], [0.8888888888888888, \"#fdca26\"], [1.0, \"#f0f921\"]], \"type\": \"heatmap\"}], \"heatmapgl\": [{\"colorbar\": {\"outlinewidth\": 0, \"ticks\": \"\"}, \"colorscale\": [[0.0, \"#0d0887\"], [0.1111111111111111, \"#46039f\"], [0.2222222222222222, \"#7201a8\"], [0.3333333333333333, \"#9c179e\"], [0.4444444444444444, \"#bd3786\"], [0.5555555555555556, \"#d8576b\"], [0.6666666666666666, \"#ed7953\"], [0.7777777777777778, \"#fb9f3a\"], [0.8888888888888888, \"#fdca26\"], [1.0, \"#f0f921\"]], \"type\": \"heatmapgl\"}], \"histogram\": [{\"marker\": {\"colorbar\": {\"outlinewidth\": 0, \"ticks\": \"\"}}, \"type\": \"histogram\"}], \"histogram2d\": [{\"colorbar\": {\"outlinewidth\": 0, \"ticks\": \"\"}, \"colorscale\": [[0.0, \"#0d0887\"], [0.1111111111111111, \"#46039f\"], [0.2222222222222222, \"#7201a8\"], [0.3333333333333333, \"#9c179e\"], [0.4444444444444444, \"#bd3786\"], [0.5555555555555556, \"#d8576b\"], [0.6666666666666666, \"#ed7953\"], [0.7777777777777778, \"#fb9f3a\"], [0.8888888888888888, \"#fdca26\"], [1.0, \"#f0f921\"]], \"type\": \"histogram2d\"}], \"histogram2dcontour\": [{\"colorbar\": {\"outlinewidth\": 0, \"ticks\": \"\"}, \"colorscale\": [[0.0, \"#0d0887\"], [0.1111111111111111, \"#46039f\"], [0.2222222222222222, \"#7201a8\"], [0.3333333333333333, \"#9c179e\"], [0.4444444444444444, \"#bd3786\"], [0.5555555555555556, \"#d8576b\"], [0.6666666666666666, \"#ed7953\"], [0.7777777777777778, \"#fb9f3a\"], [0.8888888888888888, \"#fdca26\"], [1.0, \"#f0f921\"]], \"type\": \"histogram2dcontour\"}], \"mesh3d\": [{\"colorbar\": {\"outlinewidth\": 0, \"ticks\": \"\"}, \"type\": \"mesh3d\"}], \"parcoords\": [{\"line\": {\"colorbar\": {\"outlinewidth\": 0, \"ticks\": \"\"}}, \"type\": \"parcoords\"}], \"pie\": [{\"automargin\": true, \"type\": \"pie\"}], \"scatter\": [{\"marker\": {\"colorbar\": {\"outlinewidth\": 0, \"ticks\": \"\"}}, \"type\": \"scatter\"}], \"scatter3d\": [{\"line\": {\"colorbar\": {\"outlinewidth\": 0, \"ticks\": \"\"}}, \"marker\": {\"colorbar\": {\"outlinewidth\": 0, \"ticks\": \"\"}}, \"type\": \"scatter3d\"}], \"scattercarpet\": [{\"marker\": {\"colorbar\": {\"outlinewidth\": 0, \"ticks\": \"\"}}, \"type\": \"scattercarpet\"}], \"scattergeo\": [{\"marker\": {\"colorbar\": {\"outlinewidth\": 0, \"ticks\": \"\"}}, \"type\": \"scattergeo\"}], \"scattergl\": [{\"marker\": {\"colorbar\": {\"outlinewidth\": 0, \"ticks\": \"\"}}, \"type\": \"scattergl\"}], \"scattermapbox\": [{\"marker\": {\"colorbar\": {\"outlinewidth\": 0, \"ticks\": \"\"}}, \"type\": \"scattermapbox\"}], \"scatterpolar\": [{\"marker\": {\"colorbar\": {\"outlinewidth\": 0, \"ticks\": \"\"}}, \"type\": \"scatterpolar\"}], \"scatterpolargl\": [{\"marker\": {\"colorbar\": {\"outlinewidth\": 0, \"ticks\": \"\"}}, \"type\": \"scatterpolargl\"}], \"scatterternary\": [{\"marker\": {\"colorbar\": {\"outlinewidth\": 0, \"ticks\": \"\"}}, \"type\": \"scatterternary\"}], \"surface\": [{\"colorbar\": {\"outlinewidth\": 0, \"ticks\": \"\"}, \"colorscale\": [[0.0, \"#0d0887\"], [0.1111111111111111, \"#46039f\"], [0.2222222222222222, \"#7201a8\"], [0.3333333333333333, \"#9c179e\"], [0.4444444444444444, \"#bd3786\"], [0.5555555555555556, \"#d8576b\"], [0.6666666666666666, \"#ed7953\"], [0.7777777777777778, \"#fb9f3a\"], [0.8888888888888888, \"#fdca26\"], [1.0, \"#f0f921\"]], \"type\": \"surface\"}], \"table\": [{\"cells\": {\"fill\": {\"color\": \"#EBF0F8\"}, \"line\": {\"color\": \"white\"}}, \"header\": {\"fill\": {\"color\": \"#C8D4E3\"}, \"line\": {\"color\": \"white\"}}, \"type\": \"table\"}]}, \"layout\": {\"annotationdefaults\": {\"arrowcolor\": \"#2a3f5f\", \"arrowhead\": 0, \"arrowwidth\": 1}, \"coloraxis\": {\"colorbar\": {\"outlinewidth\": 0, \"ticks\": \"\"}}, \"colorscale\": {\"diverging\": [[0, \"#8e0152\"], [0.1, \"#c51b7d\"], [0.2, \"#de77ae\"], [0.3, \"#f1b6da\"], [0.4, \"#fde0ef\"], [0.5, \"#f7f7f7\"], [0.6, \"#e6f5d0\"], [0.7, \"#b8e186\"], [0.8, \"#7fbc41\"], [0.9, \"#4d9221\"], [1, \"#276419\"]], \"sequential\": [[0.0, \"#0d0887\"], [0.1111111111111111, \"#46039f\"], [0.2222222222222222, \"#7201a8\"], [0.3333333333333333, \"#9c179e\"], [0.4444444444444444, \"#bd3786\"], [0.5555555555555556, \"#d8576b\"], [0.6666666666666666, \"#ed7953\"], [0.7777777777777778, \"#fb9f3a\"], [0.8888888888888888, \"#fdca26\"], [1.0, \"#f0f921\"]], \"sequentialminus\": [[0.0, \"#0d0887\"], [0.1111111111111111, \"#46039f\"], [0.2222222222222222, \"#7201a8\"], [0.3333333333333333, \"#9c179e\"], [0.4444444444444444, \"#bd3786\"], [0.5555555555555556, \"#d8576b\"], [0.6666666666666666, \"#ed7953\"], [0.7777777777777778, \"#fb9f3a\"], [0.8888888888888888, \"#fdca26\"], [1.0, \"#f0f921\"]]}, \"colorway\": [\"#636efa\", \"#EF553B\", \"#00cc96\", \"#ab63fa\", \"#FFA15A\", \"#19d3f3\", \"#FF6692\", \"#B6E880\", \"#FF97FF\", \"#FECB52\"], \"font\": {\"color\": \"#2a3f5f\"}, \"geo\": {\"bgcolor\": \"white\", \"lakecolor\": \"white\", \"landcolor\": \"#E5ECF6\", \"showlakes\": true, \"showland\": true, \"subunitcolor\": \"white\"}, \"hoverlabel\": {\"align\": \"left\"}, \"hovermode\": \"closest\", \"mapbox\": {\"style\": \"light\"}, \"paper_bgcolor\": \"white\", \"plot_bgcolor\": \"#E5ECF6\", \"polar\": {\"angularaxis\": {\"gridcolor\": \"white\", \"linecolor\": \"white\", \"ticks\": \"\"}, \"bgcolor\": \"#E5ECF6\", \"radialaxis\": {\"gridcolor\": \"white\", \"linecolor\": \"white\", \"ticks\": \"\"}}, \"scene\": {\"xaxis\": {\"backgroundcolor\": \"#E5ECF6\", \"gridcolor\": \"white\", \"gridwidth\": 2, \"linecolor\": \"white\", \"showbackground\": true, \"ticks\": \"\", \"zerolinecolor\": \"white\"}, \"yaxis\": {\"backgroundcolor\": \"#E5ECF6\", \"gridcolor\": \"white\", \"gridwidth\": 2, \"linecolor\": \"white\", \"showbackground\": true, \"ticks\": \"\", \"zerolinecolor\": \"white\"}, \"zaxis\": {\"backgroundcolor\": \"#E5ECF6\", \"gridcolor\": \"white\", \"gridwidth\": 2, \"linecolor\": \"white\", \"showbackground\": true, \"ticks\": \"\", \"zerolinecolor\": \"white\"}}, \"shapedefaults\": {\"line\": {\"color\": \"#2a3f5f\"}}, \"ternary\": {\"aaxis\": {\"gridcolor\": \"white\", \"linecolor\": \"white\", \"ticks\": \"\"}, \"baxis\": {\"gridcolor\": \"white\", \"linecolor\": \"white\", \"ticks\": \"\"}, \"bgcolor\": \"#E5ECF6\", \"caxis\": {\"gridcolor\": \"white\", \"linecolor\": \"white\", \"ticks\": \"\"}}, \"title\": {\"x\": 0.05}, \"xaxis\": {\"automargin\": true, \"gridcolor\": \"white\", \"linecolor\": \"white\", \"ticks\": \"\", \"title\": {\"standoff\": 15}, \"zerolinecolor\": \"white\", \"zerolinewidth\": 2}, \"yaxis\": {\"automargin\": true, \"gridcolor\": \"white\", \"linecolor\": \"white\", \"ticks\": \"\", \"title\": {\"standoff\": 15}, \"zerolinecolor\": \"white\", \"zerolinewidth\": 2}}}, \"title\": {\"font\": {\"color\": \"#4D5663\"}}, \"xaxis\": {\"anchor\": \"y\", \"domain\": [0.0, 0.2125], \"gridcolor\": \"#E1E5ED\", \"showgrid\": false, \"tickfont\": {\"color\": \"#4D5663\"}, \"title\": {\"font\": {\"color\": \"#4D5663\"}, \"text\": \"\"}, \"zerolinecolor\": \"#E1E5ED\"}, \"xaxis10\": {\"anchor\": \"y10\", \"domain\": [0.2625, 0.475], \"gridcolor\": \"#E1E5ED\", \"showgrid\": false, \"tickfont\": {\"color\": \"#4D5663\"}, \"title\": {\"font\": {\"color\": \"#4D5663\"}, \"text\": \"\"}, \"zerolinecolor\": \"#E1E5ED\"}, \"xaxis11\": {\"anchor\": \"y11\", \"domain\": [0.525, 0.7375], \"gridcolor\": \"#E1E5ED\", \"showgrid\": false, \"tickfont\": {\"color\": \"#4D5663\"}, \"title\": {\"font\": {\"color\": \"#4D5663\"}, \"text\": \"\"}, \"zerolinecolor\": \"#E1E5ED\"}, \"xaxis12\": {\"anchor\": \"y12\", \"domain\": [0.7875, 1.0], \"gridcolor\": \"#E1E5ED\", \"showgrid\": false, \"tickfont\": {\"color\": \"#4D5663\"}, \"title\": {\"font\": {\"color\": \"#4D5663\"}, \"text\": \"\"}, \"zerolinecolor\": \"#E1E5ED\"}, \"xaxis13\": {\"anchor\": \"y13\", \"domain\": [0.0, 0.2125], \"gridcolor\": \"#E1E5ED\", \"showgrid\": false, \"tickfont\": {\"color\": \"#4D5663\"}, \"title\": {\"font\": {\"color\": \"#4D5663\"}, \"text\": \"\"}, \"zerolinecolor\": \"#E1E5ED\"}, \"xaxis14\": {\"anchor\": \"y14\", \"domain\": [0.2625, 0.475], \"gridcolor\": \"#E1E5ED\", \"showgrid\": false, \"tickfont\": {\"color\": \"#4D5663\"}, \"title\": {\"font\": {\"color\": \"#4D5663\"}, \"text\": \"\"}, \"zerolinecolor\": \"#E1E5ED\"}, \"xaxis15\": {\"anchor\": \"y15\", \"domain\": [0.525, 0.7375], \"gridcolor\": \"#E1E5ED\", \"showgrid\": false, \"tickfont\": {\"color\": \"#4D5663\"}, \"title\": {\"font\": {\"color\": \"#4D5663\"}, \"text\": \"\"}, \"zerolinecolor\": \"#E1E5ED\"}, \"xaxis16\": {\"anchor\": \"y16\", \"domain\": [0.7875, 1.0], \"gridcolor\": \"#E1E5ED\", \"showgrid\": false, \"tickfont\": {\"color\": \"#4D5663\"}, \"title\": {\"font\": {\"color\": \"#4D5663\"}, \"text\": \"\"}, \"zerolinecolor\": \"#E1E5ED\"}, \"xaxis2\": {\"anchor\": \"y2\", \"domain\": [0.2625, 0.475], \"gridcolor\": \"#E1E5ED\", \"showgrid\": false, \"tickfont\": {\"color\": \"#4D5663\"}, \"title\": {\"font\": {\"color\": \"#4D5663\"}, \"text\": \"\"}, \"zerolinecolor\": \"#E1E5ED\"}, \"xaxis3\": {\"anchor\": \"y3\", \"domain\": [0.525, 0.7375], \"gridcolor\": \"#E1E5ED\", \"showgrid\": false, \"tickfont\": {\"color\": \"#4D5663\"}, \"title\": {\"font\": {\"color\": \"#4D5663\"}, \"text\": \"\"}, \"zerolinecolor\": \"#E1E5ED\"}, \"xaxis4\": {\"anchor\": \"y4\", \"domain\": [0.7875, 1.0], \"gridcolor\": \"#E1E5ED\", \"showgrid\": false, \"tickfont\": {\"color\": \"#4D5663\"}, \"title\": {\"font\": {\"color\": \"#4D5663\"}, \"text\": \"\"}, \"zerolinecolor\": \"#E1E5ED\"}, \"xaxis5\": {\"anchor\": \"y5\", \"domain\": [0.0, 0.2125], \"gridcolor\": \"#E1E5ED\", \"showgrid\": false, \"tickfont\": {\"color\": \"#4D5663\"}, \"title\": {\"font\": {\"color\": \"#4D5663\"}, \"text\": \"\"}, \"zerolinecolor\": \"#E1E5ED\"}, \"xaxis6\": {\"anchor\": \"y6\", \"domain\": [0.2625, 0.475], \"gridcolor\": \"#E1E5ED\", \"showgrid\": false, \"tickfont\": {\"color\": \"#4D5663\"}, \"title\": {\"font\": {\"color\": \"#4D5663\"}, \"text\": \"\"}, \"zerolinecolor\": \"#E1E5ED\"}, \"xaxis7\": {\"anchor\": \"y7\", \"domain\": [0.525, 0.7375], \"gridcolor\": \"#E1E5ED\", \"showgrid\": false, \"tickfont\": {\"color\": \"#4D5663\"}, \"title\": {\"font\": {\"color\": \"#4D5663\"}, \"text\": \"\"}, \"zerolinecolor\": \"#E1E5ED\"}, \"xaxis8\": {\"anchor\": \"y8\", \"domain\": [0.7875, 1.0], \"gridcolor\": \"#E1E5ED\", \"showgrid\": false, \"tickfont\": {\"color\": \"#4D5663\"}, \"title\": {\"font\": {\"color\": \"#4D5663\"}, \"text\": \"\"}, \"zerolinecolor\": \"#E1E5ED\"}, \"xaxis9\": {\"anchor\": \"y9\", \"domain\": [0.0, 0.2125], \"gridcolor\": \"#E1E5ED\", \"showgrid\": false, \"tickfont\": {\"color\": \"#4D5663\"}, \"title\": {\"font\": {\"color\": \"#4D5663\"}, \"text\": \"\"}, \"zerolinecolor\": \"#E1E5ED\"}, \"yaxis\": {\"anchor\": \"x\", \"domain\": [0.8025, 1.0], \"gridcolor\": \"#E1E5ED\", \"showgrid\": false, \"tickfont\": {\"color\": \"#4D5663\"}, \"title\": {\"font\": {\"color\": \"#4D5663\"}, \"text\": \"\"}, \"zerolinecolor\": \"#E1E5ED\"}, \"yaxis10\": {\"anchor\": \"x10\", \"domain\": [0.2675, 0.465], \"gridcolor\": \"#E1E5ED\", \"showgrid\": false, \"tickfont\": {\"color\": \"#4D5663\"}, \"title\": {\"font\": {\"color\": \"#4D5663\"}, \"text\": \"\"}, \"zerolinecolor\": \"#E1E5ED\"}, \"yaxis11\": {\"anchor\": \"x11\", \"domain\": [0.2675, 0.465], \"gridcolor\": \"#E1E5ED\", \"showgrid\": false, \"tickfont\": {\"color\": \"#4D5663\"}, \"title\": {\"font\": {\"color\": \"#4D5663\"}, \"text\": \"\"}, \"zerolinecolor\": \"#E1E5ED\"}, \"yaxis12\": {\"anchor\": \"x12\", \"domain\": [0.2675, 0.465], \"gridcolor\": \"#E1E5ED\", \"showgrid\": false, \"tickfont\": {\"color\": \"#4D5663\"}, \"title\": {\"font\": {\"color\": \"#4D5663\"}, \"text\": \"\"}, \"zerolinecolor\": \"#E1E5ED\"}, \"yaxis13\": {\"anchor\": \"x13\", \"domain\": [0.0, 0.1975], \"gridcolor\": \"#E1E5ED\", \"showgrid\": false, \"tickfont\": {\"color\": \"#4D5663\"}, \"title\": {\"font\": {\"color\": \"#4D5663\"}, \"text\": \"\"}, \"zerolinecolor\": \"#E1E5ED\"}, \"yaxis14\": {\"anchor\": \"x14\", \"domain\": [0.0, 0.1975], \"gridcolor\": \"#E1E5ED\", \"showgrid\": false, \"tickfont\": {\"color\": \"#4D5663\"}, \"title\": {\"font\": {\"color\": \"#4D5663\"}, \"text\": \"\"}, \"zerolinecolor\": \"#E1E5ED\"}, \"yaxis15\": {\"anchor\": \"x15\", \"domain\": [0.0, 0.1975], \"gridcolor\": \"#E1E5ED\", \"showgrid\": false, \"tickfont\": {\"color\": \"#4D5663\"}, \"title\": {\"font\": {\"color\": \"#4D5663\"}, \"text\": \"\"}, \"zerolinecolor\": \"#E1E5ED\"}, \"yaxis16\": {\"anchor\": \"x16\", \"domain\": [0.0, 0.1975], \"gridcolor\": \"#E1E5ED\", \"showgrid\": false, \"tickfont\": {\"color\": \"#4D5663\"}, \"title\": {\"font\": {\"color\": \"#4D5663\"}, \"text\": \"\"}, \"zerolinecolor\": \"#E1E5ED\"}, \"yaxis2\": {\"anchor\": \"x2\", \"domain\": [0.8025, 1.0], \"gridcolor\": \"#E1E5ED\", \"showgrid\": false, \"tickfont\": {\"color\": \"#4D5663\"}, \"title\": {\"font\": {\"color\": \"#4D5663\"}, \"text\": \"\"}, \"zerolinecolor\": \"#E1E5ED\"}, \"yaxis3\": {\"anchor\": \"x3\", \"domain\": [0.8025, 1.0], \"gridcolor\": \"#E1E5ED\", \"showgrid\": false, \"tickfont\": {\"color\": \"#4D5663\"}, \"title\": {\"font\": {\"color\": \"#4D5663\"}, \"text\": \"\"}, \"zerolinecolor\": \"#E1E5ED\"}, \"yaxis4\": {\"anchor\": \"x4\", \"domain\": [0.8025, 1.0], \"gridcolor\": \"#E1E5ED\", \"showgrid\": false, \"tickfont\": {\"color\": \"#4D5663\"}, \"title\": {\"font\": {\"color\": \"#4D5663\"}, \"text\": \"\"}, \"zerolinecolor\": \"#E1E5ED\"}, \"yaxis5\": {\"anchor\": \"x5\", \"domain\": [0.535, 0.7325], \"gridcolor\": \"#E1E5ED\", \"showgrid\": false, \"tickfont\": {\"color\": \"#4D5663\"}, \"title\": {\"font\": {\"color\": \"#4D5663\"}, \"text\": \"\"}, \"zerolinecolor\": \"#E1E5ED\"}, \"yaxis6\": {\"anchor\": \"x6\", \"domain\": [0.535, 0.7325], \"gridcolor\": \"#E1E5ED\", \"showgrid\": false, \"tickfont\": {\"color\": \"#4D5663\"}, \"title\": {\"font\": {\"color\": \"#4D5663\"}, \"text\": \"\"}, \"zerolinecolor\": \"#E1E5ED\"}, \"yaxis7\": {\"anchor\": \"x7\", \"domain\": [0.535, 0.7325], \"gridcolor\": \"#E1E5ED\", \"showgrid\": false, \"tickfont\": {\"color\": \"#4D5663\"}, \"title\": {\"font\": {\"color\": \"#4D5663\"}, \"text\": \"\"}, \"zerolinecolor\": \"#E1E5ED\"}, \"yaxis8\": {\"anchor\": \"x8\", \"domain\": [0.535, 0.7325], \"gridcolor\": \"#E1E5ED\", \"showgrid\": false, \"tickfont\": {\"color\": \"#4D5663\"}, \"title\": {\"font\": {\"color\": \"#4D5663\"}, \"text\": \"\"}, \"zerolinecolor\": \"#E1E5ED\"}, \"yaxis9\": {\"anchor\": \"x9\", \"domain\": [0.2675, 0.465], \"gridcolor\": \"#E1E5ED\", \"showgrid\": false, \"tickfont\": {\"color\": \"#4D5663\"}, \"title\": {\"font\": {\"color\": \"#4D5663\"}, \"text\": \"\"}, \"zerolinecolor\": \"#E1E5ED\"}},\n",
       "                        {\"showLink\": true, \"linkText\": \"Export to plot.ly\", \"plotlyServerURL\": \"https://plot.ly\", \"responsive\": true}\n",
       "                    ).then(function(){\n",
       "                            \n",
       "var gd = document.getElementById('c5250010-cf06-48af-b7a2-39e9e6f8ab3f');\n",
       "var x = new MutationObserver(function (mutations, observer) {{\n",
       "        var display = window.getComputedStyle(gd).display;\n",
       "        if (!display || display === 'none') {{\n",
       "            console.log([gd, 'removed!']);\n",
       "            Plotly.purge(gd);\n",
       "            observer.disconnect();\n",
       "        }}\n",
       "}});\n",
       "\n",
       "// Listen for the removal of the full notebook cells\n",
       "var notebookContainer = gd.closest('#notebook-container');\n",
       "if (notebookContainer) {{\n",
       "    x.observe(notebookContainer, {childList: true});\n",
       "}}\n",
       "\n",
       "// Listen for the clearing of the current output cell\n",
       "var outputEl = gd.closest('.output');\n",
       "if (outputEl) {{\n",
       "    x.observe(outputEl, {childList: true});\n",
       "}}\n",
       "\n",
       "                        })\n",
       "                };\n",
       "                });\n",
       "            </script>\n",
       "        </div>"
      ]
     },
     "metadata": {},
     "output_type": "display_data"
    }
   ],
   "source": [
    "df.scatter_matrix()"
   ]
  },
  {
   "cell_type": "markdown",
   "metadata": {
    "collapsed": true
   },
   "source": [
    "# Great Job!"
   ]
  }
 ],
 "metadata": {
  "kernelspec": {
   "display_name": "Python 3",
   "language": "python",
   "name": "python3"
  },
  "language_info": {
   "codemirror_mode": {
    "name": "ipython",
    "version": 3
   },
   "file_extension": ".py",
   "mimetype": "text/x-python",
   "name": "python",
   "nbconvert_exporter": "python",
   "pygments_lexer": "ipython3",
   "version": "3.7.6"
  }
 },
 "nbformat": 4,
 "nbformat_minor": 1
}
